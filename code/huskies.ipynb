{
 "cells": [
  {
   "cell_type": "markdown",
   "metadata": {},
   "source": [
    "# Data Extraction\n",
    "### Get names of the profiles from the html files"
   ]
  },
  {
   "cell_type": "code",
   "execution_count": 125,
   "metadata": {
    "collapsed": true
   },
   "outputs": [],
   "source": [
    "from bs4 import BeautifulSoup\n",
    "from os import listdir\n",
    "from os.path import isfile, join\n",
    "import pdb\n",
    "import matplotlib.pyplot as plt\n",
    "%matplotlib inline"
   ]
  },
  {
   "cell_type": "code",
   "execution_count": 200,
   "metadata": {
    "collapsed": false
   },
   "outputs": [
    {
     "name": "stdout",
     "output_type": "stream",
     "text": [
      "u'A detail and results oriented professional with over 20 years progressive experience in successfully designing, implementing and modifying quality software. Experienced in application design, coding, testing and implementation for large and small-scale projects. Skilled in creating effective solutions involving customers, management and teams. Commended for my teamwork, flexibility and self-motivated attitudes. Interested in moving into project management.'\n",
      "A detail and results oriented professional with over 20 years progressive experience in successfully designing, implementing and modifying quality software. Experienced in application design, coding, testing and implementation for large and small-scale projects. Skilled in creating effective solutions involving customers, management and teams. Commended for my teamwork, flexibility and self-motivated attitudes. Interested in moving into project management.\n",
      "u\"\\\\n', '\"\n",
      "A detail and results oriented professional with over 20 years progressive experience in successfully designing, implementing and modifying quality software. Experienced in application design, coding, testing and implementation for large and small-scale projects. Skilled in creating effective solutions involving customers, management and teams. Commended for my teamwork, flexibility and self-motivated attitudes. Interested in moving into project management.\\n', '\n",
      "u\"\\\\n', 'Specialties: COBOL, COBOL II, COBOL 370/390, CICS, IMS/DL/1, ADABAS/NATURAL, MVS/JCL, VSAM, DB2. Application design and development. Requirements gathering and analysis.\"\n",
      "A detail and results oriented professional with over 20 years progressive experience in successfully designing, implementing and modifying quality software. Experienced in application design, coding, testing and implementation for large and small-scale projects. Skilled in creating effective solutions involving customers, management and teams. Commended for my teamwork, flexibility and self-motivated attitudes. Interested in moving into project management.\\n', '\\n', 'Specialties: COBOL, COBOL II, COBOL 370/390, CICS, IMS/DL/1, ADABAS/NATURAL, MVS/JCL, VSAM, DB2. Application design and development. Requirements gathering and analysis.\n"
     ]
    }
   ],
   "source": [
    "#files = ['00006.html', '05111108.html', '120394.html', '1bettyevans.html']\n",
    "html_file = 'data/2015-05-26-Washington/120394.html'\n",
    "with open(html_file) as f:\n",
    "    s = str(f.readlines())\n",
    "soup = BeautifulSoup(s, 'html.parser')\n",
    "#print(soup.prettify())\n",
    "# print soup.title\n",
    "temp = soup.find('div', {'class': 'summary'})\n",
    "t = ''\n",
    "for string in temp.stripped_strings:\n",
    "    t = t + string\n",
    "    print(repr(string))\n",
    "    print t\n",
    "# print temp\n",
    "# print temp.get_text()\n"
   ]
  },
  {
   "cell_type": "code",
   "execution_count": null,
   "metadata": {
    "collapsed": true
   },
   "outputs": [],
   "source": [
    "#huskies.py: loop through the files in the directory and extract the name\n",
    "'''\n",
    "INPUT: a directory of html files, each file corresponding to a LinkedIn profile\n",
    "OUTPUT: Full Name for each of the profile in a csv file. If there is no name, \"NA\" is returned\n",
    "'''\n",
    "my_path = '/Users/lekha/galvanize/capstone/prelims/huskies/data/2015-05-26-Washington/'\n",
    "all_files = [f for f in listdir(my_path) if isfile(join(my_path, f))]\n",
    "names= []\n",
    "\n",
    "#files = ['00006.html', '05111108.html', '120394.html', '1bettyevans.html']\n",
    "\n",
    "files = all_files[1001:] #UPDATE after the names are extracted. testing in chunks.\n",
    "\n",
    "#pdb.set_trace()\n",
    "for html_file in files:\n",
    "    with open(html_file) as f:\n",
    "        s = str(f.readlines())\n",
    "        soup = BeautifulSoup(s, 'html.parser')\n",
    "        full_name = soup.find('span', {'class': 'full-name'})\n",
    "        if full_name:\n",
    "            full_name = full_name.get_text()\n",
    "            names.append(full_name)\n",
    "        else:\n",
    "            full_name = \"NA\"\n",
    "\n",
    "name_file = '/Users/lekha/galvanize/capstone/prelims/huskies/data/2015-05-26-Washington/names.csv'\n",
    "\n",
    "with open(name_file, 'wb') as fp:\n",
    "    for name in names:\n",
    "        fp.write(name)\n",
    "        fp.write(\",\")\n",
    "\n"
   ]
  },
  {
   "cell_type": "markdown",
   "metadata": {},
   "source": [
    "####  Notes:\n",
    "####  Need to add the profile id to the extraction to be able to match the results back to the original profile.\n"
   ]
  },
  {
   "cell_type": "markdown",
   "metadata": {},
   "source": [
    "# Very Basic Data Cleaning"
   ]
  },
  {
   "cell_type": "code",
   "execution_count": 3,
   "metadata": {
    "collapsed": false
   },
   "outputs": [
    {
     "name": "stdout",
     "output_type": "stream",
     "text": [
      "/Users/lekha/galvanize/capstone/prelims/huskies\n"
     ]
    }
   ],
   "source": [
    "cd .."
   ]
  },
  {
   "cell_type": "code",
   "execution_count": 53,
   "metadata": {
    "collapsed": true
   },
   "outputs": [],
   "source": [
    "import pandas as pd\n",
    "import numpy as np"
   ]
  },
  {
   "cell_type": "code",
   "execution_count": 66,
   "metadata": {
    "collapsed": false
   },
   "outputs": [],
   "source": [
    "filename = 'data/fnamesall'\n",
    "\n",
    "namelist = []\n",
    "with open(filename) as f:\n",
    "    for line in f:\n",
    "        n = line.split()[0]\n",
    "        #f, n = name.split(\"|\")\n",
    "        #s, summ = summary.split(\"|\")\n",
    "        namelist.append(n)\n",
    "    \n",
    "fnames =  [name.split()[0] for name in namelist]\n"
   ]
  },
  {
   "cell_type": "code",
   "execution_count": 67,
   "metadata": {
    "collapsed": false
   },
   "outputs": [
    {
     "data": {
      "text/plain": [
       "17199"
      ]
     },
     "execution_count": 67,
     "metadata": {},
     "output_type": "execute_result"
    }
   ],
   "source": [
    "len(fnames)"
   ]
  },
  {
   "cell_type": "code",
   "execution_count": 68,
   "metadata": {
    "collapsed": false
   },
   "outputs": [],
   "source": [
    "fnames_u = set(fnames)"
   ]
  },
  {
   "cell_type": "code",
   "execution_count": 69,
   "metadata": {
    "collapsed": false
   },
   "outputs": [
    {
     "data": {
      "text/plain": [
       "4205"
      ]
     },
     "execution_count": 69,
     "metadata": {},
     "output_type": "execute_result"
    }
   ],
   "source": [
    "len(fnames_u)"
   ]
  },
  {
   "cell_type": "code",
   "execution_count": 207,
   "metadata": {
    "collapsed": false
   },
   "outputs": [],
   "source": [
    "# reading the file data into a data frame\n",
    "raw_df = pd.DataFrame(list(datadict.iteritems()), columns=['full_name','summary'])\n"
   ]
  },
  {
   "cell_type": "code",
   "execution_count": 209,
   "metadata": {
    "collapsed": false
   },
   "outputs": [
    {
     "name": "stdout",
     "output_type": "stream",
     "text": [
      "<class 'pandas.core.frame.DataFrame'>\n",
      "Int64Index: 4 entries, 0 to 3\n",
      "Data columns (total 2 columns):\n",
      "full_name    4 non-null object\n",
      "summary      4 non-null object\n",
      "dtypes: object(2)\n",
      "memory usage: 96.0+ bytes\n"
     ]
    }
   ],
   "source": [
    "raw_df.info()"
   ]
  },
  {
   "cell_type": "code",
   "execution_count": 130,
   "metadata": {
    "collapsed": false
   },
   "outputs": [],
   "source": [
    "first_names = []\n",
    "first_names = [x.split()[0].lower() for x in name_list]"
   ]
  },
  {
   "cell_type": "code",
   "execution_count": 102,
   "metadata": {
    "collapsed": false
   },
   "outputs": [],
   "source": [
    "#name_list.remove(name_list[990]) #getting rid of an empty entry at the end"
   ]
  },
  {
   "cell_type": "code",
   "execution_count": null,
   "metadata": {
    "collapsed": true
   },
   "outputs": [],
   "source": []
  },
  {
   "cell_type": "markdown",
   "metadata": {},
   "source": [
    "# NLTK"
   ]
  },
  {
   "cell_type": "code",
   "execution_count": 34,
   "metadata": {
    "collapsed": false
   },
   "outputs": [],
   "source": [
    "import nltk\n",
    "from nltk.corpus import names\n",
    "labeled_names = ([(name, 'male') for name in names.words('male.txt')] +[(name, 'female') for name in names.words('female.txt')])\n"
   ]
  },
  {
   "cell_type": "code",
   "execution_count": 211,
   "metadata": {
    "collapsed": false
   },
   "outputs": [
    {
     "name": "stdout",
     "output_type": "stream",
     "text": [
      "0.602\n",
      "Most Informative Features\n",
      "             last_letter = u'a'           female : male   =     35.5 : 1.0\n",
      "             last_letter = u'k'             male : female =     34.1 : 1.0\n",
      "             last_letter = u'f'             male : female =     15.9 : 1.0\n",
      "             last_letter = u'p'             male : female =     13.5 : 1.0\n",
      "             last_letter = u'v'             male : female =     12.7 : 1.0\n"
     ]
    }
   ],
   "source": [
    "#Example Code\n",
    "def gender_features(word):\n",
    "    return {'last_letter': word[-1]}\n",
    "\n",
    "featuresets = [(gender_features(n), gender) for (n, gender) in labeled_names]\n",
    "train_set, test_set = featuresets[500:], featuresets[:500]\n",
    "classifier = nltk.NaiveBayesClassifier.train(train_set)\n",
    "\n",
    "classifier.classify(gender_features('Neo'))\n",
    "classifier.classify(gender_features('Trinity'))\n",
    "print(nltk.classify.accuracy(classifier, test_set))\n",
    "classifier.show_most_informative_features(5)\n",
    "\n",
    "\n",
    "# cfd = nltk.ConditionalFreqDist((fileid, name[-1]) for fileid in names.fileids() for name in names.words(fileid))\n",
    "# cfd.plot()"
   ]
  },
  {
   "cell_type": "code",
   "execution_count": 35,
   "metadata": {
    "collapsed": true
   },
   "outputs": [],
   "source": [
    "def gender_features(word):\n",
    "    return {'last_letter': word[-1]}"
   ]
  },
  {
   "cell_type": "code",
   "execution_count": 37,
   "metadata": {
    "collapsed": false
   },
   "outputs": [],
   "source": [
    "featuresets = [(gender_features(n), gender) for (n, gender) in labeled_names]"
   ]
  },
  {
   "cell_type": "code",
   "execution_count": 38,
   "metadata": {
    "collapsed": false
   },
   "outputs": [
    {
     "data": {
      "text/plain": [
       "7944"
      ]
     },
     "execution_count": 38,
     "metadata": {},
     "output_type": "execute_result"
    }
   ],
   "source": [
    "len(featuresets)"
   ]
  },
  {
   "cell_type": "code",
   "execution_count": 185,
   "metadata": {
    "collapsed": false
   },
   "outputs": [],
   "source": [
    "# def gender_features(word):\n",
    "#     return {'name': word, 'last_letter': word[-1], 'last_2_letters': word[-2:], 'last_is_vowel': (word[-1] in 'aeiou')}"
   ]
  },
  {
   "cell_type": "code",
   "execution_count": 186,
   "metadata": {
    "collapsed": true
   },
   "outputs": [],
   "source": [
    "featuresets_train = [(gender_features(n), gender) for (n, gender) in labeled_names]\n"
   ]
  },
  {
   "cell_type": "code",
   "execution_count": 39,
   "metadata": {
    "collapsed": false
   },
   "outputs": [],
   "source": [
    "classifier = nltk.NaiveBayesClassifier.train(featuresets)"
   ]
  },
  {
   "cell_type": "code",
   "execution_count": 44,
   "metadata": {
    "collapsed": true
   },
   "outputs": [],
   "source": [
    "fnames_features = [gender_features(x) for x in fnames]"
   ]
  },
  {
   "cell_type": "code",
   "execution_count": 42,
   "metadata": {
    "collapsed": false
   },
   "outputs": [
    {
     "data": {
      "text/plain": [
       "['male', 'female']"
      ]
     },
     "execution_count": 42,
     "metadata": {},
     "output_type": "execute_result"
    }
   ],
   "source": [
    "classifier.labels()"
   ]
  },
  {
   "cell_type": "code",
   "execution_count": 45,
   "metadata": {
    "collapsed": false
   },
   "outputs": [],
   "source": [
    "gender_fnames1 = classifier.classify_many(fnames_features)"
   ]
  },
  {
   "cell_type": "code",
   "execution_count": 58,
   "metadata": {
    "collapsed": false
   },
   "outputs": [],
   "source": [
    "x = zip(fnames, gender_fnames1)\n",
    "with open('gender1000.txt', 'w') as f:\n",
    "    for line in x:\n",
    "        name = line[0]\n",
    "        g = line[1]\n",
    "        nameg = name + \",\" + g + \"\\n\"\n",
    "        f.write(nameg)\n",
    "        #f.write(\"\\n\")"
   ]
  },
  {
   "cell_type": "code",
   "execution_count": 59,
   "metadata": {
    "collapsed": false
   },
   "outputs": [
    {
     "data": {
      "text/plain": [
       "{('A', 'female'),\n",
       " ('A.', 'female'),\n",
       " ('A.J.', 'female'),\n",
       " ('ADITYA', 'female'),\n",
       " ('AJ', 'female'),\n",
       " ('ANAND', 'female'),\n",
       " ('Aakash', 'female'),\n",
       " ('Aalia', 'female'),\n",
       " ('Aania', 'female'),\n",
       " ('Aapo', 'male'),\n",
       " ('Aaron', 'male'),\n",
       " ('Abbas', 'male'),\n",
       " ('Abbey', 'female'),\n",
       " ('Abbi', 'female'),\n",
       " ('Abbigail', 'male'),\n",
       " ('Abby', 'female'),\n",
       " ('AbdelSalam', 'male'),\n",
       " ('Abdelrahman', 'male'),\n",
       " ('AbdulFattah', 'female'),\n",
       " ('Abdulrahman', 'male'),\n",
       " ('Abe', 'female'),\n",
       " ('Abenezer', 'male'),\n",
       " ('Abha', 'female'),\n",
       " ('Abhigyan', 'male'),\n",
       " ('Abhimanyu', 'male'),\n",
       " ('Abhishek', 'male'),\n",
       " ('Abigail', 'male'),\n",
       " ('Abilia', 'female'),\n",
       " ('Abraham', 'male'),\n",
       " ('Abu', 'male'),\n",
       " ('Ace', 'female'),\n",
       " ('Ada', 'female'),\n",
       " ('Adam', 'male'),\n",
       " ('Adaora', 'female'),\n",
       " ('Addison', 'male'),\n",
       " ('Adela', 'female'),\n",
       " ('Adele', 'female'),\n",
       " ('Adeyemi', 'female'),\n",
       " ('Adi', 'female'),\n",
       " ('Adina', 'female'),\n",
       " ('Aditya', 'female'),\n",
       " ('Adolfo', 'male'),\n",
       " ('Adrian', 'male'),\n",
       " ('Adriana', 'female'),\n",
       " ('Adriane', 'female'),\n",
       " ('Adrianna', 'female'),\n",
       " ('Adrianne', 'female'),\n",
       " ('Adrienne', 'female'),\n",
       " ('Adryana', 'female'),\n",
       " ('Aeli', 'female'),\n",
       " ('Afsheen', 'male'),\n",
       " ('Aftab', 'male'),\n",
       " ('Ahmad', 'male'),\n",
       " ('Ahmed', 'male'),\n",
       " ('Ahn', 'male'),\n",
       " ('Ahnalee', 'female'),\n",
       " ('Ai-Hsien', 'male'),\n",
       " ('Ai-dan', 'male'),\n",
       " ('Aida', 'female'),\n",
       " ('Aidan', 'male'),\n",
       " ('Aiden', 'male'),\n",
       " ('Aijia', 'female'),\n",
       " ('Aiko', 'male'),\n",
       " ('Aildrene', 'female'),\n",
       " ('Aileen', 'male'),\n",
       " ('Ailey', 'female'),\n",
       " ('Aim\\\\xc3\\\\xa9e', 'female'),\n",
       " ('Aime', 'female'),\n",
       " ('Aimee', 'female'),\n",
       " ('Aireona', 'female'),\n",
       " ('Airinna', 'female'),\n",
       " ('Aisha', 'female'),\n",
       " ('Ajay', 'female'),\n",
       " ('Akanksha', 'female'),\n",
       " ('Akeel', 'male'),\n",
       " ('Akifusa', 'female'),\n",
       " ('Akiko', 'male'),\n",
       " ('Akira', 'female'),\n",
       " ('Akrm', 'male'),\n",
       " ('Akshay', 'female'),\n",
       " ('Al', 'male'),\n",
       " ('Ala', 'female'),\n",
       " ('Alaina', 'female'),\n",
       " ('Alan', 'male'),\n",
       " ('Alana', 'female'),\n",
       " ('Alanagh', 'female'),\n",
       " ('Alanna', 'female'),\n",
       " ('Albert', 'male'),\n",
       " ('Alberto', 'male'),\n",
       " ('Aldo', 'male'),\n",
       " ('Alec', 'male'),\n",
       " ('Alejandra', 'female'),\n",
       " ('Alejandro', 'male'),\n",
       " ('Alek', 'male'),\n",
       " ('Aleksandr', 'male'),\n",
       " ('Alena', 'female'),\n",
       " ('Alene', 'female'),\n",
       " ('Alessandra', 'female'),\n",
       " ('Alessandro', 'male'),\n",
       " ('Alethea', 'female'),\n",
       " ('Alex', 'female'),\n",
       " ('Alexa', 'female'),\n",
       " ('Alexander', 'male'),\n",
       " ('Alexandra', 'female'),\n",
       " ('Alexandre', 'female'),\n",
       " ('Alexandria', 'female'),\n",
       " ('Alexandru', 'male'),\n",
       " ('Alexia', 'female'),\n",
       " ('Alexis', 'male'),\n",
       " ('Alfonso', 'male'),\n",
       " ('Alfred', 'male'),\n",
       " ('Alfredo', 'male'),\n",
       " ('Ali', 'female'),\n",
       " ('Alia', 'female'),\n",
       " ('Alice', 'female'),\n",
       " ('Alicia', 'female'),\n",
       " ('Aliette', 'female'),\n",
       " ('Alina', 'female'),\n",
       " ('Aline', 'female'),\n",
       " ('Alipta', 'female'),\n",
       " ('Alisa', 'female'),\n",
       " ('Alisha', 'female'),\n",
       " ('Alison', 'male'),\n",
       " ('Alissa', 'female'),\n",
       " ('Alix', 'female'),\n",
       " ('Aliz', 'male'),\n",
       " ('Alizeh', 'female'),\n",
       " ('Alla', 'female'),\n",
       " ('Allan', 'male'),\n",
       " ('Allegra', 'female'),\n",
       " ('Allen', 'male'),\n",
       " ('Allie', 'female'),\n",
       " ('Allison', 'male'),\n",
       " ('Ally', 'female'),\n",
       " ('Allyson', 'male'),\n",
       " ('Alma', 'female'),\n",
       " ('Almeera', 'female'),\n",
       " ('Almorinda', 'female'),\n",
       " ('Alonzo', 'male'),\n",
       " ('Alraune', 'female'),\n",
       " ('Altaf', 'male'),\n",
       " ('Althea', 'female'),\n",
       " ('Alvin', 'male'),\n",
       " ('Alysia', 'female'),\n",
       " ('Alyson', 'male'),\n",
       " ('Alyssa', 'female'),\n",
       " ('Amad', 'male'),\n",
       " ('Amaka', 'female'),\n",
       " ('Amal', 'male'),\n",
       " ('Amalia', 'female'),\n",
       " ('Amanda', 'female'),\n",
       " ('Amara', 'female'),\n",
       " ('Amaroney', 'female'),\n",
       " ('Amber', 'male'),\n",
       " ('Amberlynn', 'male'),\n",
       " ('Ambreen', 'male'),\n",
       " ('Ambrogino', 'male'),\n",
       " ('Amelia', 'female'),\n",
       " ('Amer', 'male'),\n",
       " ('Amin', 'male'),\n",
       " ('Aminata', 'female'),\n",
       " ('Amir', 'male'),\n",
       " ('Amira', 'female'),\n",
       " ('Amit', 'male'),\n",
       " ('Amita', 'female'),\n",
       " ('Ammar', 'male'),\n",
       " ('Amrit', 'male'),\n",
       " ('Amrita', 'female'),\n",
       " ('Amy', 'female'),\n",
       " ('Amye', 'female'),\n",
       " ('Ana', 'female'),\n",
       " ('Ana-Marie', 'female'),\n",
       " ('Anabela', 'female'),\n",
       " ('Anand', 'male'),\n",
       " ('Anasa', 'female'),\n",
       " ('Anastasia', 'female'),\n",
       " ('Anchie', 'female'),\n",
       " ('Ande', 'female'),\n",
       " ('Anders', 'male'),\n",
       " ('Anderson', 'male'),\n",
       " ('Andie', 'female'),\n",
       " ('Andr\\\\xc3\\\\xa9', 'female'),\n",
       " ('Andr\\\\xc3\\\\xa9a', 'female'),\n",
       " ('Andre', 'female'),\n",
       " ('Andrea', 'female'),\n",
       " ('Andreas', 'male'),\n",
       " ('Andrej', 'male'),\n",
       " ('Andres', 'male'),\n",
       " ('Andrew', 'male'),\n",
       " ('Andy', 'female'),\n",
       " ('Angela', 'female'),\n",
       " ('Angie', 'female'),\n",
       " ('Ann', 'male'),\n",
       " ('Ann-Britt', 'male'),\n",
       " ('Anna', 'female'),\n",
       " ('Annemarie', 'female'),\n",
       " ('Annie', 'female'),\n",
       " ('Anthony', 'female'),\n",
       " ('Ariana', 'female'),\n",
       " ('Arielle', 'female'),\n",
       " ('Arnaud', 'male'),\n",
       " ('Arthur', 'male'),\n",
       " ('Ashley', 'female'),\n",
       " ('Atiya', 'female'),\n",
       " ('Austin', 'male'),\n",
       " ('Axel', 'male'),\n",
       " ('Ben', 'male'),\n",
       " ('Betty', 'female'),\n",
       " ('Brandon', 'male'),\n",
       " ('Brian', 'male'),\n",
       " ('Cameron', 'male'),\n",
       " ('Charles', 'male'),\n",
       " ('Chelsea', 'female'),\n",
       " ('Chris', 'male'),\n",
       " ('Christian', 'male'),\n",
       " ('DR.', 'female'),\n",
       " ('Daniel', 'male'),\n",
       " ('Dr.', 'female'),\n",
       " ('Drew', 'male'),\n",
       " ('Eddie', 'female'),\n",
       " ('Emily', 'female'),\n",
       " ('Erin', 'male'),\n",
       " ('G.', 'female'),\n",
       " ('Gary', 'female'),\n",
       " ('H.', 'female'),\n",
       " ('Hageman', 'male'),\n",
       " ('Iftikhar', 'male'),\n",
       " ('Isabella', 'female'),\n",
       " ('Jane', 'female'),\n",
       " ('Jason', 'male'),\n",
       " ('Jeffrey', 'female'),\n",
       " ('Jenny', 'female'),\n",
       " ('JinHee', 'female'),\n",
       " ('Jing', 'male'),\n",
       " ('John', 'male'),\n",
       " ('Jon', 'male'),\n",
       " ('Jonathan', 'male'),\n",
       " ('Ka', 'female'),\n",
       " ('Karam', 'male'),\n",
       " ('Kathleen', 'male'),\n",
       " ('Kelly', 'female'),\n",
       " ('Kerri', 'female'),\n",
       " ('Kevin', 'male'),\n",
       " ('Kristiana', 'female'),\n",
       " ('Kristin', 'male'),\n",
       " ('Lady', 'female'),\n",
       " ('Lars', 'male'),\n",
       " ('Lexie', 'female'),\n",
       " ('Lu', 'male'),\n",
       " ('Mansour,', 'female'),\n",
       " ('Mar\\\\xc3\\\\xada', 'female'),\n",
       " ('Mark', 'male'),\n",
       " ('Maureen', 'male'),\n",
       " ('Melissa', 'female'),\n",
       " ('Michael', 'male'),\n",
       " ('Michelle', 'female'),\n",
       " ('Mieka', 'female'),\n",
       " ('Missing', 'male'),\n",
       " ('Mohamad', 'male'),\n",
       " ('Mohamed', 'male'),\n",
       " ('Mohammed', 'male'),\n",
       " ('Muhammad', 'male'),\n",
       " ('Mujtaba', 'female'),\n",
       " ('Naveen', 'male'),\n",
       " ('Niraj', 'male'),\n",
       " ('Patty', 'female'),\n",
       " ('Pauline', 'female'),\n",
       " ('Phillip', 'male'),\n",
       " ('Ravi', 'female'),\n",
       " ('Regina', 'female'),\n",
       " ('Resha', 'female'),\n",
       " ('Richard', 'male'),\n",
       " ('Roberto', 'male'),\n",
       " ('Sam', 'male'),\n",
       " ('Sara', 'female'),\n",
       " ('Saul', 'male'),\n",
       " ('Saurabh', 'female'),\n",
       " ('Scott', 'male'),\n",
       " ('Shawn', 'male'),\n",
       " ('Stephanie', 'female'),\n",
       " ('Steve', 'female'),\n",
       " ('Svetha', 'female'),\n",
       " ('Terry', 'female'),\n",
       " ('Thomas', 'male'),\n",
       " ('Tim', 'male'),\n",
       " ('Tracy', 'female'),\n",
       " ('UCR', 'female'),\n",
       " ('Yuka', 'female'),\n",
       " ('\\\\xc3\\\\x81gi', 'female'),\n",
       " ('\\\\xe5\\\\xbc\\\\xa0\\\\xe6\\\\x98\\\\x86\\\\xe7\\\\x8e\\\\xae(Kunwei', 'female'),\n",
       " ('aaron', 'male'),\n",
       " ('aarushi', 'female'),\n",
       " ('amber', 'male')}"
      ]
     },
     "execution_count": 59,
     "metadata": {},
     "output_type": "execute_result"
    }
   ],
   "source": [
    "set(x)"
   ]
  },
  {
   "cell_type": "code",
   "execution_count": 160,
   "metadata": {
    "collapsed": false
   },
   "outputs": [],
   "source": [
    "letter_freq = df.last_letter.value_counts()\n",
    "letter_freq.sort_values(ascending=False, inplace=True)\n"
   ]
  },
  {
   "cell_type": "code",
   "execution_count": 161,
   "metadata": {
    "collapsed": false
   },
   "outputs": [
    {
     "data": {
      "text/plain": [
       "<matplotlib.axes._subplots.AxesSubplot at 0x10e3b8990>"
      ]
     },
     "execution_count": 161,
     "metadata": {},
     "output_type": "execute_result"
    },
    {
     "data": {
      "image/png": "[encoded data removed]",
      "text/plain": [
       "<matplotlib.figure.Figure at 0x10e3c1dd0>"
      ]
     },
     "metadata": {},
     "output_type": "display_data"
    }
   ],
   "source": [
    "fig, ax = plt.subplots()\n",
    "letter_freq.plot(ax=ax, kind='bar', alpha = 0.5, figsize=(12,8))"
   ]
  },
  {
   "cell_type": "code",
   "execution_count": null,
   "metadata": {
    "collapsed": true
   },
   "outputs": [],
   "source": []
  }
 ],
 "metadata": {
  "kernelspec": {
   "display_name": "Python 2",
   "language": "python",
   "name": "python2"
  },
  "language_info": {
   "codemirror_mode": {
    "name": "ipython",
    "version": 2
   },
   "file_extension": ".py",
   "mimetype": "text/x-python",
   "name": "python",
   "nbconvert_exporter": "python",
   "pygments_lexer": "ipython2",
   "version": "2.7.10"
  }
 },
 "nbformat": 4,
 "nbformat_minor": 0
}
