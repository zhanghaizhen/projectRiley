{
 "cells": [
  {
   "cell_type": "code",
   "execution_count": 1,
   "metadata": {
    "collapsed": true
   },
   "outputs": [],
   "source": [
    "from __future__ import division\n",
    "from __future__ import print_function\n",
    "import pandas as pd\n",
    "import numpy as np\n",
    "from collections import defaultdict\n",
    "from sklearn.linear_model import LogisticRegression\n",
    "from sklearn.naive_bayes import MultinomialNB\n",
    "from sklearn.grid_search import GridSearchCV\n",
    "from sklearn.cross_validation import train_test_split\n",
    "from sklearn.ensemble import RandomForestClassifier\n",
    "from sklearn.feature_extraction.text import CountVectorizer, TfidfVectorizer\n",
    "from sklearn.decomposition import NMF\n",
    "\n",
    "from sklearn.metrics import accuracy_score, precision_score, recall_score, roc_auc_score, roc_curve, auc\n",
    "from sklearn import cross_validation\n",
    "from sklearn.feature_selection import VarianceThreshold\n",
    "from sklearn.decomposition import PCA\n",
    "from sklearn.preprocessing import StandardScaler\n",
    "from pandas.tools.plotting import scatter_matrix\n",
    "import matplotlib.pyplot as plt\n",
    "%matplotlib inline\n",
    "\n",
    "import nltk\n",
    "from nltk.stem.snowball import SnowballStemmer\n",
    "from nltk.stem.porter import *\n",
    "\n",
    "import re\n",
    "from HTMLParser import HTMLParser\n",
    "import datetime\n",
    "import cPickle as pickle"
   ]
  },
  {
   "cell_type": "code",
   "execution_count": 2,
   "metadata": {
    "collapsed": true
   },
   "outputs": [],
   "source": [
    "# File with gender included\n",
    "sample10_file = '/Users/lekha/galvanize/capstone/projectRiley/data/sample10/out.txt'\n",
    "sample1000_file = '/Users/lekha/galvanize/capstone/projectRiley/data/cleandatagender1000.txt'\n",
    "all_file = '/Users/lekha/galvanize/capstone/projectRiley/data/cleandatagenderall.txt'"
   ]
  },
  {
   "cell_type": "code",
   "execution_count": 3,
   "metadata": {
    "collapsed": true
   },
   "outputs": [],
   "source": [
    "df = pd.read_csv(sample1000_file, sep=\"|\")"
   ]
  },
  {
   "cell_type": "code",
   "execution_count": 4,
   "metadata": {
    "collapsed": false
   },
   "outputs": [],
   "source": [
    "df = df[['full_name', 'html','summary', 'first_name', 'gender', 'counter']]"
   ]
  },
  {
   "cell_type": "code",
   "execution_count": 5,
   "metadata": {
    "collapsed": false
   },
   "outputs": [],
   "source": [
    "# df_all.set_value(18044, 'first_name', 'nanname')\n",
    "# df_all.set_value(18045, 'first_name', 'nanname')\n",
    "# df_all.set_value(18046, 'first_name', 'nanname')\n",
    "# df_all.set_value(18045, 'gender', 'female')\n",
    "# df_all.set_value(18044, 'gender', 'female')"
   ]
  },
  {
   "cell_type": "code",
   "execution_count": 6,
   "metadata": {
    "collapsed": false
   },
   "outputs": [],
   "source": [
    "df['class'] = np.ones(len(df))"
   ]
  },
  {
   "cell_type": "code",
   "execution_count": 7,
   "metadata": {
    "collapsed": true
   },
   "outputs": [],
   "source": [
    "df['class'] = df['gender'].apply(lambda x: 0 if x == 'female' else 1)"
   ]
  },
  {
   "cell_type": "code",
   "execution_count": 8,
   "metadata": {
    "collapsed": true
   },
   "outputs": [],
   "source": [
    "def f(x):\n",
    "    if x == 'missing':\n",
    "        return 1\n",
    "    else:\n",
    "        return 0\n",
    "\n",
    "# Add feature for missing summary\n",
    "df['summ_missing'] = df['summary'].apply(lambda x: f(x))"
   ]
  },
  {
   "cell_type": "code",
   "execution_count": 16,
   "metadata": {
    "collapsed": true
   },
   "outputs": [],
   "source": [
    "# add feature for num of words in the summary\n",
    "def lenx(mystr):\n",
    "    return len(mystr.split())\n",
    "\n",
    "def avgchrs(mytokens):\n",
    "    tw = len(mytokens)    \n",
    "    num_chars = 0\n",
    "    for word in mytokens:\n",
    "        num_chars += len(word)\n",
    "        \n",
    "    return num_chars/tw"
   ]
  },
  {
   "cell_type": "code",
   "execution_count": 13,
   "metadata": {
    "collapsed": false
   },
   "outputs": [],
   "source": [
    "df['summ_tokens'] = df['summary'].apply(lambda x: nltk.word_tokenize(x))"
   ]
  },
  {
   "cell_type": "code",
   "execution_count": 15,
   "metadata": {
    "collapsed": false
   },
   "outputs": [
    {
     "data": {
      "text/html": [
       "<div>\n",
       "<table border=\"1\" class=\"dataframe\">\n",
       "  <thead>\n",
       "    <tr style=\"text-align: right;\">\n",
       "      <th></th>\n",
       "      <th>full_name</th>\n",
       "      <th>html</th>\n",
       "      <th>summary</th>\n",
       "      <th>first_name</th>\n",
       "      <th>gender</th>\n",
       "      <th>counter</th>\n",
       "      <th>class</th>\n",
       "      <th>summ_missing</th>\n",
       "      <th>num_tokens</th>\n",
       "      <th>summ_tokens</th>\n",
       "    </tr>\n",
       "  </thead>\n",
       "  <tbody>\n",
       "    <tr>\n",
       "      <th>0</th>\n",
       "      <td>ben berkman</td>\n",
       "      <td>./1pridedesign.html\\n</td>\n",
       "      <td>landscape design professional with 13 years of...</td>\n",
       "      <td>ben</td>\n",
       "      <td>male</td>\n",
       "      <td>1</td>\n",
       "      <td>1</td>\n",
       "      <td>0</td>\n",
       "      <td>75</td>\n",
       "      <td>[landscape, design, professional, with, 13, ye...</td>\n",
       "    </tr>\n",
       "    <tr>\n",
       "      <th>1</th>\n",
       "      <td>john cook phd</td>\n",
       "      <td>./5deep.html\\n</td>\n",
       "      <td>working with people and organisations to under...</td>\n",
       "      <td>john</td>\n",
       "      <td>male</td>\n",
       "      <td>1</td>\n",
       "      <td>1</td>\n",
       "      <td>0</td>\n",
       "      <td>117</td>\n",
       "      <td>[working, with, people, and, organisations, to...</td>\n",
       "    </tr>\n",
       "    <tr>\n",
       "      <th>2</th>\n",
       "      <td>aakash maniyar</td>\n",
       "      <td>./aakashmaniyar.html\\n</td>\n",
       "      <td>hard worker driven to succeed fast learner alw...</td>\n",
       "      <td>aakash</td>\n",
       "      <td>male</td>\n",
       "      <td>1</td>\n",
       "      <td>1</td>\n",
       "      <td>0</td>\n",
       "      <td>114</td>\n",
       "      <td>[hard, worker, driven, to, succeed, fast, lear...</td>\n",
       "    </tr>\n",
       "    <tr>\n",
       "      <th>3</th>\n",
       "      <td>aaron buckner</td>\n",
       "      <td>./aaronbucknermusic.html\\n</td>\n",
       "      <td>missing</td>\n",
       "      <td>aaron</td>\n",
       "      <td>male</td>\n",
       "      <td>1</td>\n",
       "      <td>1</td>\n",
       "      <td>1</td>\n",
       "      <td>1</td>\n",
       "      <td>[missing]</td>\n",
       "    </tr>\n",
       "    <tr>\n",
       "      <th>4</th>\n",
       "      <td>aaron hawley</td>\n",
       "      <td>./aaronhawley.html\\n</td>\n",
       "      <td>missing</td>\n",
       "      <td>aaron</td>\n",
       "      <td>male</td>\n",
       "      <td>1</td>\n",
       "      <td>1</td>\n",
       "      <td>1</td>\n",
       "      <td>1</td>\n",
       "      <td>[missing]</td>\n",
       "    </tr>\n",
       "  </tbody>\n",
       "</table>\n",
       "</div>"
      ],
      "text/plain": [
       "        full_name                        html  \\\n",
       "0     ben berkman       ./1pridedesign.html\\n   \n",
       "1   john cook phd              ./5deep.html\\n   \n",
       "2  aakash maniyar      ./aakashmaniyar.html\\n   \n",
       "3   aaron buckner  ./aaronbucknermusic.html\\n   \n",
       "4    aaron hawley        ./aaronhawley.html\\n   \n",
       "\n",
       "                                             summary first_name gender  \\\n",
       "0  landscape design professional with 13 years of...        ben   male   \n",
       "1  working with people and organisations to under...       john   male   \n",
       "2  hard worker driven to succeed fast learner alw...     aakash   male   \n",
       "3                                            missing      aaron   male   \n",
       "4                                            missing      aaron   male   \n",
       "\n",
       "   counter  class  summ_missing  num_tokens  \\\n",
       "0        1      1             0          75   \n",
       "1        1      1             0         117   \n",
       "2        1      1             0         114   \n",
       "3        1      1             1           1   \n",
       "4        1      1             1           1   \n",
       "\n",
       "                                         summ_tokens  \n",
       "0  [landscape, design, professional, with, 13, ye...  \n",
       "1  [working, with, people, and, organisations, to...  \n",
       "2  [hard, worker, driven, to, succeed, fast, lear...  \n",
       "3                                          [missing]  \n",
       "4                                          [missing]  "
      ]
     },
     "execution_count": 15,
     "metadata": {},
     "output_type": "execute_result"
    }
   ],
   "source": [
    "df.head()"
   ]
  },
  {
   "cell_type": "code",
   "execution_count": 14,
   "metadata": {
    "collapsed": true
   },
   "outputs": [],
   "source": [
    "df['num_tokens'] = df['summ_tokens'].apply(lambda x: len(x))"
   ]
  },
  {
   "cell_type": "code",
   "execution_count": 17,
   "metadata": {
    "collapsed": true
   },
   "outputs": [],
   "source": [
    "df['avg_len'] = df['summ_tokens'].apply(lambda x: avgchrs(x))"
   ]
  },
  {
   "cell_type": "code",
   "execution_count": 18,
   "metadata": {
    "collapsed": false
   },
   "outputs": [
    {
     "data": {
      "text/html": [
       "<div>\n",
       "<table border=\"1\" class=\"dataframe\">\n",
       "  <thead>\n",
       "    <tr style=\"text-align: right;\">\n",
       "      <th></th>\n",
       "      <th>full_name</th>\n",
       "      <th>html</th>\n",
       "      <th>summary</th>\n",
       "      <th>first_name</th>\n",
       "      <th>gender</th>\n",
       "      <th>counter</th>\n",
       "      <th>class</th>\n",
       "      <th>summ_missing</th>\n",
       "      <th>num_tokens</th>\n",
       "      <th>summ_tokens</th>\n",
       "      <th>avg_len</th>\n",
       "    </tr>\n",
       "  </thead>\n",
       "  <tbody>\n",
       "    <tr>\n",
       "      <th>0</th>\n",
       "      <td>ben berkman</td>\n",
       "      <td>./1pridedesign.html\\n</td>\n",
       "      <td>landscape design professional with 13 years of...</td>\n",
       "      <td>ben</td>\n",
       "      <td>male</td>\n",
       "      <td>1</td>\n",
       "      <td>1</td>\n",
       "      <td>0</td>\n",
       "      <td>75</td>\n",
       "      <td>[landscape, design, professional, with, 13, ye...</td>\n",
       "      <td>5.973333</td>\n",
       "    </tr>\n",
       "    <tr>\n",
       "      <th>1</th>\n",
       "      <td>john cook phd</td>\n",
       "      <td>./5deep.html\\n</td>\n",
       "      <td>working with people and organisations to under...</td>\n",
       "      <td>john</td>\n",
       "      <td>male</td>\n",
       "      <td>1</td>\n",
       "      <td>1</td>\n",
       "      <td>0</td>\n",
       "      <td>117</td>\n",
       "      <td>[working, with, people, and, organisations, to...</td>\n",
       "      <td>6.153846</td>\n",
       "    </tr>\n",
       "    <tr>\n",
       "      <th>2</th>\n",
       "      <td>aakash maniyar</td>\n",
       "      <td>./aakashmaniyar.html\\n</td>\n",
       "      <td>hard worker driven to succeed fast learner alw...</td>\n",
       "      <td>aakash</td>\n",
       "      <td>male</td>\n",
       "      <td>1</td>\n",
       "      <td>1</td>\n",
       "      <td>0</td>\n",
       "      <td>114</td>\n",
       "      <td>[hard, worker, driven, to, succeed, fast, lear...</td>\n",
       "      <td>5.614035</td>\n",
       "    </tr>\n",
       "    <tr>\n",
       "      <th>3</th>\n",
       "      <td>aaron buckner</td>\n",
       "      <td>./aaronbucknermusic.html\\n</td>\n",
       "      <td>missing</td>\n",
       "      <td>aaron</td>\n",
       "      <td>male</td>\n",
       "      <td>1</td>\n",
       "      <td>1</td>\n",
       "      <td>1</td>\n",
       "      <td>1</td>\n",
       "      <td>[missing]</td>\n",
       "      <td>7.000000</td>\n",
       "    </tr>\n",
       "    <tr>\n",
       "      <th>4</th>\n",
       "      <td>aaron hawley</td>\n",
       "      <td>./aaronhawley.html\\n</td>\n",
       "      <td>missing</td>\n",
       "      <td>aaron</td>\n",
       "      <td>male</td>\n",
       "      <td>1</td>\n",
       "      <td>1</td>\n",
       "      <td>1</td>\n",
       "      <td>1</td>\n",
       "      <td>[missing]</td>\n",
       "      <td>7.000000</td>\n",
       "    </tr>\n",
       "  </tbody>\n",
       "</table>\n",
       "</div>"
      ],
      "text/plain": [
       "        full_name                        html  \\\n",
       "0     ben berkman       ./1pridedesign.html\\n   \n",
       "1   john cook phd              ./5deep.html\\n   \n",
       "2  aakash maniyar      ./aakashmaniyar.html\\n   \n",
       "3   aaron buckner  ./aaronbucknermusic.html\\n   \n",
       "4    aaron hawley        ./aaronhawley.html\\n   \n",
       "\n",
       "                                             summary first_name gender  \\\n",
       "0  landscape design professional with 13 years of...        ben   male   \n",
       "1  working with people and organisations to under...       john   male   \n",
       "2  hard worker driven to succeed fast learner alw...     aakash   male   \n",
       "3                                            missing      aaron   male   \n",
       "4                                            missing      aaron   male   \n",
       "\n",
       "   counter  class  summ_missing  num_tokens  \\\n",
       "0        1      1             0          75   \n",
       "1        1      1             0         117   \n",
       "2        1      1             0         114   \n",
       "3        1      1             1           1   \n",
       "4        1      1             1           1   \n",
       "\n",
       "                                         summ_tokens   avg_len  \n",
       "0  [landscape, design, professional, with, 13, ye...  5.973333  \n",
       "1  [working, with, people, and, organisations, to...  6.153846  \n",
       "2  [hard, worker, driven, to, succeed, fast, lear...  5.614035  \n",
       "3                                          [missing]  7.000000  \n",
       "4                                          [missing]  7.000000  "
      ]
     },
     "execution_count": 18,
     "metadata": {},
     "output_type": "execute_result"
    }
   ],
   "source": [
    "df.head()"
   ]
  },
  {
   "cell_type": "code",
   "execution_count": 19,
   "metadata": {
    "collapsed": false
   },
   "outputs": [],
   "source": [
    "# For each row, return the total count of first_names that are the same and create a column\n",
    "#df.drop('name_counts', axis=1, inplace=True)\n",
    "counts = df.groupby('first_name').size()\n",
    "counts.name = 'name_counts'\n",
    "\n",
    "df = df.set_index('first_name').join(counts).reset_index()"
   ]
  },
  {
   "cell_type": "code",
   "execution_count": 20,
   "metadata": {
    "collapsed": false
   },
   "outputs": [
    {
     "data": {
      "text/plain": [
       "array([[<matplotlib.axes._subplots.AxesSubplot object at 0x10bd66890>]], dtype=object)"
      ]
     },
     "execution_count": 20,
     "metadata": {},
     "output_type": "execute_result"
    },
    {
     "data": {
      "image/png": "[encoded data removed]",
      "text/plain": [
       "<matplotlib.figure.Figure at 0x10bd66810>"
      ]
     },
     "metadata": {},
     "output_type": "display_data"
    }
   ],
   "source": [
    "df.hist('avg_len')"
   ]
  },
  {
   "cell_type": "code",
   "execution_count": 21,
   "metadata": {
    "collapsed": false
   },
   "outputs": [
    {
     "data": {
      "text/plain": [
       "array([[<matplotlib.axes._subplots.AxesSubplot object at 0x10bdd3cd0>]], dtype=object)"
      ]
     },
     "execution_count": 21,
     "metadata": {},
     "output_type": "execute_result"
    },
    {
     "data": {
      "image/png": "[encoded data removed]",
      "text/plain": [
       "<matplotlib.figure.Figure at 0x10be5ff10>"
      ]
     },
     "metadata": {},
     "output_type": "display_data"
    }
   ],
   "source": [
    "df.hist('num_tokens')"
   ]
  },
  {
   "cell_type": "code",
   "execution_count": 22,
   "metadata": {
    "collapsed": false
   },
   "outputs": [
    {
     "data": {
      "text/plain": [
       "gender\n",
       "female    [[Axes(0.125,0.125;0.775x0.775)]]\n",
       "male      [[Axes(0.125,0.125;0.775x0.775)]]\n",
       "dtype: object"
      ]
     },
     "execution_count": 22,
     "metadata": {},
     "output_type": "execute_result"
    },
    {
     "data": {
      "image/png": "[encoded data removed]",
      "text/plain": [
       "<matplotlib.figure.Figure at 0x10bb90190>"
      ]
     },
     "metadata": {},
     "output_type": "display_data"
    },
    {
     "data": {
      "image/png": "[encoded data removed]",
      "text/plain": [
       "<matplotlib.figure.Figure at 0x10c3e9490>"
      ]
     },
     "metadata": {},
     "output_type": "display_data"
    }
   ],
   "source": [
    "df.groupby('gender').hist('num_tokens')"
   ]
  },
  {
   "cell_type": "code",
   "execution_count": 23,
   "metadata": {
    "collapsed": false
   },
   "outputs": [
    {
     "data": {
      "text/plain": [
       "gender\n",
       "female    [[Axes(0.125,0.125;0.775x0.775)]]\n",
       "male      [[Axes(0.125,0.125;0.775x0.775)]]\n",
       "dtype: object"
      ]
     },
     "execution_count": 23,
     "metadata": {},
     "output_type": "execute_result"
    },
    {
     "data": {
      "image/png": "[encoded data removed]",
      "text/plain": [
       "<matplotlib.figure.Figure at 0x10c61b950>"
      ]
     },
     "metadata": {},
     "output_type": "display_data"
    },
    {
     "data": {
      "image/png": "[encoded data removed]",
      "text/plain": [
       "<matplotlib.figure.Figure at 0x10c8d8ad0>"
      ]
     },
     "metadata": {},
     "output_type": "display_data"
    }
   ],
   "source": [
    "df.groupby('gender').hist('avg_len')"
   ]
  },
  {
   "cell_type": "code",
   "execution_count": 24,
   "metadata": {
    "collapsed": false
   },
   "outputs": [],
   "source": [
    "gender_group = df.groupby('gender')"
   ]
  },
  {
   "cell_type": "code",
   "execution_count": 34,
   "metadata": {
    "collapsed": false
   },
   "outputs": [
    {
     "data": {
      "image/png": "[encoded data removed]",
      "text/plain": [
       "<matplotlib.figure.Figure at 0x11f80c590>"
      ]
     },
     "metadata": {},
     "output_type": "display_data"
    }
   ],
   "source": [
    "bp = df.boxplot(column=['num_tokens'], by=['gender'])"
   ]
  },
  {
   "cell_type": "code",
   "execution_count": 35,
   "metadata": {
    "collapsed": false
   },
   "outputs": [
    {
     "data": {
      "image/png": "[encoded data removed]",
      "text/plain": [
       "<matplotlib.figure.Figure at 0x120a47d50>"
      ]
     },
     "metadata": {},
     "output_type": "display_data"
    }
   ],
   "source": [
    "bp = df.boxplot(column=['avg_len'], by=['gender'])"
   ]
  },
  {
   "cell_type": "code",
   "execution_count": 26,
   "metadata": {
    "collapsed": false
   },
   "outputs": [
    {
     "data": {
      "text/html": [
       "<div>\n",
       "<table border=\"1\" class=\"dataframe\">\n",
       "  <thead>\n",
       "    <tr>\n",
       "      <th>gender</th>\n",
       "      <th colspan=\"8\" halign=\"left\">female</th>\n",
       "      <th colspan=\"8\" halign=\"left\">male</th>\n",
       "    </tr>\n",
       "    <tr>\n",
       "      <th></th>\n",
       "      <th>count</th>\n",
       "      <th>mean</th>\n",
       "      <th>std</th>\n",
       "      <th>min</th>\n",
       "      <th>25%</th>\n",
       "      <th>50%</th>\n",
       "      <th>75%</th>\n",
       "      <th>max</th>\n",
       "      <th>count</th>\n",
       "      <th>mean</th>\n",
       "      <th>std</th>\n",
       "      <th>min</th>\n",
       "      <th>25%</th>\n",
       "      <th>50%</th>\n",
       "      <th>75%</th>\n",
       "      <th>max</th>\n",
       "    </tr>\n",
       "  </thead>\n",
       "  <tbody>\n",
       "    <tr>\n",
       "      <th>avg_len</th>\n",
       "      <td>342</td>\n",
       "      <td>6.553719</td>\n",
       "      <td>0.902445</td>\n",
       "      <td>4</td>\n",
       "      <td>5.932663</td>\n",
       "      <td>6.936813</td>\n",
       "      <td>7.00</td>\n",
       "      <td>10.210526</td>\n",
       "      <td>653</td>\n",
       "      <td>6.542285</td>\n",
       "      <td>1.062233</td>\n",
       "      <td>3.918919</td>\n",
       "      <td>5.876984</td>\n",
       "      <td>6.818182</td>\n",
       "      <td>7</td>\n",
       "      <td>14.777778</td>\n",
       "    </tr>\n",
       "    <tr>\n",
       "      <th>class</th>\n",
       "      <td>342</td>\n",
       "      <td>0.000000</td>\n",
       "      <td>0.000000</td>\n",
       "      <td>0</td>\n",
       "      <td>0.000000</td>\n",
       "      <td>0.000000</td>\n",
       "      <td>0.00</td>\n",
       "      <td>0.000000</td>\n",
       "      <td>653</td>\n",
       "      <td>1.000000</td>\n",
       "      <td>0.000000</td>\n",
       "      <td>1.000000</td>\n",
       "      <td>1.000000</td>\n",
       "      <td>1.000000</td>\n",
       "      <td>1</td>\n",
       "      <td>1.000000</td>\n",
       "    </tr>\n",
       "    <tr>\n",
       "      <th>counter</th>\n",
       "      <td>342</td>\n",
       "      <td>1.000000</td>\n",
       "      <td>0.000000</td>\n",
       "      <td>1</td>\n",
       "      <td>1.000000</td>\n",
       "      <td>1.000000</td>\n",
       "      <td>1.00</td>\n",
       "      <td>1.000000</td>\n",
       "      <td>653</td>\n",
       "      <td>1.000000</td>\n",
       "      <td>0.000000</td>\n",
       "      <td>1.000000</td>\n",
       "      <td>1.000000</td>\n",
       "      <td>1.000000</td>\n",
       "      <td>1</td>\n",
       "      <td>1.000000</td>\n",
       "    </tr>\n",
       "    <tr>\n",
       "      <th>name_counts</th>\n",
       "      <td>342</td>\n",
       "      <td>2.894737</td>\n",
       "      <td>2.497043</td>\n",
       "      <td>1</td>\n",
       "      <td>1.000000</td>\n",
       "      <td>2.000000</td>\n",
       "      <td>5.00</td>\n",
       "      <td>11.000000</td>\n",
       "      <td>653</td>\n",
       "      <td>3.924962</td>\n",
       "      <td>4.301042</td>\n",
       "      <td>1.000000</td>\n",
       "      <td>1.000000</td>\n",
       "      <td>2.000000</td>\n",
       "      <td>5</td>\n",
       "      <td>20.000000</td>\n",
       "    </tr>\n",
       "    <tr>\n",
       "      <th>num_tokens</th>\n",
       "      <td>342</td>\n",
       "      <td>65.257310</td>\n",
       "      <td>76.220997</td>\n",
       "      <td>1</td>\n",
       "      <td>1.000000</td>\n",
       "      <td>45.500000</td>\n",
       "      <td>100.25</td>\n",
       "      <td>304.000000</td>\n",
       "      <td>653</td>\n",
       "      <td>74.856049</td>\n",
       "      <td>81.656306</td>\n",
       "      <td>1.000000</td>\n",
       "      <td>1.000000</td>\n",
       "      <td>50.000000</td>\n",
       "      <td>117</td>\n",
       "      <td>325.000000</td>\n",
       "    </tr>\n",
       "    <tr>\n",
       "      <th>summ_missing</th>\n",
       "      <td>342</td>\n",
       "      <td>0.336257</td>\n",
       "      <td>0.473120</td>\n",
       "      <td>0</td>\n",
       "      <td>0.000000</td>\n",
       "      <td>0.000000</td>\n",
       "      <td>1.00</td>\n",
       "      <td>1.000000</td>\n",
       "      <td>653</td>\n",
       "      <td>0.312404</td>\n",
       "      <td>0.463829</td>\n",
       "      <td>0.000000</td>\n",
       "      <td>0.000000</td>\n",
       "      <td>0.000000</td>\n",
       "      <td>1</td>\n",
       "      <td>1.000000</td>\n",
       "    </tr>\n",
       "  </tbody>\n",
       "</table>\n",
       "</div>"
      ],
      "text/plain": [
       "gender       female                                                         \\\n",
       "              count       mean        std min       25%        50%     75%   \n",
       "avg_len         342   6.553719   0.902445   4  5.932663   6.936813    7.00   \n",
       "class           342   0.000000   0.000000   0  0.000000   0.000000    0.00   \n",
       "counter         342   1.000000   0.000000   1  1.000000   1.000000    1.00   \n",
       "name_counts     342   2.894737   2.497043   1  1.000000   2.000000    5.00   \n",
       "num_tokens      342  65.257310  76.220997   1  1.000000  45.500000  100.25   \n",
       "summ_missing    342   0.336257   0.473120   0  0.000000   0.000000    1.00   \n",
       "\n",
       "gender                    male                                            \\\n",
       "                     max count       mean        std       min       25%   \n",
       "avg_len        10.210526   653   6.542285   1.062233  3.918919  5.876984   \n",
       "class           0.000000   653   1.000000   0.000000  1.000000  1.000000   \n",
       "counter         1.000000   653   1.000000   0.000000  1.000000  1.000000   \n",
       "name_counts    11.000000   653   3.924962   4.301042  1.000000  1.000000   \n",
       "num_tokens    304.000000   653  74.856049  81.656306  1.000000  1.000000   \n",
       "summ_missing    1.000000   653   0.312404   0.463829  0.000000  0.000000   \n",
       "\n",
       "gender                                    \n",
       "                    50%  75%         max  \n",
       "avg_len        6.818182    7   14.777778  \n",
       "class          1.000000    1    1.000000  \n",
       "counter        1.000000    1    1.000000  \n",
       "name_counts    2.000000    5   20.000000  \n",
       "num_tokens    50.000000  117  325.000000  \n",
       "summ_missing   0.000000    1    1.000000  "
      ]
     },
     "execution_count": 26,
     "metadata": {},
     "output_type": "execute_result"
    }
   ],
   "source": [
    "gender_group.describe().T"
   ]
  },
  {
   "cell_type": "code",
   "execution_count": 37,
   "metadata": {
    "collapsed": false
   },
   "outputs": [],
   "source": [
    "summ_missing = df.groupby('gender').agg({'summ_missing':sum})"
   ]
  },
  {
   "cell_type": "code",
   "execution_count": 42,
   "metadata": {
    "collapsed": false
   },
   "outputs": [],
   "source": [
    "sum_gender = df.groupby('gender').agg(np.sum)"
   ]
  },
  {
   "cell_type": "code",
   "execution_count": 43,
   "metadata": {
    "collapsed": false
   },
   "outputs": [],
   "source": [
    "avg_gender = df.groupby('gender').agg(np.mean)"
   ]
  },
  {
   "cell_type": "code",
   "execution_count": 44,
   "metadata": {
    "collapsed": false
   },
   "outputs": [
    {
     "data": {
      "text/html": [
       "<div>\n",
       "<table border=\"1\" class=\"dataframe\">\n",
       "  <thead>\n",
       "    <tr style=\"text-align: right;\">\n",
       "      <th></th>\n",
       "      <th>counter</th>\n",
       "      <th>class</th>\n",
       "      <th>summ_missing</th>\n",
       "      <th>num_tokens</th>\n",
       "      <th>avg_len</th>\n",
       "      <th>name_counts</th>\n",
       "    </tr>\n",
       "    <tr>\n",
       "      <th>gender</th>\n",
       "      <th></th>\n",
       "      <th></th>\n",
       "      <th></th>\n",
       "      <th></th>\n",
       "      <th></th>\n",
       "      <th></th>\n",
       "    </tr>\n",
       "  </thead>\n",
       "  <tbody>\n",
       "    <tr>\n",
       "      <th>female</th>\n",
       "      <td>1</td>\n",
       "      <td>0</td>\n",
       "      <td>0.336257</td>\n",
       "      <td>65.257310</td>\n",
       "      <td>6.553719</td>\n",
       "      <td>2.894737</td>\n",
       "    </tr>\n",
       "    <tr>\n",
       "      <th>male</th>\n",
       "      <td>1</td>\n",
       "      <td>1</td>\n",
       "      <td>0.312404</td>\n",
       "      <td>74.856049</td>\n",
       "      <td>6.542285</td>\n",
       "      <td>3.924962</td>\n",
       "    </tr>\n",
       "  </tbody>\n",
       "</table>\n",
       "</div>"
      ],
      "text/plain": [
       "        counter  class  summ_missing  num_tokens   avg_len  name_counts\n",
       "gender                                                                 \n",
       "female        1      0      0.336257   65.257310  6.553719     2.894737\n",
       "male          1      1      0.312404   74.856049  6.542285     3.924962"
      ]
     },
     "execution_count": 44,
     "metadata": {},
     "output_type": "execute_result"
    }
   ],
   "source": [
    "avg_gender"
   ]
  },
  {
   "cell_type": "code",
   "execution_count": 45,
   "metadata": {
    "collapsed": true
   },
   "outputs": [],
   "source": [
    "# Only include rows with summaries\n",
    "df = df[df['summ_missing'] == 0]"
   ]
  },
  {
   "cell_type": "code",
   "execution_count": 54,
   "metadata": {
    "collapsed": false
   },
   "outputs": [
    {
     "name": "stderr",
     "output_type": "stream",
     "text": [
      "/Users/lekha/Applications/anaconda/lib/python2.7/site-packages/ipykernel/__main__.py:2: SettingWithCopyWarning: \n",
      "A value is trying to be set on a copy of a slice from a DataFrame.\n",
      "Try using .loc[row_indexer,col_indexer] = value instead\n",
      "\n",
      "See the caveats in the documentation: http://pandas.pydata.org/pandas-docs/stable/indexing.html#indexing-view-versus-copy\n",
      "  from ipykernel import kernelapp as app\n"
     ]
    }
   ],
   "source": [
    "# lexical diversity = number of unique tokens / total number of tokens\n",
    "df['lex_diversity'] = df['summ_tokens'].apply(lambda x: len(set(x))/len(x))\n"
   ]
  },
  {
   "cell_type": "code",
   "execution_count": 55,
   "metadata": {
    "collapsed": false
   },
   "outputs": [
    {
     "data": {
      "text/html": [
       "<div>\n",
       "<table border=\"1\" class=\"dataframe\">\n",
       "  <thead>\n",
       "    <tr style=\"text-align: right;\">\n",
       "      <th></th>\n",
       "      <th>first_name</th>\n",
       "      <th>full_name</th>\n",
       "      <th>html</th>\n",
       "      <th>summary</th>\n",
       "      <th>gender</th>\n",
       "      <th>counter</th>\n",
       "      <th>class</th>\n",
       "      <th>summ_missing</th>\n",
       "      <th>num_tokens</th>\n",
       "      <th>summ_tokens</th>\n",
       "      <th>avg_len</th>\n",
       "      <th>name_counts</th>\n",
       "      <th>lex_diversity</th>\n",
       "    </tr>\n",
       "  </thead>\n",
       "  <tbody>\n",
       "    <tr>\n",
       "      <th>0</th>\n",
       "      <td>aakash</td>\n",
       "      <td>aakash maniyar</td>\n",
       "      <td>./aakashmaniyar.html\\n</td>\n",
       "      <td>hard worker driven to succeed fast learner alw...</td>\n",
       "      <td>male</td>\n",
       "      <td>1</td>\n",
       "      <td>1</td>\n",
       "      <td>0</td>\n",
       "      <td>114</td>\n",
       "      <td>[hard, worker, driven, to, succeed, fast, lear...</td>\n",
       "      <td>5.614035</td>\n",
       "      <td>1</td>\n",
       "      <td>0.719298</td>\n",
       "    </tr>\n",
       "    <tr>\n",
       "      <th>3</th>\n",
       "      <td>aaron</td>\n",
       "      <td>aaron schlegel</td>\n",
       "      <td>./aaronschlegel.html\\n</td>\n",
       "      <td>i love solving problems and learning as much a...</td>\n",
       "      <td>male</td>\n",
       "      <td>1</td>\n",
       "      <td>1</td>\n",
       "      <td>0</td>\n",
       "      <td>79</td>\n",
       "      <td>[i, love, solving, problems, and, learning, as...</td>\n",
       "      <td>4.658228</td>\n",
       "      <td>3</td>\n",
       "      <td>0.797468</td>\n",
       "    </tr>\n",
       "    <tr>\n",
       "      <th>5</th>\n",
       "      <td>adam</td>\n",
       "      <td>adam markus</td>\n",
       "      <td>./adammarkus.html\\n</td>\n",
       "      <td>an admissions consulting expertsince 2001 i ha...</td>\n",
       "      <td>male</td>\n",
       "      <td>1</td>\n",
       "      <td>1</td>\n",
       "      <td>0</td>\n",
       "      <td>284</td>\n",
       "      <td>[an, admissions, consulting, expertsince, 2001...</td>\n",
       "      <td>6.735915</td>\n",
       "      <td>1</td>\n",
       "      <td>0.637324</td>\n",
       "    </tr>\n",
       "    <tr>\n",
       "      <th>7</th>\n",
       "      <td>aditya</td>\n",
       "      <td>aditya hrishikesh</td>\n",
       "      <td>./adityah.html\\n</td>\n",
       "      <td>an engineer with mba who loves to build things...</td>\n",
       "      <td>male</td>\n",
       "      <td>1</td>\n",
       "      <td>1</td>\n",
       "      <td>0</td>\n",
       "      <td>247</td>\n",
       "      <td>[an, engineer, with, mba, who, loves, to, buil...</td>\n",
       "      <td>6.133603</td>\n",
       "      <td>2</td>\n",
       "      <td>0.712551</td>\n",
       "    </tr>\n",
       "    <tr>\n",
       "      <th>8</th>\n",
       "      <td>adrian</td>\n",
       "      <td>adrian matias</td>\n",
       "      <td>./adrianmatiasdiez.html\\n</td>\n",
       "      <td>building insight and creating solutions is my ...</td>\n",
       "      <td>male</td>\n",
       "      <td>1</td>\n",
       "      <td>1</td>\n",
       "      <td>0</td>\n",
       "      <td>8</td>\n",
       "      <td>[building, insight, and, creating, solutions, ...</td>\n",
       "      <td>5.750000</td>\n",
       "      <td>1</td>\n",
       "      <td>1.000000</td>\n",
       "    </tr>\n",
       "  </tbody>\n",
       "</table>\n",
       "</div>"
      ],
      "text/plain": [
       "  first_name          full_name                       html  \\\n",
       "0     aakash     aakash maniyar     ./aakashmaniyar.html\\n   \n",
       "3      aaron     aaron schlegel     ./aaronschlegel.html\\n   \n",
       "5       adam        adam markus        ./adammarkus.html\\n   \n",
       "7     aditya  aditya hrishikesh           ./adityah.html\\n   \n",
       "8     adrian      adrian matias  ./adrianmatiasdiez.html\\n   \n",
       "\n",
       "                                             summary gender  counter  class  \\\n",
       "0  hard worker driven to succeed fast learner alw...   male        1      1   \n",
       "3  i love solving problems and learning as much a...   male        1      1   \n",
       "5  an admissions consulting expertsince 2001 i ha...   male        1      1   \n",
       "7  an engineer with mba who loves to build things...   male        1      1   \n",
       "8  building insight and creating solutions is my ...   male        1      1   \n",
       "\n",
       "   summ_missing  num_tokens  \\\n",
       "0             0         114   \n",
       "3             0          79   \n",
       "5             0         284   \n",
       "7             0         247   \n",
       "8             0           8   \n",
       "\n",
       "                                         summ_tokens   avg_len  name_counts  \\\n",
       "0  [hard, worker, driven, to, succeed, fast, lear...  5.614035            1   \n",
       "3  [i, love, solving, problems, and, learning, as...  4.658228            3   \n",
       "5  [an, admissions, consulting, expertsince, 2001...  6.735915            1   \n",
       "7  [an, engineer, with, mba, who, loves, to, buil...  6.133603            2   \n",
       "8  [building, insight, and, creating, solutions, ...  5.750000            1   \n",
       "\n",
       "   lex_diversity  \n",
       "0       0.719298  \n",
       "3       0.797468  \n",
       "5       0.637324  \n",
       "7       0.712551  \n",
       "8       1.000000  "
      ]
     },
     "execution_count": 55,
     "metadata": {},
     "output_type": "execute_result"
    }
   ],
   "source": [
    "df.head()"
   ]
  },
  {
   "cell_type": "code",
   "execution_count": 48,
   "metadata": {
    "collapsed": false
   },
   "outputs": [
    {
     "data": {
      "text/plain": [
       "gender\n",
       "female    [[Axes(0.125,0.125;0.775x0.775)]]\n",
       "male      [[Axes(0.125,0.125;0.775x0.775)]]\n",
       "dtype: object"
      ]
     },
     "execution_count": 48,
     "metadata": {},
     "output_type": "execute_result"
    },
    {
     "data": {
      "image/png": "[encoded data removed]",
      "text/plain": [
       "<matplotlib.figure.Figure at 0x120d5aa10>"
      ]
     },
     "metadata": {},
     "output_type": "display_data"
    },
    {
     "data": {
      "image/png": "[encoded data removed]",
      "text/plain": [
       "<matplotlib.figure.Figure at 0x120e00dd0>"
      ]
     },
     "metadata": {},
     "output_type": "display_data"
    }
   ],
   "source": [
    "df.groupby('gender').hist('num_tokens')"
   ]
  },
  {
   "cell_type": "code",
   "execution_count": 49,
   "metadata": {
    "collapsed": false
   },
   "outputs": [
    {
     "data": {
      "text/plain": [
       "gender\n",
       "female    [[Axes(0.125,0.125;0.775x0.775)]]\n",
       "male      [[Axes(0.125,0.125;0.775x0.775)]]\n",
       "dtype: object"
      ]
     },
     "execution_count": 49,
     "metadata": {},
     "output_type": "execute_result"
    },
    {
     "data": {
      "image/png": "[encoded data removed]",
      "text/plain": [
       "<matplotlib.figure.Figure at 0x120c35210>"
      ]
     },
     "metadata": {},
     "output_type": "display_data"
    },
    {
     "data": {
      "image/png": "[encoded data removed]",
      "text/plain": [
       "<matplotlib.figure.Figure at 0x120de6b50>"
      ]
     },
     "metadata": {},
     "output_type": "display_data"
    }
   ],
   "source": [
    "df.groupby('gender').hist('avg_len')"
   ]
  },
  {
   "cell_type": "code",
   "execution_count": 56,
   "metadata": {
    "collapsed": false
   },
   "outputs": [
    {
     "data": {
      "text/plain": [
       "gender\n",
       "female    [[Axes(0.125,0.125;0.775x0.775)]]\n",
       "male      [[Axes(0.125,0.125;0.775x0.775)]]\n",
       "dtype: object"
      ]
     },
     "execution_count": 56,
     "metadata": {},
     "output_type": "execute_result"
    },
    {
     "data": {
      "image/png": "[encoded data removed]",
      "text/plain": [
       "<matplotlib.figure.Figure at 0x12076a2d0>"
      ]
     },
     "metadata": {},
     "output_type": "display_data"
    },
    {
     "data": {
      "image/png": "[encoded data removed]",
      "text/plain": [
       "<matplotlib.figure.Figure at 0x120e39150>"
      ]
     },
     "metadata": {},
     "output_type": "display_data"
    }
   ],
   "source": [
    "df.groupby('gender').hist('lex_diversity')"
   ]
  },
  {
   "cell_type": "code",
   "execution_count": 50,
   "metadata": {
    "collapsed": false
   },
   "outputs": [
    {
     "data": {
      "image/png": "[encoded data removed]",
      "text/plain": [
       "<matplotlib.figure.Figure at 0x120ce1290>"
      ]
     },
     "metadata": {},
     "output_type": "display_data"
    }
   ],
   "source": [
    "bp = df.boxplot(column=['num_tokens'], by=['gender'])"
   ]
  },
  {
   "cell_type": "code",
   "execution_count": 51,
   "metadata": {
    "collapsed": false
   },
   "outputs": [
    {
     "data": {
      "image/png": "[encoded data removed]",
      "text/plain": [
       "<matplotlib.figure.Figure at 0x1205d3990>"
      ]
     },
     "metadata": {},
     "output_type": "display_data"
    }
   ],
   "source": [
    "bp = df.boxplot(column=['avg_len'], by=['gender'])"
   ]
  },
  {
   "cell_type": "code",
   "execution_count": 62,
   "metadata": {
    "collapsed": false
   },
   "outputs": [
    {
     "data": {
      "text/plain": [
       "male      449\n",
       "female    227\n",
       "Name: gender, dtype: int64"
      ]
     },
     "execution_count": 62,
     "metadata": {},
     "output_type": "execute_result"
    }
   ],
   "source": [
    "# The breakdown by gender of the final dataset used for train and test\n",
    "df.gender.value_counts()"
   ]
  },
  {
   "cell_type": "markdown",
   "metadata": {},
   "source": [
    "# Basic Vocabulary Study"
   ]
  },
  {
   "cell_type": "code",
   "execution_count": 61,
   "metadata": {
    "collapsed": true
   },
   "outputs": [],
   "source": [
    "females_df = df[df['gender']=='female']\n",
    "males_df = df[df['gender'] =='male']"
   ]
  },
  {
   "cell_type": "code",
   "execution_count": null,
   "metadata": {
    "collapsed": true
   },
   "outputs": [],
   "source": [
    "stopwords =['10','100','1000','100000','11','12','13','14','15','150','16','17','18','19','1983','1986','1990','1991','1992','1993',\n",
    "             '1994','1995','1996','1997','1998','1999','1st','20','200','2000','2001','2002','2003','2004','2005',\n",
    "             '2006','2007','2008','2009','2010','2011','2012','2013','2014','2015','2016','21','22','23','24','25','250',\n",
    "             '26','27','2d','2nd','30','300','35','360','365','3d','3rd','40','400','45','4th','50','500','5000',\n",
    "             '60','70','75','80','90','ab','abc', 'an', 'the', 'and', 'of', 'in', 'to', 'for', 'with', 'my', 'as', 'on',\n",
    "             'at', 'have', 'is', 'am', 'has', 'have', 'that', 'from', 'was', 'by', 'it', 'also', 'or', 'who', 'you', 'can',\n",
    "             'their', 'i', 'a']"
   ]
  },
  {
   "cell_type": "code",
   "execution_count": 63,
   "metadata": {
    "collapsed": true
   },
   "outputs": [],
   "source": [
    "def remove_digits(mystr):\n",
    "    '''\n",
    "    INPUT: list of tokens \n",
    "    OUTPUT: list of tokens with digits removed\n",
    "    '''\n",
    "    return [word for word in mystr if not word.isdigit()]\n",
    "        "
   ]
  },
  {
   "cell_type": "code",
   "execution_count": 107,
   "metadata": {
    "collapsed": false
   },
   "outputs": [],
   "source": [
    "def get_vocab(input_df):\n",
    "    tokens_by_row = input_df['summ_tokens']\n",
    "    vocab = []\n",
    "    for row in tokens_by_row:\n",
    "        for word in row:\n",
    "            vocab.append(word)\n",
    "    return vocab"
   ]
  },
  {
   "cell_type": "code",
   "execution_count": 108,
   "metadata": {
    "collapsed": false
   },
   "outputs": [],
   "source": [
    "vocab = get_vocab(df)"
   ]
  },
  {
   "cell_type": "code",
   "execution_count": 145,
   "metadata": {
    "collapsed": false
   },
   "outputs": [
    {
     "data": {
      "image/png": "[encoded data removed]",
      "text/plain": [
       "<matplotlib.figure.Figure at 0x10dad9850>"
      ]
     },
     "metadata": {},
     "output_type": "display_data"
    }
   ],
   "source": [
    "# freq distribution\n",
    "freq_dist = nltk.FreqDist(vocab)\n",
    "freq_dist.most_common(30)\n",
    "freq_dist.plot(30)\n"
   ]
  },
  {
   "cell_type": "code",
   "execution_count": 129,
   "metadata": {
    "collapsed": false
   },
   "outputs": [],
   "source": [
    "f_vocab = get_vocab(females_df)\n",
    "m_vocab = get_vocab(males_df)"
   ]
  },
  {
   "cell_type": "code",
   "execution_count": 134,
   "metadata": {
    "collapsed": false
   },
   "outputs": [
    {
     "data": {
      "image/png": "[encoded data removed]",
      "text/plain": [
       "<matplotlib.figure.Figure at 0x11fde20d0>"
      ]
     },
     "metadata": {},
     "output_type": "display_data"
    }
   ],
   "source": [
    "m_freq_dist = nltk.FreqDist(m_vocab)\n",
    "#freq_dist.N\n",
    "m_freq_dist.most_common(30)\n",
    "#freq_dist.freq('management')\n",
    "m_freq_dist.plot(30)\n"
   ]
  },
  {
   "cell_type": "code",
   "execution_count": 135,
   "metadata": {
    "collapsed": false
   },
   "outputs": [
    {
     "data": {
      "image/png": "[encoded data removed]",
      "text/plain": [
       "<matplotlib.figure.Figure at 0x10cd76250>"
      ]
     },
     "metadata": {},
     "output_type": "display_data"
    }
   ],
   "source": [
    "f_freq_dist = nltk.FreqDist(f_vocab)\n",
    "#freq_dist.N\n",
    "f_freq_dist.most_common(30)\n",
    "#freq_dist.freq('management')\n",
    "f_freq_dist.plot(30)\n"
   ]
  },
  {
   "cell_type": "code",
   "execution_count": 143,
   "metadata": {
    "collapsed": false
   },
   "outputs": [
    {
     "name": "stdout",
     "output_type": "stream",
     "text": [
      "0.00405350628293\n",
      "0.00456067547302\n"
     ]
    }
   ],
   "source": [
    "print (f_freq_dist.freq('development'))\n",
    "print (m_freq_dist.freq('development'))"
   ]
  },
  {
   "cell_type": "markdown",
   "metadata": {},
   "source": [
    "# Word Frequencies, Conditional Frequency Distribution for\n",
    "* ALL,  Male, Female "
   ]
  },
  {
   "cell_type": "code",
   "execution_count": null,
   "metadata": {
    "collapsed": true
   },
   "outputs": [],
   "source": [
    ">>> from nltk.probability import ConditionalFreqDist\n",
    ">>> from nltk.tokenize import word_tokenize\n",
    ">>> cfdist = ConditionalFreqDist()\n",
    ">>> for word in word_tokenize(sent):\n",
    "...     condition = len(word)\n",
    "...     cfdist[condition][word] += 1"
   ]
  },
  {
   "cell_type": "code",
   "execution_count": null,
   "metadata": {
    "collapsed": true
   },
   "outputs": [],
   "source": []
  },
  {
   "cell_type": "code",
   "execution_count": null,
   "metadata": {
    "collapsed": true
   },
   "outputs": [],
   "source": []
  },
  {
   "cell_type": "code",
   "execution_count": null,
   "metadata": {
    "collapsed": true
   },
   "outputs": [],
   "source": []
  },
  {
   "cell_type": "markdown",
   "metadata": {},
   "source": [
    "# Predict gender using summary using RF - Baseline Model"
   ]
  },
  {
   "cell_type": "code",
   "execution_count": null,
   "metadata": {
    "collapsed": false
   },
   "outputs": [],
   "source": [
    "summary_df2['summary'] = summary_df2['summary'].astype(str)"
   ]
  },
  {
   "cell_type": "code",
   "execution_count": null,
   "metadata": {
    "collapsed": true
   },
   "outputs": [],
   "source": [
    "# summary_df2.set_value(18044, 'first_name', 'nanname')\n",
    "# summary_df2.set_value(18045, 'first_name', 'nanname')\n",
    "# summary_df2.set_value(18046, 'first_name', 'nanname')\n",
    "# summary_df2.set_value(18044, 'name_counts', 3)\n",
    "# summary_df2.set_value(18045, 'name_counts', 3)\n",
    "# summary_df2.set_value(18046, 'name_counts', 3)\n",
    "# summary_df2.set_value(18045, 'gender', 'female')\n",
    "# summary_df2.set_value(18044, 'gender', 'female')"
   ]
  },
  {
   "cell_type": "code",
   "execution_count": null,
   "metadata": {
    "collapsed": false
   },
   "outputs": [],
   "source": [
    "# Check for any nans in the DF\n",
    "summary_df2[pd.isnull(summary_df2).any(axis=1)]\n"
   ]
  },
  {
   "cell_type": "code",
   "execution_count": null,
   "metadata": {
    "collapsed": false
   },
   "outputs": [],
   "source": [
    "from nltk import word_tokenize          \n",
    "import pdb\n",
    "stemmer = SnowballStemmer(\"english\")\n",
    "def stem_tokens(tokens, stemmer):\n",
    "    stemmed = []\n",
    "    for item in tokens:\n",
    "        stemmed.append(stemmer.stem(item))\n",
    "    return stemmed\n",
    "\n",
    "def tokenize(text):\n",
    "    tokens = word_tokenize(text)\n",
    "    stems = stem_tokens(tokens, stemmer)\n",
    "    return stems\n",
    "\n",
    "def tokenize_no_stem(text):\n",
    "    tokens = word_tokenize(text)\n",
    "    stems = stem_tokens(tokens, stemmer)\n",
    "    return tokens    "
   ]
  },
  {
   "cell_type": "code",
   "execution_count": null,
   "metadata": {
    "collapsed": true
   },
   "outputs": [],
   "source": [
    "X_train, X_test, y_train, y_test = train_test_split(summary_df2['summary'], summary_df2['class'], test_size=0.3, random_state=0)"
   ]
  },
  {
   "cell_type": "code",
   "execution_count": null,
   "metadata": {
    "collapsed": false
   },
   "outputs": [],
   "source": [
    "temp = np.array(y_test)\n",
    "len(temp[(temp == 0)])"
   ]
  },
  {
   "cell_type": "code",
   "execution_count": null,
   "metadata": {
    "collapsed": false
   },
   "outputs": [],
   "source": [
    "print (\"Creating the bag of words...\\n\")\n",
    "vectorizer = CountVectorizer(analyzer = \"word\",   \\\n",
    "                             tokenizer = tokenize,    \\\n",
    "                             preprocessor = None, \\\n",
    "                             stop_words = stopwords,   \\\n",
    "                             max_features = 5000) "
   ]
  },
  {
   "cell_type": "code",
   "execution_count": null,
   "metadata": {
    "collapsed": true
   },
   "outputs": [],
   "source": [
    "tfidf = TfidfVectorizer(analyzer = 'word', tokenizer = tokenize, stop_words = stopwords, max_features = 5000)"
   ]
  },
  {
   "cell_type": "code",
   "execution_count": null,
   "metadata": {
    "collapsed": true
   },
   "outputs": [],
   "source": [
    "train_tfidf = tfidf.fit_transform(X_train)"
   ]
  },
  {
   "cell_type": "code",
   "execution_count": null,
   "metadata": {
    "collapsed": true
   },
   "outputs": [],
   "source": [
    "train_tfidf = train_tfidf.toarray()\n",
    "feature_names = tfidf.get_feature_names()"
   ]
  },
  {
   "cell_type": "code",
   "execution_count": null,
   "metadata": {
    "collapsed": false
   },
   "outputs": [],
   "source": [
    "# fit_transform() does two functions: First, it fits the model\n",
    "# and learns the vocabulary; second, it transforms our training data\n",
    "# into feature vectors. The input to fit_transform should be a list of \n",
    "# strings.\n",
    "train_data_features = vectorizer.fit_transform(X_train)"
   ]
  },
  {
   "cell_type": "code",
   "execution_count": null,
   "metadata": {
    "collapsed": false
   },
   "outputs": [],
   "source": [
    "# Numpy arrays are easy to work with, so convert the result to an \n",
    "# array\n",
    "train_data_features = train_data_features.toarray()\n",
    "feature_names = vectorizer.get_feature_names()"
   ]
  },
  {
   "cell_type": "code",
   "execution_count": null,
   "metadata": {
    "collapsed": false
   },
   "outputs": [],
   "source": [
    "# Take a look at the words in the vocabulary\n",
    "vocab = vectorizer.get_feature_names()\n",
    "print (vocab)"
   ]
  },
  {
   "cell_type": "code",
   "execution_count": null,
   "metadata": {
    "collapsed": false
   },
   "outputs": [],
   "source": [
    "print (\"Training the random forest...\")\n",
    "\n",
    "# Initialize a Random Forest classifier with 100 trees\n",
    "forest = RandomForestClassifier(n_estimators = 100) \n",
    "\n",
    "# Fit the forest to the training set, using the bag of words as \n",
    "# features and the sentiment labels as the response variable\n",
    "#\n",
    "# This may take a few minutes to run\n",
    "#forest = forest.fit(train_data_features, y_train)\n",
    "\n",
    "forest = forest.fit(train_tfidf, y_train)"
   ]
  },
  {
   "cell_type": "code",
   "execution_count": null,
   "metadata": {
    "collapsed": false
   },
   "outputs": [],
   "source": [
    "forest"
   ]
  },
  {
   "cell_type": "code",
   "execution_count": null,
   "metadata": {
    "collapsed": false
   },
   "outputs": [],
   "source": [
    "# Testing\n",
    "\n",
    "# Get a bag of words for the test set, and convert to a numpy array\n",
    "#test_data_features = vectorizer.transform(X_test)\n",
    "test_data_features = tfidf.transform(X_test)\n",
    "test_data_features = test_data_features.toarray()\n",
    "\n",
    "# Use the random forest to make sentiment label predictions\n",
    "yhat = forest.predict(test_data_features)\n",
    "probX = forest.predict_proba(test_data_features)\n"
   ]
  },
  {
   "cell_type": "code",
   "execution_count": null,
   "metadata": {
    "collapsed": false
   },
   "outputs": [],
   "source": [
    "probX[:10,:]\n"
   ]
  },
  {
   "cell_type": "code",
   "execution_count": null,
   "metadata": {
    "collapsed": false
   },
   "outputs": [],
   "source": [
    "zip(yhat, y_test)\n",
    "print (probX)"
   ]
  },
  {
   "cell_type": "code",
   "execution_count": null,
   "metadata": {
    "collapsed": false
   },
   "outputs": [],
   "source": [
    "yhat"
   ]
  },
  {
   "cell_type": "code",
   "execution_count": null,
   "metadata": {
    "collapsed": true
   },
   "outputs": [],
   "source": [
    "acc = forest.score(test_data_features, y_test)"
   ]
  },
  {
   "cell_type": "code",
   "execution_count": null,
   "metadata": {
    "collapsed": false
   },
   "outputs": [],
   "source": [
    "acc"
   ]
  },
  {
   "cell_type": "code",
   "execution_count": null,
   "metadata": {
    "collapsed": true
   },
   "outputs": [],
   "source": [
    "yhat1 = np.ones(yhat.shape)"
   ]
  },
  {
   "cell_type": "code",
   "execution_count": null,
   "metadata": {
    "collapsed": false
   },
   "outputs": [],
   "source": [
    "yhat.shape"
   ]
  },
  {
   "cell_type": "code",
   "execution_count": null,
   "metadata": {
    "collapsed": false
   },
   "outputs": [],
   "source": [
    "print (\"Precision Score: {0}\".format(precision_score(y_test, yhat)))\n",
    "print (\"Recall Score: {0}\".format(recall_score(y_test, yhat)))\n",
    "print (\"AUC Score: {0}\".format(roc_auc_score(y_test, yhat)))\n",
    "print (\"Model Score:{0}\".format(forest.score(test_data_features, y_test)))"
   ]
  },
  {
   "cell_type": "code",
   "execution_count": null,
   "metadata": {
    "collapsed": false
   },
   "outputs": [],
   "source": [
    "# print (\"Precision Score: {0}\".format(precision_score(y_test, yhat1)))\n",
    "# print (\"Recall Score: {0}\".format(recall_score(y_test, yhat1)))\n",
    "# print (\"AUC Score: {0}\".format(roc_auc_score(y_test, yhat1)))\n",
    "# print (\"Model Score:{0}\".format(forest.score(test_data_features, y_test)))"
   ]
  },
  {
   "cell_type": "code",
   "execution_count": null,
   "metadata": {
    "collapsed": false
   },
   "outputs": [],
   "source": [
    "fpr, tpr, thresholds = roc_curve(y_test, probX[:,1])"
   ]
  },
  {
   "cell_type": "code",
   "execution_count": null,
   "metadata": {
    "collapsed": true
   },
   "outputs": [],
   "source": [
    "fpr1, tpr1, thresholds1 = roc_curve(y_test, probX[:,1])"
   ]
  },
  {
   "cell_type": "code",
   "execution_count": null,
   "metadata": {
    "collapsed": true
   },
   "outputs": [],
   "source": [
    "fpr2, tpr2, thresholds2 = roc_curve(y_test, probX[:,1])"
   ]
  },
  {
   "cell_type": "code",
   "execution_count": null,
   "metadata": {
    "collapsed": false
   },
   "outputs": [],
   "source": [
    "thresholds[1:10]"
   ]
  },
  {
   "cell_type": "code",
   "execution_count": null,
   "metadata": {
    "collapsed": false
   },
   "outputs": [],
   "source": [
    "# ROC Curve\n",
    "fig = plt.figure()\n",
    "ax = fig.add_subplot(111)\n",
    "\n",
    "plt.plot(np.array(range(101))/100, np.array(range(101))/100, '--', color='black')\n",
    "plt.plot(fpr, tpr, label='rf-tfidf')\n",
    "#plt.plot(fpr1, tpr1, label='rf-stemmed')\n",
    "#plt.plot(fpr2, tpr2, label='rf-tfidf')\n",
    "plt.ylabel(\"True Positive Rate \")\n",
    "plt.xlabel(\"False Positive Rate\")\n",
    "plt.title(\"ROC plot\")\n",
    "plt.legend(loc='lower right')\n",
    "\n",
    "plt.grid()\n",
    "plt.show()\n",
    "\n"
   ]
  },
  {
   "cell_type": "code",
   "execution_count": null,
   "metadata": {
    "collapsed": false
   },
   "outputs": [],
   "source": [
    "# Most important features\n",
    "forest.feature_importances_"
   ]
  },
  {
   "cell_type": "markdown",
   "metadata": {},
   "source": [
    "# Topic Modeling with 5000 features: NMF"
   ]
  },
  {
   "cell_type": "markdown",
   "metadata": {},
   "source": [
    "### 1. All profiles"
   ]
  },
  {
   "cell_type": "code",
   "execution_count": null,
   "metadata": {
    "collapsed": true
   },
   "outputs": [],
   "source": [
    "females = summary_df2[summary_df2['gender'] == 'female']\n",
    "males = summary_df2[summary_df2['gender'] == 'male']"
   ]
  },
  {
   "cell_type": "code",
   "execution_count": null,
   "metadata": {
    "collapsed": false
   },
   "outputs": [],
   "source": [
    "X = summary_df2['summary']\n",
    "y = np.array(summary_df2['class'])"
   ]
  },
  {
   "cell_type": "code",
   "execution_count": null,
   "metadata": {
    "collapsed": true
   },
   "outputs": [],
   "source": [
    "# Print the top 20 words and weights for each topic\n",
    "def print_top_weights(model, feature_names, n_top_words):\n",
    "    for topic_idx, topic in enumerate(H):\n",
    "        print(\"Topic #%d:\" % topic_idx)\n",
    "        top_weights = topic.argsort()[:-n_top_words - 1:-1]\n",
    "        #print (top_weights)\n",
    "        print (\" \".join([\"{0}, {1}\".format(feature_names[x], topic[x]) for x in top_weights]))\n",
    "    print()\n",
    "    \n",
    "\n",
    "# Print the most probable topic for each document/profile\n",
    "def profiles_by_topic(W):\n",
    "    top_idx = np.zeros([W.shape[0],1], dtype=float)\n",
    "    for row_idx, row in enumerate(W):\n",
    "        topic_idx = row.argsort()[-1]  \n",
    "        top_idx[row_idx] = topic_idx\n",
    "    topics, counts = np.unique(top_idx, return_counts=True)\n",
    "    print (np.asarray((topics, counts)).T)\n",
    "    return top_idx"
   ]
  },
  {
   "cell_type": "code",
   "execution_count": null,
   "metadata": {
    "collapsed": false
   },
   "outputs": [],
   "source": [
    "#tokenize: function that is stemming using SnowballStemmer\n",
    "#stopwords: custom stop words\n",
    "def run_topic_model_tfidf(X, stopwords):\n",
    "    print (\"Bag of Words, Tfidf\\n\")\n",
    "    \n",
    "    vectorizer = TfidfVectorizer(analyzer = 'word', tokenizer = tokenize_no_stem, stop_words = stopwords, max_features = 5000)\n",
    "    word_frequencies = vectorizer.fit_transform(X)\n",
    "\n",
    "    # Numpy arrays are easy to work with, so convert the result to an \n",
    "    # array\n",
    "    word_frequencies = word_frequencies.toarray()\n",
    "    feature_names = vectorizer.get_feature_names()\n",
    "\n",
    "    # NMF Model to determine topics\n",
    "    nmf_model = NMF(n_components=10, init='random', random_state=0)\n",
    "    W = nmf_model.fit_transform(word_frequencies)\n",
    "    # H: Topics * Words\n",
    "    H = nmf_model.components_\n",
    "    print (H.shape, W.shape)\n",
    "    \n",
    "    n_top_words = 20\n",
    "    # Print weights and topics for the top 20 topics\n",
    "    for topic_idx, topic in enumerate(H):\n",
    "        print(\"Topic #%d:\" % topic_idx)\n",
    "        top_weights = topic.argsort()[:-n_top_words - 1:-1]\n",
    "        print (\" \".join([\"{0}\".format(feature_names[x]) for x in top_weights]))\n",
    "    print()\n",
    "    \n",
    "    # Highest Weighted Topic for each profile\n",
    "    print (\"Number of profiles by topic\\n\")\n",
    "    top_idx = profiles_by_topic(W) \n",
    "    \n",
    "    return nmf_model, W, top_idx"
   ]
  },
  {
   "cell_type": "code",
   "execution_count": null,
   "metadata": {
    "collapsed": true
   },
   "outputs": [],
   "source": [
    "#tokenize: function that is stemming using SnowballStemmer\n",
    "#stopwords: custom stop words\n",
    "def run_topic_model_countv(X, stopwords):\n",
    "    print (\"Bag of words, Count Vectorizer...\\n\")\n",
    "    vectorizer = CountVectorizer(analyzer = \"word\",   \\\n",
    "                                 tokenizer = tokenize_no_stem,    \\\n",
    "                                 preprocessor = None, \\\n",
    "                                 stop_words = stopwords,   \\\n",
    "                                 max_features = 5000) \n",
    "\n",
    "\n",
    "    # fit_transform() does two functions: First, it fits the model\n",
    "    # and learns the vocabulary; second, it transforms our training data\n",
    "    # into feature vectors. The input to fit_transform should be a list of \n",
    "    # strings.\n",
    "    word_frequencies = vectorizer.fit_transform(X)\n",
    "\n",
    "    # Numpy arrays are easy to work with, so convert the result to an \n",
    "    # array\n",
    "    word_frequencies = word_frequencies.toarray()\n",
    "    feature_names = vectorizer.get_feature_names()\n",
    "\n",
    "    # NMF Model to determine topics\n",
    "    nmf_model = NMF(n_components=10, init='random', random_state=0)\n",
    "    W = nmf_model.fit_transform(word_frequencies)\n",
    "    # H: Topics * Words\n",
    "    H = nmf_model.components_\n",
    "    print (H.shape, W.shape)\n",
    "    \n",
    "    n_top_words = 20\n",
    "    # Print weights and topics for the top 20 topics\n",
    "    for topic_idx, topic in enumerate(H):\n",
    "        print(\"Topic #%d:\" % topic_idx)\n",
    "        top_weights = topic.argsort()[:-n_top_words - 1:-1]\n",
    "        #print (\" \".join([\"{0}\".format(feature_names[x]) for x in top_weights]))\n",
    "        print (\" \".join([\"{0}, {1}\".format(feature_names[x], topic[x]) for x in top_weights]))\n",
    "    print()\n",
    "    \n",
    "    print (\"Number of profiles by Topic\\n\")\n",
    "    top_idx = profiles_by_topic(W)\n",
    "    \n",
    "    print (\"Example Profiles by Topic\\n\")\n",
    "    \n",
    "    \n",
    "    return nmf_model, W, top_idx"
   ]
  },
  {
   "cell_type": "markdown",
   "metadata": {},
   "source": [
    "# Topics for Female Profiles - TFIDF"
   ]
  },
  {
   "cell_type": "code",
   "execution_count": null,
   "metadata": {
    "collapsed": true
   },
   "outputs": [],
   "source": [
    "X = females['summary']\n",
    "y = np.array(females['class'])\n",
    "\n",
    "nmf_model, W, top_idx = run_topic_model_tfidf(X, stopwords)\n"
   ]
  },
  {
   "cell_type": "markdown",
   "metadata": {},
   "source": [
    "# Female Topics - Count Vectorizer"
   ]
  },
  {
   "cell_type": "code",
   "execution_count": null,
   "metadata": {
    "collapsed": false
   },
   "outputs": [],
   "source": [
    "X = females['summary']\n",
    "y = np.array(females['class'])\n",
    "\n",
    "nmf_model, W, top_idx = run_topic_model_countv(X, stopwords)\n",
    "\n"
   ]
  },
  {
   "cell_type": "markdown",
   "metadata": {},
   "source": [
    "# Topics for Male Profiles - TFIDF"
   ]
  },
  {
   "cell_type": "code",
   "execution_count": null,
   "metadata": {
    "collapsed": true
   },
   "outputs": [],
   "source": [
    "X = males['summary']\n",
    "y = np.array(males['class'])\n",
    "\n",
    "nmf_model, W, top_idx = run_topic_model_tfidf(X, stopwords)\n"
   ]
  },
  {
   "cell_type": "markdown",
   "metadata": {},
   "source": [
    "# Male Topics - CountVectorizer"
   ]
  },
  {
   "cell_type": "code",
   "execution_count": null,
   "metadata": {
    "collapsed": false
   },
   "outputs": [],
   "source": [
    "X = males['summary']\n",
    "y = np.array(males['class'])\n",
    "\n",
    "nmf_model, W, top_idx = run_topic_model_countv(X, stopwords)"
   ]
  },
  {
   "cell_type": "code",
   "execution_count": null,
   "metadata": {
    "collapsed": true
   },
   "outputs": [],
   "source": [
    "# Number of profiles clustered by topic number\n",
    "# Do this again after stemming"
   ]
  },
  {
   "cell_type": "code",
   "execution_count": null,
   "metadata": {
    "collapsed": false
   },
   "outputs": [],
   "source": [
    "top_idx[1:10]"
   ]
  },
  {
   "cell_type": "code",
   "execution_count": null,
   "metadata": {
    "collapsed": false
   },
   "outputs": [],
   "source": [
    "males.ix[0]['summary'] # Topic 3"
   ]
  },
  {
   "cell_type": "code",
   "execution_count": null,
   "metadata": {
    "collapsed": false
   },
   "outputs": [],
   "source": [
    "males.ix[1]['summary'] # Topic 4"
   ]
  },
  {
   "cell_type": "code",
   "execution_count": null,
   "metadata": {
    "collapsed": false
   },
   "outputs": [],
   "source": [
    "males.ix[4]['summary'] # Topic 9"
   ]
  },
  {
   "cell_type": "code",
   "execution_count": null,
   "metadata": {
    "collapsed": true
   },
   "outputs": [],
   "source": []
  }
 ],
 "metadata": {
  "kernelspec": {
   "display_name": "Python 2",
   "language": "python",
   "name": "python2"
  },
  "language_info": {
   "codemirror_mode": {
    "name": "ipython",
    "version": 2
   },
   "file_extension": ".py",
   "mimetype": "text/x-python",
   "name": "python",
   "nbconvert_exporter": "python",
   "pygments_lexer": "ipython2",
   "version": "2.7.10"
  }
 },
 "nbformat": 4,
 "nbformat_minor": 0
}
