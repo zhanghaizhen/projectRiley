{
 "cells": [
  {
   "cell_type": "markdown",
   "metadata": {},
   "source": [
    "## EDA"
   ]
  },
  {
   "cell_type": "code",
   "execution_count": 14,
   "metadata": {
    "collapsed": true
   },
   "outputs": [],
   "source": [
    "from __future__ import division\n",
    "import pandas as pd\n",
    "import numpy as np\n",
    "from collections import defaultdict\n",
    "from sklearn.linear_model import LogisticRegression\n",
    "from sklearn.naive_bayes import MultinomialNB\n",
    "from sklearn.ensemble import RandomForestClassifier\n",
    "from sklearn.ensemble import GradientBoostingClassifier\n",
    "from sklearn.ensemble import ExtraTreesClassifier\n",
    "from sklearn.grid_search import GridSearchCV\n",
    "from sklearn.cross_validation import train_test_split\n",
    "from sklearn.feature_extraction.text import TfidfVectorizer\n",
    "from sklearn.metrics import accuracy_score, precision_score, recall_score, roc_auc_score, roc_curve\n",
    "from sklearn import cross_validation\n",
    "from sklearn.feature_selection import VarianceThreshold\n",
    "from sklearn.decomposition import PCA\n",
    "from sklearn.preprocessing import StandardScaler\n",
    "from pandas.tools.plotting import scatter_matrix\n",
    "import matplotlib.pyplot as plt\n",
    "%matplotlib inline\n",
    "\n",
    "import re\n",
    "from HTMLParser import HTMLParser\n",
    "import datetime\n",
    "import cPickle as pickle"
   ]
  },
  {
   "cell_type": "code",
   "execution_count": null,
   "metadata": {
    "collapsed": true
   },
   "outputs": [],
   "source": [
    "# Files that contain extracted names and summaries\n",
    "sample10_file = '/Users/lekha/galvanize/capstone/projectRiley/data/sample10/out.txt'\n",
    "sample1000_file = '/Users/lekha/galvanize/capstone/projectRiley/data/out1000.txt'\n",
    "all_file = '/Users/lekha/galvanize/capstone/projectRiley/data/outall.txt'"
   ]
  },
  {
   "cell_type": "code",
   "execution_count": 15,
   "metadata": {
    "collapsed": true
   },
   "outputs": [],
   "source": [
    "# Files that contain extracted names, summaries, title, industry, location and html\n",
    "holyoke_raw = '/Users/lekha/galvanize/capstone/projectRiley/data/withfirstname/withfirstname_holyoke.txt'\n",
    "utaustin_raw = '/Users/lekha/galvanize/capstone/projectRiley/data/withfirstname/withfirstname_utaustin.txt'\n",
    "vassar_raw = '/Users/lekha/galvanize/capstone/projectRiley/data/withfirstname/withfirstname_vassar.txt'\n",
    "wellesley_raw = '/Users/lekha/galvanize/capstone/projectRiley/data/withfirstname/withfirstname_wellesley.txt'\n",
    "caltech_raw = '/Users/lekha/galvanize/capstone/projectRiley/data/withfirstname/withfirstname_caltech.txt'\n",
    "gatech_raw = '/Users/lekha/galvanize/capstone/projectRiley/data/withfirstname/withfirstname_gatech.txt'\n",
    "huskies_raw = '/Users/lekha/galvanize/capstone/projectRiley/data/withfirstname/withfirstname_huskies.txt'"
   ]
  },
  {
   "cell_type": "markdown",
   "metadata": {},
   "source": [
    "# Create one DF out of the bunch"
   ]
  },
  {
   "cell_type": "code",
   "execution_count": null,
   "metadata": {
    "collapsed": false
   },
   "outputs": [],
   "source": [
    "# Files that contain extracted names, summaries, title, industry, location and html\n",
    "files = ['/Users/lekha/galvanize/capstone/projectRiley/data/withfirstname/withfirstname_holyoke.txt', \n",
    "'/Users/lekha/galvanize/capstone/projectRiley/data/withfirstname/withfirstname_utaustin.txt',\n",
    "'/Users/lekha/galvanize/capstone/projectRiley/data/withfirstname/withfirstname_vassar.txt',\n",
    "'/Users/lekha/galvanize/capstone/projectRiley/data/withfirstname/withfirstname_wellesley.txt',\n",
    "'/Users/lekha/galvanize/capstone/projectRiley/data/withfirstname/withfirstname_caltech.txt',\n",
    "'/Users/lekha/galvanize/capstone/projectRiley/data/withfirstname/withfirstname_gatech.txt',\n",
    " '/Users/lekha/galvanize/capstone/projectRiley/data/withfirstname/withfirstname_huskies.txt']\n",
    "\n",
    "outfile = '/Users/lekha/galvanize/capstone/projectRiley/data/withfirstname/withfirstname_all.txt'\n",
    "\n",
    "def combine_dfs(infile_list, out_file):\n",
    "    cnt = 1\n",
    "    for f in infile_list:\n",
    "        if cnt == 1:\n",
    "            df = pd.read_csv(f, sep=\"|\")\n",
    "        else:\n",
    "            df = pd.concat([df, pd.read_csv(f, sep=\"|\")], axis=0)\n",
    "        cnt += 1\n",
    "    print (\"Concatenated {0} files into a single data frame\").format(cnt)\n",
    "    \n",
    "    df.to_csv(out_file, sep=\"|\")\n",
    "    return df\n",
    " \n",
    "\n",
    "df = combine_dfs(files, outfile)"
   ]
  },
  {
   "cell_type": "code",
   "execution_count": null,
   "metadata": {
    "collapsed": true
   },
   "outputs": [],
   "source": [
    "df = pd.concat([df_uwash, df_holyoke, df_utaustin, df_gatech, df_wellesley, df_vassar, df_caltech], axis=0)"
   ]
  },
  {
   "cell_type": "markdown",
   "metadata": {},
   "source": [
    "## Gender Prediction using First Names"
   ]
  },
  {
   "cell_type": "code",
   "execution_count": 34,
   "metadata": {
    "collapsed": false
   },
   "outputs": [],
   "source": [
    "df = pd.read_csv(caltech_raw, sep=\"|\")"
   ]
  },
  {
   "cell_type": "code",
   "execution_count": 17,
   "metadata": {
    "collapsed": false
   },
   "outputs": [],
   "source": [
    "def gender_features(word):\n",
    "    '''\n",
    "    Returns the following features given a word:\n",
    "    - name\n",
    "    - last letter\n",
    "    - last 2 letters\n",
    "    - boolean if last letter is vowel\n",
    "    '''\n",
    "    return {'name': word, 'last_letter': word[-1], 'last_2_letters': word[-2:], 'last_is_vowel': (word[-1] in 'aeiou')}"
   ]
  },
  {
   "cell_type": "code",
   "execution_count": 35,
   "metadata": {
    "collapsed": true
   },
   "outputs": [],
   "source": [
    "import nltk\n",
    "from nltk.corpus import names\n",
    "\n",
    "def gender_classifier():\n",
    "    # 7944 labeled names from nltk corpus\n",
    "    labeled_names = ([(name, 'male') for name in names.words('male.txt')] +[(name, 'female') for name in names.words('female.txt')])\n",
    "\n",
    "    # nltk's NaiveBayesClassifier takes featuresets to train that is a tuple of (features_dict, label)\n",
    "    featuresets_train = [(gender_features(name), gender) for (name, gender) in labeled_names]\n",
    "    classifier = nltk.NaiveBayesClassifier.train(featuresets_train)\n",
    "\n",
    "    return classifier\n",
    "\n",
    "def gender_predict(first_name, classifier):\n",
    "    # get the features of the set to be classified\n",
    "    name_features = gender_features(first_name)\n",
    "    g = classifier.classify(name_features)\n",
    "\n",
    "    return g\n",
    "\n",
    "def force_gender(name, gender, males, females):\n",
    "    if name in females:\n",
    "        return 'female'\n",
    "    if name in males:\n",
    "        return 'male'\n",
    "    return gender\n",
    "\n",
    "def clean_name(first_name):\n",
    "    if first_name == 'nan':\n",
    "        return 'realnan'\n",
    "    return first_name\n"
   ]
  },
  {
   "cell_type": "code",
   "execution_count": 36,
   "metadata": {
    "collapsed": true
   },
   "outputs": [],
   "source": [
    "df['first_name'] = df['first_name'].apply(lambda x:clean_name(x))"
   ]
  },
  {
   "cell_type": "code",
   "execution_count": 37,
   "metadata": {
    "collapsed": false
   },
   "outputs": [],
   "source": [
    "df['first_name'].fillna(value='realnan', inplace=True)"
   ]
  },
  {
   "cell_type": "code",
   "execution_count": 38,
   "metadata": {
    "collapsed": true
   },
   "outputs": [],
   "source": [
    "my_fem = pd.read_csv('/Users/lekha/galvanize/capstone/projectRiley/data/genderpredict/my_female.txt', header=None)\n",
    "my_male = pd.read_csv('/Users/lekha/galvanize/capstone/projectRiley/data/genderpredict/my_male.txt', header=None)\n",
    "females = list(np.array(my_fem).flatten())\n",
    "males = list(np.array(my_male).flatten())\n",
    "\n",
    "classifier = gender_classifier()"
   ]
  },
  {
   "cell_type": "code",
   "execution_count": 39,
   "metadata": {
    "collapsed": false
   },
   "outputs": [],
   "source": [
    "df['gender'] = df['first_name'].apply(lambda x: gender_predict(x, classifier))"
   ]
  },
  {
   "cell_type": "code",
   "execution_count": 10,
   "metadata": {
    "collapsed": false
   },
   "outputs": [],
   "source": [
    "df['gender_forced'] = df.apply(lambda x: force_gender(x['first_name'], x['gender'], males, females), axis=1)"
   ]
  },
  {
   "cell_type": "code",
   "execution_count": null,
   "metadata": {
    "collapsed": false
   },
   "outputs": [],
   "source": [
    "# Adding names to my labeled_name list\n",
    "\n",
    "male_names = [name.lower() for name in names.words('male.txt')]\n",
    "female_names = [name.lower() for name in names.words('female.txt')]\n",
    "\n",
    "my_fem = pd.read_csv('/Users/lekha/galvanize/capstone/projectRiley/data/genderpredict/my_female.txt', header=None)\n",
    "my_male = pd.read_csv('/Users/lekha/galvanize/capstone/projectRiley/data/genderpredict/my_male.txt', header=None)\n",
    "\n",
    "my_females = list(np.array(my_fem).flatten())\n",
    "my_males = list(np.array(my_male).flatten())\n",
    "\n",
    "male_names = set(male_names + my_males)\n",
    "female_names = set(female_names + my_females)\n",
    "    \n",
    "len(male_names)\n",
    "len(female_names)"
   ]
  },
  {
   "cell_type": "code",
   "execution_count": null,
   "metadata": {
    "collapsed": false
   },
   "outputs": [],
   "source": [
    "len(female_names)"
   ]
  },
  {
   "cell_type": "code",
   "execution_count": null,
   "metadata": {
    "collapsed": false
   },
   "outputs": [],
   "source": [
    "# Verification Cell for Classification Algorithm\n",
    "train_set, test_set = featuresets[600:], featuresets[:500]\n",
    "print classifier.classify(gender_features('rahul'))\n",
    "print classifier.classify(gender_features('Trinity'))\n",
    "print(nltk.classify.accuracy(classifier, test_set))\n",
    "classifier.show_most_informative_features(5)"
   ]
  },
  {
   "cell_type": "code",
   "execution_count": null,
   "metadata": {
    "collapsed": false
   },
   "outputs": [],
   "source": [
    "df['first_name'].nunique()"
   ]
  },
  {
   "cell_type": "code",
   "execution_count": null,
   "metadata": {
    "collapsed": false
   },
   "outputs": [],
   "source": [
    "df_agg = df.groupby(['gender','first_name']).agg({'counter':sum})"
   ]
  },
  {
   "cell_type": "code",
   "execution_count": null,
   "metadata": {
    "collapsed": true
   },
   "outputs": [],
   "source": [
    "#group by the first level of the index\n",
    "g = df_agg['counter'].groupby(level=0, group_keys=False)"
   ]
  },
  {
   "cell_type": "code",
   "execution_count": null,
   "metadata": {
    "collapsed": false
   },
   "outputs": [],
   "source": [
    "# sort by the count of the first names\n",
    "g.nlargest(50)"
   ]
  },
  {
   "cell_type": "code",
   "execution_count": null,
   "metadata": {
    "collapsed": false
   },
   "outputs": [],
   "source": [
    "females = df[df['gender'] == 'female']\n",
    "males = df[df['gender'] == 'male']"
   ]
  },
  {
   "cell_type": "code",
   "execution_count": null,
   "metadata": {
    "collapsed": false
   },
   "outputs": [],
   "source": [
    "females['first_name'].nunique()"
   ]
  },
  {
   "cell_type": "code",
   "execution_count": null,
   "metadata": {
    "collapsed": false
   },
   "outputs": [],
   "source": [
    "males['first_name'].nunique()"
   ]
  },
  {
   "cell_type": "code",
   "execution_count": null,
   "metadata": {
    "collapsed": true
   },
   "outputs": [],
   "source": [
    "set(males['first_name'])"
   ]
  },
  {
   "cell_type": "code",
   "execution_count": null,
   "metadata": {
    "collapsed": true
   },
   "outputs": [],
   "source": [
    "# unique names in females and males\n",
    "print (females_all['first_name'].nunique())\n",
    "print (males_all['first_name'].nunique())"
   ]
  },
  {
   "cell_type": "code",
   "execution_count": null,
   "metadata": {
    "collapsed": false
   },
   "outputs": [],
   "source": [
    "x = zip(fnames, gender_fnames1)\n",
    "with open('gender1000.txt', 'w') as f:\n",
    "    for line in x:\n",
    "        name = line[0]\n",
    "        g = line[1]\n",
    "        nameg = name + \",\" + g + \"\\n\"\n",
    "        f.write(nameg)\n",
    "        #f.write(\"\\n\")"
   ]
  },
  {
   "cell_type": "code",
   "execution_count": null,
   "metadata": {
    "collapsed": false
   },
   "outputs": [],
   "source": [
    "letter_freq = df.last_letter.value_counts()\n",
    "letter_freq.sort_values(ascending=False, inplace=True)\n"
   ]
  },
  {
   "cell_type": "code",
   "execution_count": null,
   "metadata": {
    "collapsed": false
   },
   "outputs": [],
   "source": [
    "# Plot one of the features for gender prediction: last letter\n",
    "fig, ax = plt.subplots()\n",
    "letter_freq.plot(ax=ax, kind='bar', alpha = 0.5, figsize=(12,8))"
   ]
  },
  {
   "cell_type": "code",
   "execution_count": null,
   "metadata": {
    "collapsed": true
   },
   "outputs": [],
   "source": []
  }
 ],
 "metadata": {
  "kernelspec": {
   "display_name": "Python 2",
   "language": "python",
   "name": "python2"
  },
  "language_info": {
   "codemirror_mode": {
    "name": "ipython",
    "version": 2
   },
   "file_extension": ".py",
   "mimetype": "text/x-python",
   "name": "python",
   "nbconvert_exporter": "python",
   "pygments_lexer": "ipython2",
   "version": "2.7.10"
  }
 },
 "nbformat": 4,
 "nbformat_minor": 0
}
