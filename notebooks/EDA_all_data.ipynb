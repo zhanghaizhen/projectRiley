{
 "cells": [
  {
   "cell_type": "code",
   "execution_count": 396,
   "metadata": {
    "collapsed": false
   },
   "outputs": [],
   "source": [
    "from __future__ import division\n",
    "from __future__ import print_function\n",
    "import pandas as pd\n",
    "import numpy as np\n",
    "from collections import defaultdict\n",
    "from sklearn.linear_model import LogisticRegression\n",
    "from sklearn.naive_bayes import MultinomialNB\n",
    "from sklearn.grid_search import GridSearchCV\n",
    "from sklearn.cross_validation import train_test_split\n",
    "from sklearn.ensemble import RandomForestClassifier\n",
    "from sklearn.feature_extraction.text import CountVectorizer, TfidfVectorizer\n",
    "from sklearn.decomposition import NMF\n",
    "\n",
    "from sklearn.metrics import accuracy_score, precision_score, recall_score, roc_auc_score, roc_curve, auc\n",
    "from sklearn import cross_validation\n",
    "from sklearn.feature_selection import VarianceThreshold\n",
    "from sklearn.decomposition import PCA\n",
    "from sklearn.preprocessing import StandardScaler\n",
    "from pandas.tools.plotting import scatter_matrix\n",
    "import matplotlib.pyplot as plt\n",
    "%matplotlib inline\n",
    "\n",
    "import nltk\n",
    "from nltk.stem.snowball import SnowballStemmer\n",
    "from nltk.stem.porter import *\n",
    "\n",
    "import re\n",
    "from HTMLParser import HTMLParser\n",
    "import datetime\n",
    "import cPickle as pickle\n",
    "pd.options.mode.chained_assignment = None  # default='warn'"
   ]
  },
  {
   "cell_type": "code",
   "execution_count": 397,
   "metadata": {
    "collapsed": false
   },
   "outputs": [],
   "source": [
    "from nltk.corpus import stopwords\n",
    "stopwords = set(stopwords.words('english'))"
   ]
  },
  {
   "cell_type": "code",
   "execution_count": 268,
   "metadata": {
    "collapsed": true
   },
   "outputs": [],
   "source": [
    "# File with gender included\n",
    "sample10_file = '/Users/lekha/galvanize/capstone/projectRiley/data/sample10/out.txt'\n",
    "sample1000_file = '/Users/lekha/galvanize/capstone/projectRiley/data/cleandatagender1000.txt'\n",
    "all_file = '/Users/lekha/galvanize/capstone/projectRiley/data/cleandatagenderall.txt'\n",
    "\n",
    "uwash_file = '/Users/lekha/galvanize/capstone/projectRiley/data/withgender/withgender_huskies.txt'\n",
    "holyoke_file = '/Users/lekha/galvanize/capstone/projectRiley/data/withgender/withgender_holyoke.txt'\n",
    "utaustin_file = '/Users/lekha/galvanize/capstone/projectRiley/data/withgender/withgender_utaustin.txt'\n",
    "gatech_file = '/Users/lekha/galvanize/capstone/projectRiley/data/withgender/withgender_gatech.txt'\n",
    "wellesley_file = '/Users/lekha/galvanize/capstone/projectRiley/data/withgender/withgender_wellesley.txt'\n",
    "vassar_file = '/Users/lekha/galvanize/capstone/projectRiley/data/withgender/withgender_vassar.txt'\n",
    "caltech_file = '/Users/lekha/galvanize/capstone/projectRiley/data/withgender/withgender_caltech.txt'\n",
    "all_file = '/Users/lekha/galvanize/capstone/projectRiley/data/withgender/withgender_all.txt'"
   ]
  },
  {
   "cell_type": "code",
   "execution_count": 314,
   "metadata": {
    "collapsed": false
   },
   "outputs": [],
   "source": [
    "df_uwash = pd.read_csv(uwash_file, sep=\"|\")\n",
    "df_holyoke = pd.read_csv(holyoke_file, sep=\"|\")\n",
    "df_utaustin = pd.read_csv(utaustin_file, sep=\"|\")\n",
    "df_gatech = pd.read_csv(gatech_file, sep=\"|\")\n",
    "df_wellesley = pd.read_csv(wellesley_file, sep=\"|\")\n",
    "df_vassar = pd.read_csv(vassar_file, sep=\"|\")\n",
    "df_caltech = pd.read_csv(caltech_file, sep=\"|\")\n",
    "df = pd.read_csv(all_file, sep=\"|\")"
   ]
  },
  {
   "cell_type": "code",
   "execution_count": 270,
   "metadata": {
    "collapsed": false
   },
   "outputs": [
    {
     "name": "stdout",
     "output_type": "stream",
     "text": [
      "<class 'pandas.core.frame.DataFrame'>\n",
      "Int64Index: 31415 entries, 0 to 31414\n",
      "Data columns (total 15 columns):\n",
      "first_name          31415 non-null object\n",
      "full_name           31415 non-null object\n",
      "html                31415 non-null object\n",
      "industry            31415 non-null object\n",
      "location            31415 non-null object\n",
      "summary             31414 non-null object\n",
      "title               31415 non-null object\n",
      "counter             31415 non-null float64\n",
      "source              31415 non-null object\n",
      "full_name_fields    31415 non-null object\n",
      "name_fields         31415 non-null int64\n",
      "gender              31415 non-null object\n",
      "gender_type         31415 non-null object\n",
      "gender_forced       31415 non-null object\n",
      "name_counts         31415 non-null int64\n",
      "dtypes: float64(1), int64(2), object(12)\n",
      "memory usage: 3.8+ MB\n"
     ]
    }
   ],
   "source": [
    "df.info()"
   ]
  },
  {
   "cell_type": "code",
   "execution_count": 285,
   "metadata": {
    "collapsed": true
   },
   "outputs": [],
   "source": [
    "def locf(x):\n",
    "    x = x.lower()\n",
    "    pattern = re.compile('([^\\s\\w]|_)+')\n",
    "    x = pattern.sub('', x)\n",
    "    x = x.replace('area', ' ')\n",
    "    x = x.replace('greater', ' ')\n",
    "    x = x.replace('city', ' ')\n",
    "    x = x.replace('stati', ' ')\n",
    "    x = x.replace('uniti', ' ')\n",
    "    x = x.replace('usa', ' ')\n",
    "    x = x.replace('islands', ' ')\n",
    "    x = x.replace('estados',' ')\n",
    "    x = x.replace('unidos', ' ')\n",
    "    loc_fields = x.split()\n",
    "    return loc_fields\n",
    "\n",
    "\n",
    "def get_location(df):\n",
    "    df['location'] = df['location'].apply(lambda x: x.lower())\n",
    "\n",
    "    abbrev_f = '/Users/lekha/galvanize/capstone/projectRiley/data/us_state_abbrev'\n",
    "    replace_f = '/Users/lekha/galvanize/capstone/projectRiley/data/replace_state_strings'\n",
    "\n",
    "    replace_states = {}\n",
    "    with open(abbrev_f, 'r') as f:\n",
    "        for line in f:\n",
    "            fields = line.strip().lower().split(',')\n",
    "            replace_states[fields[0].strip()] = fields[1].strip()\n",
    "\n",
    "    with open(replace_f, 'r') as f:\n",
    "        for line in f:\n",
    "            fields = line.lower().split(',')\n",
    "            replace_states[fields[0].strip()] = fields[1].strip()\n",
    "        \n",
    "    df['loc_fields'] = df['location'].apply(lambda x: locf(x))\n",
    "    df['state'] = df['loc_fields'].apply(lambda x: get_state(x, replace_states))\n",
    "    return df\n",
    "\n",
    "\n",
    "def get_state(loc_fields, replace_dict):\n",
    "    if 'carolina' in loc_fields:\n",
    "        state = loc_fields[-2] + loc_fields[-1]\n",
    "    elif 'dakota' in loc_fields:\n",
    "        state = loc_fields[-2] + loc_fields[-1]\n",
    "    else:\n",
    "        state = loc_fields[-1]\n",
    "    state = clean_state(state, replace_dict)\n",
    "    return state.upper()\n",
    "\n",
    "\n",
    "def clean_state(state, replace_dict):\n",
    "    state = state.lower()\n",
    "    result = replace_dict.get(state, 'other')\n",
    "    return result.upper()"
   ]
  },
  {
   "cell_type": "code",
   "execution_count": 286,
   "metadata": {
    "collapsed": false
   },
   "outputs": [],
   "source": [
    "df = get_location(df)"
   ]
  },
  {
   "cell_type": "code",
   "execution_count": 288,
   "metadata": {
    "collapsed": true
   },
   "outputs": [
    {
     "data": {
      "text/plain": [
       "WA       8907\n",
       "CA       4478\n",
       "NY       2738\n",
       "MA       2492\n",
       "DC       1906\n",
       "INTL     1663\n",
       "TX       1174\n",
       "GA        908\n",
       "OTHER     743\n",
       "IL        572\n",
       "OR        514\n",
       "FL        461\n",
       "CO        381\n",
       "NC        339\n",
       "PA        331\n",
       "VA        274\n",
       "MD        268\n",
       "OH        267\n",
       "AZ        261\n",
       "MI        244\n",
       "MO        226\n",
       "MN        221\n",
       "CT        214\n",
       "TN        187\n",
       "IN        145\n",
       "NJ        127\n",
       "ME        112\n",
       "WI        102\n",
       "RI         98\n",
       "UT         98\n",
       "HI         84\n",
       "ID         79\n",
       "NV         77\n",
       "SC         76\n",
       "AL         74\n",
       "LA         68\n",
       "VT         65\n",
       "IA         63\n",
       "KY         54\n",
       "NH         53\n",
       "OK         49\n",
       "MT         41\n",
       "AK         34\n",
       "KS         26\n",
       "NE         25\n",
       "AR         23\n",
       "DE         18\n",
       "MS         17\n",
       "WY         13\n",
       "SD         11\n",
       "ND          9\n",
       "PR          5\n",
       "Name: state, dtype: int64"
      ]
     },
     "execution_count": 288,
     "metadata": {},
     "output_type": "execute_result"
    }
   ],
   "source": [
    "df.state.value_counts()\n"
   ]
  },
  {
   "cell_type": "code",
   "execution_count": 284,
   "metadata": {
    "collapsed": true
   },
   "outputs": [
    {
     "name": "stdout",
     "output_type": "stream",
     "text": [
      "nepal intl\n",
      "cincinnati oh\n",
      "pakistan intl\n",
      "rhode island ri\n",
      "uzbekistan intl\n",
      "cambodia intl\n",
      "congo intl\n",
      "japan intl\n",
      "paul mn\n",
      "nevada nv\n",
      "cyprus intl\n",
      "maine me\n",
      "barbados intl\n",
      "orleans la\n",
      "diegoomrdet intl\n",
      "kosovo intl\n",
      "wyoming wy\n",
      "minnesota mn\n",
      "denver co\n",
      "rico pr\n",
      "rwanda intl\n",
      "puerto rico pr\n",
      "maryland md\n",
      "norway intl\n",
      "worth tx\n",
      "texas tx\n",
      "rica intl\n",
      "kingdom intl\n",
      "croatia intl\n",
      "regionsus64 intl\n",
      "australia intl\n",
      "iowa ia\n",
      "federation intl\n",
      "africa intl\n",
      "michigan mi\n",
      "utah ut\n",
      "virginia va\n",
      "coast intl\n",
      "guatemala intl\n",
      "zimbabwe intl\n",
      "belgium intl\n",
      "kong intl\n",
      "kazakhstan intl\n",
      "netherlands intl\n",
      "sverige intl\n",
      "louis mo\n",
      "philippines intl\n",
      "hawaii hi\n",
      "detroit mi\n",
      "bay ca\n",
      "district of columbia dc\n",
      "northdakota nd\n",
      "missouri mo\n",
      "switzerland intl\n",
      "ohio oh\n",
      "mauritius intl\n",
      "bulgaria intl\n",
      "jamaica intl\n",
      "espaa intl\n",
      "serbia intl\n",
      "malaysia intl\n",
      "korea intl\n",
      "mozambique intl\n",
      "milwaukee il\n",
      "timorleste intl\n",
      "iran intl\n",
      "nicaragua intl\n",
      "taiwan intl\n",
      "canada intl\n",
      "qatar intl\n",
      "palau pw\n",
      "chicago il\n",
      "sudan intl\n",
      "kuwait intl\n",
      "oklahoma ok\n",
      "delaware de\n",
      "luxembourg intl\n",
      "virgin islands vi\n",
      "arkansas ar\n",
      "emirates intl\n",
      "venezuela intl\n",
      "malta intl\n",
      "arizona az\n",
      "wisconsin wi\n",
      "turqua intl\n",
      "tatsunis intl\n",
      "nashville tn\n",
      "california ca\n",
      "york ny\n",
      "armenia intl\n",
      "thailand intl\n",
      "iraq intl\n",
      "ukraine intl\n",
      "northern mariana islands mp\n",
      "metro dc\n",
      "island ri\n",
      "finland intl\n",
      "florida fl\n",
      "alaska ak\n",
      "macedonia intl\n",
      "angeles ca\n",
      "marshall islands mh\n",
      "syarikat intl\n",
      "china intl\n",
      "jersey nj\n",
      "new mexico nm\n",
      "federated states of micronesia fm\n",
      "romania intl\n",
      "colorado co\n",
      "myanmar intl\n",
      "egypt intl\n",
      "guam intl\n",
      "washington wa\n",
      "lake ut\n",
      "austria intl\n",
      "tennessee tn\n",
      "hungary intl\n",
      "mongolia intl\n",
      "colombia intl\n",
      "beach intl\n",
      "turkey intl\n",
      "laos intl\n",
      "mississippi ms\n",
      "south dakota sd\n",
      "bangladesh intl\n",
      "new jersey nj\n",
      "uruguay intl\n",
      "north carolina nc\n",
      "france intl\n",
      "new york ny\n",
      "ireland intl\n",
      "denmark intl\n",
      "indiana in\n",
      "nigeria intl\n",
      "louisiana la\n",
      "malawi intl\n",
      "ecuador intl\n",
      "israel intl\n",
      "peru intl\n",
      "hawaiian hi\n",
      "pittsburgh pa\n",
      "lebanon intl\n",
      "northcarolina nc\n",
      "oregon or\n",
      "zjednoczone intl\n",
      "togo intl\n",
      "connecticut ct\n",
      "jordan intl\n",
      "southcarolina sc\n",
      "chile intl\n",
      "atlanta ga\n",
      "memphis tn\n",
      "argentina intl\n",
      "spain intl\n",
      "georgia ga\n",
      "libya intl\n",
      "allemagne intl\n",
      "american samoa as\n",
      "kentucky ky\n",
      "nations intl\n",
      "sweden intl\n",
      "nebraska ne\n",
      "new hampshire nh\n",
      "oman intl\n",
      "south carolina sc\n",
      "okol intl\n",
      "poland intl\n",
      "north dakota nd\n",
      "portugal intl\n",
      "mexico intl\n",
      "boston ma\n",
      "greece intl\n",
      "india intl\n",
      "staten intl\n",
      "states wa\n",
      "belarus intl\n",
      "uganda intl\n",
      "arabia intl\n",
      "kenya intl\n",
      "seattle wa\n",
      "macao intl\n",
      "diego ca\n",
      "italy intl\n",
      "hampshire nh\n",
      "illinois il\n",
      "ethiopia intl\n",
      "omrdet intl\n",
      "other other\n",
      "republic intl\n",
      "umgebung intl\n",
      "zambia intl\n",
      "idaho id\n",
      "brazil intl\n",
      "columbia dc\n",
      "singapore intl\n",
      "iceland intl\n",
      "kansas ks\n",
      "montana mt\n",
      "germany intl\n",
      "massachusetts ma\n",
      "zealand intl\n",
      "vermont vt\n",
      "pennsylvania pa\n",
      "southdakota sd\n",
      "indonesia intl\n",
      "vietnam intl\n",
      "unido intl\n",
      "west virginia wv\n",
      "alabama al\n",
      "panama intl\n",
      "lauderdale fl\n"
     ]
    }
   ],
   "source": [
    "for k, v in replace_states.iteritems():\n",
    "    print (k, v)"
   ]
  },
  {
   "cell_type": "code",
   "execution_count": 265,
   "metadata": {
    "collapsed": false
   },
   "outputs": [
    {
     "data": {
      "text/plain": [
       "location\n",
       "prague, the capital, czech republic    7\n",
       "slovak republic                        3\n",
       "dtype: int64"
      ]
     },
     "execution_count": 265,
     "metadata": {},
     "output_type": "execute_result"
    }
   ],
   "source": [
    "df[df['state'] =='republic'].groupby('location').size()"
   ]
  },
  {
   "cell_type": "code",
   "execution_count": 254,
   "metadata": {
    "collapsed": true
   },
   "outputs": [
    {
     "data": {
      "text/html": [
       "<div>\n",
       "<table border=\"1\" class=\"dataframe\">\n",
       "  <thead>\n",
       "    <tr style=\"text-align: right;\">\n",
       "      <th></th>\n",
       "      <th>first_name</th>\n",
       "      <th>full_name</th>\n",
       "      <th>html</th>\n",
       "      <th>industry</th>\n",
       "      <th>location</th>\n",
       "      <th>summary</th>\n",
       "      <th>title</th>\n",
       "      <th>counter</th>\n",
       "      <th>source</th>\n",
       "      <th>full_name_fields</th>\n",
       "      <th>name_fields</th>\n",
       "      <th>gender</th>\n",
       "      <th>gender_type</th>\n",
       "      <th>gender_forced</th>\n",
       "      <th>name_counts</th>\n",
       "      <th>loc_fields</th>\n",
       "      <th>state</th>\n",
       "    </tr>\n",
       "  </thead>\n",
       "  <tbody>\n",
       "    <tr>\n",
       "      <th>1084</th>\n",
       "      <td>grace</td>\n",
       "      <td>grace caligtan</td>\n",
       "      <td>../../data/raw/2015-12-23-holyoke/graceintelli...</td>\n",
       "      <td>hospital &amp; health care</td>\n",
       "      <td>hawaiian islands</td>\n",
       "      <td>15 years of service in education and advocacy...</td>\n",
       "      <td>Women's Health and Wellness Advocate, Doula, M...</td>\n",
       "      <td>1</td>\n",
       "      <td>holyoke</td>\n",
       "      <td>['grace', 'caligtan']</td>\n",
       "      <td>2</td>\n",
       "      <td>female</td>\n",
       "      <td>female</td>\n",
       "      <td>female</td>\n",
       "      <td>5</td>\n",
       "      <td>[hawaiian, islands]</td>\n",
       "      <td>islands</td>\n",
       "    </tr>\n",
       "    <tr>\n",
       "      <th>2701</th>\n",
       "      <td>sarah</td>\n",
       "      <td>sarah laflamme</td>\n",
       "      <td>../../data/raw/2015-12-23-holyoke/sarahlaflamm...</td>\n",
       "      <td>entertainment</td>\n",
       "      <td>hawaiian islands</td>\n",
       "      <td>community college success story working hard ...</td>\n",
       "      <td>Production Assistant/Assistant Editor at WWE</td>\n",
       "      <td>1</td>\n",
       "      <td>holyoke</td>\n",
       "      <td>['sarah', 'laflamme']</td>\n",
       "      <td>2</td>\n",
       "      <td>male</td>\n",
       "      <td>female</td>\n",
       "      <td>female</td>\n",
       "      <td>44</td>\n",
       "      <td>[hawaiian, islands]</td>\n",
       "      <td>islands</td>\n",
       "    </tr>\n",
       "    <tr>\n",
       "      <th>2884</th>\n",
       "      <td>susan</td>\n",
       "      <td>susan fischerdiaz</td>\n",
       "      <td>../../data/raw/2015-12-23-holyoke/susan-fische...</td>\n",
       "      <td>broadcast media</td>\n",
       "      <td>hawaiian islands</td>\n",
       "      <td>missing</td>\n",
       "      <td>Independent Broadcast Media Professional</td>\n",
       "      <td>1</td>\n",
       "      <td>holyoke</td>\n",
       "      <td>['susan', 'fischerdiaz']</td>\n",
       "      <td>2</td>\n",
       "      <td>male</td>\n",
       "      <td>female</td>\n",
       "      <td>female</td>\n",
       "      <td>43</td>\n",
       "      <td>[hawaiian, islands]</td>\n",
       "      <td>islands</td>\n",
       "    </tr>\n",
       "    <tr>\n",
       "      <th>3568</th>\n",
       "      <td>james</td>\n",
       "      <td>james g freeman aia</td>\n",
       "      <td>../../data/raw/2015-12-25-ut-austin/jamesgfree...</td>\n",
       "      <td>architecture &amp; planning</td>\n",
       "      <td>hawaiian islands</td>\n",
       "      <td>fsc architects wins exporter of the year 2013...</td>\n",
       "      <td>Principal at FSC ARCHITECTS</td>\n",
       "      <td>1</td>\n",
       "      <td>utaustin</td>\n",
       "      <td>['james', 'g', 'freeman', 'aia']</td>\n",
       "      <td>4</td>\n",
       "      <td>male</td>\n",
       "      <td>male</td>\n",
       "      <td>male</td>\n",
       "      <td>8</td>\n",
       "      <td>[hawaiian, islands]</td>\n",
       "      <td>islands</td>\n",
       "    </tr>\n",
       "    <tr>\n",
       "      <th>5136</th>\n",
       "      <td>jack</td>\n",
       "      <td>jack gregory</td>\n",
       "      <td>../../data/raw/2015-12-24-vassar/jackhgregory....</td>\n",
       "      <td>information technology and services</td>\n",
       "      <td>hawaiian islands</td>\n",
       "      <td>sophomore in boston universitys questrom scho...</td>\n",
       "      <td>Student Consultant at Boston University Questr...</td>\n",
       "      <td>1</td>\n",
       "      <td>vassar</td>\n",
       "      <td>['jack', 'gregory']</td>\n",
       "      <td>2</td>\n",
       "      <td>male</td>\n",
       "      <td>male</td>\n",
       "      <td>male</td>\n",
       "      <td>4</td>\n",
       "      <td>[hawaiian, islands]</td>\n",
       "      <td>islands</td>\n",
       "    </tr>\n",
       "    <tr>\n",
       "      <th>6446</th>\n",
       "      <td>teviot</td>\n",
       "      <td>teviot fairservis</td>\n",
       "      <td>../../data/raw/2015-12-24-vassar/teviot-fairse...</td>\n",
       "      <td>writing and editing</td>\n",
       "      <td>hawaiian islands</td>\n",
       "      <td>i am an american woman currently living the e...</td>\n",
       "      <td>Freelance Writing and Online Teaching</td>\n",
       "      <td>1</td>\n",
       "      <td>vassar</td>\n",
       "      <td>['teviot', 'fairservis']</td>\n",
       "      <td>2</td>\n",
       "      <td>male</td>\n",
       "      <td>predicted</td>\n",
       "      <td>male</td>\n",
       "      <td>1</td>\n",
       "      <td>[hawaiian, islands]</td>\n",
       "      <td>islands</td>\n",
       "    </tr>\n",
       "    <tr>\n",
       "      <th>7892</th>\n",
       "      <td>janice</td>\n",
       "      <td>janice li</td>\n",
       "      <td>../../data/raw/2015-12-24-wellesley/janice-li-...</td>\n",
       "      <td>architecture &amp; planning</td>\n",
       "      <td>hawaiian islands</td>\n",
       "      <td>missing</td>\n",
       "      <td>Principal at Tadpole Studio</td>\n",
       "      <td>1</td>\n",
       "      <td>wellesley</td>\n",
       "      <td>['janice', 'li']</td>\n",
       "      <td>2</td>\n",
       "      <td>female</td>\n",
       "      <td>female</td>\n",
       "      <td>female</td>\n",
       "      <td>1</td>\n",
       "      <td>[hawaiian, islands]</td>\n",
       "      <td>islands</td>\n",
       "    </tr>\n",
       "    <tr>\n",
       "      <th>7951</th>\n",
       "      <td>jennifer</td>\n",
       "      <td>jennifer higaki</td>\n",
       "      <td>../../data/raw/2015-12-24-wellesley/jenniferhi...</td>\n",
       "      <td>education management</td>\n",
       "      <td>hawaiian islands</td>\n",
       "      <td>missing</td>\n",
       "      <td>Institutional Analyst at Hawaii State Departme...</td>\n",
       "      <td>1</td>\n",
       "      <td>wellesley</td>\n",
       "      <td>['jennifer', 'higaki']</td>\n",
       "      <td>2</td>\n",
       "      <td>male</td>\n",
       "      <td>female</td>\n",
       "      <td>female</td>\n",
       "      <td>29</td>\n",
       "      <td>[hawaiian, islands]</td>\n",
       "      <td>islands</td>\n",
       "    </tr>\n",
       "    <tr>\n",
       "      <th>9280</th>\n",
       "      <td>sophia</td>\n",
       "      <td>sophia namkung</td>\n",
       "      <td>../../data/raw/2015-12-24-wellesley/sophianamk...</td>\n",
       "      <td>international affairs</td>\n",
       "      <td>hawaiian islands</td>\n",
       "      <td>missing</td>\n",
       "      <td>Korean Flagship Program Flagship Fellow</td>\n",
       "      <td>1</td>\n",
       "      <td>wellesley</td>\n",
       "      <td>['sophia', 'namkung']</td>\n",
       "      <td>2</td>\n",
       "      <td>female</td>\n",
       "      <td>female</td>\n",
       "      <td>female</td>\n",
       "      <td>6</td>\n",
       "      <td>[hawaiian, islands]</td>\n",
       "      <td>islands</td>\n",
       "    </tr>\n",
       "    <tr>\n",
       "      <th>9981</th>\n",
       "      <td>chad</td>\n",
       "      <td>chad trujillo</td>\n",
       "      <td>../../data/raw/2015-12-24-caltech/chad-trujill...</td>\n",
       "      <td>research</td>\n",
       "      <td>hawaiian islands</td>\n",
       "      <td>missing</td>\n",
       "      <td>Head of Adaptive Optics at Gemini Observatory</td>\n",
       "      <td>1</td>\n",
       "      <td>caltech</td>\n",
       "      <td>['chad', 'trujillo']</td>\n",
       "      <td>2</td>\n",
       "      <td>male</td>\n",
       "      <td>male</td>\n",
       "      <td>male</td>\n",
       "      <td>3</td>\n",
       "      <td>[hawaiian, islands]</td>\n",
       "      <td>islands</td>\n",
       "    </tr>\n",
       "    <tr>\n",
       "      <th>11200</th>\n",
       "      <td>michael</td>\n",
       "      <td>michael hyson</td>\n",
       "      <td>../../data/raw/2015-12-24-caltech/michael-hyso...</td>\n",
       "      <td>research</td>\n",
       "      <td>hawaiian islands</td>\n",
       "      <td>hy tech explores the improvement of life on a...</td>\n",
       "      <td>President at Hy Tech</td>\n",
       "      <td>1</td>\n",
       "      <td>caltech</td>\n",
       "      <td>['michael', 'hyson']</td>\n",
       "      <td>2</td>\n",
       "      <td>male</td>\n",
       "      <td>male</td>\n",
       "      <td>male</td>\n",
       "      <td>40</td>\n",
       "      <td>[hawaiian, islands]</td>\n",
       "      <td>islands</td>\n",
       "    </tr>\n",
       "    <tr>\n",
       "      <th>11472</th>\n",
       "      <td>rachel</td>\n",
       "      <td>rachel baker</td>\n",
       "      <td>../../data/raw/2015-12-24-caltech/rachel-baker...</td>\n",
       "      <td>glass, ceramics &amp; concrete</td>\n",
       "      <td>hawaiian islands</td>\n",
       "      <td>missing</td>\n",
       "      <td>glass artist at Rachel's Little Glass Shack</td>\n",
       "      <td>1</td>\n",
       "      <td>caltech</td>\n",
       "      <td>['rachel', 'baker']</td>\n",
       "      <td>2</td>\n",
       "      <td>male</td>\n",
       "      <td>female</td>\n",
       "      <td>female</td>\n",
       "      <td>8</td>\n",
       "      <td>[hawaiian, islands]</td>\n",
       "      <td>islands</td>\n",
       "    </tr>\n",
       "    <tr>\n",
       "      <th>11473</th>\n",
       "      <td>rachel</td>\n",
       "      <td>rachel baker</td>\n",
       "      <td>../../data/raw/2015-12-24-caltech/rachel-baker...</td>\n",
       "      <td>arts and crafts</td>\n",
       "      <td>hawaiian islands</td>\n",
       "      <td>missing</td>\n",
       "      <td>glass artist at Rachel's Little Glass Shack</td>\n",
       "      <td>1</td>\n",
       "      <td>caltech</td>\n",
       "      <td>['rachel', 'baker']</td>\n",
       "      <td>2</td>\n",
       "      <td>male</td>\n",
       "      <td>female</td>\n",
       "      <td>female</td>\n",
       "      <td>8</td>\n",
       "      <td>[hawaiian, islands]</td>\n",
       "      <td>islands</td>\n",
       "    </tr>\n",
       "    <tr>\n",
       "      <th>15000</th>\n",
       "      <td>auey</td>\n",
       "      <td>auey e j ng</td>\n",
       "      <td>../../data/raw/2015-05-26-Washington/audreyejn...</td>\n",
       "      <td>law practice</td>\n",
       "      <td>hawaiian islands</td>\n",
       "      <td>missing</td>\n",
       "      <td>Attorney in Honolulu, Hawaii</td>\n",
       "      <td>1</td>\n",
       "      <td>huskies</td>\n",
       "      <td>['auey', 'e', 'j', 'ng']</td>\n",
       "      <td>4</td>\n",
       "      <td>male</td>\n",
       "      <td>female</td>\n",
       "      <td>female</td>\n",
       "      <td>8</td>\n",
       "      <td>[hawaiian, islands]</td>\n",
       "      <td>islands</td>\n",
       "    </tr>\n",
       "    <tr>\n",
       "      <th>15575</th>\n",
       "      <td>brenda</td>\n",
       "      <td>brenda y yun</td>\n",
       "      <td>../../data/raw/2015-05-26-Washington/byvette.html</td>\n",
       "      <td>writing and editing</td>\n",
       "      <td>hawaiian islands</td>\n",
       "      <td>missing</td>\n",
       "      <td>Writer/Editor, Teacher/Student, Traveler</td>\n",
       "      <td>1</td>\n",
       "      <td>huskies</td>\n",
       "      <td>['brenda', 'y', 'yun']</td>\n",
       "      <td>3</td>\n",
       "      <td>female</td>\n",
       "      <td>female</td>\n",
       "      <td>female</td>\n",
       "      <td>8</td>\n",
       "      <td>[hawaiian, islands]</td>\n",
       "      <td>islands</td>\n",
       "    </tr>\n",
       "    <tr>\n",
       "      <th>15810</th>\n",
       "      <td>brittney</td>\n",
       "      <td>brittney williams</td>\n",
       "      <td>../../data/raw/2015-05-26-Washington/brittneyw...</td>\n",
       "      <td>design</td>\n",
       "      <td>hawaiian islands</td>\n",
       "      <td>missing</td>\n",
       "      <td>Operations Manager di Casale Santa Brigida</td>\n",
       "      <td>1</td>\n",
       "      <td>huskies</td>\n",
       "      <td>['brittney', 'williams']</td>\n",
       "      <td>2</td>\n",
       "      <td>male</td>\n",
       "      <td>female</td>\n",
       "      <td>female</td>\n",
       "      <td>3</td>\n",
       "      <td>[hawaiian, islands]</td>\n",
       "      <td>islands</td>\n",
       "    </tr>\n",
       "    <tr>\n",
       "      <th>15897</th>\n",
       "      <td>burt</td>\n",
       "      <td>burt lum</td>\n",
       "      <td>../../data/raw/2015-05-26-Washington/bytemarks...</td>\n",
       "      <td>management consulting</td>\n",
       "      <td>hawaiian islands</td>\n",
       "      <td>missing</td>\n",
       "      <td>Executive Director at Hawaii Open Data</td>\n",
       "      <td>1</td>\n",
       "      <td>huskies</td>\n",
       "      <td>['burt', 'lum']</td>\n",
       "      <td>2</td>\n",
       "      <td>male</td>\n",
       "      <td>male</td>\n",
       "      <td>male</td>\n",
       "      <td>1</td>\n",
       "      <td>[hawaiian, islands]</td>\n",
       "      <td>islands</td>\n",
       "    </tr>\n",
       "    <tr>\n",
       "      <th>16282</th>\n",
       "      <td>chao</td>\n",
       "      <td>chao chen</td>\n",
       "      <td>../../data/raw/2015-05-26-Washington/chaolchen...</td>\n",
       "      <td>financial services</td>\n",
       "      <td>hawaiian islands</td>\n",
       "      <td>missing</td>\n",
       "      <td>Analyst</td>\n",
       "      <td>1</td>\n",
       "      <td>huskies</td>\n",
       "      <td>['chao', 'chen']</td>\n",
       "      <td>2</td>\n",
       "      <td>male</td>\n",
       "      <td>predicted</td>\n",
       "      <td>male</td>\n",
       "      <td>2</td>\n",
       "      <td>[hawaiian, islands]</td>\n",
       "      <td>islands</td>\n",
       "    </tr>\n",
       "    <tr>\n",
       "      <th>16361</th>\n",
       "      <td>chase</td>\n",
       "      <td>chase sewell</td>\n",
       "      <td>../../data/raw/2015-05-26-Washington/chasesewe...</td>\n",
       "      <td>research</td>\n",
       "      <td>heard island and mcdonald islands</td>\n",
       "      <td>missing</td>\n",
       "      <td>Freelance writer, researcher, and data analyst</td>\n",
       "      <td>1</td>\n",
       "      <td>huskies</td>\n",
       "      <td>['chase', 'sewell']</td>\n",
       "      <td>2</td>\n",
       "      <td>female</td>\n",
       "      <td>male</td>\n",
       "      <td>male</td>\n",
       "      <td>4</td>\n",
       "      <td>[heard, island, and, mcdonald, islands]</td>\n",
       "      <td>islands</td>\n",
       "    </tr>\n",
       "    <tr>\n",
       "      <th>16812</th>\n",
       "      <td>chuck</td>\n",
       "      <td>chuck collins</td>\n",
       "      <td>../../data/raw/2015-05-26-Washington/collinsch...</td>\n",
       "      <td>renewables &amp; environment</td>\n",
       "      <td>hawaiian islands</td>\n",
       "      <td>chuck has worked as a consultant and project ...</td>\n",
       "      <td>Energy Industry Consultant</td>\n",
       "      <td>1</td>\n",
       "      <td>huskies</td>\n",
       "      <td>['chuck', 'collins']</td>\n",
       "      <td>2</td>\n",
       "      <td>male</td>\n",
       "      <td>male</td>\n",
       "      <td>male</td>\n",
       "      <td>14</td>\n",
       "      <td>[hawaiian, islands]</td>\n",
       "      <td>islands</td>\n",
       "    </tr>\n",
       "    <tr>\n",
       "      <th>17384</th>\n",
       "      <td>daniel</td>\n",
       "      <td>daniel lambert</td>\n",
       "      <td>../../data/raw/2015-05-26-Washington/danieltla...</td>\n",
       "      <td>construction</td>\n",
       "      <td>hawaiian islands</td>\n",
       "      <td>general management executive with 20 years ex...</td>\n",
       "      <td>Lead Inspector &amp; Utility Manager</td>\n",
       "      <td>1</td>\n",
       "      <td>huskies</td>\n",
       "      <td>['daniel', 'lambert']</td>\n",
       "      <td>2</td>\n",
       "      <td>male</td>\n",
       "      <td>male</td>\n",
       "      <td>male</td>\n",
       "      <td>118</td>\n",
       "      <td>[hawaiian, islands]</td>\n",
       "      <td>islands</td>\n",
       "    </tr>\n",
       "    <tr>\n",
       "      <th>17821</th>\n",
       "      <td>david</td>\n",
       "      <td>david stepania</td>\n",
       "      <td>../../data/raw/2015-05-26-Washington/stepania....</td>\n",
       "      <td>internet</td>\n",
       "      <td>hawaiian islands</td>\n",
       "      <td>core competencies  startup operations product...</td>\n",
       "      <td>Enterprise Cloud, Colocation &amp; Managed Hosting...</td>\n",
       "      <td>1</td>\n",
       "      <td>huskies</td>\n",
       "      <td>['david', 'stepania']</td>\n",
       "      <td>2</td>\n",
       "      <td>male</td>\n",
       "      <td>male</td>\n",
       "      <td>male</td>\n",
       "      <td>268</td>\n",
       "      <td>[hawaiian, islands]</td>\n",
       "      <td>islands</td>\n",
       "    </tr>\n",
       "    <tr>\n",
       "      <th>18265</th>\n",
       "      <td>doug</td>\n",
       "      <td>doug allan</td>\n",
       "      <td>../../data/raw/2015-05-26-Washington/islandsig...</td>\n",
       "      <td>graphic design</td>\n",
       "      <td>hawaiian islands</td>\n",
       "      <td>coming to the sign industry from an architect...</td>\n",
       "      <td>CEO, Marketing Director, Webmaster at Island Sign</td>\n",
       "      <td>1</td>\n",
       "      <td>huskies</td>\n",
       "      <td>['doug', 'allan']</td>\n",
       "      <td>2</td>\n",
       "      <td>male</td>\n",
       "      <td>male</td>\n",
       "      <td>male</td>\n",
       "      <td>27</td>\n",
       "      <td>[hawaiian, islands]</td>\n",
       "      <td>islands</td>\n",
       "    </tr>\n",
       "    <tr>\n",
       "      <th>18514</th>\n",
       "      <td>elizabeth</td>\n",
       "      <td>elizabeth bush</td>\n",
       "      <td>../../data/raw/2015-05-26-Washington/elizabeth...</td>\n",
       "      <td>higher education</td>\n",
       "      <td>hawaiian islands</td>\n",
       "      <td>elizabeth liz bush has practiced mental healt...</td>\n",
       "      <td>Community Mental Health and Addictions Care</td>\n",
       "      <td>1</td>\n",
       "      <td>huskies</td>\n",
       "      <td>['elizabeth', 'bush']</td>\n",
       "      <td>2</td>\n",
       "      <td>male</td>\n",
       "      <td>female</td>\n",
       "      <td>female</td>\n",
       "      <td>79</td>\n",
       "      <td>[hawaiian, islands]</td>\n",
       "      <td>islands</td>\n",
       "    </tr>\n",
       "    <tr>\n",
       "      <th>19912</th>\n",
       "      <td>henry</td>\n",
       "      <td>henry smalls</td>\n",
       "      <td>../../data/raw/2015-05-26-Washington/sumomodoj...</td>\n",
       "      <td>music</td>\n",
       "      <td>hawaiian islands</td>\n",
       "      <td>missing</td>\n",
       "      <td>Founder THOTH STUDIOS PUBLISHING BMI owner and...</td>\n",
       "      <td>1</td>\n",
       "      <td>huskies</td>\n",
       "      <td>['henry', 'smalls']</td>\n",
       "      <td>2</td>\n",
       "      <td>male</td>\n",
       "      <td>male</td>\n",
       "      <td>male</td>\n",
       "      <td>8</td>\n",
       "      <td>[hawaiian, islands]</td>\n",
       "      <td>islands</td>\n",
       "    </tr>\n",
       "    <tr>\n",
       "      <th>20291</th>\n",
       "      <td>james</td>\n",
       "      <td>james petersen</td>\n",
       "      <td>../../data/raw/2015-05-26-Washington/cellodad....</td>\n",
       "      <td>education management</td>\n",
       "      <td>hawaiian islands</td>\n",
       "      <td>retired school administrator k12 experience e...</td>\n",
       "      <td>Retired School Administrator with Hawaii DOE</td>\n",
       "      <td>1</td>\n",
       "      <td>huskies</td>\n",
       "      <td>['james', 'petersen']</td>\n",
       "      <td>2</td>\n",
       "      <td>male</td>\n",
       "      <td>male</td>\n",
       "      <td>male</td>\n",
       "      <td>115</td>\n",
       "      <td>[hawaiian, islands]</td>\n",
       "      <td>islands</td>\n",
       "    </tr>\n",
       "    <tr>\n",
       "      <th>21689</th>\n",
       "      <td>john</td>\n",
       "      <td>john derrick</td>\n",
       "      <td>../../data/raw/2015-05-26-Washington/johncderr...</td>\n",
       "      <td>leisure, travel &amp; tourism</td>\n",
       "      <td>hawaiian islands</td>\n",
       "      <td>over the past two decades i have established ...</td>\n",
       "      <td>CEO at Guide of US Travel Network</td>\n",
       "      <td>1</td>\n",
       "      <td>huskies</td>\n",
       "      <td>['john', 'derrick']</td>\n",
       "      <td>2</td>\n",
       "      <td>male</td>\n",
       "      <td>male</td>\n",
       "      <td>male</td>\n",
       "      <td>203</td>\n",
       "      <td>[hawaiian, islands]</td>\n",
       "      <td>islands</td>\n",
       "    </tr>\n",
       "    <tr>\n",
       "      <th>22124</th>\n",
       "      <td>josh</td>\n",
       "      <td>josh jerman</td>\n",
       "      <td>../../data/raw/2015-05-26-Washington/joshjerma...</td>\n",
       "      <td>real estate</td>\n",
       "      <td>hawaiian islands</td>\n",
       "      <td>for nearly the past decade since entering mau...</td>\n",
       "      <td>Realtor/Broker at Hawaii Life Real Estate Brokers</td>\n",
       "      <td>1</td>\n",
       "      <td>huskies</td>\n",
       "      <td>['josh', 'jerman']</td>\n",
       "      <td>2</td>\n",
       "      <td>male</td>\n",
       "      <td>male</td>\n",
       "      <td>male</td>\n",
       "      <td>39</td>\n",
       "      <td>[hawaiian, islands]</td>\n",
       "      <td>islands</td>\n",
       "    </tr>\n",
       "    <tr>\n",
       "      <th>22933</th>\n",
       "      <td>kealapono</td>\n",
       "      <td>kealapono richardson</td>\n",
       "      <td>../../data/raw/2015-05-26-Washington/kealarich...</td>\n",
       "      <td>health, wellness and fitness</td>\n",
       "      <td>hawaiian islands</td>\n",
       "      <td>missing</td>\n",
       "      <td>Targeted Medical Pharma</td>\n",
       "      <td>1</td>\n",
       "      <td>huskies</td>\n",
       "      <td>['kealapono', 'richardson']</td>\n",
       "      <td>2</td>\n",
       "      <td>male</td>\n",
       "      <td>predicted</td>\n",
       "      <td>male</td>\n",
       "      <td>1</td>\n",
       "      <td>[hawaiian, islands]</td>\n",
       "      <td>islands</td>\n",
       "    </tr>\n",
       "    <tr>\n",
       "      <th>25489</th>\n",
       "      <td>melissa</td>\n",
       "      <td>melissa pang</td>\n",
       "      <td>../../data/raw/2015-05-26-Washington/melissapa...</td>\n",
       "      <td>medical practice</td>\n",
       "      <td>hawaiian islands</td>\n",
       "      <td>certified hand therapist certified kinesio ta...</td>\n",
       "      <td>Occupational Therapist at Straub Clinic and Ho...</td>\n",
       "      <td>1</td>\n",
       "      <td>huskies</td>\n",
       "      <td>['melissa', 'pang']</td>\n",
       "      <td>2</td>\n",
       "      <td>female</td>\n",
       "      <td>female</td>\n",
       "      <td>female</td>\n",
       "      <td>43</td>\n",
       "      <td>[hawaiian, islands]</td>\n",
       "      <td>islands</td>\n",
       "    </tr>\n",
       "    <tr>\n",
       "      <th>25619</th>\n",
       "      <td>michael</td>\n",
       "      <td>michael olsen</td>\n",
       "      <td>../../data/raw/2015-05-26-Washington/mgolsen.html</td>\n",
       "      <td>investment management</td>\n",
       "      <td>hawaiian islands</td>\n",
       "      <td>specialtieslarge creative capacity negotiatin...</td>\n",
       "      <td>...</td>\n",
       "      <td>1</td>\n",
       "      <td>huskies</td>\n",
       "      <td>['michael', 'olsen']</td>\n",
       "      <td>2</td>\n",
       "      <td>male</td>\n",
       "      <td>male</td>\n",
       "      <td>male</td>\n",
       "      <td>288</td>\n",
       "      <td>[hawaiian, islands]</td>\n",
       "      <td>islands</td>\n",
       "    </tr>\n",
       "    <tr>\n",
       "      <th>26758</th>\n",
       "      <td>noriko</td>\n",
       "      <td>noriko shoji</td>\n",
       "      <td>../../data/raw/2015-05-26-Washington/nshoji.html</td>\n",
       "      <td>environmental services</td>\n",
       "      <td>hawaiian islands</td>\n",
       "      <td>missing</td>\n",
       "      <td>missing</td>\n",
       "      <td>1</td>\n",
       "      <td>huskies</td>\n",
       "      <td>['noriko', 'shoji']</td>\n",
       "      <td>2</td>\n",
       "      <td>female</td>\n",
       "      <td>predicted</td>\n",
       "      <td>female</td>\n",
       "      <td>1</td>\n",
       "      <td>[hawaiian, islands]</td>\n",
       "      <td>islands</td>\n",
       "    </tr>\n",
       "    <tr>\n",
       "      <th>27031</th>\n",
       "      <td>paul</td>\n",
       "      <td>paul matsuda</td>\n",
       "      <td>../../data/raw/2015-05-26-Washington/paulmatsu...</td>\n",
       "      <td>civil engineering</td>\n",
       "      <td>hawaiian islands</td>\n",
       "      <td>missing</td>\n",
       "      <td>Principal, Group 70 International</td>\n",
       "      <td>1</td>\n",
       "      <td>huskies</td>\n",
       "      <td>['paul', 'matsuda']</td>\n",
       "      <td>2</td>\n",
       "      <td>male</td>\n",
       "      <td>male</td>\n",
       "      <td>male</td>\n",
       "      <td>96</td>\n",
       "      <td>[hawaiian, islands]</td>\n",
       "      <td>islands</td>\n",
       "    </tr>\n",
       "    <tr>\n",
       "      <th>27651</th>\n",
       "      <td>rebecca</td>\n",
       "      <td>rebecca copeland</td>\n",
       "      <td>../../data/raw/2015-05-26-Washington/recordona...</td>\n",
       "      <td>legal services</td>\n",
       "      <td>hawaiian islands</td>\n",
       "      <td>i am an appellate attorney based in honolulu ...</td>\n",
       "      <td>Appellate Attorney</td>\n",
       "      <td>1</td>\n",
       "      <td>huskies</td>\n",
       "      <td>['rebecca', 'copeland']</td>\n",
       "      <td>2</td>\n",
       "      <td>female</td>\n",
       "      <td>female</td>\n",
       "      <td>female</td>\n",
       "      <td>54</td>\n",
       "      <td>[hawaiian, islands]</td>\n",
       "      <td>islands</td>\n",
       "    </tr>\n",
       "    <tr>\n",
       "      <th>28053</th>\n",
       "      <td>robert</td>\n",
       "      <td>robert w dunn</td>\n",
       "      <td>../../data/raw/2015-05-26-Washington/robertwdu...</td>\n",
       "      <td>information technology and services</td>\n",
       "      <td>hawaiian islands</td>\n",
       "      <td>in the role of president emeritus mr dunn con...</td>\n",
       "      <td>\"President Emeritus\" of MagnumPM Hawaii, LLC</td>\n",
       "      <td>1</td>\n",
       "      <td>huskies</td>\n",
       "      <td>['robert', 'w', 'dunn']</td>\n",
       "      <td>3</td>\n",
       "      <td>male</td>\n",
       "      <td>male</td>\n",
       "      <td>male</td>\n",
       "      <td>133</td>\n",
       "      <td>[hawaiian, islands]</td>\n",
       "      <td>islands</td>\n",
       "    </tr>\n",
       "    <tr>\n",
       "      <th>28186</th>\n",
       "      <td>ron</td>\n",
       "      <td>ron klapperich csp chst</td>\n",
       "      <td>../../data/raw/2015-05-26-Washington/ronklappe...</td>\n",
       "      <td>insurance</td>\n",
       "      <td>hawaiian islands</td>\n",
       "      <td>dedicated and resultsoriented professional wi...</td>\n",
       "      <td>Loss Prevention Consultant at HEMIC</td>\n",
       "      <td>1</td>\n",
       "      <td>huskies</td>\n",
       "      <td>['ron', 'klapperich', 'csp', 'chst']</td>\n",
       "      <td>4</td>\n",
       "      <td>male</td>\n",
       "      <td>male</td>\n",
       "      <td>male</td>\n",
       "      <td>21</td>\n",
       "      <td>[hawaiian, islands]</td>\n",
       "      <td>islands</td>\n",
       "    </tr>\n",
       "    <tr>\n",
       "      <th>28444</th>\n",
       "      <td>salina</td>\n",
       "      <td>salina storozuk</td>\n",
       "      <td>../../data/raw/2015-05-26-Washington/salinasto...</td>\n",
       "      <td>health, wellness and fitness</td>\n",
       "      <td>hawaiian islands</td>\n",
       "      <td>salina storozuk is a meditation and yoga teac...</td>\n",
       "      <td>Owner at Flo Yoga Hawaii LLC</td>\n",
       "      <td>1</td>\n",
       "      <td>huskies</td>\n",
       "      <td>['salina', 'storozuk']</td>\n",
       "      <td>2</td>\n",
       "      <td>female</td>\n",
       "      <td>predicted</td>\n",
       "      <td>female</td>\n",
       "      <td>1</td>\n",
       "      <td>[hawaiian, islands]</td>\n",
       "      <td>islands</td>\n",
       "    </tr>\n",
       "    <tr>\n",
       "      <th>28615</th>\n",
       "      <td>sara</td>\n",
       "      <td>sara santos</td>\n",
       "      <td>../../data/raw/2015-05-26-Washington/sarahsant...</td>\n",
       "      <td>leisure, travel &amp; tourism</td>\n",
       "      <td>cayman islands</td>\n",
       "      <td>travel industry professional cayman brac beac...</td>\n",
       "      <td>Cayman Brac Beach Villas</td>\n",
       "      <td>1</td>\n",
       "      <td>huskies</td>\n",
       "      <td>['sara', 'santos']</td>\n",
       "      <td>2</td>\n",
       "      <td>female</td>\n",
       "      <td>female</td>\n",
       "      <td>female</td>\n",
       "      <td>48</td>\n",
       "      <td>[cayman, islands]</td>\n",
       "      <td>islands</td>\n",
       "    </tr>\n",
       "    <tr>\n",
       "      <th>29320</th>\n",
       "      <td>sonia</td>\n",
       "      <td>sonia j rowley</td>\n",
       "      <td>../../data/raw/2015-05-26-Washington/soniajrow...</td>\n",
       "      <td>higher education</td>\n",
       "      <td>hawaiian islands</td>\n",
       "      <td>missing</td>\n",
       "      <td>Postdoctoral Research Associate</td>\n",
       "      <td>1</td>\n",
       "      <td>huskies</td>\n",
       "      <td>['sonia', 'j', 'rowley']</td>\n",
       "      <td>3</td>\n",
       "      <td>female</td>\n",
       "      <td>female</td>\n",
       "      <td>female</td>\n",
       "      <td>7</td>\n",
       "      <td>[hawaiian, islands]</td>\n",
       "      <td>islands</td>\n",
       "    </tr>\n",
       "    <tr>\n",
       "      <th>30444</th>\n",
       "      <td>todd</td>\n",
       "      <td>todd vines</td>\n",
       "      <td>../../data/raw/2015-05-26-Washington/toddvines...</td>\n",
       "      <td>marketing and advertising</td>\n",
       "      <td>hawaiian islands</td>\n",
       "      <td>specialties  community building  brand identi...</td>\n",
       "      <td>Marketing Director at Queen Ka'ahumanu Center ...</td>\n",
       "      <td>1</td>\n",
       "      <td>huskies</td>\n",
       "      <td>['todd', 'vines']</td>\n",
       "      <td>2</td>\n",
       "      <td>male</td>\n",
       "      <td>male</td>\n",
       "      <td>male</td>\n",
       "      <td>20</td>\n",
       "      <td>[hawaiian, islands]</td>\n",
       "      <td>islands</td>\n",
       "    </tr>\n",
       "    <tr>\n",
       "      <th>31165</th>\n",
       "      <td>wing</td>\n",
       "      <td>wing fong</td>\n",
       "      <td>../../data/raw/2015-05-26-Washington/wingfong....</td>\n",
       "      <td>design</td>\n",
       "      <td>hawaiian islands</td>\n",
       "      <td>missing</td>\n",
       "      <td>Exhibit and Graphics Manager at National Tropi...</td>\n",
       "      <td>1</td>\n",
       "      <td>huskies</td>\n",
       "      <td>['wing', 'fong']</td>\n",
       "      <td>2</td>\n",
       "      <td>male</td>\n",
       "      <td>predicted</td>\n",
       "      <td>male</td>\n",
       "      <td>1</td>\n",
       "      <td>[hawaiian, islands]</td>\n",
       "      <td>islands</td>\n",
       "    </tr>\n",
       "    <tr>\n",
       "      <th>31337</th>\n",
       "      <td>yvonne</td>\n",
       "      <td>yvonne chapman</td>\n",
       "      <td>../../data/raw/2015-05-26-Washington/yvonnedes...</td>\n",
       "      <td>design</td>\n",
       "      <td>hawaiian islands</td>\n",
       "      <td>missing</td>\n",
       "      <td>Creative Director/Designer at Yvonne Design</td>\n",
       "      <td>1</td>\n",
       "      <td>huskies</td>\n",
       "      <td>['yvonne', 'chapman']</td>\n",
       "      <td>2</td>\n",
       "      <td>female</td>\n",
       "      <td>female</td>\n",
       "      <td>female</td>\n",
       "      <td>4</td>\n",
       "      <td>[hawaiian, islands]</td>\n",
       "      <td>islands</td>\n",
       "    </tr>\n",
       "  </tbody>\n",
       "</table>\n",
       "</div>"
      ],
      "text/plain": [
       "      first_name                full_name  \\\n",
       "1084       grace           grace caligtan   \n",
       "2701       sarah           sarah laflamme   \n",
       "2884       susan        susan fischerdiaz   \n",
       "3568       james      james g freeman aia   \n",
       "5136        jack             jack gregory   \n",
       "6446      teviot        teviot fairservis   \n",
       "7892      janice                janice li   \n",
       "7951    jennifer          jennifer higaki   \n",
       "9280      sophia           sophia namkung   \n",
       "9981        chad            chad trujillo   \n",
       "11200    michael            michael hyson   \n",
       "11472     rachel             rachel baker   \n",
       "11473     rachel             rachel baker   \n",
       "15000       auey              auey e j ng   \n",
       "15575     brenda             brenda y yun   \n",
       "15810   brittney        brittney williams   \n",
       "15897       burt                 burt lum   \n",
       "16282       chao                chao chen   \n",
       "16361      chase             chase sewell   \n",
       "16812      chuck            chuck collins   \n",
       "17384     daniel           daniel lambert   \n",
       "17821      david           david stepania   \n",
       "18265       doug               doug allan   \n",
       "18514  elizabeth           elizabeth bush   \n",
       "19912      henry             henry smalls   \n",
       "20291      james           james petersen   \n",
       "21689       john             john derrick   \n",
       "22124       josh              josh jerman   \n",
       "22933  kealapono     kealapono richardson   \n",
       "25489    melissa             melissa pang   \n",
       "25619    michael            michael olsen   \n",
       "26758     noriko             noriko shoji   \n",
       "27031       paul             paul matsuda   \n",
       "27651    rebecca         rebecca copeland   \n",
       "28053     robert            robert w dunn   \n",
       "28186        ron  ron klapperich csp chst   \n",
       "28444     salina          salina storozuk   \n",
       "28615       sara              sara santos   \n",
       "29320      sonia           sonia j rowley   \n",
       "30444       todd               todd vines   \n",
       "31165       wing                wing fong   \n",
       "31337     yvonne           yvonne chapman   \n",
       "\n",
       "                                                    html  \\\n",
       "1084   ../../data/raw/2015-12-23-holyoke/graceintelli...   \n",
       "2701   ../../data/raw/2015-12-23-holyoke/sarahlaflamm...   \n",
       "2884   ../../data/raw/2015-12-23-holyoke/susan-fische...   \n",
       "3568   ../../data/raw/2015-12-25-ut-austin/jamesgfree...   \n",
       "5136   ../../data/raw/2015-12-24-vassar/jackhgregory....   \n",
       "6446   ../../data/raw/2015-12-24-vassar/teviot-fairse...   \n",
       "7892   ../../data/raw/2015-12-24-wellesley/janice-li-...   \n",
       "7951   ../../data/raw/2015-12-24-wellesley/jenniferhi...   \n",
       "9280   ../../data/raw/2015-12-24-wellesley/sophianamk...   \n",
       "9981   ../../data/raw/2015-12-24-caltech/chad-trujill...   \n",
       "11200  ../../data/raw/2015-12-24-caltech/michael-hyso...   \n",
       "11472  ../../data/raw/2015-12-24-caltech/rachel-baker...   \n",
       "11473  ../../data/raw/2015-12-24-caltech/rachel-baker...   \n",
       "15000  ../../data/raw/2015-05-26-Washington/audreyejn...   \n",
       "15575  ../../data/raw/2015-05-26-Washington/byvette.html   \n",
       "15810  ../../data/raw/2015-05-26-Washington/brittneyw...   \n",
       "15897  ../../data/raw/2015-05-26-Washington/bytemarks...   \n",
       "16282  ../../data/raw/2015-05-26-Washington/chaolchen...   \n",
       "16361  ../../data/raw/2015-05-26-Washington/chasesewe...   \n",
       "16812  ../../data/raw/2015-05-26-Washington/collinsch...   \n",
       "17384  ../../data/raw/2015-05-26-Washington/danieltla...   \n",
       "17821  ../../data/raw/2015-05-26-Washington/stepania....   \n",
       "18265  ../../data/raw/2015-05-26-Washington/islandsig...   \n",
       "18514  ../../data/raw/2015-05-26-Washington/elizabeth...   \n",
       "19912  ../../data/raw/2015-05-26-Washington/sumomodoj...   \n",
       "20291  ../../data/raw/2015-05-26-Washington/cellodad....   \n",
       "21689  ../../data/raw/2015-05-26-Washington/johncderr...   \n",
       "22124  ../../data/raw/2015-05-26-Washington/joshjerma...   \n",
       "22933  ../../data/raw/2015-05-26-Washington/kealarich...   \n",
       "25489  ../../data/raw/2015-05-26-Washington/melissapa...   \n",
       "25619  ../../data/raw/2015-05-26-Washington/mgolsen.html   \n",
       "26758   ../../data/raw/2015-05-26-Washington/nshoji.html   \n",
       "27031  ../../data/raw/2015-05-26-Washington/paulmatsu...   \n",
       "27651  ../../data/raw/2015-05-26-Washington/recordona...   \n",
       "28053  ../../data/raw/2015-05-26-Washington/robertwdu...   \n",
       "28186  ../../data/raw/2015-05-26-Washington/ronklappe...   \n",
       "28444  ../../data/raw/2015-05-26-Washington/salinasto...   \n",
       "28615  ../../data/raw/2015-05-26-Washington/sarahsant...   \n",
       "29320  ../../data/raw/2015-05-26-Washington/soniajrow...   \n",
       "30444  ../../data/raw/2015-05-26-Washington/toddvines...   \n",
       "31165  ../../data/raw/2015-05-26-Washington/wingfong....   \n",
       "31337  ../../data/raw/2015-05-26-Washington/yvonnedes...   \n",
       "\n",
       "                                  industry                           location  \\\n",
       "1084                hospital & health care                   hawaiian islands   \n",
       "2701                         entertainment                   hawaiian islands   \n",
       "2884                       broadcast media                   hawaiian islands   \n",
       "3568               architecture & planning                   hawaiian islands   \n",
       "5136   information technology and services                   hawaiian islands   \n",
       "6446                   writing and editing                   hawaiian islands   \n",
       "7892               architecture & planning                   hawaiian islands   \n",
       "7951                  education management                   hawaiian islands   \n",
       "9280                 international affairs                   hawaiian islands   \n",
       "9981                              research                   hawaiian islands   \n",
       "11200                             research                   hawaiian islands   \n",
       "11472           glass, ceramics & concrete                   hawaiian islands   \n",
       "11473                      arts and crafts                   hawaiian islands   \n",
       "15000                         law practice                   hawaiian islands   \n",
       "15575                  writing and editing                   hawaiian islands   \n",
       "15810                               design                   hawaiian islands   \n",
       "15897                management consulting                   hawaiian islands   \n",
       "16282                   financial services                   hawaiian islands   \n",
       "16361                             research  heard island and mcdonald islands   \n",
       "16812             renewables & environment                   hawaiian islands   \n",
       "17384                         construction                   hawaiian islands   \n",
       "17821                             internet                   hawaiian islands   \n",
       "18265                       graphic design                   hawaiian islands   \n",
       "18514                     higher education                   hawaiian islands   \n",
       "19912                                music                   hawaiian islands   \n",
       "20291                 education management                   hawaiian islands   \n",
       "21689            leisure, travel & tourism                   hawaiian islands   \n",
       "22124                          real estate                   hawaiian islands   \n",
       "22933         health, wellness and fitness                   hawaiian islands   \n",
       "25489                     medical practice                   hawaiian islands   \n",
       "25619                investment management                   hawaiian islands   \n",
       "26758               environmental services                   hawaiian islands   \n",
       "27031                    civil engineering                   hawaiian islands   \n",
       "27651                       legal services                   hawaiian islands   \n",
       "28053  information technology and services                   hawaiian islands   \n",
       "28186                            insurance                   hawaiian islands   \n",
       "28444         health, wellness and fitness                   hawaiian islands   \n",
       "28615            leisure, travel & tourism                     cayman islands   \n",
       "29320                     higher education                   hawaiian islands   \n",
       "30444            marketing and advertising                   hawaiian islands   \n",
       "31165                               design                   hawaiian islands   \n",
       "31337                               design                   hawaiian islands   \n",
       "\n",
       "                                                 summary  \\\n",
       "1084    15 years of service in education and advocacy...   \n",
       "2701    community college success story working hard ...   \n",
       "2884                                             missing   \n",
       "3568    fsc architects wins exporter of the year 2013...   \n",
       "5136    sophomore in boston universitys questrom scho...   \n",
       "6446    i am an american woman currently living the e...   \n",
       "7892                                             missing   \n",
       "7951                                             missing   \n",
       "9280                                             missing   \n",
       "9981                                             missing   \n",
       "11200   hy tech explores the improvement of life on a...   \n",
       "11472                                            missing   \n",
       "11473                                            missing   \n",
       "15000                                            missing   \n",
       "15575                                            missing   \n",
       "15810                                            missing   \n",
       "15897                                            missing   \n",
       "16282                                            missing   \n",
       "16361                                            missing   \n",
       "16812   chuck has worked as a consultant and project ...   \n",
       "17384   general management executive with 20 years ex...   \n",
       "17821   core competencies  startup operations product...   \n",
       "18265   coming to the sign industry from an architect...   \n",
       "18514   elizabeth liz bush has practiced mental healt...   \n",
       "19912                                            missing   \n",
       "20291   retired school administrator k12 experience e...   \n",
       "21689   over the past two decades i have established ...   \n",
       "22124   for nearly the past decade since entering mau...   \n",
       "22933                                            missing   \n",
       "25489   certified hand therapist certified kinesio ta...   \n",
       "25619   specialtieslarge creative capacity negotiatin...   \n",
       "26758                                            missing   \n",
       "27031                                            missing   \n",
       "27651   i am an appellate attorney based in honolulu ...   \n",
       "28053   in the role of president emeritus mr dunn con...   \n",
       "28186   dedicated and resultsoriented professional wi...   \n",
       "28444   salina storozuk is a meditation and yoga teac...   \n",
       "28615   travel industry professional cayman brac beac...   \n",
       "29320                                            missing   \n",
       "30444   specialties  community building  brand identi...   \n",
       "31165                                            missing   \n",
       "31337                                            missing   \n",
       "\n",
       "                                                   title  counter     source  \\\n",
       "1084   Women's Health and Wellness Advocate, Doula, M...        1    holyoke   \n",
       "2701        Production Assistant/Assistant Editor at WWE        1    holyoke   \n",
       "2884            Independent Broadcast Media Professional        1    holyoke   \n",
       "3568                         Principal at FSC ARCHITECTS        1   utaustin   \n",
       "5136   Student Consultant at Boston University Questr...        1     vassar   \n",
       "6446               Freelance Writing and Online Teaching        1     vassar   \n",
       "7892                         Principal at Tadpole Studio        1  wellesley   \n",
       "7951   Institutional Analyst at Hawaii State Departme...        1  wellesley   \n",
       "9280             Korean Flagship Program Flagship Fellow        1  wellesley   \n",
       "9981       Head of Adaptive Optics at Gemini Observatory        1    caltech   \n",
       "11200                               President at Hy Tech        1    caltech   \n",
       "11472        glass artist at Rachel's Little Glass Shack        1    caltech   \n",
       "11473        glass artist at Rachel's Little Glass Shack        1    caltech   \n",
       "15000                       Attorney in Honolulu, Hawaii        1    huskies   \n",
       "15575           Writer/Editor, Teacher/Student, Traveler        1    huskies   \n",
       "15810         Operations Manager di Casale Santa Brigida        1    huskies   \n",
       "15897             Executive Director at Hawaii Open Data        1    huskies   \n",
       "16282                                            Analyst        1    huskies   \n",
       "16361     Freelance writer, researcher, and data analyst        1    huskies   \n",
       "16812                         Energy Industry Consultant        1    huskies   \n",
       "17384                   Lead Inspector & Utility Manager        1    huskies   \n",
       "17821  Enterprise Cloud, Colocation & Managed Hosting...        1    huskies   \n",
       "18265  CEO, Marketing Director, Webmaster at Island Sign        1    huskies   \n",
       "18514        Community Mental Health and Addictions Care        1    huskies   \n",
       "19912  Founder THOTH STUDIOS PUBLISHING BMI owner and...        1    huskies   \n",
       "20291       Retired School Administrator with Hawaii DOE        1    huskies   \n",
       "21689                  CEO at Guide of US Travel Network        1    huskies   \n",
       "22124  Realtor/Broker at Hawaii Life Real Estate Brokers        1    huskies   \n",
       "22933                            Targeted Medical Pharma        1    huskies   \n",
       "25489  Occupational Therapist at Straub Clinic and Ho...        1    huskies   \n",
       "25619                                                ...        1    huskies   \n",
       "26758                                            missing        1    huskies   \n",
       "27031                  Principal, Group 70 International        1    huskies   \n",
       "27651                                 Appellate Attorney        1    huskies   \n",
       "28053       \"President Emeritus\" of MagnumPM Hawaii, LLC        1    huskies   \n",
       "28186                Loss Prevention Consultant at HEMIC        1    huskies   \n",
       "28444                       Owner at Flo Yoga Hawaii LLC        1    huskies   \n",
       "28615                           Cayman Brac Beach Villas        1    huskies   \n",
       "29320                    Postdoctoral Research Associate        1    huskies   \n",
       "30444  Marketing Director at Queen Ka'ahumanu Center ...        1    huskies   \n",
       "31165  Exhibit and Graphics Manager at National Tropi...        1    huskies   \n",
       "31337        Creative Director/Designer at Yvonne Design        1    huskies   \n",
       "\n",
       "                           full_name_fields  name_fields  gender gender_type  \\\n",
       "1084                  ['grace', 'caligtan']            2  female      female   \n",
       "2701                  ['sarah', 'laflamme']            2    male      female   \n",
       "2884               ['susan', 'fischerdiaz']            2    male      female   \n",
       "3568       ['james', 'g', 'freeman', 'aia']            4    male        male   \n",
       "5136                    ['jack', 'gregory']            2    male        male   \n",
       "6446               ['teviot', 'fairservis']            2    male   predicted   \n",
       "7892                       ['janice', 'li']            2  female      female   \n",
       "7951                 ['jennifer', 'higaki']            2    male      female   \n",
       "9280                  ['sophia', 'namkung']            2  female      female   \n",
       "9981                   ['chad', 'trujillo']            2    male        male   \n",
       "11200                  ['michael', 'hyson']            2    male        male   \n",
       "11472                   ['rachel', 'baker']            2    male      female   \n",
       "11473                   ['rachel', 'baker']            2    male      female   \n",
       "15000              ['auey', 'e', 'j', 'ng']            4    male      female   \n",
       "15575                ['brenda', 'y', 'yun']            3  female      female   \n",
       "15810              ['brittney', 'williams']            2    male      female   \n",
       "15897                       ['burt', 'lum']            2    male        male   \n",
       "16282                      ['chao', 'chen']            2    male   predicted   \n",
       "16361                   ['chase', 'sewell']            2  female        male   \n",
       "16812                  ['chuck', 'collins']            2    male        male   \n",
       "17384                 ['daniel', 'lambert']            2    male        male   \n",
       "17821                 ['david', 'stepania']            2    male        male   \n",
       "18265                     ['doug', 'allan']            2    male        male   \n",
       "18514                 ['elizabeth', 'bush']            2    male      female   \n",
       "19912                   ['henry', 'smalls']            2    male        male   \n",
       "20291                 ['james', 'petersen']            2    male        male   \n",
       "21689                   ['john', 'derrick']            2    male        male   \n",
       "22124                    ['josh', 'jerman']            2    male        male   \n",
       "22933           ['kealapono', 'richardson']            2    male   predicted   \n",
       "25489                   ['melissa', 'pang']            2  female      female   \n",
       "25619                  ['michael', 'olsen']            2    male        male   \n",
       "26758                   ['noriko', 'shoji']            2  female   predicted   \n",
       "27031                   ['paul', 'matsuda']            2    male        male   \n",
       "27651               ['rebecca', 'copeland']            2  female      female   \n",
       "28053               ['robert', 'w', 'dunn']            3    male        male   \n",
       "28186  ['ron', 'klapperich', 'csp', 'chst']            4    male        male   \n",
       "28444                ['salina', 'storozuk']            2  female   predicted   \n",
       "28615                    ['sara', 'santos']            2  female      female   \n",
       "29320              ['sonia', 'j', 'rowley']            3  female      female   \n",
       "30444                     ['todd', 'vines']            2    male        male   \n",
       "31165                      ['wing', 'fong']            2    male   predicted   \n",
       "31337                 ['yvonne', 'chapman']            2  female      female   \n",
       "\n",
       "      gender_forced  name_counts                               loc_fields  \\\n",
       "1084         female            5                      [hawaiian, islands]   \n",
       "2701         female           44                      [hawaiian, islands]   \n",
       "2884         female           43                      [hawaiian, islands]   \n",
       "3568           male            8                      [hawaiian, islands]   \n",
       "5136           male            4                      [hawaiian, islands]   \n",
       "6446           male            1                      [hawaiian, islands]   \n",
       "7892         female            1                      [hawaiian, islands]   \n",
       "7951         female           29                      [hawaiian, islands]   \n",
       "9280         female            6                      [hawaiian, islands]   \n",
       "9981           male            3                      [hawaiian, islands]   \n",
       "11200          male           40                      [hawaiian, islands]   \n",
       "11472        female            8                      [hawaiian, islands]   \n",
       "11473        female            8                      [hawaiian, islands]   \n",
       "15000        female            8                      [hawaiian, islands]   \n",
       "15575        female            8                      [hawaiian, islands]   \n",
       "15810        female            3                      [hawaiian, islands]   \n",
       "15897          male            1                      [hawaiian, islands]   \n",
       "16282          male            2                      [hawaiian, islands]   \n",
       "16361          male            4  [heard, island, and, mcdonald, islands]   \n",
       "16812          male           14                      [hawaiian, islands]   \n",
       "17384          male          118                      [hawaiian, islands]   \n",
       "17821          male          268                      [hawaiian, islands]   \n",
       "18265          male           27                      [hawaiian, islands]   \n",
       "18514        female           79                      [hawaiian, islands]   \n",
       "19912          male            8                      [hawaiian, islands]   \n",
       "20291          male          115                      [hawaiian, islands]   \n",
       "21689          male          203                      [hawaiian, islands]   \n",
       "22124          male           39                      [hawaiian, islands]   \n",
       "22933          male            1                      [hawaiian, islands]   \n",
       "25489        female           43                      [hawaiian, islands]   \n",
       "25619          male          288                      [hawaiian, islands]   \n",
       "26758        female            1                      [hawaiian, islands]   \n",
       "27031          male           96                      [hawaiian, islands]   \n",
       "27651        female           54                      [hawaiian, islands]   \n",
       "28053          male          133                      [hawaiian, islands]   \n",
       "28186          male           21                      [hawaiian, islands]   \n",
       "28444        female            1                      [hawaiian, islands]   \n",
       "28615        female           48                        [cayman, islands]   \n",
       "29320        female            7                      [hawaiian, islands]   \n",
       "30444          male           20                      [hawaiian, islands]   \n",
       "31165          male            1                      [hawaiian, islands]   \n",
       "31337        female            4                      [hawaiian, islands]   \n",
       "\n",
       "         state  \n",
       "1084   islands  \n",
       "2701   islands  \n",
       "2884   islands  \n",
       "3568   islands  \n",
       "5136   islands  \n",
       "6446   islands  \n",
       "7892   islands  \n",
       "7951   islands  \n",
       "9280   islands  \n",
       "9981   islands  \n",
       "11200  islands  \n",
       "11472  islands  \n",
       "11473  islands  \n",
       "15000  islands  \n",
       "15575  islands  \n",
       "15810  islands  \n",
       "15897  islands  \n",
       "16282  islands  \n",
       "16361  islands  \n",
       "16812  islands  \n",
       "17384  islands  \n",
       "17821  islands  \n",
       "18265  islands  \n",
       "18514  islands  \n",
       "19912  islands  \n",
       "20291  islands  \n",
       "21689  islands  \n",
       "22124  islands  \n",
       "22933  islands  \n",
       "25489  islands  \n",
       "25619  islands  \n",
       "26758  islands  \n",
       "27031  islands  \n",
       "27651  islands  \n",
       "28053  islands  \n",
       "28186  islands  \n",
       "28444  islands  \n",
       "28615  islands  \n",
       "29320  islands  \n",
       "30444  islands  \n",
       "31165  islands  \n",
       "31337  islands  "
      ]
     },
     "execution_count": 254,
     "metadata": {},
     "output_type": "execute_result"
    }
   ],
   "source": [
    "df[df['state'] =='islands']\n"
   ]
  },
  {
   "cell_type": "code",
   "execution_count": 316,
   "metadata": {
    "collapsed": false
   },
   "outputs": [],
   "source": [
    "df['industry'] = df['industry'].apply(lambda x: strip_punc(x))"
   ]
  },
  {
   "cell_type": "code",
   "execution_count": null,
   "metadata": {
    "collapsed": true
   },
   "outputs": [],
   "source": []
  },
  {
   "cell_type": "code",
   "execution_count": 46,
   "metadata": {
    "collapsed": false
   },
   "outputs": [
    {
     "data": {
      "text/plain": [
       "source\n",
       "caltech       42\n",
       "gatech        19\n",
       "holyoke      147\n",
       "huskies      328\n",
       "utaustin      32\n",
       "vassar       104\n",
       "wellesley    102\n",
       "dtype: int64"
      ]
     },
     "execution_count": 46,
     "metadata": {},
     "output_type": "execute_result"
    }
   ],
   "source": [
    "df[df['industry'] == 'education management'].groupby('source').size()"
   ]
  },
  {
   "cell_type": "code",
   "execution_count": 329,
   "metadata": {
    "collapsed": false
   },
   "outputs": [],
   "source": [
    "industries = df.industry.value_counts()"
   ]
  },
  {
   "cell_type": "code",
   "execution_count": 328,
   "metadata": {
    "collapsed": false
   },
   "outputs": [
    {
     "data": {
      "text/plain": [
       "Int64Index([    0,     1,     2,     3,     4,     5,     6,     7,     8,\n",
       "                9,\n",
       "            ...\n",
       "            31405, 31406, 31407, 31408, 31409, 31410, 31411, 31412, 31413,\n",
       "            31414],\n",
       "           dtype='int64', length=31415)"
      ]
     },
     "execution_count": 328,
     "metadata": {},
     "output_type": "execute_result"
    }
   ],
   "source": []
  },
  {
   "cell_type": "code",
   "execution_count": 318,
   "metadata": {
    "collapsed": true
   },
   "outputs": [],
   "source": [
    "industries.to_csv('industries')"
   ]
  },
  {
   "cell_type": "code",
   "execution_count": 330,
   "metadata": {
    "collapsed": false
   },
   "outputs": [],
   "source": [
    "inds = industries.index.tolist()"
   ]
  },
  {
   "cell_type": "code",
   "execution_count": 331,
   "metadata": {
    "collapsed": false
   },
   "outputs": [
    {
     "data": {
      "text/plain": [
       "['higher education',\n",
       " 'research',\n",
       " 'computer software',\n",
       " 'information technology and services',\n",
       " 'hospital   health care',\n",
       " 'missing',\n",
       " 'marketing and advertising',\n",
       " 'financial services',\n",
       " 'education management',\n",
       " 'nonprofit organization management',\n",
       " 'law practice',\n",
       " 'writing and editing',\n",
       " 'management consulting',\n",
       " 'internet',\n",
       " 'biotechnology',\n",
       " 'environmental services',\n",
       " 'accounting',\n",
       " 'design',\n",
       " 'architecture   planning',\n",
       " 'public relations and communications',\n",
       " 'real estate',\n",
       " 'international affairs',\n",
       " 'health  wellness and fitness',\n",
       " 'public policy',\n",
       " 'legal services',\n",
       " 'government administration',\n",
       " 'medical practice',\n",
       " 'human resources',\n",
       " 'mechanical or industrial engineering',\n",
       " 'entertainment',\n",
       " 'primary secondary education',\n",
       " 'mental health care',\n",
       " 'aviation   aerospace',\n",
       " 'professional training   coaching',\n",
       " 'renewables   environment',\n",
       " 'retail',\n",
       " 'pharmaceuticals',\n",
       " 'online media',\n",
       " 'music',\n",
       " 'oil   energy',\n",
       " 'defense   space',\n",
       " 'construction',\n",
       " 'publishing',\n",
       " 'insurance',\n",
       " 'libraries',\n",
       " 'media production',\n",
       " 'banking',\n",
       " 'museums and institutions',\n",
       " 'civil engineering',\n",
       " 'electrical electronic manufacturing',\n",
       " 'chemicals',\n",
       " 'telecommunications',\n",
       " 'staffing and recruiting',\n",
       " 'international trade and development',\n",
       " 'medical devices',\n",
       " 'fine art',\n",
       " 'civic   social organization',\n",
       " 'graphic design',\n",
       " 'performing arts',\n",
       " 'information services',\n",
       " 'sports',\n",
       " 'broadcast media',\n",
       " 'photography',\n",
       " 'investment management',\n",
       " 'fund raising',\n",
       " 'food   beverages',\n",
       " 'e learning',\n",
       " 'individual   family services',\n",
       " 'consumer goods',\n",
       " 'hospitality',\n",
       " 'program development',\n",
       " 'religious institutions',\n",
       " 'philanthropy',\n",
       " 'venture capital   private equity',\n",
       " 'apparel   fashion',\n",
       " 'executive office',\n",
       " 'arts and crafts',\n",
       " 'government relations',\n",
       " 'motion pictures and film',\n",
       " 'logistics and supply chain',\n",
       " 'semiconductors',\n",
       " 'market research',\n",
       " 'computer hardware',\n",
       " 'events services',\n",
       " 'political organization',\n",
       " 'consumer services',\n",
       " 'utilities',\n",
       " 'automotive',\n",
       " 'military',\n",
       " 'computer games',\n",
       " 'consumer electronics',\n",
       " 'leisure  travel   tourism',\n",
       " 'airlines aviation',\n",
       " 'computer   network security',\n",
       " 'computer networking',\n",
       " 'transportation trucking railroad',\n",
       " 'translation and localization',\n",
       " 'nanotechnology',\n",
       " 'food production',\n",
       " 'security and investigations',\n",
       " 'restaurants',\n",
       " 'commercial real estate',\n",
       " 'newspapers',\n",
       " 'investment banking',\n",
       " 'think tanks',\n",
       " 'law enforcement',\n",
       " 'wireless',\n",
       " 'wholesale',\n",
       " 'cosmetics',\n",
       " 'veterinary',\n",
       " 'maritime',\n",
       " 'facilities services',\n",
       " 'mining   metals',\n",
       " 'public safety',\n",
       " 'capital markets',\n",
       " 'farming',\n",
       " 'industrial automation',\n",
       " 'legislative office',\n",
       " 'building materials',\n",
       " 'wine and spirits',\n",
       " 'fishery',\n",
       " 'sporting goods',\n",
       " 'animation',\n",
       " 'machinery',\n",
       " 'plastics',\n",
       " 'business supplies and equipment',\n",
       " 'printing',\n",
       " 'paper   forest products',\n",
       " 'furniture',\n",
       " 'luxury goods   jewelry',\n",
       " 'import and export',\n",
       " 'judiciary',\n",
       " 'alternative medicine',\n",
       " 'recreational facilities and services',\n",
       " 'textiles',\n",
       " 'alternative dispute resolution',\n",
       " ' ',\n",
       " 'outsourcing offshoring',\n",
       " 'gambling   casinos',\n",
       " 'glass  ceramics   concrete',\n",
       " 'supermarkets',\n",
       " '   ',\n",
       " 'warehousing',\n",
       " 'gesti n de organizaciones sin  nimo de lucro',\n",
       " 'ense anza superior',\n",
       " 'investigaci n',\n",
       " ' tudes recherche',\n",
       " 'educaci n primaria secundaria',\n",
       " 'conseil en management',\n",
       " 'redazione e revisione',\n",
       " 'informatietechnologie en services',\n",
       " 'hochschulwesen',\n",
       " 'tobacco',\n",
       " 'olja och energi',\n",
       " 'architektur   bauplanung',\n",
       " 'petrolio ed energia',\n",
       " 'it und services',\n",
       " 'underh llning',\n",
       " 'packaging and containers',\n",
       " 'divertissements',\n",
       " 'ranching',\n",
       " 'directie',\n",
       " 'computerhardware',\n",
       " ' public relations and communications',\n",
       " 'schreiben und redigieren',\n",
       " ' ffentlicher dienst',\n",
       " 'organizacje polityczne',\n",
       " ' marketing and advertising',\n",
       " ' garvey schubert barer',\n",
       " 'forschung',\n",
       " 'juristische dienstleistungen',\n",
       " 'package freight delivery',\n",
       " 'servicios financieros',\n",
       " 'marketing und werbung',\n",
       " 'farmakologi',\n",
       " 'dairy',\n",
       " 'escritura y edici n',\n",
       " 'soziale einrichtungen',\n",
       " 'webbmedia',\n",
       " 'shipbuilding',\n",
       " 'non profitorganisatie management',\n",
       " 'musica',\n",
       " 'traduction et adaptation',\n",
       " ' principal  the kb group',\n",
       " 'v zkum',\n",
       " 'financi le administratie',\n",
       " 'vinos y licores',\n",
       " 'capital de riesgo y capital privado',\n",
       " 'organizaci n c vica y social',\n",
       " ' financial services',\n",
       " ' graduate student at university of washington',\n",
       " 'formation   distance',\n",
       " 'onderwijsmanagement',\n",
       " 'capital risque et fonds lbo',\n",
       " 'perkakasan komputer',\n",
       " 'petr leo y energ a',\n",
       " 'chemie',\n",
       " 'studio legale',\n",
       " 'desenvolvimento de programas',\n",
       " 'enseignement sup rieur',\n",
       " ' open to new opportunities',\n",
       " 'sch ne k nste',\n",
       " 'imballaggi e contenitori',\n",
       " 'technologies et services de l information',\n",
       " 'industries ind 105',\n",
       " 'f retagsr dgivning',\n",
       " 'pol tica p blica',\n",
       " 'rela es internacionais',\n",
       " 'derecho',\n",
       " 'bildungsmanagement',\n",
       " 'hoch  und tiefbau',\n",
       " 'h pitaux et centres de soins',\n",
       " 'railroad manufacture',\n",
       " 'f rlag',\n",
       " 'services financiers',\n",
       " 'versicherungswesen',\n",
       " 'logiciels informatiques',\n",
       " 'industrie pharmaceutique',\n",
       " ' staffing and recruiting',\n",
       " 'asuntos internacionales',\n",
       " 'darstellende k nste',\n",
       " 'lazer  viagens e turismo',\n",
       " 'affaires  trang res',\n",
       " 'milieuservices',\n",
       " 'marketing e pubblicit ',\n",
       " 'avocats',\n",
       " 'formation professionnelle et coaching',\n",
       " 'ensino superior',\n",
       " 'constru o',\n",
       " 'formaci n profesional y capacitaci n',\n",
       " 'ricerca',\n",
       " 'istruzione superiore',\n",
       " 'atendimento m dico e hospitalar',\n",
       " 'nanotechnologies',\n",
       " 'wetshandhaving',\n",
       " 'affari internazionali']"
      ]
     },
     "execution_count": 331,
     "metadata": {},
     "output_type": "execute_result"
    }
   ],
   "source": [
    "inds"
   ]
  },
  {
   "cell_type": "code",
   "execution_count": 62,
   "metadata": {
    "collapsed": true
   },
   "outputs": [],
   "source": [
    "# Top 10 Titles for each of the Industries"
   ]
  },
  {
   "cell_type": "code",
   "execution_count": 322,
   "metadata": {
    "collapsed": false
   },
   "outputs": [
    {
     "data": {
      "text/html": [
       "<div>\n",
       "<table border=\"1\" class=\"dataframe\">\n",
       "  <thead>\n",
       "    <tr style=\"text-align: right;\">\n",
       "      <th></th>\n",
       "      <th>count</th>\n",
       "      <th>mean</th>\n",
       "      <th>std</th>\n",
       "      <th>min</th>\n",
       "      <th>25%</th>\n",
       "      <th>50%</th>\n",
       "      <th>75%</th>\n",
       "      <th>max</th>\n",
       "    </tr>\n",
       "  </thead>\n",
       "  <tbody>\n",
       "    <tr>\n",
       "      <th>counter</th>\n",
       "      <td>31415</td>\n",
       "      <td>1.000000</td>\n",
       "      <td>0.000000</td>\n",
       "      <td>1</td>\n",
       "      <td>1</td>\n",
       "      <td>1</td>\n",
       "      <td>1</td>\n",
       "      <td>1</td>\n",
       "    </tr>\n",
       "    <tr>\n",
       "      <th>name_fields</th>\n",
       "      <td>31415</td>\n",
       "      <td>2.208817</td>\n",
       "      <td>0.581876</td>\n",
       "      <td>1</td>\n",
       "      <td>2</td>\n",
       "      <td>2</td>\n",
       "      <td>2</td>\n",
       "      <td>15</td>\n",
       "    </tr>\n",
       "    <tr>\n",
       "      <th>name_counts</th>\n",
       "      <td>31415</td>\n",
       "      <td>28.585612</td>\n",
       "      <td>48.980187</td>\n",
       "      <td>1</td>\n",
       "      <td>2</td>\n",
       "      <td>8</td>\n",
       "      <td>33</td>\n",
       "      <td>288</td>\n",
       "    </tr>\n",
       "  </tbody>\n",
       "</table>\n",
       "</div>"
      ],
      "text/plain": [
       "             count       mean        std  min  25%  50%  75%  max\n",
       "counter      31415   1.000000   0.000000    1    1    1    1    1\n",
       "name_fields  31415   2.208817   0.581876    1    2    2    2   15\n",
       "name_counts  31415  28.585612  48.980187    1    2    8   33  288"
      ]
     },
     "execution_count": 322,
     "metadata": {},
     "output_type": "execute_result"
    }
   ],
   "source": [
    "df.describe().T"
   ]
  },
  {
   "cell_type": "code",
   "execution_count": 355,
   "metadata": {
    "collapsed": true
   },
   "outputs": [],
   "source": [
    "def return_titles(df, ind, N):\n",
    "    result = []\n",
    "    df1 = df[df['industry'] == ind]\n",
    "    titles = df1.title.value_counts()[0:N]\n",
    "    for i in xrange(N):\n",
    "        result.append((titles.index[i], titles[i]))\n",
    "    return result\n",
    "\n",
    "\n",
    "def strip_punc(x):\n",
    "    x = x.lower()\n",
    "    pattern = re.compile('([^\\s\\w]|_)+')\n",
    "    x = pattern.sub(' ', x)\n",
    "    return x\n",
    "\n",
    "def get_industry(df):\n",
    "    df['industry'] = df['industry'].apply(lambda x: strip_punc(x))\n",
    "    N = 10\n",
    "    industries = df.industry.value_counts()\n",
    "    inds = industries.index.tolist()\n",
    "\n",
    "    # EDA to look at the titles for the top 50 industries\n",
    "    titles = {}\n",
    "    for ind in inds[0:50]:\n",
    "        titles[ind] = return_titles(df, ind, N)\n",
    "\n",
    "    outfile = \"/Users/lekha/galvanize/capstone/projectRiley/data/titles\"\n",
    "    # Write to a file to look at\n",
    "    with open('outfile', 'a') as f:\n",
    "        for k, v in titles.iteritems():\n",
    "            f.write(k)\n",
    "            f.write(\"\\t\")\n",
    "            f.write(str(v))\n",
    "            f.write(\"\\n\")\n",
    "\n",
    "    return df"
   ]
  },
  {
   "cell_type": "code",
   "execution_count": 359,
   "metadata": {
    "collapsed": false
   },
   "outputs": [],
   "source": [
    "df['industry'] = df['industry'].apply(lambda x: strip_punc(x))\n",
    "N = 10\n",
    "industries = df.industry.value_counts()\n",
    "inds = industries.index.tolist()\n",
    "\n",
    "# EDA to look at the titles for the top 50 industries\n",
    "titles = {}\n",
    "for ind in inds[0:50]:\n",
    "    titles[ind] = return_titles(df, ind, N)\n",
    "\n",
    "outfile = \"/Users/lekha/galvanize/capstone/projectRiley/data/titles\"\n",
    "# Write to a file to look at\n",
    "with open(outfile, 'a') as f:\n",
    "    for k, v in titles.iteritems():\n",
    "        f.write(k)\n",
    "        f.write(\"\\t\")\n",
    "        f.write(str(v))\n",
    "        f.write(\"\\n\")"
   ]
  },
  {
   "cell_type": "code",
   "execution_count": 358,
   "metadata": {
    "collapsed": false
   },
   "outputs": [
    {
     "data": {
      "text/plain": [
       "'/Users/lekha/galvanize/capstone/projectRiley/data/titles'"
      ]
     },
     "execution_count": 358,
     "metadata": {},
     "output_type": "execute_result"
    }
   ],
   "source": [
    "outfile"
   ]
  },
  {
   "cell_type": "code",
   "execution_count": null,
   "metadata": {
    "collapsed": true
   },
   "outputs": [],
   "source": []
  },
  {
   "cell_type": "code",
   "execution_count": null,
   "metadata": {
    "collapsed": true
   },
   "outputs": [],
   "source": []
  },
  {
   "cell_type": "code",
   "execution_count": null,
   "metadata": {
    "collapsed": true
   },
   "outputs": [],
   "source": []
  },
  {
   "cell_type": "code",
   "execution_count": null,
   "metadata": {
    "collapsed": true
   },
   "outputs": [],
   "source": []
  },
  {
   "cell_type": "code",
   "execution_count": 113,
   "metadata": {
    "collapsed": false
   },
   "outputs": [
    {
     "ename": "ValueError",
     "evalue": "Could not interperet input 'indnames'",
     "output_type": "error",
     "traceback": [
      "\u001b[0;31m---------------------------------------------------------------------------\u001b[0m",
      "\u001b[0;31mValueError\u001b[0m                                Traceback (most recent call last)",
      "\u001b[0;32m<ipython-input-113-c86b178a6d08>\u001b[0m in \u001b[0;36m<module>\u001b[0;34m()\u001b[0m\n\u001b[1;32m     12\u001b[0m \u001b[0;31m# Plot the total crashes\u001b[0m\u001b[0;34m\u001b[0m\u001b[0;34m\u001b[0m\u001b[0m\n\u001b[1;32m     13\u001b[0m \u001b[0msns\u001b[0m\u001b[0;34m.\u001b[0m\u001b[0mset_color_codes\u001b[0m\u001b[0;34m(\u001b[0m\u001b[0;34m\"pastel\"\u001b[0m\u001b[0;34m)\u001b[0m\u001b[0;34m\u001b[0m\u001b[0m\n\u001b[0;32m---> 14\u001b[0;31m \u001b[0msns\u001b[0m\u001b[0;34m.\u001b[0m\u001b[0mbarplot\u001b[0m\u001b[0;34m(\u001b[0m\u001b[0mx\u001b[0m\u001b[0;34m=\u001b[0m\u001b[0;34m\"indnames\"\u001b[0m\u001b[0;34m,\u001b[0m \u001b[0my\u001b[0m\u001b[0;34m=\u001b[0m\u001b[0;34m\"indc\"\u001b[0m\u001b[0;34m,\u001b[0m \u001b[0mdata\u001b[0m\u001b[0;34m=\u001b[0m\u001b[0mdf\u001b[0m\u001b[0;34m,\u001b[0m \u001b[0mlabel\u001b[0m\u001b[0;34m=\u001b[0m\u001b[0;34m\"indc\"\u001b[0m\u001b[0;34m,\u001b[0m \u001b[0mcolor\u001b[0m\u001b[0;34m=\u001b[0m\u001b[0;34m\"b\"\u001b[0m\u001b[0;34m)\u001b[0m\u001b[0;34m\u001b[0m\u001b[0m\n\u001b[0m\u001b[1;32m     15\u001b[0m \u001b[0;34m\u001b[0m\u001b[0m\n\u001b[1;32m     16\u001b[0m \u001b[0;31m# Add a legend and informative axis label\u001b[0m\u001b[0;34m\u001b[0m\u001b[0;34m\u001b[0m\u001b[0m\n",
      "\u001b[0;32m/Users/lekha/Applications/anaconda/lib/python2.7/site-packages/seaborn/categorical.pyc\u001b[0m in \u001b[0;36mbarplot\u001b[0;34m(x, y, hue, data, order, hue_order, estimator, ci, n_boot, units, orient, color, palette, saturation, errcolor, ax, **kwargs)\u001b[0m\n\u001b[1;32m   2186\u001b[0m                           \u001b[0mestimator\u001b[0m\u001b[0;34m,\u001b[0m \u001b[0mci\u001b[0m\u001b[0;34m,\u001b[0m \u001b[0mn_boot\u001b[0m\u001b[0;34m,\u001b[0m \u001b[0munits\u001b[0m\u001b[0;34m,\u001b[0m\u001b[0;34m\u001b[0m\u001b[0m\n\u001b[1;32m   2187\u001b[0m                           \u001b[0morient\u001b[0m\u001b[0;34m,\u001b[0m \u001b[0mcolor\u001b[0m\u001b[0;34m,\u001b[0m \u001b[0mpalette\u001b[0m\u001b[0;34m,\u001b[0m \u001b[0msaturation\u001b[0m\u001b[0;34m,\u001b[0m\u001b[0;34m\u001b[0m\u001b[0m\n\u001b[0;32m-> 2188\u001b[0;31m                           errcolor)\n\u001b[0m\u001b[1;32m   2189\u001b[0m \u001b[0;34m\u001b[0m\u001b[0m\n\u001b[1;32m   2190\u001b[0m     \u001b[0;32mif\u001b[0m \u001b[0max\u001b[0m \u001b[0;32mis\u001b[0m \u001b[0mNone\u001b[0m\u001b[0;34m:\u001b[0m\u001b[0;34m\u001b[0m\u001b[0m\n",
      "\u001b[0;32m/Users/lekha/Applications/anaconda/lib/python2.7/site-packages/seaborn/categorical.pyc\u001b[0m in \u001b[0;36m__init__\u001b[0;34m(self, x, y, hue, data, order, hue_order, estimator, ci, n_boot, units, orient, color, palette, saturation, errcolor)\u001b[0m\n\u001b[1;32m   1260\u001b[0m         \u001b[0;34m\"\"\"Initialize the plotter.\"\"\"\u001b[0m\u001b[0;34m\u001b[0m\u001b[0m\n\u001b[1;32m   1261\u001b[0m         self.establish_variables(x, y, hue, data, orient,\n\u001b[0;32m-> 1262\u001b[0;31m                                  order, hue_order, units)\n\u001b[0m\u001b[1;32m   1263\u001b[0m         \u001b[0mself\u001b[0m\u001b[0;34m.\u001b[0m\u001b[0mestablish_colors\u001b[0m\u001b[0;34m(\u001b[0m\u001b[0mcolor\u001b[0m\u001b[0;34m,\u001b[0m \u001b[0mpalette\u001b[0m\u001b[0;34m,\u001b[0m \u001b[0msaturation\u001b[0m\u001b[0;34m)\u001b[0m\u001b[0;34m\u001b[0m\u001b[0m\n\u001b[1;32m   1264\u001b[0m         \u001b[0mself\u001b[0m\u001b[0;34m.\u001b[0m\u001b[0mestimate_statistic\u001b[0m\u001b[0;34m(\u001b[0m\u001b[0mestimator\u001b[0m\u001b[0;34m,\u001b[0m \u001b[0mci\u001b[0m\u001b[0;34m,\u001b[0m \u001b[0mn_boot\u001b[0m\u001b[0;34m)\u001b[0m\u001b[0;34m\u001b[0m\u001b[0m\n",
      "\u001b[0;32m/Users/lekha/Applications/anaconda/lib/python2.7/site-packages/seaborn/categorical.pyc\u001b[0m in \u001b[0;36mestablish_variables\u001b[0;34m(self, x, y, hue, data, orient, order, hue_order, units)\u001b[0m\n\u001b[1;32m    143\u001b[0m                 \u001b[0;32mif\u001b[0m \u001b[0misinstance\u001b[0m\u001b[0;34m(\u001b[0m\u001b[0minput\u001b[0m\u001b[0;34m,\u001b[0m \u001b[0mstring_types\u001b[0m\u001b[0;34m)\u001b[0m\u001b[0;34m:\u001b[0m\u001b[0;34m\u001b[0m\u001b[0m\n\u001b[1;32m    144\u001b[0m                     \u001b[0merr\u001b[0m \u001b[0;34m=\u001b[0m \u001b[0;34m\"Could not interperet input '{}'\"\u001b[0m\u001b[0;34m.\u001b[0m\u001b[0mformat\u001b[0m\u001b[0;34m(\u001b[0m\u001b[0minput\u001b[0m\u001b[0;34m)\u001b[0m\u001b[0;34m\u001b[0m\u001b[0m\n\u001b[0;32m--> 145\u001b[0;31m                     \u001b[0;32mraise\u001b[0m \u001b[0mValueError\u001b[0m\u001b[0;34m(\u001b[0m\u001b[0merr\u001b[0m\u001b[0;34m)\u001b[0m\u001b[0;34m\u001b[0m\u001b[0m\n\u001b[0m\u001b[1;32m    146\u001b[0m \u001b[0;34m\u001b[0m\u001b[0m\n\u001b[1;32m    147\u001b[0m             \u001b[0;31m# Figure out the plotting orientation\u001b[0m\u001b[0;34m\u001b[0m\u001b[0;34m\u001b[0m\u001b[0m\n",
      "\u001b[0;31mValueError\u001b[0m: Could not interperet input 'indnames'"
     ]
    },
    {
     "data": {
      "image/png": "[encoded data removed]",
      "text/plain": [
       "<matplotlib.figure.Figure at 0x119305490>"
      ]
     },
     "metadata": {},
     "output_type": "display_data"
    }
   ],
   "source": [
    "import seaborn as sns\n",
    "import matplotlib.pyplot as plt\n",
    "sns.set(style=\"whitegrid\")\n",
    "\n",
    "# Initialize the matplotlib figure\n",
    "f, ax = plt.subplots(figsize=(6, 15))\n",
    "\n",
    "indc = ind_counts.values[0:15]\n",
    "indnames = ind_counts.index[0:15]\n",
    "\n",
    "df1 = pd.DataFrame({'indnames':ind_counts.index[0:15],'indc':ind_counts.values[0:15]})\n",
    "\n",
    "# Plot the total crashes\n",
    "sns.set_color_codes(\"pastel\")\n",
    "sns.barplot(x=\"indnames\", y=\"indc\", data=df, label=\"indc\", color=\"b\")\n",
    "\n",
    "# Add a legend and informative axis label\n",
    "ax.legend(ncol=2, loc=\"center right\", frameon=True)\n",
    "ax.set(xlim=(0, 600), ylabel=\"\",\n",
    "       xlabel=\"Names and their counts\")\n",
    "#sns.despine(right=True, top=True)\n",
    "\n"
   ]
  },
  {
   "cell_type": "code",
   "execution_count": 84,
   "metadata": {
    "collapsed": false
   },
   "outputs": [],
   "source": [
    "t=df.groupby('industry').size().nlargest(10)"
   ]
  },
  {
   "cell_type": "code",
   "execution_count": 86,
   "metadata": {
    "collapsed": false
   },
   "outputs": [
    {
     "data": {
      "text/plain": [
       "pandas.core.series.Series"
      ]
     },
     "execution_count": 86,
     "metadata": {},
     "output_type": "execute_result"
    }
   ],
   "source": [
    "type(t)"
   ]
  },
  {
   "cell_type": "code",
   "execution_count": 89,
   "metadata": {
    "collapsed": false
   },
   "outputs": [
    {
     "data": {
      "text/plain": [
       "Index([u'higher education', u'research', u'computer software',\n",
       "       u'information technology and services', u'hospital & health care',\n",
       "       u'missing', u'marketing and advertising', u'financial services',\n",
       "       u'education management', u'nonprofit organization management'],\n",
       "      dtype='object', name=u'industry')"
      ]
     },
     "execution_count": 89,
     "metadata": {},
     "output_type": "execute_result"
    }
   ],
   "source": [
    "for ind in t.index:\n",
    "    grouped.groupby('title').size().nlargest(10)"
   ]
  },
  {
   "cell_type": "code",
   "execution_count": 61,
   "metadata": {
    "collapsed": false
   },
   "outputs": [
    {
     "data": {
      "text/plain": [
       "missing                                                                                                                     63\n",
       "Student at California Institute of Technology                                                                               11\n",
       "Research Professional                                                                                                       10\n",
       "Student at Wellesley College                                                                                                 9\n",
       "--                                                                                                                           8\n",
       "Postdoctoral Scholar at California Institute of Technology                                                                   8\n",
       "Graduate Student at California Institute of Technology                                                                       8\n",
       "Graduate Research Assistant at Georgia Institute of Technology                                                               6\n",
       "Student at Mount Holyoke College                                                                                             5\n",
       "Research Scientist                                                                                                           5\n",
       "Student at University of Washington                                                                                          5\n",
       "at                                                                                                                           5\n",
       "Graduate Student at Caltech                                                                                                  4\n",
       "Student at Georgia Institute of Technology                                                                                   4\n",
       "Research Scientist at University of Washington                                                                               3\n",
       "Researcher                                                                                                                   3\n",
       "PhD Candidate at California Institute of Technology                                                                          3\n",
       "-                                                                                                                            3\n",
       "Research Assistant at University of Washington                                                                               3\n",
       "Student at Vassar College                                                                                                    3\n",
       "Graduate Student at University of Washington                                                                                 3\n",
       "Graduate Student at Stanford University                                                                                      2\n",
       "Professor at UCLA                                                                                                            2\n",
       "User Experience Researcher at T-Mobile                                                                                       2\n",
       "Postdoctoral Researcher at California Institute of Technology                                                                2\n",
       "Postdoctoral Fellow at Monterey Bay Aquarium Research Institute (MBARI)                                                      2\n",
       "Assistant Professor at Eindhoven University of Technology                                                                    2\n",
       "PhD Student at Rutgers University                                                                                            2\n",
       "Research Assistant at Mount Holyoke College                                                                                  2\n",
       "Microbiologist                                                                                                               2\n",
       "                                                                                                                            ..\n",
       "Research Scientist, Principal Investigator at Massachusetts Institute of Technology (MIT)                                    1\n",
       "Undergraduate Student at Brooklyn College CUNY                                                                               1\n",
       "Associate Professor at Texas A&M University                                                                                  1\n",
       "Postdoctoral Research Fellow at University of Maryland                                                                       1\n",
       "Senior Geoscientist at ExxonMobil                                                                                            1\n",
       "Research Coordinator at NYU Langone Medical Center                                                                           1\n",
       "Public Health Student                                                                                                        1\n",
       "Applied Mathematics                                                                                                          1\n",
       "Technical Group Manager - Visual Analytics at Pacific Northwest National Laboratory                                          1\n",
       "Ph.D. Student at Georgia Institute of Technology                                                                             1\n",
       "Science program management and strategic planning/communications                                                             1\n",
       "Global Videoconferencing Services Manager at CERN                                                                            1\n",
       "Head of Payments at Javelin Strategy & Research                                                                              1\n",
       "Physicist, Private Practice                                                                                                  1\n",
       "Managing Director and Principal Research Scientist at IMPAQ International                                                    1\n",
       "PhD, Applied and Computational Mathematics                                                                                   1\n",
       "Research Regulatory Affairs Coordinator at Banner Health                                                                     1\n",
       "Cellular Neurophysiology Research Assistant at John B. Pierce Laboratory/Yale School of Medicine                             1\n",
       "Statistical Consultant                                                                                                       1\n",
       "Office Manager at California Institute of Technology                                                                         1\n",
       "Owner, Systems Engineering Group                                                                                             1\n",
       "Yale graduate with experience researching, writing, assisting/advising project completion, and play-by-play commentating     1\n",
       "assistant professor — Hallym University, South Korea                                                                         1\n",
       "Faculty at Eastern Illinois University                                                                                       1\n",
       "NSF Graduate Research Fellow at Massachusetts Institute of Technology (MIT)                                                  1\n",
       "Sr. Software Developer at Walker Digital Table Systems, LLC                                                                  1\n",
       "Postdoc in Oncology at University of Oxford                                                                                  1\n",
       "Research Analyst at U.S. Department of Labor                                                                                 1\n",
       "Postdoctoral Scholar in Aerospace at Caltech                                                                                 1\n",
       "Gordon and Betty Moore Professor at California Institute of Technology                                                       1\n",
       "Name: title, dtype: int64"
      ]
     },
     "execution_count": 61,
     "metadata": {},
     "output_type": "execute_result"
    }
   ],
   "source": [
    "temp_df.title.value_counts()"
   ]
  },
  {
   "cell_type": "code",
   "execution_count": 369,
   "metadata": {
    "collapsed": true
   },
   "outputs": [],
   "source": [
    "def get_ind_group(ind):\n",
    "    ind = ind.strip().lower()\n",
    "    ind_groups = { 'missing': 0,\n",
    "                   'higher education': 1,\n",
    "                   'research': 1,\n",
    "                   'computer software': 2,\n",
    "                   'information technology and services': 2,\n",
    "                   'internet': 2,\n",
    "                   'design': 2,\n",
    "                   'mechanical or industrial engineering': 2,\n",
    "                   'aviation aerospace': 2,\n",
    "                   'electrical electronic manufacturing': 2,\n",
    "                   'civil engineering': 2,\n",
    "                   'telecommunications': 2,\n",
    "                   'graphic design': 2,\n",
    "                   'information services': 2,\n",
    "                   'semiconductors': 2,\n",
    "                   'computer hardware': 2,\n",
    "                   'logistics and supply chain': 2,\n",
    "                   'automotive': 2,\n",
    "                   'program development': 2,\n",
    "                   'computer games': 2,\n",
    "                   'computer network security': 2,\n",
    "                   'nanotechnology': 2,\n",
    "                   'animation': 2,\n",
    "                   'nanotechnologies': 2 }\n",
    "\n",
    "    result = ind_groups.get(ind, 3)\n",
    "    return result\n"
   ]
  },
  {
   "cell_type": "code",
   "execution_count": 370,
   "metadata": {
    "collapsed": false
   },
   "outputs": [],
   "source": [
    "df['ind_group'] = df['industry'].apply(lambda x:get_ind_group(x))"
   ]
  },
  {
   "cell_type": "code",
   "execution_count": 371,
   "metadata": {
    "collapsed": false
   },
   "outputs": [
    {
     "data": {
      "text/plain": [
       "3    20277\n",
       "2     5634\n",
       "1     4320\n",
       "0     1184\n",
       "Name: ind_group, dtype: int64"
      ]
     },
     "execution_count": 371,
     "metadata": {},
     "output_type": "execute_result"
    }
   ],
   "source": [
    "df.ind_group.value_counts()"
   ]
  },
  {
   "cell_type": "code",
   "execution_count": 373,
   "metadata": {
    "collapsed": false
   },
   "outputs": [],
   "source": [
    "newdf = df[df['ind_group'] == 2]"
   ]
  },
  {
   "cell_type": "code",
   "execution_count": 374,
   "metadata": {
    "collapsed": false
   },
   "outputs": [
    {
     "name": "stdout",
     "output_type": "stream",
     "text": [
      "<class 'pandas.core.frame.DataFrame'>\n",
      "Int64Index: 5634 entries, 0 to 31410\n",
      "Data columns (total 16 columns):\n",
      "first_name          5634 non-null object\n",
      "full_name           5634 non-null object\n",
      "html                5634 non-null object\n",
      "industry            5634 non-null object\n",
      "location            5634 non-null object\n",
      "summary             5634 non-null object\n",
      "title               5634 non-null object\n",
      "counter             5634 non-null float64\n",
      "source              5634 non-null object\n",
      "full_name_fields    5634 non-null object\n",
      "name_fields         5634 non-null int64\n",
      "gender              5634 non-null object\n",
      "gender_type         5634 non-null object\n",
      "gender_forced       5634 non-null object\n",
      "name_counts         5634 non-null int64\n",
      "ind_group           5634 non-null int64\n",
      "dtypes: float64(1), int64(3), object(12)\n",
      "memory usage: 748.3+ KB\n"
     ]
    }
   ],
   "source": [
    "newdf.info()"
   ]
  },
  {
   "cell_type": "code",
   "execution_count": 379,
   "metadata": {
    "collapsed": false
   },
   "outputs": [
    {
     "data": {
      "text/plain": [
       "gender_forced\n",
       "female    1878\n",
       "male      3756\n",
       "dtype: int64"
      ]
     },
     "execution_count": 379,
     "metadata": {},
     "output_type": "execute_result"
    }
   ],
   "source": [
    "newdf.groupby('gender_forced').size()"
   ]
  },
  {
   "cell_type": "code",
   "execution_count": null,
   "metadata": {
    "collapsed": true
   },
   "outputs": [],
   "source": []
  },
  {
   "cell_type": "code",
   "execution_count": 378,
   "metadata": {
    "collapsed": false
   },
   "outputs": [
    {
     "name": "stderr",
     "output_type": "stream",
     "text": [
      "/Users/lekha/Applications/anaconda/lib/python2.7/site-packages/ipykernel/__main__.py:1: SettingWithCopyWarning: \n",
      "A value is trying to be set on a copy of a slice from a DataFrame.\n",
      "Try using .loc[row_indexer,col_indexer] = value instead\n",
      "\n",
      "See the caveats in the documentation: http://pandas.pydata.org/pandas-docs/stable/indexing.html#indexing-view-versus-copy\n",
      "  if __name__ == '__main__':\n"
     ]
    }
   ],
   "source": [
    "newdf['class'] = np.ones(len(newdf))"
   ]
  },
  {
   "cell_type": "code",
   "execution_count": 398,
   "metadata": {
    "collapsed": false
   },
   "outputs": [],
   "source": [
    "newdf['class'] = newdf['gender_forced'].apply(lambda x: 0 if x == 'female' else 1)"
   ]
  },
  {
   "cell_type": "code",
   "execution_count": 399,
   "metadata": {
    "collapsed": true
   },
   "outputs": [],
   "source": [
    "def f(x):\n",
    "    if x == 'missing':\n",
    "        return 1\n",
    "    else:\n",
    "        return 0\n",
    "\n"
   ]
  },
  {
   "cell_type": "code",
   "execution_count": 400,
   "metadata": {
    "collapsed": true
   },
   "outputs": [],
   "source": [
    "# add feature for num of words in the summary\n",
    "def lenx(mystr):\n",
    "    return len(mystr.split())\n",
    "\n",
    "def avgchrs(mytokens):\n",
    "    tw = len(mytokens)    \n",
    "    num_chars = 0\n",
    "    for word in mytokens:\n",
    "        num_chars += len(word)\n",
    "        \n",
    "    return num_chars/tw"
   ]
  },
  {
   "cell_type": "code",
   "execution_count": 401,
   "metadata": {
    "collapsed": false
   },
   "outputs": [],
   "source": [
    "# Add feature for missing summary\n",
    "newdf['summ_missing'] = newdf['summary'].apply(lambda x: f(x))"
   ]
  },
  {
   "cell_type": "code",
   "execution_count": 392,
   "metadata": {
    "collapsed": false
   },
   "outputs": [],
   "source": [
    "grp = newdf.groupby('gender')"
   ]
  },
  {
   "cell_type": "code",
   "execution_count": 394,
   "metadata": {
    "collapsed": false
   },
   "outputs": [
    {
     "data": {
      "text/plain": [
       "0    3648\n",
       "1    1986\n",
       "Name: summ_missing, dtype: int64"
      ]
     },
     "execution_count": 394,
     "metadata": {},
     "output_type": "execute_result"
    }
   ],
   "source": [
    "newdf['summ_missing'].value_counts()"
   ]
  },
  {
   "cell_type": "code",
   "execution_count": 395,
   "metadata": {
    "collapsed": false
   },
   "outputs": [
    {
     "data": {
      "text/plain": [
       "1986"
      ]
     },
     "execution_count": 395,
     "metadata": {},
     "output_type": "execute_result"
    }
   ],
   "source": [
    "1436 +550"
   ]
  },
  {
   "cell_type": "code",
   "execution_count": 393,
   "metadata": {
    "collapsed": true
   },
   "outputs": [
    {
     "data": {
      "text/html": [
       "<div>\n",
       "<table border=\"1\" class=\"dataframe\">\n",
       "  <thead>\n",
       "    <tr style=\"text-align: right;\">\n",
       "      <th></th>\n",
       "      <th>summ_missing</th>\n",
       "    </tr>\n",
       "  </thead>\n",
       "  <tbody>\n",
       "    <tr>\n",
       "      <th>0</th>\n",
       "      <td>1436</td>\n",
       "    </tr>\n",
       "    <tr>\n",
       "      <th>23</th>\n",
       "      <td>550</td>\n",
       "    </tr>\n",
       "    <tr>\n",
       "      <th>31</th>\n",
       "      <td>550</td>\n",
       "    </tr>\n",
       "    <tr>\n",
       "      <th>55</th>\n",
       "      <td>550</td>\n",
       "    </tr>\n",
       "    <tr>\n",
       "      <th>57</th>\n",
       "      <td>1436</td>\n",
       "    </tr>\n",
       "    <tr>\n",
       "      <th>66</th>\n",
       "      <td>550</td>\n",
       "    </tr>\n",
       "    <tr>\n",
       "      <th>68</th>\n",
       "      <td>550</td>\n",
       "    </tr>\n",
       "    <tr>\n",
       "      <th>70</th>\n",
       "      <td>550</td>\n",
       "    </tr>\n",
       "    <tr>\n",
       "      <th>73</th>\n",
       "      <td>550</td>\n",
       "    </tr>\n",
       "    <tr>\n",
       "      <th>90</th>\n",
       "      <td>1436</td>\n",
       "    </tr>\n",
       "    <tr>\n",
       "      <th>108</th>\n",
       "      <td>550</td>\n",
       "    </tr>\n",
       "    <tr>\n",
       "      <th>114</th>\n",
       "      <td>550</td>\n",
       "    </tr>\n",
       "    <tr>\n",
       "      <th>121</th>\n",
       "      <td>550</td>\n",
       "    </tr>\n",
       "    <tr>\n",
       "      <th>129</th>\n",
       "      <td>1436</td>\n",
       "    </tr>\n",
       "    <tr>\n",
       "      <th>140</th>\n",
       "      <td>550</td>\n",
       "    </tr>\n",
       "    <tr>\n",
       "      <th>141</th>\n",
       "      <td>550</td>\n",
       "    </tr>\n",
       "    <tr>\n",
       "      <th>148</th>\n",
       "      <td>1436</td>\n",
       "    </tr>\n",
       "    <tr>\n",
       "      <th>149</th>\n",
       "      <td>1436</td>\n",
       "    </tr>\n",
       "    <tr>\n",
       "      <th>157</th>\n",
       "      <td>1436</td>\n",
       "    </tr>\n",
       "    <tr>\n",
       "      <th>169</th>\n",
       "      <td>1436</td>\n",
       "    </tr>\n",
       "    <tr>\n",
       "      <th>186</th>\n",
       "      <td>550</td>\n",
       "    </tr>\n",
       "    <tr>\n",
       "      <th>189</th>\n",
       "      <td>1436</td>\n",
       "    </tr>\n",
       "    <tr>\n",
       "      <th>193</th>\n",
       "      <td>1436</td>\n",
       "    </tr>\n",
       "    <tr>\n",
       "      <th>203</th>\n",
       "      <td>550</td>\n",
       "    </tr>\n",
       "    <tr>\n",
       "      <th>226</th>\n",
       "      <td>550</td>\n",
       "    </tr>\n",
       "    <tr>\n",
       "      <th>261</th>\n",
       "      <td>1436</td>\n",
       "    </tr>\n",
       "    <tr>\n",
       "      <th>280</th>\n",
       "      <td>550</td>\n",
       "    </tr>\n",
       "    <tr>\n",
       "      <th>305</th>\n",
       "      <td>1436</td>\n",
       "    </tr>\n",
       "    <tr>\n",
       "      <th>308</th>\n",
       "      <td>550</td>\n",
       "    </tr>\n",
       "    <tr>\n",
       "      <th>319</th>\n",
       "      <td>550</td>\n",
       "    </tr>\n",
       "    <tr>\n",
       "      <th>...</th>\n",
       "      <td>...</td>\n",
       "    </tr>\n",
       "    <tr>\n",
       "      <th>31295</th>\n",
       "      <td>1436</td>\n",
       "    </tr>\n",
       "    <tr>\n",
       "      <th>31296</th>\n",
       "      <td>1436</td>\n",
       "    </tr>\n",
       "    <tr>\n",
       "      <th>31298</th>\n",
       "      <td>1436</td>\n",
       "    </tr>\n",
       "    <tr>\n",
       "      <th>31299</th>\n",
       "      <td>1436</td>\n",
       "    </tr>\n",
       "    <tr>\n",
       "      <th>31301</th>\n",
       "      <td>1436</td>\n",
       "    </tr>\n",
       "    <tr>\n",
       "      <th>31307</th>\n",
       "      <td>1436</td>\n",
       "    </tr>\n",
       "    <tr>\n",
       "      <th>31310</th>\n",
       "      <td>1436</td>\n",
       "    </tr>\n",
       "    <tr>\n",
       "      <th>31315</th>\n",
       "      <td>1436</td>\n",
       "    </tr>\n",
       "    <tr>\n",
       "      <th>31324</th>\n",
       "      <td>550</td>\n",
       "    </tr>\n",
       "    <tr>\n",
       "      <th>31325</th>\n",
       "      <td>1436</td>\n",
       "    </tr>\n",
       "    <tr>\n",
       "      <th>31326</th>\n",
       "      <td>550</td>\n",
       "    </tr>\n",
       "    <tr>\n",
       "      <th>31327</th>\n",
       "      <td>1436</td>\n",
       "    </tr>\n",
       "    <tr>\n",
       "      <th>31332</th>\n",
       "      <td>550</td>\n",
       "    </tr>\n",
       "    <tr>\n",
       "      <th>31334</th>\n",
       "      <td>1436</td>\n",
       "    </tr>\n",
       "    <tr>\n",
       "      <th>31337</th>\n",
       "      <td>550</td>\n",
       "    </tr>\n",
       "    <tr>\n",
       "      <th>31344</th>\n",
       "      <td>1436</td>\n",
       "    </tr>\n",
       "    <tr>\n",
       "      <th>31364</th>\n",
       "      <td>1436</td>\n",
       "    </tr>\n",
       "    <tr>\n",
       "      <th>31369</th>\n",
       "      <td>1436</td>\n",
       "    </tr>\n",
       "    <tr>\n",
       "      <th>31372</th>\n",
       "      <td>550</td>\n",
       "    </tr>\n",
       "    <tr>\n",
       "      <th>31374</th>\n",
       "      <td>1436</td>\n",
       "    </tr>\n",
       "    <tr>\n",
       "      <th>31384</th>\n",
       "      <td>1436</td>\n",
       "    </tr>\n",
       "    <tr>\n",
       "      <th>31385</th>\n",
       "      <td>550</td>\n",
       "    </tr>\n",
       "    <tr>\n",
       "      <th>31390</th>\n",
       "      <td>550</td>\n",
       "    </tr>\n",
       "    <tr>\n",
       "      <th>31391</th>\n",
       "      <td>1436</td>\n",
       "    </tr>\n",
       "    <tr>\n",
       "      <th>31392</th>\n",
       "      <td>1436</td>\n",
       "    </tr>\n",
       "    <tr>\n",
       "      <th>31394</th>\n",
       "      <td>550</td>\n",
       "    </tr>\n",
       "    <tr>\n",
       "      <th>31397</th>\n",
       "      <td>1436</td>\n",
       "    </tr>\n",
       "    <tr>\n",
       "      <th>31398</th>\n",
       "      <td>1436</td>\n",
       "    </tr>\n",
       "    <tr>\n",
       "      <th>31400</th>\n",
       "      <td>1436</td>\n",
       "    </tr>\n",
       "    <tr>\n",
       "      <th>31410</th>\n",
       "      <td>1436</td>\n",
       "    </tr>\n",
       "  </tbody>\n",
       "</table>\n",
       "<p>5634 rows × 1 columns</p>\n",
       "</div>"
      ],
      "text/plain": [
       "       summ_missing\n",
       "0              1436\n",
       "23              550\n",
       "31              550\n",
       "55              550\n",
       "57             1436\n",
       "66              550\n",
       "68              550\n",
       "70              550\n",
       "73              550\n",
       "90             1436\n",
       "108             550\n",
       "114             550\n",
       "121             550\n",
       "129            1436\n",
       "140             550\n",
       "141             550\n",
       "148            1436\n",
       "149            1436\n",
       "157            1436\n",
       "169            1436\n",
       "186             550\n",
       "189            1436\n",
       "193            1436\n",
       "203             550\n",
       "226             550\n",
       "261            1436\n",
       "280             550\n",
       "305            1436\n",
       "308             550\n",
       "319             550\n",
       "...             ...\n",
       "31295          1436\n",
       "31296          1436\n",
       "31298          1436\n",
       "31299          1436\n",
       "31301          1436\n",
       "31307          1436\n",
       "31310          1436\n",
       "31315          1436\n",
       "31324           550\n",
       "31325          1436\n",
       "31326           550\n",
       "31327          1436\n",
       "31332           550\n",
       "31334          1436\n",
       "31337           550\n",
       "31344          1436\n",
       "31364          1436\n",
       "31369          1436\n",
       "31372           550\n",
       "31374          1436\n",
       "31384          1436\n",
       "31385           550\n",
       "31390           550\n",
       "31391          1436\n",
       "31392          1436\n",
       "31394           550\n",
       "31397          1436\n",
       "31398          1436\n",
       "31400          1436\n",
       "31410          1436\n",
       "\n",
       "[5634 rows x 1 columns]"
      ]
     },
     "execution_count": 393,
     "metadata": {},
     "output_type": "execute_result"
    }
   ],
   "source": [
    "grp[['summ_missing']].transform(sum)"
   ]
  },
  {
   "cell_type": "code",
   "execution_count": null,
   "metadata": {
    "collapsed": true
   },
   "outputs": [],
   "source": []
  },
  {
   "cell_type": "code",
   "execution_count": 403,
   "metadata": {
    "collapsed": false
   },
   "outputs": [],
   "source": [
    "newdf['summ_tokens'] = newdf['summary'].apply(lambda x: nltk.word_tokenize(str(x)))"
   ]
  },
  {
   "cell_type": "code",
   "execution_count": 404,
   "metadata": {
    "collapsed": true
   },
   "outputs": [],
   "source": [
    "newdf['num_tokens'] = newdf['summ_tokens'].apply(lambda x: len(x))"
   ]
  },
  {
   "cell_type": "code",
   "execution_count": 405,
   "metadata": {
    "collapsed": true
   },
   "outputs": [],
   "source": [
    "newdf['avg_len'] = newdf['summ_tokens'].apply(lambda x: avgchrs(x))"
   ]
  },
  {
   "cell_type": "code",
   "execution_count": 406,
   "metadata": {
    "collapsed": false
   },
   "outputs": [
    {
     "data": {
      "text/plain": [
       "array([[<matplotlib.axes._subplots.AxesSubplot object at 0x113e4f710>]], dtype=object)"
      ]
     },
     "execution_count": 406,
     "metadata": {},
     "output_type": "execute_result"
    },
    {
     "data": {
      "image/png": "[encoded data removed]",
      "text/plain": [
       "<matplotlib.figure.Figure at 0x114de8990>"
      ]
     },
     "metadata": {},
     "output_type": "display_data"
    }
   ],
   "source": [
    "newdf.hist('avg_len')"
   ]
  },
  {
   "cell_type": "code",
   "execution_count": 407,
   "metadata": {
    "collapsed": false
   },
   "outputs": [
    {
     "data": {
      "text/plain": [
       "array([[<matplotlib.axes._subplots.AxesSubplot object at 0x1178b6f90>]], dtype=object)"
      ]
     },
     "execution_count": 407,
     "metadata": {},
     "output_type": "execute_result"
    },
    {
     "data": {
      "image/png": "[encoded data removed]",
      "text/plain": [
       "<matplotlib.figure.Figure at 0x1178b1ed0>"
      ]
     },
     "metadata": {},
     "output_type": "display_data"
    }
   ],
   "source": [
    "newdf.hist('num_tokens')"
   ]
  },
  {
   "cell_type": "code",
   "execution_count": 408,
   "metadata": {
    "collapsed": false
   },
   "outputs": [
    {
     "data": {
      "text/plain": [
       "gender\n",
       "female    [[Axes(0.125,0.125;0.775x0.775)]]\n",
       "male      [[Axes(0.125,0.125;0.775x0.775)]]\n",
       "dtype: object"
      ]
     },
     "execution_count": 408,
     "metadata": {},
     "output_type": "execute_result"
    },
    {
     "data": {
      "image/png": "[encoded data removed]",
      "text/plain": [
       "<matplotlib.figure.Figure at 0x114b2e390>"
      ]
     },
     "metadata": {},
     "output_type": "display_data"
    },
    {
     "data": {
      "image/png": "[encoded data removed]",
      "text/plain": [
       "<matplotlib.figure.Figure at 0x1185d3dd0>"
      ]
     },
     "metadata": {},
     "output_type": "display_data"
    }
   ],
   "source": [
    "newdf.groupby('gender').hist('num_tokens')"
   ]
  },
  {
   "cell_type": "code",
   "execution_count": 409,
   "metadata": {
    "collapsed": false
   },
   "outputs": [
    {
     "data": {
      "text/plain": [
       "gender\n",
       "female    [[Axes(0.125,0.125;0.775x0.775)]]\n",
       "male      [[Axes(0.125,0.125;0.775x0.775)]]\n",
       "dtype: object"
      ]
     },
     "execution_count": 409,
     "metadata": {},
     "output_type": "execute_result"
    },
    {
     "data": {
      "image/png": "[encoded data removed]",
      "text/plain": [
       "<matplotlib.figure.Figure at 0x11834e790>"
      ]
     },
     "metadata": {},
     "output_type": "display_data"
    },
    {
     "data": {
      "image/png": "[encoded data removed]",
      "text/plain": [
       "<matplotlib.figure.Figure at 0x1182821d0>"
      ]
     },
     "metadata": {},
     "output_type": "display_data"
    }
   ],
   "source": [
    "newdf.groupby('gender').hist('avg_len')"
   ]
  },
  {
   "cell_type": "code",
   "execution_count": 410,
   "metadata": {
    "collapsed": false
   },
   "outputs": [],
   "source": [
    "gender_group = newdf.groupby('gender')"
   ]
  },
  {
   "cell_type": "code",
   "execution_count": 411,
   "metadata": {
    "collapsed": false
   },
   "outputs": [
    {
     "data": {
      "image/png": "[encoded data removed]",
      "text/plain": [
       "<matplotlib.figure.Figure at 0x10bae37d0>"
      ]
     },
     "metadata": {},
     "output_type": "display_data"
    }
   ],
   "source": [
    "bp = newdf.boxplot(column=['num_tokens'], by=['gender'])"
   ]
  },
  {
   "cell_type": "code",
   "execution_count": 412,
   "metadata": {
    "collapsed": false
   },
   "outputs": [
    {
     "data": {
      "image/png": "[encoded data removed]",
      "text/plain": [
       "<matplotlib.figure.Figure at 0x118301c10>"
      ]
     },
     "metadata": {},
     "output_type": "display_data"
    }
   ],
   "source": [
    "bp = newdf.boxplot(column=['avg_len'], by=['gender'])"
   ]
  },
  {
   "cell_type": "code",
   "execution_count": null,
   "metadata": {
    "collapsed": false
   },
   "outputs": [],
   "source": [
    "gender_group.describe().T"
   ]
  },
  {
   "cell_type": "code",
   "execution_count": 413,
   "metadata": {
    "collapsed": false
   },
   "outputs": [],
   "source": [
    "summ_missing = newdf.groupby('gender').agg({'summ_missing':sum})"
   ]
  },
  {
   "cell_type": "code",
   "execution_count": 414,
   "metadata": {
    "collapsed": false
   },
   "outputs": [],
   "source": [
    "sum_gender = newdf.groupby('gender').agg(np.sum)"
   ]
  },
  {
   "cell_type": "code",
   "execution_count": 415,
   "metadata": {
    "collapsed": false
   },
   "outputs": [],
   "source": [
    "avg_gender = newdf.groupby('gender').agg(np.mean)"
   ]
  },
  {
   "cell_type": "code",
   "execution_count": 416,
   "metadata": {
    "collapsed": false
   },
   "outputs": [
    {
     "data": {
      "text/html": [
       "<div>\n",
       "<table border=\"1\" class=\"dataframe\">\n",
       "  <thead>\n",
       "    <tr style=\"text-align: right;\">\n",
       "      <th></th>\n",
       "      <th>counter</th>\n",
       "      <th>name_fields</th>\n",
       "      <th>name_counts</th>\n",
       "      <th>ind_group</th>\n",
       "      <th>class</th>\n",
       "      <th>summ_missing</th>\n",
       "      <th>num_tokens</th>\n",
       "      <th>avg_len</th>\n",
       "    </tr>\n",
       "    <tr>\n",
       "      <th>gender</th>\n",
       "      <th></th>\n",
       "      <th></th>\n",
       "      <th></th>\n",
       "      <th></th>\n",
       "      <th></th>\n",
       "      <th></th>\n",
       "      <th></th>\n",
       "      <th></th>\n",
       "    </tr>\n",
       "  </thead>\n",
       "  <tbody>\n",
       "    <tr>\n",
       "      <th>female</th>\n",
       "      <td>1</td>\n",
       "      <td>2.151990</td>\n",
       "      <td>15.789302</td>\n",
       "      <td>2</td>\n",
       "      <td>0.172211</td>\n",
       "      <td>0.358774</td>\n",
       "      <td>62.007175</td>\n",
       "      <td>6.441174</td>\n",
       "    </tr>\n",
       "    <tr>\n",
       "      <th>male</th>\n",
       "      <td>1</td>\n",
       "      <td>2.158742</td>\n",
       "      <td>40.546452</td>\n",
       "      <td>2</td>\n",
       "      <td>0.851500</td>\n",
       "      <td>0.350158</td>\n",
       "      <td>66.390880</td>\n",
       "      <td>6.402207</td>\n",
       "    </tr>\n",
       "  </tbody>\n",
       "</table>\n",
       "</div>"
      ],
      "text/plain": [
       "        counter  name_fields  name_counts  ind_group     class  summ_missing  \\\n",
       "gender                                                                         \n",
       "female        1     2.151990    15.789302          2  0.172211      0.358774   \n",
       "male          1     2.158742    40.546452          2  0.851500      0.350158   \n",
       "\n",
       "        num_tokens   avg_len  \n",
       "gender                        \n",
       "female   62.007175  6.441174  \n",
       "male     66.390880  6.402207  "
      ]
     },
     "execution_count": 416,
     "metadata": {},
     "output_type": "execute_result"
    }
   ],
   "source": [
    "avg_gender"
   ]
  },
  {
   "cell_type": "code",
   "execution_count": 418,
   "metadata": {
    "collapsed": true
   },
   "outputs": [],
   "source": [
    "# Only include rows with summaries\n",
    "newdf = newdf[newdf['summ_missing'] == 0]"
   ]
  },
  {
   "cell_type": "code",
   "execution_count": 419,
   "metadata": {
    "collapsed": false
   },
   "outputs": [],
   "source": [
    "# lexical diversity = number of unique tokens / total number of tokens\n",
    "newdf['lex_diversity'] = newdf['summ_tokens'].apply(lambda x: len(set(x))/len(x))\n"
   ]
  },
  {
   "cell_type": "code",
   "execution_count": 420,
   "metadata": {
    "collapsed": true
   },
   "outputs": [
    {
     "data": {
      "text/html": [
       "<div>\n",
       "<table border=\"1\" class=\"dataframe\">\n",
       "  <thead>\n",
       "    <tr style=\"text-align: right;\">\n",
       "      <th></th>\n",
       "      <th>first_name</th>\n",
       "      <th>full_name</th>\n",
       "      <th>html</th>\n",
       "      <th>industry</th>\n",
       "      <th>location</th>\n",
       "      <th>summary</th>\n",
       "      <th>title</th>\n",
       "      <th>counter</th>\n",
       "      <th>source</th>\n",
       "      <th>full_name_fields</th>\n",
       "      <th>...</th>\n",
       "      <th>gender_type</th>\n",
       "      <th>gender_forced</th>\n",
       "      <th>name_counts</th>\n",
       "      <th>ind_group</th>\n",
       "      <th>class</th>\n",
       "      <th>summ_missing</th>\n",
       "      <th>summ_tokens</th>\n",
       "      <th>num_tokens</th>\n",
       "      <th>avg_len</th>\n",
       "      <th>lex_diversity</th>\n",
       "    </tr>\n",
       "  </thead>\n",
       "  <tbody>\n",
       "    <tr>\n",
       "      <th>0</th>\n",
       "      <td>aaron</td>\n",
       "      <td>aaron haesaert</td>\n",
       "      <td>../../data/raw/2015-12-23-holyoke/aaron-haesae...</td>\n",
       "      <td>design</td>\n",
       "      <td>South Hadley, Massachusetts</td>\n",
       "      <td>as creative director aaron works with clients...</td>\n",
       "      <td>Creative Director at Mount Holyoke College</td>\n",
       "      <td>1</td>\n",
       "      <td>holyoke</td>\n",
       "      <td>['aaron', 'haesaert']</td>\n",
       "      <td>...</td>\n",
       "      <td>male</td>\n",
       "      <td>male</td>\n",
       "      <td>1</td>\n",
       "      <td>2</td>\n",
       "      <td>1</td>\n",
       "      <td>0</td>\n",
       "      <td>[as, creative, director, aaron, works, with, c...</td>\n",
       "      <td>147</td>\n",
       "      <td>5.333333</td>\n",
       "      <td>0.659864</td>\n",
       "    </tr>\n",
       "    <tr>\n",
       "      <th>31</th>\n",
       "      <td>aimee</td>\n",
       "      <td>aimee garn</td>\n",
       "      <td>../../data/raw/2015-12-23-holyoke/aimee-garn-1...</td>\n",
       "      <td>design</td>\n",
       "      <td>Greater New York City Area</td>\n",
       "      <td>for the past few decades i have been a journe...</td>\n",
       "      <td>Creative Journeyman</td>\n",
       "      <td>1</td>\n",
       "      <td>holyoke</td>\n",
       "      <td>['aimee', 'garn']</td>\n",
       "      <td>...</td>\n",
       "      <td>female</td>\n",
       "      <td>female</td>\n",
       "      <td>2</td>\n",
       "      <td>2</td>\n",
       "      <td>0</td>\n",
       "      <td>0</td>\n",
       "      <td>[for, the, past, few, decades, i, have, been, ...</td>\n",
       "      <td>79</td>\n",
       "      <td>5.379747</td>\n",
       "      <td>0.797468</td>\n",
       "    </tr>\n",
       "    <tr>\n",
       "      <th>55</th>\n",
       "      <td>alexana</td>\n",
       "      <td>alexana wirth</td>\n",
       "      <td>../../data/raw/2015-12-23-holyoke/alexandrawir...</td>\n",
       "      <td>mechanical or industrial engineering</td>\n",
       "      <td>Portland, Maine</td>\n",
       "      <td>currently working towards a bs in mechanical ...</td>\n",
       "      <td>Mechanical Engineering Student at the Universi...</td>\n",
       "      <td>1</td>\n",
       "      <td>holyoke</td>\n",
       "      <td>['alexana', 'wirth']</td>\n",
       "      <td>...</td>\n",
       "      <td>predicted</td>\n",
       "      <td>female</td>\n",
       "      <td>4</td>\n",
       "      <td>2</td>\n",
       "      <td>0</td>\n",
       "      <td>0</td>\n",
       "      <td>[currently, working, towards, a, bs, in, mecha...</td>\n",
       "      <td>65</td>\n",
       "      <td>5.584615</td>\n",
       "      <td>0.800000</td>\n",
       "    </tr>\n",
       "    <tr>\n",
       "      <th>66</th>\n",
       "      <td>ali</td>\n",
       "      <td>ali aslam</td>\n",
       "      <td>../../data/raw/2015-12-23-holyoke/aliaslam.html</td>\n",
       "      <td>computer software</td>\n",
       "      <td>Greater Boston Area</td>\n",
       "      <td>seasoned software engineer with extensive exp...</td>\n",
       "      <td>Senior Software Engineer at Novetta</td>\n",
       "      <td>1</td>\n",
       "      <td>holyoke</td>\n",
       "      <td>['ali', 'aslam']</td>\n",
       "      <td>...</td>\n",
       "      <td>male</td>\n",
       "      <td>male</td>\n",
       "      <td>4</td>\n",
       "      <td>2</td>\n",
       "      <td>1</td>\n",
       "      <td>0</td>\n",
       "      <td>[seasoned, software, engineer, with, extensive...</td>\n",
       "      <td>146</td>\n",
       "      <td>6.095890</td>\n",
       "      <td>0.753425</td>\n",
       "    </tr>\n",
       "    <tr>\n",
       "      <th>68</th>\n",
       "      <td>ali</td>\n",
       "      <td>ali r khan</td>\n",
       "      <td>../../data/raw/2015-12-23-holyoke/khanalir.html</td>\n",
       "      <td>information technology and services</td>\n",
       "      <td>Greater Boston Area</td>\n",
       "      <td>\\texperienced project program manager offerin...</td>\n",
       "      <td>Vice President at State Street</td>\n",
       "      <td>1</td>\n",
       "      <td>holyoke</td>\n",
       "      <td>['ali', 'r', 'khan']</td>\n",
       "      <td>...</td>\n",
       "      <td>male</td>\n",
       "      <td>male</td>\n",
       "      <td>4</td>\n",
       "      <td>2</td>\n",
       "      <td>1</td>\n",
       "      <td>0</td>\n",
       "      <td>[experienced, project, program, manager, offer...</td>\n",
       "      <td>138</td>\n",
       "      <td>6.956522</td>\n",
       "      <td>0.760870</td>\n",
       "    </tr>\n",
       "  </tbody>\n",
       "</table>\n",
       "<p>5 rows × 22 columns</p>\n",
       "</div>"
      ],
      "text/plain": [
       "   first_name       full_name  \\\n",
       "0       aaron  aaron haesaert   \n",
       "31      aimee      aimee garn   \n",
       "55    alexana   alexana wirth   \n",
       "66        ali       ali aslam   \n",
       "68        ali      ali r khan   \n",
       "\n",
       "                                                 html  \\\n",
       "0   ../../data/raw/2015-12-23-holyoke/aaron-haesae...   \n",
       "31  ../../data/raw/2015-12-23-holyoke/aimee-garn-1...   \n",
       "55  ../../data/raw/2015-12-23-holyoke/alexandrawir...   \n",
       "66    ../../data/raw/2015-12-23-holyoke/aliaslam.html   \n",
       "68    ../../data/raw/2015-12-23-holyoke/khanalir.html   \n",
       "\n",
       "                                industry                     location  \\\n",
       "0                                 design  South Hadley, Massachusetts   \n",
       "31                                design   Greater New York City Area   \n",
       "55  mechanical or industrial engineering              Portland, Maine   \n",
       "66                     computer software          Greater Boston Area   \n",
       "68   information technology and services          Greater Boston Area   \n",
       "\n",
       "                                              summary  \\\n",
       "0    as creative director aaron works with clients...   \n",
       "31   for the past few decades i have been a journe...   \n",
       "55   currently working towards a bs in mechanical ...   \n",
       "66   seasoned software engineer with extensive exp...   \n",
       "68   \\texperienced project program manager offerin...   \n",
       "\n",
       "                                                title  counter   source  \\\n",
       "0          Creative Director at Mount Holyoke College        1  holyoke   \n",
       "31                                Creative Journeyman        1  holyoke   \n",
       "55  Mechanical Engineering Student at the Universi...        1  holyoke   \n",
       "66                Senior Software Engineer at Novetta        1  holyoke   \n",
       "68                     Vice President at State Street        1  holyoke   \n",
       "\n",
       "         full_name_fields      ...        gender_type gender_forced  \\\n",
       "0   ['aaron', 'haesaert']      ...               male          male   \n",
       "31      ['aimee', 'garn']      ...             female        female   \n",
       "55   ['alexana', 'wirth']      ...          predicted        female   \n",
       "66       ['ali', 'aslam']      ...               male          male   \n",
       "68   ['ali', 'r', 'khan']      ...               male          male   \n",
       "\n",
       "   name_counts ind_group  class  summ_missing  \\\n",
       "0            1         2      1             0   \n",
       "31           2         2      0             0   \n",
       "55           4         2      0             0   \n",
       "66           4         2      1             0   \n",
       "68           4         2      1             0   \n",
       "\n",
       "                                          summ_tokens  num_tokens   avg_len  \\\n",
       "0   [as, creative, director, aaron, works, with, c...         147  5.333333   \n",
       "31  [for, the, past, few, decades, i, have, been, ...          79  5.379747   \n",
       "55  [currently, working, towards, a, bs, in, mecha...          65  5.584615   \n",
       "66  [seasoned, software, engineer, with, extensive...         146  6.095890   \n",
       "68  [experienced, project, program, manager, offer...         138  6.956522   \n",
       "\n",
       "    lex_diversity  \n",
       "0        0.659864  \n",
       "31       0.797468  \n",
       "55       0.800000  \n",
       "66       0.753425  \n",
       "68       0.760870  \n",
       "\n",
       "[5 rows x 22 columns]"
      ]
     },
     "execution_count": 420,
     "metadata": {},
     "output_type": "execute_result"
    }
   ],
   "source": [
    "newdf.head()"
   ]
  },
  {
   "cell_type": "code",
   "execution_count": 421,
   "metadata": {
    "collapsed": false
   },
   "outputs": [
    {
     "data": {
      "text/plain": [
       "gender\n",
       "female    [[Axes(0.125,0.125;0.775x0.775)]]\n",
       "male      [[Axes(0.125,0.125;0.775x0.775)]]\n",
       "dtype: object"
      ]
     },
     "execution_count": 421,
     "metadata": {},
     "output_type": "execute_result"
    },
    {
     "data": {
      "image/png": "[encoded data removed]",
      "text/plain": [
       "<matplotlib.figure.Figure at 0x1175d6050>"
      ]
     },
     "metadata": {},
     "output_type": "display_data"
    },
    {
     "data": {
      "image/png": "[encoded data removed]",
      "text/plain": [
       "<matplotlib.figure.Figure at 0x117cc8810>"
      ]
     },
     "metadata": {},
     "output_type": "display_data"
    }
   ],
   "source": [
    "newdf.groupby('gender').hist('num_tokens')"
   ]
  },
  {
   "cell_type": "code",
   "execution_count": 422,
   "metadata": {
    "collapsed": false
   },
   "outputs": [
    {
     "data": {
      "text/plain": [
       "gender\n",
       "female    [[Axes(0.125,0.125;0.775x0.775)]]\n",
       "male      [[Axes(0.125,0.125;0.775x0.775)]]\n",
       "dtype: object"
      ]
     },
     "execution_count": 422,
     "metadata": {},
     "output_type": "execute_result"
    },
    {
     "data": {
      "image/png": "[encoded data removed]",
      "text/plain": [
       "<matplotlib.figure.Figure at 0x11814ad90>"
      ]
     },
     "metadata": {},
     "output_type": "display_data"
    },
    {
     "data": {
      "image/png": "[encoded data removed]",
      "text/plain": [
       "<matplotlib.figure.Figure at 0x11b11e690>"
      ]
     },
     "metadata": {},
     "output_type": "display_data"
    }
   ],
   "source": [
    "newdf.groupby('gender').hist('avg_len')"
   ]
  },
  {
   "cell_type": "code",
   "execution_count": 423,
   "metadata": {
    "collapsed": false
   },
   "outputs": [
    {
     "data": {
      "text/plain": [
       "gender\n",
       "female    [[Axes(0.125,0.125;0.775x0.775)]]\n",
       "male      [[Axes(0.125,0.125;0.775x0.775)]]\n",
       "dtype: object"
      ]
     },
     "execution_count": 423,
     "metadata": {},
     "output_type": "execute_result"
    },
    {
     "data": {
      "image/png": "[encoded data removed]",
      "text/plain": [
       "<matplotlib.figure.Figure at 0x11b74d110>"
      ]
     },
     "metadata": {},
     "output_type": "display_data"
    },
    {
     "data": {
      "image/png": "[encoded data removed]",
      "text/plain": [
       "<matplotlib.figure.Figure at 0x11b990fd0>"
      ]
     },
     "metadata": {},
     "output_type": "display_data"
    }
   ],
   "source": [
    "newdf.groupby('gender').hist('lex_diversity')"
   ]
  },
  {
   "cell_type": "code",
   "execution_count": 424,
   "metadata": {
    "collapsed": false
   },
   "outputs": [
    {
     "data": {
      "image/png": "[encoded data removed]",
      "text/plain": [
       "<matplotlib.figure.Figure at 0x11b7eda90>"
      ]
     },
     "metadata": {},
     "output_type": "display_data"
    }
   ],
   "source": [
    "bp = newdf.boxplot(column=['num_tokens'], by=['gender'])"
   ]
  },
  {
   "cell_type": "code",
   "execution_count": 425,
   "metadata": {
    "collapsed": false
   },
   "outputs": [
    {
     "data": {
      "image/png": "[encoded data removed]",
      "text/plain": [
       "<matplotlib.figure.Figure at 0x11bd56b90>"
      ]
     },
     "metadata": {},
     "output_type": "display_data"
    }
   ],
   "source": [
    "bp = newdf.boxplot(column=['avg_len'], by=['gender'])"
   ]
  },
  {
   "cell_type": "code",
   "execution_count": 427,
   "metadata": {
    "collapsed": false
   },
   "outputs": [
    {
     "data": {
      "text/plain": [
       "male      2665\n",
       "female     983\n",
       "Name: gender, dtype: int64"
      ]
     },
     "execution_count": 427,
     "metadata": {},
     "output_type": "execute_result"
    }
   ],
   "source": [
    "# The breakdown by gender of the final dataset used for train and test\n",
    "newdf.gender.value_counts()"
   ]
  },
  {
   "cell_type": "code",
   "execution_count": 429,
   "metadata": {
    "collapsed": false
   },
   "outputs": [
    {
     "name": "stdout",
     "output_type": "stream",
     "text": [
      "<class 'pandas.core.frame.DataFrame'>\n",
      "Int64Index: 3648 entries, 0 to 31410\n",
      "Data columns (total 22 columns):\n",
      "first_name          3648 non-null object\n",
      "full_name           3648 non-null object\n",
      "html                3648 non-null object\n",
      "industry            3648 non-null object\n",
      "location            3648 non-null object\n",
      "summary             3648 non-null object\n",
      "title               3648 non-null object\n",
      "counter             3648 non-null float64\n",
      "source              3648 non-null object\n",
      "full_name_fields    3648 non-null object\n",
      "name_fields         3648 non-null int64\n",
      "gender              3648 non-null object\n",
      "gender_type         3648 non-null object\n",
      "gender_forced       3648 non-null object\n",
      "name_counts         3648 non-null int64\n",
      "ind_group           3648 non-null int64\n",
      "class               3648 non-null int64\n",
      "summ_missing        3648 non-null int64\n",
      "summ_tokens         3648 non-null object\n",
      "num_tokens          3648 non-null int64\n",
      "avg_len             3648 non-null float64\n",
      "lex_diversity       3648 non-null float64\n",
      "dtypes: float64(3), int64(6), object(13)\n",
      "memory usage: 655.5+ KB\n"
     ]
    }
   ],
   "source": [
    "newdf.info()"
   ]
  },
  {
   "cell_type": "code",
   "execution_count": null,
   "metadata": {
    "collapsed": true
   },
   "outputs": [],
   "source": []
  },
  {
   "cell_type": "markdown",
   "metadata": {},
   "source": [
    "# Basic Vocabulary Study"
   ]
  },
  {
   "cell_type": "code",
   "execution_count": null,
   "metadata": {
    "collapsed": true
   },
   "outputs": [],
   "source": [
    "females_df = df[df['gender']=='female']\n",
    "males_df = df[df['gender'] =='male']"
   ]
  },
  {
   "cell_type": "code",
   "execution_count": null,
   "metadata": {
    "collapsed": true
   },
   "outputs": [],
   "source": [
    "def remove_digits(mystr):\n",
    "    '''\n",
    "    INPUT: list of tokens \n",
    "    OUTPUT: list of tokens with digits removed\n",
    "    '''\n",
    "    return [word for word in mystr if not word.isdigit()]\n",
    "        "
   ]
  },
  {
   "cell_type": "code",
   "execution_count": null,
   "metadata": {
    "collapsed": false
   },
   "outputs": [],
   "source": [
    "def get_vocab(input_df):\n",
    "    tokens_by_row = input_df['summ_tokens']\n",
    "    vocab = []\n",
    "    for row in tokens_by_row:\n",
    "        row = remove_digits(row)\n",
    "        for word in row:\n",
    "            if word not in stopwords:\n",
    "                vocab.append(word) \n",
    "    return vocab"
   ]
  },
  {
   "cell_type": "code",
   "execution_count": null,
   "metadata": {
    "collapsed": false
   },
   "outputs": [],
   "source": [
    "vocab = get_vocab(df)"
   ]
  },
  {
   "cell_type": "code",
   "execution_count": null,
   "metadata": {
    "collapsed": false
   },
   "outputs": [],
   "source": [
    "# freq distribution\n",
    "freq_dist = nltk.FreqDist(vocab)\n",
    "freq_dist.most_common(30)\n",
    "freq_dist.plot(30)\n"
   ]
  },
  {
   "cell_type": "code",
   "execution_count": null,
   "metadata": {
    "collapsed": false
   },
   "outputs": [],
   "source": [
    "f_vocab = get_vocab(females_df)\n",
    "m_vocab = get_vocab(males_df)"
   ]
  },
  {
   "cell_type": "code",
   "execution_count": null,
   "metadata": {
    "collapsed": false
   },
   "outputs": [],
   "source": [
    "m_freq_dist = nltk.FreqDist(m_vocab)\n",
    "#freq_dist.N\n",
    "m_freq_dist.most_common(30)\n",
    "#freq_dist.freq('management')\n",
    "m_freq_dist.plot(30)\n"
   ]
  },
  {
   "cell_type": "code",
   "execution_count": null,
   "metadata": {
    "collapsed": false
   },
   "outputs": [],
   "source": [
    "f_freq_dist = nltk.FreqDist(f_vocab)\n",
    "#freq_dist.N\n",
    "f_freq_dist.most_common(30)\n",
    "#freq_dist.freq('management')\n",
    "f_freq_dist.plot(30)\n"
   ]
  },
  {
   "cell_type": "code",
   "execution_count": null,
   "metadata": {
    "collapsed": false
   },
   "outputs": [],
   "source": [
    "print (f_freq_dist.freq('technology'))\n",
    "print (m_freq_dist.freq('technology'))"
   ]
  },
  {
   "cell_type": "markdown",
   "metadata": {},
   "source": [
    "# Predict gender using summary using RF - Baseline Model"
   ]
  },
  {
   "cell_type": "code",
   "execution_count": null,
   "metadata": {
    "collapsed": false
   },
   "outputs": [],
   "source": [
    "df['summary'] = df['summary'].astype(str)"
   ]
  },
  {
   "cell_type": "code",
   "execution_count": null,
   "metadata": {
    "collapsed": false
   },
   "outputs": [],
   "source": [
    "df.set_value(31431, 'first_name', 'nanname')\n",
    "df.set_value(31432, 'first_name', 'nanname')\n",
    "df.set_value(31433, 'first_name', 'nanname')\n",
    "df.set_value(31434, 'first_name', 'nanname')\n",
    "df.set_value(31431, 'gender', 'female')\n",
    "df.set_value(31432, 'gender', 'female')\n",
    "df.set_value(31433, 'gender', 'female')\n",
    "df.set_value(31434, 'gender', 'female')"
   ]
  },
  {
   "cell_type": "code",
   "execution_count": null,
   "metadata": {
    "collapsed": false
   },
   "outputs": [],
   "source": [
    "# Check for any nans in the DF\n",
    "df[pd.isnull(df).any(axis=1)]\n"
   ]
  },
  {
   "cell_type": "code",
   "execution_count": null,
   "metadata": {
    "collapsed": false
   },
   "outputs": [],
   "source": [
    "from nltk import word_tokenize          \n",
    "import pdb\n",
    "stemmer = SnowballStemmer(\"english\")\n",
    "def stem_tokens(tokens, stemmer):\n",
    "    stemmed = []\n",
    "    for item in tokens:\n",
    "        stemmed.append(stemmer.stem(item))\n",
    "    return stemmed\n",
    "\n",
    "def tokenize(text):\n",
    "    tokens = word_tokenize(text)\n",
    "    row = remove_digits(tokens)\n",
    "    stems = stem_tokens(row, stemmer)\n",
    "    return stems\n",
    "\n",
    "def tokenize_no_stem(text):\n",
    "    tokens = word_tokenize(text)\n",
    "    row = remove_digits(tokens)\n",
    "    stems = stem_tokens(row, stemmer)\n",
    "    return tokens    "
   ]
  },
  {
   "cell_type": "code",
   "execution_count": null,
   "metadata": {
    "collapsed": true
   },
   "outputs": [],
   "source": [
    "X_train, X_test, y_train, y_test = train_test_split(df['summary'], df['class'], test_size=0.3, random_state=0)"
   ]
  },
  {
   "cell_type": "code",
   "execution_count": null,
   "metadata": {
    "collapsed": false
   },
   "outputs": [],
   "source": [
    "temp = np.array(y_test)\n",
    "len(temp[(temp == 0)])"
   ]
  },
  {
   "cell_type": "code",
   "execution_count": null,
   "metadata": {
    "collapsed": false
   },
   "outputs": [],
   "source": [
    "print (\"Creating the bag of words...\\n\")\n",
    "vectorizer = CountVectorizer(analyzer = \"word\",   \\\n",
    "                             tokenizer = tokenize_no_stem,    \\\n",
    "                             preprocessor = None, \\\n",
    "                             stop_words = stopwords,   \\\n",
    "                             max_features = 5000) "
   ]
  },
  {
   "cell_type": "code",
   "execution_count": null,
   "metadata": {
    "collapsed": true
   },
   "outputs": [],
   "source": [
    "tfidf = TfidfVectorizer(analyzer = 'word', tokenizer = tokenize_no_stem, stop_words = stopwords, max_features = 5000)"
   ]
  },
  {
   "cell_type": "code",
   "execution_count": null,
   "metadata": {
    "collapsed": true
   },
   "outputs": [],
   "source": [
    "train_tfidf = tfidf.fit_transform(X_train)"
   ]
  },
  {
   "cell_type": "code",
   "execution_count": null,
   "metadata": {
    "collapsed": false
   },
   "outputs": [],
   "source": [
    "X_train.shape"
   ]
  },
  {
   "cell_type": "code",
   "execution_count": null,
   "metadata": {
    "collapsed": true
   },
   "outputs": [],
   "source": [
    "train_tfidf = train_tfidf.toarray()\n",
    "feature_names_tfidf = tfidf.get_feature_names()"
   ]
  },
  {
   "cell_type": "code",
   "execution_count": null,
   "metadata": {
    "collapsed": false
   },
   "outputs": [],
   "source": [
    "feature_names_tfidf[1]"
   ]
  },
  {
   "cell_type": "code",
   "execution_count": null,
   "metadata": {
    "collapsed": false
   },
   "outputs": [],
   "source": [
    "# fit_transform() does two functions: First, it fits the model\n",
    "# and learns the vocabulary; second, it transforms our training data\n",
    "# into feature vectors. The input to fit_transform should be a list of \n",
    "# strings.\n",
    "train_countv = vectorizer.fit_transform(X_train)"
   ]
  },
  {
   "cell_type": "code",
   "execution_count": null,
   "metadata": {
    "collapsed": false
   },
   "outputs": [],
   "source": [
    "# Numpy arrays are easy to work with, so convert the result to an \n",
    "# array\n",
    "train_countv= train_countv.toarray()\n",
    "feature_names_countv = vectorizer.get_feature_names()"
   ]
  },
  {
   "cell_type": "code",
   "execution_count": null,
   "metadata": {
    "collapsed": false
   },
   "outputs": [],
   "source": [
    "# Take a look at the words in the vocabulary\n",
    "print (feature_names_countv)"
   ]
  },
  {
   "cell_type": "code",
   "execution_count": null,
   "metadata": {
    "collapsed": false
   },
   "outputs": [],
   "source": [
    "print (\"Training the random forest...\")\n",
    "\n",
    "# Initialize a Random Forest classifier with 100 trees\n",
    "forest = RandomForestClassifier(n_estimators = 100) \n",
    "\n",
    "# Fit the forest to the training set, using the bag of words as \n",
    "# features and the sentiment labels as the response variable\n",
    "#\n",
    "# This may take a few minutes to run\n",
    "forest_cv = forest.fit(train_countv, y_train)\n",
    "\n",
    "forest_tfidf = forest.fit(train_tfidf, y_train)"
   ]
  },
  {
   "cell_type": "code",
   "execution_count": null,
   "metadata": {
    "collapsed": false
   },
   "outputs": [],
   "source": [
    "forest_cv"
   ]
  },
  {
   "cell_type": "code",
   "execution_count": null,
   "metadata": {
    "collapsed": false
   },
   "outputs": [],
   "source": [
    "# Testing\n",
    "\n",
    "# Get a bag of words for the test set, and convert to a numpy array\n",
    "#test_data_features = vectorizer.transform(X_test)\n",
    "test_features_tfidf = tfidf.transform(X_test)\n",
    "test_features_tfidf = test_features_tfidf.toarray()\n",
    "\n",
    "# Use the random forest to make sentiment label predictions\n",
    "yhat = forest_tfidf.predict(test_features_tfidf)\n",
    "probX = forest_tfidf.predict_proba(test_features_tfidf)\n"
   ]
  },
  {
   "cell_type": "code",
   "execution_count": null,
   "metadata": {
    "collapsed": true
   },
   "outputs": [],
   "source": [
    "acc = forest.score(test_features_tfidf, y_test)"
   ]
  },
  {
   "cell_type": "code",
   "execution_count": null,
   "metadata": {
    "collapsed": false
   },
   "outputs": [],
   "source": [
    "acc"
   ]
  },
  {
   "cell_type": "code",
   "execution_count": null,
   "metadata": {
    "collapsed": false
   },
   "outputs": [],
   "source": [
    "yhat.shape"
   ]
  },
  {
   "cell_type": "code",
   "execution_count": null,
   "metadata": {
    "collapsed": false
   },
   "outputs": [],
   "source": [
    "print (\"Precision Score: {0}\".format(precision_score(y_test, yhat)))\n",
    "print (\"Recall Score: {0}\".format(recall_score(y_test, yhat)))\n",
    "print (\"AUC Score: {0}\".format(roc_auc_score(y_test, yhat)))\n",
    "print (\"Model Score:{0}\".format(forest.score(test_features_tfidf, y_test)))"
   ]
  },
  {
   "cell_type": "code",
   "execution_count": null,
   "metadata": {
    "collapsed": false
   },
   "outputs": [],
   "source": [
    "# print (\"Precision Score: {0}\".format(precision_score(y_test, yhat1)))\n",
    "# print (\"Recall Score: {0}\".format(recall_score(y_test, yhat1)))\n",
    "# print (\"AUC Score: {0}\".format(roc_auc_score(y_test, yhat1)))\n",
    "# print (\"Model Score:{0}\".format(forest.score(test_data_features, y_test)))"
   ]
  },
  {
   "cell_type": "code",
   "execution_count": null,
   "metadata": {
    "collapsed": false
   },
   "outputs": [],
   "source": [
    "fpr, tpr, thresholds = roc_curve(y_test, probX[:,1])"
   ]
  },
  {
   "cell_type": "code",
   "execution_count": null,
   "metadata": {
    "collapsed": true
   },
   "outputs": [],
   "source": [
    "fpr1, tpr1, thresholds1 = roc_curve(y_test, probX[:,1])"
   ]
  },
  {
   "cell_type": "code",
   "execution_count": null,
   "metadata": {
    "collapsed": true
   },
   "outputs": [],
   "source": [
    "fpr2, tpr2, thresholds2 = roc_curve(y_test, probX[:,1])"
   ]
  },
  {
   "cell_type": "code",
   "execution_count": null,
   "metadata": {
    "collapsed": false
   },
   "outputs": [],
   "source": [
    "thresholds[1:10]"
   ]
  },
  {
   "cell_type": "code",
   "execution_count": null,
   "metadata": {
    "collapsed": false
   },
   "outputs": [],
   "source": [
    "# ROC Curve\n",
    "fig = plt.figure()\n",
    "ax = fig.add_subplot(111)\n",
    "\n",
    "plt.plot(np.array(range(101))/100, np.array(range(101))/100, '--', color='black')\n",
    "plt.plot(fpr, tpr, label='rf-tfidf')\n",
    "#plt.plot(fpr1, tpr1, label='rf-stemmed')\n",
    "#plt.plot(fpr2, tpr2, label='rf-tfidf')\n",
    "plt.ylabel(\"True Positive Rate \")\n",
    "plt.xlabel(\"False Positive Rate\")\n",
    "plt.title(\"ROC plot\")\n",
    "plt.legend(loc='lower right')\n",
    "\n",
    "plt.grid()\n",
    "plt.show()\n",
    "\n"
   ]
  },
  {
   "cell_type": "code",
   "execution_count": null,
   "metadata": {
    "collapsed": false
   },
   "outputs": [],
   "source": [
    "df['summary'].values"
   ]
  },
  {
   "cell_type": "code",
   "execution_count": null,
   "metadata": {
    "collapsed": false
   },
   "outputs": [],
   "source": [
    "# Most important features\n",
    "num = 50\n",
    "imp = forest.feature_importances_\n",
    "feature_names = np.array(feature_names_tfidf)\n",
    "features = feature_names[np.argsort(imp)[-num:]]\n",
    "weights = imp[np.argsort(imp)[-num:]]\n",
    "feats_with_vals = zip(features, weights)\n",
    "for x in feats_with_vals:\n",
    "    print (x)\n"
   ]
  },
  {
   "cell_type": "code",
   "execution_count": null,
   "metadata": {
    "collapsed": true
   },
   "outputs": [],
   "source": []
  },
  {
   "cell_type": "markdown",
   "metadata": {},
   "source": [
    "# Topic Modeling with 5000 features: NMF"
   ]
  },
  {
   "cell_type": "markdown",
   "metadata": {},
   "source": [
    "### 1. All profiles"
   ]
  },
  {
   "cell_type": "code",
   "execution_count": null,
   "metadata": {
    "collapsed": true
   },
   "outputs": [],
   "source": [
    "females = df[df['gender'] == 'female']\n",
    "males = df[df['gender'] == 'male']"
   ]
  },
  {
   "cell_type": "code",
   "execution_count": null,
   "metadata": {
    "collapsed": false
   },
   "outputs": [],
   "source": [
    "X = df['summ_tokens']\n",
    "y = np.array(df['class'])"
   ]
  },
  {
   "cell_type": "code",
   "execution_count": null,
   "metadata": {
    "collapsed": true
   },
   "outputs": [],
   "source": [
    "# Print the top 20 words and weights for each topic\n",
    "def print_top_weights(model, feature_names, n_top_words):\n",
    "    for topic_idx, topic in enumerate(H):\n",
    "        print(\"Topic #%d:\" % topic_idx)\n",
    "        top_weights = topic.argsort()[:-n_top_words - 1:-1]\n",
    "        #print (top_weights)\n",
    "        print (\" \".join([\"{0}, {1}\".format(feature_names[x], topic[x]) for x in top_weights]))\n",
    "    print()\n",
    "    \n",
    "\n",
    "# Print the most probable topic for each document/profile\n",
    "def profiles_by_topic(W):\n",
    "    top_idx = np.zeros([W.shape[0],1], dtype=float)\n",
    "    for row_idx, row in enumerate(W):\n",
    "        topic_idx = row.argsort()[-1]  \n",
    "        top_idx[row_idx] = topic_idx\n",
    "    topics, counts = np.unique(top_idx, return_counts=True)\n",
    "    print (np.asarray((topics, counts)).T)\n",
    "    return top_idx"
   ]
  },
  {
   "cell_type": "code",
   "execution_count": null,
   "metadata": {
    "collapsed": false
   },
   "outputs": [],
   "source": [
    "#tokenize: function that is stemming using SnowballStemmer\n",
    "#stopwords: custom stop words\n",
    "def run_topic_model_tfidf(X, stopwords):\n",
    "    print (\"Bag of Words, Tfidf\\n\")\n",
    "    \n",
    "    vectorizer = TfidfVectorizer(analyzer = 'word', tokenizer = tokenize_no_stem, stop_words = stopwords, max_features = 5000)\n",
    "    word_frequencies = vectorizer.fit_transform(X)\n",
    "\n",
    "    # Numpy arrays are easy to work with, so convert the result to an \n",
    "    # array\n",
    "    word_frequencies = word_frequencies.toarray()\n",
    "    feature_names = vectorizer.get_feature_names()\n",
    "\n",
    "    # NMF Model to determine topics\n",
    "    nmf_model = NMF(n_components=7, init='random', random_state=0)\n",
    "    W = nmf_model.fit_transform(word_frequencies)\n",
    "    # H: Topics * Words\n",
    "    H = nmf_model.components_\n",
    "    print (H.shape, W.shape)\n",
    "    \n",
    "    n_top_words = 20\n",
    "    # Print weights and topics for the top 20 topics\n",
    "    for topic_idx, topic in enumerate(H):\n",
    "        print(\"Topic #%d:\" % topic_idx)\n",
    "        top_weights = topic.argsort()[:-n_top_words - 1:-1]\n",
    "        print (\" \".join([\"{0}\".format(feature_names[x]) for x in top_weights]))\n",
    "    print()\n",
    "    \n",
    "    # Highest Weighted Topic for each profile\n",
    "    print (\"Number of profiles by topic\\n\")\n",
    "    top_idx = profiles_by_topic(W) \n",
    "    \n",
    "    return nmf_model, W, top_idx"
   ]
  },
  {
   "cell_type": "code",
   "execution_count": null,
   "metadata": {
    "collapsed": true
   },
   "outputs": [],
   "source": [
    "#tokenize: function that is stemming using SnowballStemmer\n",
    "#stopwords: custom stop words\n",
    "def run_topic_model_countv(X, stopwords):\n",
    "    print (\"Bag of words, Count Vectorizer...\\n\")\n",
    "    vectorizer = CountVectorizer(analyzer = \"word\",   \\\n",
    "                                 tokenizer = tokenize_no_stem,    \\\n",
    "                                 preprocessor = None, \\\n",
    "                                 stop_words = stopwords,   \\\n",
    "                                 max_features = 5000) \n",
    "\n",
    "\n",
    "    # fit_transform() does two functions: First, it fits the model\n",
    "    # and learns the vocabulary; second, it transforms our training data\n",
    "    # into feature vectors. The input to fit_transform should be a list of \n",
    "    # strings.\n",
    "    word_frequencies = vectorizer.fit_transform(X)\n",
    "\n",
    "    # Numpy arrays are easy to work with, so convert the result to an \n",
    "    # array\n",
    "    word_frequencies = word_frequencies.toarray()\n",
    "    feature_names = vectorizer.get_feature_names()\n",
    "\n",
    "    # NMF Model to determine topics\n",
    "    nmf_model = NMF(n_components=10, init='random', random_state=0)\n",
    "    W = nmf_model.fit_transform(word_frequencies)\n",
    "    # H: Topics * Words\n",
    "    H = nmf_model.components_\n",
    "    print (H.shape, W.shape)\n",
    "    \n",
    "    n_top_words = 20\n",
    "    # Print weights and topics for the top 20 topics\n",
    "    for topic_idx, topic in enumerate(H):\n",
    "        print(\"Topic #%d:\" % topic_idx)\n",
    "        top_weights = topic.argsort()[:-n_top_words - 1:-1]\n",
    "        #print (\" \".join([\"{0}\".format(feature_names[x]) for x in top_weights]))\n",
    "        print (\" \".join([\"{0}, {1}\".format(feature_names[x], topic[x]) for x in top_weights]))\n",
    "    print()\n",
    "    \n",
    "    print (\"Number of profiles by Topic\\n\")\n",
    "    top_idx = profiles_by_topic(W)\n",
    "    \n",
    "    print (\"Example Profiles by Topic\\n\")\n",
    "    \n",
    "    \n",
    "    return nmf_model, W, top_idx"
   ]
  },
  {
   "cell_type": "markdown",
   "metadata": {},
   "source": [
    "# Topics for Female Profiles - TFIDF"
   ]
  },
  {
   "cell_type": "code",
   "execution_count": null,
   "metadata": {
    "collapsed": true
   },
   "outputs": [],
   "source": [
    "X = females['summary']\n",
    "y = np.array(females['class'])\n",
    "\n",
    "nmf_model, W, top_idx = run_topic_model_tfidf(X, stopwords)\n"
   ]
  },
  {
   "cell_type": "markdown",
   "metadata": {},
   "source": [
    "# Female Topics - Count Vectorizer"
   ]
  },
  {
   "cell_type": "code",
   "execution_count": null,
   "metadata": {
    "collapsed": false
   },
   "outputs": [],
   "source": [
    "X = females['summary']\n",
    "y = np.array(females['class'])\n",
    "\n",
    "nmf_model, W, top_idx = run_topic_model_countv(X, stopwords)\n",
    "\n"
   ]
  },
  {
   "cell_type": "markdown",
   "metadata": {},
   "source": [
    "# Topics for Male Profiles - TFIDF"
   ]
  },
  {
   "cell_type": "code",
   "execution_count": null,
   "metadata": {
    "collapsed": true
   },
   "outputs": [],
   "source": [
    "X = males['summary']\n",
    "y = np.array(males['class'])\n",
    "\n",
    "nmf_model, W, top_idx = run_topic_model_tfidf(X, stopwords)\n"
   ]
  },
  {
   "cell_type": "markdown",
   "metadata": {},
   "source": [
    "# Male Topics - CountVectorizer"
   ]
  },
  {
   "cell_type": "code",
   "execution_count": null,
   "metadata": {
    "collapsed": false
   },
   "outputs": [],
   "source": [
    "X = males['summary']\n",
    "y = np.array(males['class'])\n",
    "\n",
    "nmf_model, W, top_idx = run_topic_model_countv(X, stopwords)"
   ]
  },
  {
   "cell_type": "code",
   "execution_count": null,
   "metadata": {
    "collapsed": true
   },
   "outputs": [],
   "source": [
    "# Number of profiles clustered by topic number\n",
    "# Do this again after stemming"
   ]
  },
  {
   "cell_type": "code",
   "execution_count": null,
   "metadata": {
    "collapsed": false
   },
   "outputs": [],
   "source": [
    "top_idx[1:10]"
   ]
  },
  {
   "cell_type": "code",
   "execution_count": null,
   "metadata": {
    "collapsed": false
   },
   "outputs": [],
   "source": [
    "males.ix[0]['summary'] # Topic 3"
   ]
  },
  {
   "cell_type": "code",
   "execution_count": null,
   "metadata": {
    "collapsed": false
   },
   "outputs": [],
   "source": [
    "males.ix[1]['summary'] # Topic 4"
   ]
  },
  {
   "cell_type": "code",
   "execution_count": null,
   "metadata": {
    "collapsed": false
   },
   "outputs": [],
   "source": [
    "males.ix[4]['summary'] # Topic 9"
   ]
  },
  {
   "cell_type": "code",
   "execution_count": null,
   "metadata": {
    "collapsed": true
   },
   "outputs": [],
   "source": [
    "# Generating a word cloud:\n",
    "#https://github.com/amueller/word_cloud/blob/master/examples/simple.py\n",
    "    \n",
    "from os import path\n",
    "from wordcloud import WordCloud\n",
    "\n",
    "d = path.dirname(__file__)\n",
    "\n",
    "# Read the whole text.\n",
    "text = open(path.join(d, 'constitution.txt')).read()\n",
    "\n",
    "# Generate a word cloud image\n",
    "wordcloud = WordCloud().generate(text)\n",
    "\n",
    "# Display the generated image:\n",
    "# the matplotlib way:\n",
    "import matplotlib.pyplot as plt\n",
    "plt.imshow(wordcloud)\n",
    "plt.axis(\"off\")\n",
    "\n",
    "# take relative word frequencies into account, lower max_font_size\n",
    "wordcloud = WordCloud(max_font_size=40, relative_scaling=.5).generate(text)\n",
    "plt.figure()\n",
    "plt.imshow(wordcloud)\n",
    "plt.axis(\"off\")\n",
    "plt.show()"
   ]
  },
  {
   "cell_type": "code",
   "execution_count": null,
   "metadata": {
    "collapsed": true
   },
   "outputs": [],
   "source": [
    "#http://stanford.edu/~mwaskom/software/seaborn/examples/grouped_boxplot.html\n",
    "import seaborn as sns\n",
    "sns.set(style=\"ticks\")\n",
    "\n",
    "# Load the example tips dataset\n",
    "tips = sns.load_dataset(\"tips\")\n",
    "\n",
    "# Draw a nested boxplot to show bills by day and sex\n",
    "sns.boxplot(x=\"day\", y=\"total_bill\", hue=\"sex\", data=tips, palette=\"PRGn\")\n",
    "sns.despine(offset=10, trim=True)"
   ]
  },
  {
   "cell_type": "code",
   "execution_count": 430,
   "metadata": {
    "collapsed": false
   },
   "outputs": [
    {
     "data": {
      "text/plain": [
       "197.43589743589743"
      ]
     },
     "execution_count": 430,
     "metadata": {},
     "output_type": "execute_result"
    }
   ],
   "source": [
    "770000/3900"
   ]
  },
  {
   "cell_type": "code",
   "execution_count": 431,
   "metadata": {
    "collapsed": false
   },
   "outputs": [
    {
     "data": {
      "text/plain": [
       "2000"
      ]
     },
     "execution_count": 431,
     "metadata": {},
     "output_type": "execute_result"
    }
   ],
   "source": [
    "200*10"
   ]
  },
  {
   "cell_type": "code",
   "execution_count": null,
   "metadata": {
    "collapsed": true
   },
   "outputs": [],
   "source": []
  }
 ],
 "metadata": {
  "kernelspec": {
   "display_name": "Python 2",
   "language": "python",
   "name": "python2"
  },
  "language_info": {
   "codemirror_mode": {
    "name": "ipython",
    "version": 2
   },
   "file_extension": ".py",
   "mimetype": "text/x-python",
   "name": "python",
   "nbconvert_exporter": "python",
   "pygments_lexer": "ipython2",
   "version": "2.7.10"
  }
 },
 "nbformat": 4,
 "nbformat_minor": 0
}
