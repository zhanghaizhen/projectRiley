{
 "cells": [
  {
   "cell_type": "code",
   "execution_count": 3,
   "metadata": {
    "collapsed": false
   },
   "outputs": [],
   "source": [
    "from __future__ import division\n",
    "from __future__ import print_function\n",
    "import pandas as pd\n",
    "import numpy as np\n",
    "from collections import defaultdict\n",
    "from sklearn.linear_model import LogisticRegression\n",
    "from sklearn.naive_bayes import MultinomialNB\n",
    "from sklearn.grid_search import GridSearchCV\n",
    "from sklearn.cross_validation import train_test_split\n",
    "from sklearn.ensemble import RandomForestClassifier\n",
    "from sklearn.feature_extraction.text import CountVectorizer, TfidfVectorizer\n",
    "from sklearn.decomposition import NMF\n",
    "\n",
    "from sklearn.metrics import accuracy_score, precision_score, recall_score, roc_auc_score, roc_curve, auc\n",
    "from sklearn import cross_validation\n",
    "from sklearn.feature_selection import VarianceThreshold\n",
    "from sklearn.decomposition import PCA\n",
    "from sklearn.preprocessing import StandardScaler\n",
    "from pandas.tools.plotting import scatter_matrix\n",
    "import matplotlib.pyplot as plt\n",
    "%matplotlib inline\n",
    "\n",
    "import nltk\n",
    "from nltk.stem.snowball import SnowballStemmer\n",
    "from nltk.stem.porter import *\n",
    "\n",
    "import re\n",
    "from HTMLParser import HTMLParser\n",
    "import datetime\n",
    "import cPickle as pickle"
   ]
  },
  {
   "cell_type": "code",
   "execution_count": 4,
   "metadata": {
    "collapsed": false
   },
   "outputs": [],
   "source": [
    "from nltk.corpus import stopwords\n",
    "stopwords = set(stopwords.words('english'))"
   ]
  },
  {
   "cell_type": "code",
   "execution_count": 5,
   "metadata": {
    "collapsed": true
   },
   "outputs": [],
   "source": [
    "# File with gender included\n",
    "sample10_file = '/Users/lekha/galvanize/capstone/projectRiley/data/sample10/out.txt'\n",
    "sample1000_file = '/Users/lekha/galvanize/capstone/projectRiley/data/cleandatagender1000.txt'\n",
    "all_file = '/Users/lekha/galvanize/capstone/projectRiley/data/cleandatagenderall.txt'\n",
    "\n",
    "uwash_file = '/Users/lekha/galvanize/capstone/projectRiley/data/withgender_uwash.txt'\n",
    "holyoke_file = '/Users/lekha/galvanize/capstone/projectRiley/data/withgender_holyoke.txt'\n",
    "utaustin_file = '/Users/lekha/galvanize/capstone/projectRiley/data/withgender_utaustin.txt'\n",
    "gatech_file = '/Users/lekha/galvanize/capstone/projectRiley/data/withgender_gatech.txt'\n",
    "wellesley_file = '/Users/lekha/galvanize/capstone/projectRiley/data/withgender_wellesley.txt'\n",
    "vassar_file = '/Users/lekha/galvanize/capstone/projectRiley/data/withgender_vassar.txt'\n",
    "caltech_file = '/Users/lekha/galvanize/capstone/projectRiley/data/withgender_caltech.txt'"
   ]
  },
  {
   "cell_type": "code",
   "execution_count": 6,
   "metadata": {
    "collapsed": false
   },
   "outputs": [],
   "source": [
    "df_uwash = pd.read_csv(uwash_file, sep=\"|\")\n",
    "df_holyoke = pd.read_csv(holyoke_file, sep=\"|\")\n",
    "df_utaustin = pd.read_csv(utaustin_file, sep=\"|\")\n",
    "df_gatech = pd.read_csv(gatech_file, sep=\"|\")\n",
    "df_wellesley = pd.read_csv(wellesley_file, sep=\"|\")\n",
    "df_vassar = pd.read_csv(vassar_file, sep=\"|\")\n",
    "df_caltech = pd.read_csv(caltech_file, sep=\"|\")"
   ]
  },
  {
   "cell_type": "code",
   "execution_count": 7,
   "metadata": {
    "collapsed": true
   },
   "outputs": [],
   "source": [
    "df = pd.concat([df_uwash, df_holyoke, df_utaustin, df_gatech, df_wellesley, df_vassar, df_caltech], axis=0)"
   ]
  },
  {
   "cell_type": "code",
   "execution_count": 8,
   "metadata": {
    "collapsed": false
   },
   "outputs": [],
   "source": [
    "df = df[['full_name', 'html','summary', 'first_name', 'gender', 'counter', 'source']]"
   ]
  },
  {
   "cell_type": "code",
   "execution_count": 9,
   "metadata": {
    "collapsed": false
   },
   "outputs": [
    {
     "data": {
      "text/html": [
       "<div>\n",
       "<table border=\"1\" class=\"dataframe\">\n",
       "  <thead>\n",
       "    <tr style=\"text-align: right;\">\n",
       "      <th></th>\n",
       "      <th>full_name</th>\n",
       "      <th>html</th>\n",
       "      <th>summary</th>\n",
       "      <th>first_name</th>\n",
       "      <th>gender</th>\n",
       "      <th>counter</th>\n",
       "      <th>source</th>\n",
       "    </tr>\n",
       "  </thead>\n",
       "  <tbody>\n",
       "    <tr>\n",
       "      <th>0</th>\n",
       "      <td>shawn douglas</td>\n",
       "      <td>./00006.html\\n</td>\n",
       "      <td>i am interested in inventing new methods to co...</td>\n",
       "      <td>shawn</td>\n",
       "      <td>male</td>\n",
       "      <td>1</td>\n",
       "      <td>uwash</td>\n",
       "    </tr>\n",
       "    <tr>\n",
       "      <th>1</th>\n",
       "      <td>regina nunn</td>\n",
       "      <td>./05111108.html\\n</td>\n",
       "      <td>missing</td>\n",
       "      <td>regina</td>\n",
       "      <td>female</td>\n",
       "      <td>1</td>\n",
       "      <td>uwash</td>\n",
       "    </tr>\n",
       "    <tr>\n",
       "      <th>2</th>\n",
       "      <td>michael mayes</td>\n",
       "      <td>./120394.html\\n</td>\n",
       "      <td>a detail and results oriented professional wit...</td>\n",
       "      <td>michael</td>\n",
       "      <td>male</td>\n",
       "      <td>1</td>\n",
       "      <td>uwash</td>\n",
       "    </tr>\n",
       "    <tr>\n",
       "      <th>3</th>\n",
       "      <td>jason obrien</td>\n",
       "      <td>./17obrien.html\\n</td>\n",
       "      <td>accomplished energetic sales professional with...</td>\n",
       "      <td>jason</td>\n",
       "      <td>male</td>\n",
       "      <td>1</td>\n",
       "      <td>uwash</td>\n",
       "    </tr>\n",
       "    <tr>\n",
       "      <th>4</th>\n",
       "      <td>kevin kim</td>\n",
       "      <td>./1800sushi.html\\n</td>\n",
       "      <td>1800sushicom is the new online platform for or...</td>\n",
       "      <td>kevin</td>\n",
       "      <td>male</td>\n",
       "      <td>1</td>\n",
       "      <td>uwash</td>\n",
       "    </tr>\n",
       "  </tbody>\n",
       "</table>\n",
       "</div>"
      ],
      "text/plain": [
       "       full_name                html  \\\n",
       "0  shawn douglas      ./00006.html\\n   \n",
       "1    regina nunn   ./05111108.html\\n   \n",
       "2  michael mayes     ./120394.html\\n   \n",
       "3   jason obrien   ./17obrien.html\\n   \n",
       "4      kevin kim  ./1800sushi.html\\n   \n",
       "\n",
       "                                             summary first_name  gender  \\\n",
       "0  i am interested in inventing new methods to co...      shawn    male   \n",
       "1                                            missing     regina  female   \n",
       "2  a detail and results oriented professional wit...    michael    male   \n",
       "3  accomplished energetic sales professional with...      jason    male   \n",
       "4  1800sushicom is the new online platform for or...      kevin    male   \n",
       "\n",
       "   counter source  \n",
       "0        1  uwash  \n",
       "1        1  uwash  \n",
       "2        1  uwash  \n",
       "3        1  uwash  \n",
       "4        1  uwash  "
      ]
     },
     "execution_count": 9,
     "metadata": {},
     "output_type": "execute_result"
    }
   ],
   "source": [
    "df.head()"
   ]
  },
  {
   "cell_type": "code",
   "execution_count": 6,
   "metadata": {
    "collapsed": false
   },
   "outputs": [],
   "source": [
    "# df_all.set_value(18044, 'first_name', 'nanname')\n",
    "# df_all.set_value(18045, 'first_name', 'nanname')\n",
    "# df_all.set_value(18046, 'first_name', 'nanname')\n",
    "# df_all.set_value(18045, 'gender', 'female')\n",
    "# df_all.set_value(18044, 'gender', 'female')"
   ]
  },
  {
   "cell_type": "code",
   "execution_count": 7,
   "metadata": {
    "collapsed": false
   },
   "outputs": [],
   "source": [
    "df['class'] = np.ones(len(df))"
   ]
  },
  {
   "cell_type": "code",
   "execution_count": 11,
   "metadata": {
    "collapsed": true
   },
   "outputs": [],
   "source": [
    "df['class'] = df['gender'].apply(lambda x: 0 if x == 'female' else 1)"
   ]
  },
  {
   "cell_type": "code",
   "execution_count": 12,
   "metadata": {
    "collapsed": true
   },
   "outputs": [],
   "source": [
    "def f(x):\n",
    "    if x == 'missing':\n",
    "        return 1\n",
    "    else:\n",
    "        return 0\n",
    "\n",
    "# Add feature for missing summary\n",
    "df['summ_missing'] = df['summary'].apply(lambda x: f(x))"
   ]
  },
  {
   "cell_type": "code",
   "execution_count": 13,
   "metadata": {
    "collapsed": true
   },
   "outputs": [],
   "source": [
    "# add feature for num of words in the summary\n",
    "def lenx(mystr):\n",
    "    return len(mystr.split())\n",
    "\n",
    "def avgchrs(mytokens):\n",
    "    tw = len(mytokens)    \n",
    "    num_chars = 0\n",
    "    for word in mytokens:\n",
    "        num_chars += len(word)\n",
    "        \n",
    "    return num_chars/tw"
   ]
  },
  {
   "cell_type": "code",
   "execution_count": 14,
   "metadata": {
    "collapsed": false
   },
   "outputs": [],
   "source": [
    "df['summ_tokens'] = df['summary'].apply(lambda x: nltk.word_tokenize(str(x)))"
   ]
  },
  {
   "cell_type": "code",
   "execution_count": 15,
   "metadata": {
    "collapsed": false
   },
   "outputs": [
    {
     "name": "stdout",
     "output_type": "stream",
     "text": [
      "<class 'pandas.core.frame.DataFrame'>\n",
      "Int64Index: 31436 entries, 0 to 2529\n",
      "Data columns (total 10 columns):\n",
      "full_name       31436 non-null object\n",
      "html            31436 non-null object\n",
      "summary         31428 non-null object\n",
      "first_name      31430 non-null object\n",
      "gender          31436 non-null object\n",
      "counter         31436 non-null float64\n",
      "source          31436 non-null object\n",
      "summ_missing    31436 non-null int64\n",
      "class           31436 non-null int64\n",
      "summ_tokens     31436 non-null object\n",
      "dtypes: float64(1), int64(2), object(7)\n",
      "memory usage: 2.6+ MB\n"
     ]
    }
   ],
   "source": [
    "df.info()"
   ]
  },
  {
   "cell_type": "code",
   "execution_count": 16,
   "metadata": {
    "collapsed": true
   },
   "outputs": [],
   "source": [
    "df['num_tokens'] = df['summ_tokens'].apply(lambda x: len(x))"
   ]
  },
  {
   "cell_type": "code",
   "execution_count": 17,
   "metadata": {
    "collapsed": true
   },
   "outputs": [],
   "source": [
    "df['avg_len'] = df['summ_tokens'].apply(lambda x: avgchrs(x))"
   ]
  },
  {
   "cell_type": "code",
   "execution_count": 18,
   "metadata": {
    "collapsed": false
   },
   "outputs": [],
   "source": [
    "# For each row, return the total count of first_names that are the same and create a column\n",
    "#df.drop('name_counts', axis=1, inplace=True)\n",
    "counts = df.groupby('first_name').size()\n",
    "counts.name = 'name_counts'\n",
    "\n",
    "df = df.set_index('first_name').join(counts).reset_index()"
   ]
  },
  {
   "cell_type": "code",
   "execution_count": 20,
   "metadata": {
    "collapsed": false
   },
   "outputs": [
    {
     "data": {
      "text/html": [
       "<div>\n",
       "<table border=\"1\" class=\"dataframe\">\n",
       "  <thead>\n",
       "    <tr style=\"text-align: right;\">\n",
       "      <th></th>\n",
       "      <th>first_name</th>\n",
       "      <th>full_name</th>\n",
       "      <th>html</th>\n",
       "      <th>summary</th>\n",
       "      <th>gender</th>\n",
       "      <th>counter</th>\n",
       "      <th>source</th>\n",
       "      <th>summ_missing</th>\n",
       "      <th>class</th>\n",
       "      <th>summ_tokens</th>\n",
       "      <th>num_tokens</th>\n",
       "      <th>avg_len</th>\n",
       "      <th>name_counts</th>\n",
       "    </tr>\n",
       "  </thead>\n",
       "  <tbody>\n",
       "    <tr>\n",
       "      <th>0</th>\n",
       "      <td>aakash</td>\n",
       "      <td>aakash maniyar</td>\n",
       "      <td>./aakashmaniyar.html\\n</td>\n",
       "      <td>hard worker driven to succeed fast learner alw...</td>\n",
       "      <td>male</td>\n",
       "      <td>1</td>\n",
       "      <td>uwash</td>\n",
       "      <td>0</td>\n",
       "      <td>1</td>\n",
       "      <td>[hard, worker, driven, to, succeed, fast, lear...</td>\n",
       "      <td>114</td>\n",
       "      <td>5.614035</td>\n",
       "      <td>2</td>\n",
       "    </tr>\n",
       "    <tr>\n",
       "      <th>1</th>\n",
       "      <td>aakash</td>\n",
       "      <td>aakash sethi</td>\n",
       "      <td>./asethi77.html\\n</td>\n",
       "      <td>as a computer engineering student at the unive...</td>\n",
       "      <td>male</td>\n",
       "      <td>1</td>\n",
       "      <td>uwash</td>\n",
       "      <td>0</td>\n",
       "      <td>1</td>\n",
       "      <td>[as, a, computer, engineering, student, at, th...</td>\n",
       "      <td>70</td>\n",
       "      <td>5.942857</td>\n",
       "      <td>2</td>\n",
       "    </tr>\n",
       "    <tr>\n",
       "      <th>2</th>\n",
       "      <td>aakriti</td>\n",
       "      <td>aakriti srikanth</td>\n",
       "      <td>./2015-12-25-ut-austin/aakritisrikanth.html\\n</td>\n",
       "      <td>summaryproduct management  strategy business d...</td>\n",
       "      <td>female</td>\n",
       "      <td>1</td>\n",
       "      <td>utaustin</td>\n",
       "      <td>0</td>\n",
       "      <td>0</td>\n",
       "      <td>[summaryproduct, management, strategy, busines...</td>\n",
       "      <td>61</td>\n",
       "      <td>6.967213</td>\n",
       "      <td>1</td>\n",
       "    </tr>\n",
       "    <tr>\n",
       "      <th>3</th>\n",
       "      <td>aalia</td>\n",
       "      <td>aalia brown</td>\n",
       "      <td>./aaliabrown.html\\n</td>\n",
       "      <td>missing</td>\n",
       "      <td>female</td>\n",
       "      <td>1</td>\n",
       "      <td>uwash</td>\n",
       "      <td>1</td>\n",
       "      <td>0</td>\n",
       "      <td>[missing]</td>\n",
       "      <td>1</td>\n",
       "      <td>7.000000</td>\n",
       "      <td>1</td>\n",
       "    </tr>\n",
       "    <tr>\n",
       "      <th>4</th>\n",
       "      <td>aania</td>\n",
       "      <td>aania aslam</td>\n",
       "      <td>./aania.html\\n</td>\n",
       "      <td>missing</td>\n",
       "      <td>female</td>\n",
       "      <td>1</td>\n",
       "      <td>uwash</td>\n",
       "      <td>1</td>\n",
       "      <td>0</td>\n",
       "      <td>[missing]</td>\n",
       "      <td>1</td>\n",
       "      <td>7.000000</td>\n",
       "      <td>1</td>\n",
       "    </tr>\n",
       "  </tbody>\n",
       "</table>\n",
       "</div>"
      ],
      "text/plain": [
       "  first_name         full_name                                           html  \\\n",
       "0     aakash    aakash maniyar                         ./aakashmaniyar.html\\n   \n",
       "1     aakash      aakash sethi                              ./asethi77.html\\n   \n",
       "2    aakriti  aakriti srikanth  ./2015-12-25-ut-austin/aakritisrikanth.html\\n   \n",
       "3      aalia       aalia brown                            ./aaliabrown.html\\n   \n",
       "4      aania       aania aslam                                 ./aania.html\\n   \n",
       "\n",
       "                                             summary  gender  counter  \\\n",
       "0  hard worker driven to succeed fast learner alw...    male        1   \n",
       "1  as a computer engineering student at the unive...    male        1   \n",
       "2  summaryproduct management  strategy business d...  female        1   \n",
       "3                                            missing  female        1   \n",
       "4                                            missing  female        1   \n",
       "\n",
       "     source  summ_missing  class  \\\n",
       "0     uwash             0      1   \n",
       "1     uwash             0      1   \n",
       "2  utaustin             0      0   \n",
       "3     uwash             1      0   \n",
       "4     uwash             1      0   \n",
       "\n",
       "                                         summ_tokens  num_tokens   avg_len  \\\n",
       "0  [hard, worker, driven, to, succeed, fast, lear...         114  5.614035   \n",
       "1  [as, a, computer, engineering, student, at, th...          70  5.942857   \n",
       "2  [summaryproduct, management, strategy, busines...          61  6.967213   \n",
       "3                                          [missing]           1  7.000000   \n",
       "4                                          [missing]           1  7.000000   \n",
       "\n",
       "   name_counts  \n",
       "0            2  \n",
       "1            2  \n",
       "2            1  \n",
       "3            1  \n",
       "4            1  "
      ]
     },
     "execution_count": 20,
     "metadata": {},
     "output_type": "execute_result"
    }
   ],
   "source": [
    "df.head()"
   ]
  },
  {
   "cell_type": "code",
   "execution_count": 19,
   "metadata": {
    "collapsed": false
   },
   "outputs": [
    {
     "data": {
      "text/plain": [
       "array([[<matplotlib.axes._subplots.AxesSubplot object at 0x11396ae90>]], dtype=object)"
      ]
     },
     "execution_count": 19,
     "metadata": {},
     "output_type": "execute_result"
    },
    {
     "data": {
      "image/png": "[encoded data removed]",
      "text/plain": [
       "<matplotlib.figure.Figure at 0x10af7a050>"
      ]
     },
     "metadata": {},
     "output_type": "display_data"
    }
   ],
   "source": [
    "df.hist('avg_len')"
   ]
  },
  {
   "cell_type": "code",
   "execution_count": 21,
   "metadata": {
    "collapsed": false
   },
   "outputs": [
    {
     "data": {
      "text/plain": [
       "array([[<matplotlib.axes._subplots.AxesSubplot object at 0x10c24ff50>]], dtype=object)"
      ]
     },
     "execution_count": 21,
     "metadata": {},
     "output_type": "execute_result"
    },
    {
     "data": {
      "image/png": "[encoded data removed]",
      "text/plain": [
       "<matplotlib.figure.Figure at 0x104afba10>"
      ]
     },
     "metadata": {},
     "output_type": "display_data"
    }
   ],
   "source": [
    "df.hist('num_tokens')"
   ]
  },
  {
   "cell_type": "code",
   "execution_count": 28,
   "metadata": {
    "collapsed": false
   },
   "outputs": [
    {
     "data": {
      "text/plain": [
       "gender\n",
       "female    [[Axes(0.125,0.125;0.775x0.775)]]\n",
       "male      [[Axes(0.125,0.125;0.775x0.775)]]\n",
       "dtype: object"
      ]
     },
     "execution_count": 28,
     "metadata": {},
     "output_type": "execute_result"
    },
    {
     "data": {
      "image/png": "[encoded data removed]",
      "text/plain": [
       "<matplotlib.figure.Figure at 0x115583510>"
      ]
     },
     "metadata": {},
     "output_type": "display_data"
    },
    {
     "data": {
      "image/png": "[encoded data removed]",
      "text/plain": [
       "<matplotlib.figure.Figure at 0x115627810>"
      ]
     },
     "metadata": {},
     "output_type": "display_data"
    }
   ],
   "source": [
    "df.groupby('gender').hist('num_tokens')"
   ]
  },
  {
   "cell_type": "code",
   "execution_count": 29,
   "metadata": {
    "collapsed": false
   },
   "outputs": [
    {
     "data": {
      "text/plain": [
       "gender\n",
       "female    [[Axes(0.125,0.125;0.775x0.775)]]\n",
       "male      [[Axes(0.125,0.125;0.775x0.775)]]\n",
       "dtype: object"
      ]
     },
     "execution_count": 29,
     "metadata": {},
     "output_type": "execute_result"
    },
    {
     "data": {
      "image/png": "[encoded data removed]",
      "text/plain": [
       "<matplotlib.figure.Figure at 0x113b63650>"
      ]
     },
     "metadata": {},
     "output_type": "display_data"
    },
    {
     "data": {
      "image/png": "[encoded data removed]",
      "text/plain": [
       "<matplotlib.figure.Figure at 0x115b8ab50>"
      ]
     },
     "metadata": {},
     "output_type": "display_data"
    }
   ],
   "source": [
    "df.groupby('gender').hist('avg_len')"
   ]
  },
  {
   "cell_type": "code",
   "execution_count": 30,
   "metadata": {
    "collapsed": false
   },
   "outputs": [],
   "source": [
    "gender_group = df.groupby('gender')"
   ]
  },
  {
   "cell_type": "code",
   "execution_count": 31,
   "metadata": {
    "collapsed": false
   },
   "outputs": [
    {
     "data": {
      "image/png": "[encoded data removed]",
      "text/plain": [
       "<matplotlib.figure.Figure at 0x10c2b2bd0>"
      ]
     },
     "metadata": {},
     "output_type": "display_data"
    }
   ],
   "source": [
    "bp = df.boxplot(column=['num_tokens'], by=['gender'])"
   ]
  },
  {
   "cell_type": "code",
   "execution_count": 32,
   "metadata": {
    "collapsed": false
   },
   "outputs": [
    {
     "data": {
      "image/png": "[encoded data removed]",
      "text/plain": [
       "<matplotlib.figure.Figure at 0x115f94550>"
      ]
     },
     "metadata": {},
     "output_type": "display_data"
    }
   ],
   "source": [
    "bp = df.boxplot(column=['avg_len'], by=['gender'])"
   ]
  },
  {
   "cell_type": "code",
   "execution_count": 27,
   "metadata": {
    "collapsed": false
   },
   "outputs": [
    {
     "data": {
      "text/html": [
       "<div>\n",
       "<table border=\"1\" class=\"dataframe\">\n",
       "  <thead>\n",
       "    <tr>\n",
       "      <th>gender</th>\n",
       "      <th colspan=\"8\" halign=\"left\">female</th>\n",
       "      <th colspan=\"8\" halign=\"left\">male</th>\n",
       "    </tr>\n",
       "    <tr>\n",
       "      <th></th>\n",
       "      <th>count</th>\n",
       "      <th>mean</th>\n",
       "      <th>std</th>\n",
       "      <th>min</th>\n",
       "      <th>25%</th>\n",
       "      <th>50%</th>\n",
       "      <th>75%</th>\n",
       "      <th>max</th>\n",
       "      <th>count</th>\n",
       "      <th>mean</th>\n",
       "      <th>std</th>\n",
       "      <th>min</th>\n",
       "      <th>25%</th>\n",
       "      <th>50%</th>\n",
       "      <th>75%</th>\n",
       "      <th>max</th>\n",
       "    </tr>\n",
       "  </thead>\n",
       "  <tbody>\n",
       "    <tr>\n",
       "      <th>avg_len</th>\n",
       "      <td>15321</td>\n",
       "      <td>6.683214</td>\n",
       "      <td>1.269142</td>\n",
       "      <td>2</td>\n",
       "      <td>6.148936</td>\n",
       "      <td>7</td>\n",
       "      <td>7</td>\n",
       "      <td>60</td>\n",
       "      <td>16115</td>\n",
       "      <td>6.641086</td>\n",
       "      <td>2.012160</td>\n",
       "      <td>2.857143</td>\n",
       "      <td>5.975359</td>\n",
       "      <td>7</td>\n",
       "      <td>7</td>\n",
       "      <td>214</td>\n",
       "    </tr>\n",
       "    <tr>\n",
       "      <th>class</th>\n",
       "      <td>15321</td>\n",
       "      <td>0.000000</td>\n",
       "      <td>0.000000</td>\n",
       "      <td>0</td>\n",
       "      <td>0.000000</td>\n",
       "      <td>0</td>\n",
       "      <td>0</td>\n",
       "      <td>0</td>\n",
       "      <td>16115</td>\n",
       "      <td>1.000000</td>\n",
       "      <td>0.000000</td>\n",
       "      <td>1.000000</td>\n",
       "      <td>1.000000</td>\n",
       "      <td>1</td>\n",
       "      <td>1</td>\n",
       "      <td>1</td>\n",
       "    </tr>\n",
       "    <tr>\n",
       "      <th>counter</th>\n",
       "      <td>15321</td>\n",
       "      <td>1.000000</td>\n",
       "      <td>0.000000</td>\n",
       "      <td>1</td>\n",
       "      <td>1.000000</td>\n",
       "      <td>1</td>\n",
       "      <td>1</td>\n",
       "      <td>1</td>\n",
       "      <td>16115</td>\n",
       "      <td>1.000000</td>\n",
       "      <td>0.000000</td>\n",
       "      <td>1.000000</td>\n",
       "      <td>1.000000</td>\n",
       "      <td>1</td>\n",
       "      <td>1</td>\n",
       "      <td>1</td>\n",
       "    </tr>\n",
       "    <tr>\n",
       "      <th>name_counts</th>\n",
       "      <td>15321</td>\n",
       "      <td>54.914953</td>\n",
       "      <td>65.998524</td>\n",
       "      <td>1</td>\n",
       "      <td>5.000000</td>\n",
       "      <td>28</td>\n",
       "      <td>85</td>\n",
       "      <td>262</td>\n",
       "      <td>16109</td>\n",
       "      <td>72.597927</td>\n",
       "      <td>95.408108</td>\n",
       "      <td>1.000000</td>\n",
       "      <td>4.000000</td>\n",
       "      <td>36</td>\n",
       "      <td>108</td>\n",
       "      <td>404</td>\n",
       "    </tr>\n",
       "    <tr>\n",
       "      <th>num_tokens</th>\n",
       "      <td>15321</td>\n",
       "      <td>50.866066</td>\n",
       "      <td>72.993090</td>\n",
       "      <td>1</td>\n",
       "      <td>1.000000</td>\n",
       "      <td>6</td>\n",
       "      <td>79</td>\n",
       "      <td>369</td>\n",
       "      <td>16115</td>\n",
       "      <td>64.810735</td>\n",
       "      <td>80.899898</td>\n",
       "      <td>1.000000</td>\n",
       "      <td>1.000000</td>\n",
       "      <td>33</td>\n",
       "      <td>101</td>\n",
       "      <td>391</td>\n",
       "    </tr>\n",
       "    <tr>\n",
       "      <th>summ_missing</th>\n",
       "      <td>15321</td>\n",
       "      <td>0.492200</td>\n",
       "      <td>0.499955</td>\n",
       "      <td>0</td>\n",
       "      <td>0.000000</td>\n",
       "      <td>0</td>\n",
       "      <td>1</td>\n",
       "      <td>1</td>\n",
       "      <td>16115</td>\n",
       "      <td>0.394850</td>\n",
       "      <td>0.488834</td>\n",
       "      <td>0.000000</td>\n",
       "      <td>0.000000</td>\n",
       "      <td>0</td>\n",
       "      <td>1</td>\n",
       "      <td>1</td>\n",
       "    </tr>\n",
       "  </tbody>\n",
       "</table>\n",
       "</div>"
      ],
      "text/plain": [
       "gender       female                                                    male  \\\n",
       "              count       mean        std min       25% 50% 75%  max  count   \n",
       "avg_len       15321   6.683214   1.269142   2  6.148936   7   7   60  16115   \n",
       "class         15321   0.000000   0.000000   0  0.000000   0   0    0  16115   \n",
       "counter       15321   1.000000   0.000000   1  1.000000   1   1    1  16115   \n",
       "name_counts   15321  54.914953  65.998524   1  5.000000  28  85  262  16109   \n",
       "num_tokens    15321  50.866066  72.993090   1  1.000000   6  79  369  16115   \n",
       "summ_missing  15321   0.492200   0.499955   0  0.000000   0   1    1  16115   \n",
       "\n",
       "gender                                                                \n",
       "                   mean        std       min       25% 50%  75%  max  \n",
       "avg_len        6.641086   2.012160  2.857143  5.975359   7    7  214  \n",
       "class          1.000000   0.000000  1.000000  1.000000   1    1    1  \n",
       "counter        1.000000   0.000000  1.000000  1.000000   1    1    1  \n",
       "name_counts   72.597927  95.408108  1.000000  4.000000  36  108  404  \n",
       "num_tokens    64.810735  80.899898  1.000000  1.000000  33  101  391  \n",
       "summ_missing   0.394850   0.488834  0.000000  0.000000   0    1    1  "
      ]
     },
     "execution_count": 27,
     "metadata": {},
     "output_type": "execute_result"
    }
   ],
   "source": [
    "gender_group.describe().T"
   ]
  },
  {
   "cell_type": "code",
   "execution_count": 33,
   "metadata": {
    "collapsed": false
   },
   "outputs": [],
   "source": [
    "summ_missing = df.groupby('gender').agg({'summ_missing':sum})"
   ]
  },
  {
   "cell_type": "code",
   "execution_count": 34,
   "metadata": {
    "collapsed": false
   },
   "outputs": [],
   "source": [
    "sum_gender = df.groupby('gender').agg(np.sum)"
   ]
  },
  {
   "cell_type": "code",
   "execution_count": 35,
   "metadata": {
    "collapsed": false
   },
   "outputs": [],
   "source": [
    "avg_gender = df.groupby('gender').agg(np.mean)"
   ]
  },
  {
   "cell_type": "code",
   "execution_count": 36,
   "metadata": {
    "collapsed": false
   },
   "outputs": [
    {
     "data": {
      "text/html": [
       "<div>\n",
       "<table border=\"1\" class=\"dataframe\">\n",
       "  <thead>\n",
       "    <tr style=\"text-align: right;\">\n",
       "      <th></th>\n",
       "      <th>counter</th>\n",
       "      <th>summ_missing</th>\n",
       "      <th>class</th>\n",
       "      <th>num_tokens</th>\n",
       "      <th>avg_len</th>\n",
       "      <th>name_counts</th>\n",
       "    </tr>\n",
       "    <tr>\n",
       "      <th>gender</th>\n",
       "      <th></th>\n",
       "      <th></th>\n",
       "      <th></th>\n",
       "      <th></th>\n",
       "      <th></th>\n",
       "      <th></th>\n",
       "    </tr>\n",
       "  </thead>\n",
       "  <tbody>\n",
       "    <tr>\n",
       "      <th>female</th>\n",
       "      <td>1</td>\n",
       "      <td>0.49220</td>\n",
       "      <td>0</td>\n",
       "      <td>50.866066</td>\n",
       "      <td>6.683214</td>\n",
       "      <td>54.914953</td>\n",
       "    </tr>\n",
       "    <tr>\n",
       "      <th>male</th>\n",
       "      <td>1</td>\n",
       "      <td>0.39485</td>\n",
       "      <td>1</td>\n",
       "      <td>64.810735</td>\n",
       "      <td>6.641086</td>\n",
       "      <td>72.597927</td>\n",
       "    </tr>\n",
       "  </tbody>\n",
       "</table>\n",
       "</div>"
      ],
      "text/plain": [
       "        counter  summ_missing  class  num_tokens   avg_len  name_counts\n",
       "gender                                                                 \n",
       "female        1       0.49220      0   50.866066  6.683214    54.914953\n",
       "male          1       0.39485      1   64.810735  6.641086    72.597927"
      ]
     },
     "execution_count": 36,
     "metadata": {},
     "output_type": "execute_result"
    }
   ],
   "source": [
    "avg_gender"
   ]
  },
  {
   "cell_type": "code",
   "execution_count": 37,
   "metadata": {
    "collapsed": true
   },
   "outputs": [],
   "source": [
    "# Only include rows with summaries\n",
    "df = df[df['summ_missing'] == 0]"
   ]
  },
  {
   "cell_type": "code",
   "execution_count": 38,
   "metadata": {
    "collapsed": false
   },
   "outputs": [
    {
     "name": "stderr",
     "output_type": "stream",
     "text": [
      "/Users/lekha/Applications/anaconda/lib/python2.7/site-packages/ipykernel/__main__.py:2: SettingWithCopyWarning: \n",
      "A value is trying to be set on a copy of a slice from a DataFrame.\n",
      "Try using .loc[row_indexer,col_indexer] = value instead\n",
      "\n",
      "See the caveats in the documentation: http://pandas.pydata.org/pandas-docs/stable/indexing.html#indexing-view-versus-copy\n",
      "  from ipykernel import kernelapp as app\n"
     ]
    }
   ],
   "source": [
    "# lexical diversity = number of unique tokens / total number of tokens\n",
    "df['lex_diversity'] = df['summ_tokens'].apply(lambda x: len(set(x))/len(x))\n"
   ]
  },
  {
   "cell_type": "code",
   "execution_count": 39,
   "metadata": {
    "collapsed": false
   },
   "outputs": [
    {
     "data": {
      "text/html": [
       "<div>\n",
       "<table border=\"1\" class=\"dataframe\">\n",
       "  <thead>\n",
       "    <tr style=\"text-align: right;\">\n",
       "      <th></th>\n",
       "      <th>first_name</th>\n",
       "      <th>full_name</th>\n",
       "      <th>html</th>\n",
       "      <th>summary</th>\n",
       "      <th>gender</th>\n",
       "      <th>counter</th>\n",
       "      <th>source</th>\n",
       "      <th>summ_missing</th>\n",
       "      <th>class</th>\n",
       "      <th>summ_tokens</th>\n",
       "      <th>num_tokens</th>\n",
       "      <th>avg_len</th>\n",
       "      <th>name_counts</th>\n",
       "      <th>lex_diversity</th>\n",
       "    </tr>\n",
       "  </thead>\n",
       "  <tbody>\n",
       "    <tr>\n",
       "      <th>0</th>\n",
       "      <td>aakash</td>\n",
       "      <td>aakash maniyar</td>\n",
       "      <td>./aakashmaniyar.html\\n</td>\n",
       "      <td>hard worker driven to succeed fast learner alw...</td>\n",
       "      <td>male</td>\n",
       "      <td>1</td>\n",
       "      <td>uwash</td>\n",
       "      <td>0</td>\n",
       "      <td>1</td>\n",
       "      <td>[hard, worker, driven, to, succeed, fast, lear...</td>\n",
       "      <td>114</td>\n",
       "      <td>5.614035</td>\n",
       "      <td>2</td>\n",
       "      <td>0.719298</td>\n",
       "    </tr>\n",
       "    <tr>\n",
       "      <th>1</th>\n",
       "      <td>aakash</td>\n",
       "      <td>aakash sethi</td>\n",
       "      <td>./asethi77.html\\n</td>\n",
       "      <td>as a computer engineering student at the unive...</td>\n",
       "      <td>male</td>\n",
       "      <td>1</td>\n",
       "      <td>uwash</td>\n",
       "      <td>0</td>\n",
       "      <td>1</td>\n",
       "      <td>[as, a, computer, engineering, student, at, th...</td>\n",
       "      <td>70</td>\n",
       "      <td>5.942857</td>\n",
       "      <td>2</td>\n",
       "      <td>0.828571</td>\n",
       "    </tr>\n",
       "    <tr>\n",
       "      <th>2</th>\n",
       "      <td>aakriti</td>\n",
       "      <td>aakriti srikanth</td>\n",
       "      <td>./2015-12-25-ut-austin/aakritisrikanth.html\\n</td>\n",
       "      <td>summaryproduct management  strategy business d...</td>\n",
       "      <td>female</td>\n",
       "      <td>1</td>\n",
       "      <td>utaustin</td>\n",
       "      <td>0</td>\n",
       "      <td>0</td>\n",
       "      <td>[summaryproduct, management, strategy, busines...</td>\n",
       "      <td>61</td>\n",
       "      <td>6.967213</td>\n",
       "      <td>1</td>\n",
       "      <td>0.737705</td>\n",
       "    </tr>\n",
       "    <tr>\n",
       "      <th>5</th>\n",
       "      <td>aapo</td>\n",
       "      <td>aapo kyrl</td>\n",
       "      <td>./akyrola.html\\n</td>\n",
       "      <td>startup entrepreneur computer scientist and en...</td>\n",
       "      <td>male</td>\n",
       "      <td>1</td>\n",
       "      <td>uwash</td>\n",
       "      <td>0</td>\n",
       "      <td>1</td>\n",
       "      <td>[startup, entrepreneur, computer, scientist, a...</td>\n",
       "      <td>142</td>\n",
       "      <td>6.218310</td>\n",
       "      <td>1</td>\n",
       "      <td>0.711268</td>\n",
       "    </tr>\n",
       "    <tr>\n",
       "      <th>6</th>\n",
       "      <td>aaron</td>\n",
       "      <td>aaron alva</td>\n",
       "      <td>./aalva.html\\n</td>\n",
       "      <td>aaron alva researches at the intersection of l...</td>\n",
       "      <td>male</td>\n",
       "      <td>1</td>\n",
       "      <td>uwash</td>\n",
       "      <td>0</td>\n",
       "      <td>1</td>\n",
       "      <td>[aaron, alva, researches, at, the, intersectio...</td>\n",
       "      <td>57</td>\n",
       "      <td>5.508772</td>\n",
       "      <td>77</td>\n",
       "      <td>0.824561</td>\n",
       "    </tr>\n",
       "  </tbody>\n",
       "</table>\n",
       "</div>"
      ],
      "text/plain": [
       "  first_name         full_name                                           html  \\\n",
       "0     aakash    aakash maniyar                         ./aakashmaniyar.html\\n   \n",
       "1     aakash      aakash sethi                              ./asethi77.html\\n   \n",
       "2    aakriti  aakriti srikanth  ./2015-12-25-ut-austin/aakritisrikanth.html\\n   \n",
       "5       aapo         aapo kyrl                               ./akyrola.html\\n   \n",
       "6      aaron        aaron alva                                 ./aalva.html\\n   \n",
       "\n",
       "                                             summary  gender  counter  \\\n",
       "0  hard worker driven to succeed fast learner alw...    male        1   \n",
       "1  as a computer engineering student at the unive...    male        1   \n",
       "2  summaryproduct management  strategy business d...  female        1   \n",
       "5  startup entrepreneur computer scientist and en...    male        1   \n",
       "6  aaron alva researches at the intersection of l...    male        1   \n",
       "\n",
       "     source  summ_missing  class  \\\n",
       "0     uwash             0      1   \n",
       "1     uwash             0      1   \n",
       "2  utaustin             0      0   \n",
       "5     uwash             0      1   \n",
       "6     uwash             0      1   \n",
       "\n",
       "                                         summ_tokens  num_tokens   avg_len  \\\n",
       "0  [hard, worker, driven, to, succeed, fast, lear...         114  5.614035   \n",
       "1  [as, a, computer, engineering, student, at, th...          70  5.942857   \n",
       "2  [summaryproduct, management, strategy, busines...          61  6.967213   \n",
       "5  [startup, entrepreneur, computer, scientist, a...         142  6.218310   \n",
       "6  [aaron, alva, researches, at, the, intersectio...          57  5.508772   \n",
       "\n",
       "   name_counts  lex_diversity  \n",
       "0            2       0.719298  \n",
       "1            2       0.828571  \n",
       "2            1       0.737705  \n",
       "5            1       0.711268  \n",
       "6           77       0.824561  "
      ]
     },
     "execution_count": 39,
     "metadata": {},
     "output_type": "execute_result"
    }
   ],
   "source": [
    "df.head()"
   ]
  },
  {
   "cell_type": "code",
   "execution_count": 40,
   "metadata": {
    "collapsed": false
   },
   "outputs": [
    {
     "data": {
      "text/plain": [
       "gender\n",
       "female    [[Axes(0.125,0.125;0.775x0.775)]]\n",
       "male      [[Axes(0.125,0.125;0.775x0.775)]]\n",
       "dtype: object"
      ]
     },
     "execution_count": 40,
     "metadata": {},
     "output_type": "execute_result"
    },
    {
     "data": {
      "image/png": "[encoded data removed]",
      "text/plain": [
       "<matplotlib.figure.Figure at 0x114db25d0>"
      ]
     },
     "metadata": {},
     "output_type": "display_data"
    },
    {
     "data": {
      "image/png": "[encoded data removed]",
      "text/plain": [
       "<matplotlib.figure.Figure at 0x115fdc190>"
      ]
     },
     "metadata": {},
     "output_type": "display_data"
    }
   ],
   "source": [
    "df.groupby('gender').hist('num_tokens')"
   ]
  },
  {
   "cell_type": "code",
   "execution_count": 41,
   "metadata": {
    "collapsed": false
   },
   "outputs": [
    {
     "data": {
      "text/plain": [
       "gender\n",
       "female    [[Axes(0.125,0.125;0.775x0.775)]]\n",
       "male      [[Axes(0.125,0.125;0.775x0.775)]]\n",
       "dtype: object"
      ]
     },
     "execution_count": 41,
     "metadata": {},
     "output_type": "execute_result"
    },
    {
     "data": {
      "image/png": "[encoded data removed]",
      "text/plain": [
       "<matplotlib.figure.Figure at 0x11554a190>"
      ]
     },
     "metadata": {},
     "output_type": "display_data"
    },
    {
     "data": {
      "image/png": "[encoded data removed]",
      "text/plain": [
       "<matplotlib.figure.Figure at 0x10c349e10>"
      ]
     },
     "metadata": {},
     "output_type": "display_data"
    }
   ],
   "source": [
    "df.groupby('gender').hist('avg_len')"
   ]
  },
  {
   "cell_type": "code",
   "execution_count": 42,
   "metadata": {
    "collapsed": false
   },
   "outputs": [
    {
     "data": {
      "text/plain": [
       "gender\n",
       "female    [[Axes(0.125,0.125;0.775x0.775)]]\n",
       "male      [[Axes(0.125,0.125;0.775x0.775)]]\n",
       "dtype: object"
      ]
     },
     "execution_count": 42,
     "metadata": {},
     "output_type": "execute_result"
    },
    {
     "data": {
      "image/png": "[encoded data removed]",
      "text/plain": [
       "<matplotlib.figure.Figure at 0x10b66e590>"
      ]
     },
     "metadata": {},
     "output_type": "display_data"
    },
    {
     "data": {
      "image/png": "[encoded data removed]",
      "text/plain": [
       "<matplotlib.figure.Figure at 0x11633f250>"
      ]
     },
     "metadata": {},
     "output_type": "display_data"
    }
   ],
   "source": [
    "df.groupby('gender').hist('lex_diversity')"
   ]
  },
  {
   "cell_type": "code",
   "execution_count": 43,
   "metadata": {
    "collapsed": false
   },
   "outputs": [
    {
     "data": {
      "image/png": "[encoded data removed]",
      "text/plain": [
       "<matplotlib.figure.Figure at 0x1164d8510>"
      ]
     },
     "metadata": {},
     "output_type": "display_data"
    }
   ],
   "source": [
    "bp = df.boxplot(column=['num_tokens'], by=['gender'])"
   ]
  },
  {
   "cell_type": "code",
   "execution_count": 44,
   "metadata": {
    "collapsed": false
   },
   "outputs": [
    {
     "data": {
      "image/png": "[encoded data removed]",
      "text/plain": [
       "<matplotlib.figure.Figure at 0x116a2b850>"
      ]
     },
     "metadata": {},
     "output_type": "display_data"
    }
   ],
   "source": [
    "bp = df.boxplot(column=['avg_len'], by=['gender'])"
   ]
  },
  {
   "cell_type": "code",
   "execution_count": 45,
   "metadata": {
    "collapsed": false
   },
   "outputs": [
    {
     "data": {
      "text/plain": [
       "male      9752\n",
       "female    7780\n",
       "Name: gender, dtype: int64"
      ]
     },
     "execution_count": 45,
     "metadata": {},
     "output_type": "execute_result"
    }
   ],
   "source": [
    "# The breakdown by gender of the final dataset used for train and test\n",
    "df.gender.value_counts()"
   ]
  },
  {
   "cell_type": "markdown",
   "metadata": {},
   "source": [
    "# Basic Vocabulary Study"
   ]
  },
  {
   "cell_type": "code",
   "execution_count": 46,
   "metadata": {
    "collapsed": true
   },
   "outputs": [],
   "source": [
    "females_df = df[df['gender']=='female']\n",
    "males_df = df[df['gender'] =='male']"
   ]
  },
  {
   "cell_type": "code",
   "execution_count": 47,
   "metadata": {
    "collapsed": true
   },
   "outputs": [],
   "source": [
    "def remove_digits(mystr):\n",
    "    '''\n",
    "    INPUT: list of tokens \n",
    "    OUTPUT: list of tokens with digits removed\n",
    "    '''\n",
    "    return [word for word in mystr if not word.isdigit()]\n",
    "        "
   ]
  },
  {
   "cell_type": "code",
   "execution_count": 48,
   "metadata": {
    "collapsed": false
   },
   "outputs": [],
   "source": [
    "def get_vocab(input_df):\n",
    "    tokens_by_row = input_df['summ_tokens']\n",
    "    vocab = []\n",
    "    for row in tokens_by_row:\n",
    "        row = remove_digits(row)\n",
    "        for word in row:\n",
    "            if word not in stopwords:\n",
    "                vocab.append(word) \n",
    "    return vocab"
   ]
  },
  {
   "cell_type": "code",
   "execution_count": 49,
   "metadata": {
    "collapsed": false
   },
   "outputs": [],
   "source": [
    "vocab = get_vocab(df)"
   ]
  },
  {
   "cell_type": "code",
   "execution_count": 50,
   "metadata": {
    "collapsed": false
   },
   "outputs": [
    {
     "data": {
      "image/png": "[encoded data removed]",
      "text/plain": [
       "<matplotlib.figure.Figure at 0x1164d8290>"
      ]
     },
     "metadata": {},
     "output_type": "display_data"
    }
   ],
   "source": [
    "# freq distribution\n",
    "freq_dist = nltk.FreqDist(vocab)\n",
    "freq_dist.most_common(30)\n",
    "freq_dist.plot(30)\n"
   ]
  },
  {
   "cell_type": "code",
   "execution_count": 51,
   "metadata": {
    "collapsed": false
   },
   "outputs": [],
   "source": [
    "f_vocab = get_vocab(females_df)\n",
    "m_vocab = get_vocab(males_df)"
   ]
  },
  {
   "cell_type": "code",
   "execution_count": 52,
   "metadata": {
    "collapsed": false
   },
   "outputs": [
    {
     "data": {
      "image/png": "[encoded data removed]",
      "text/plain": [
       "<matplotlib.figure.Figure at 0x1164e10d0>"
      ]
     },
     "metadata": {},
     "output_type": "display_data"
    }
   ],
   "source": [
    "m_freq_dist = nltk.FreqDist(m_vocab)\n",
    "#freq_dist.N\n",
    "m_freq_dist.most_common(30)\n",
    "#freq_dist.freq('management')\n",
    "m_freq_dist.plot(30)\n"
   ]
  },
  {
   "cell_type": "code",
   "execution_count": 53,
   "metadata": {
    "collapsed": false
   },
   "outputs": [
    {
     "data": {
      "image/png": "[encoded data removed]",
      "text/plain": [
       "<matplotlib.figure.Figure at 0x118f28910>"
      ]
     },
     "metadata": {},
     "output_type": "display_data"
    }
   ],
   "source": [
    "f_freq_dist = nltk.FreqDist(f_vocab)\n",
    "#freq_dist.N\n",
    "f_freq_dist.most_common(30)\n",
    "#freq_dist.freq('management')\n",
    "f_freq_dist.plot(30)\n"
   ]
  },
  {
   "cell_type": "code",
   "execution_count": 54,
   "metadata": {
    "collapsed": false
   },
   "outputs": [
    {
     "name": "stdout",
     "output_type": "stream",
     "text": [
      "0.00212594817092\n",
      "0.00369863999424\n"
     ]
    }
   ],
   "source": [
    "print (f_freq_dist.freq('technology'))\n",
    "print (m_freq_dist.freq('technology'))"
   ]
  },
  {
   "cell_type": "markdown",
   "metadata": {},
   "source": [
    "# Word Frequencies, Conditional Frequency Distribution for\n",
    "* ALL,  Male, Female "
   ]
  },
  {
   "cell_type": "code",
   "execution_count": null,
   "metadata": {
    "collapsed": true
   },
   "outputs": [],
   "source": [
    ">>> from nltk.probability import ConditionalFreqDist\n",
    ">>> from nltk.tokenize import word_tokenize\n",
    ">>> cfdist = ConditionalFreqDist()\n",
    ">>> for word in word_tokenize(sent):\n",
    "...     condition = len(word)\n",
    "...     cfdist[condition][word] += 1"
   ]
  },
  {
   "cell_type": "code",
   "execution_count": null,
   "metadata": {
    "collapsed": true
   },
   "outputs": [],
   "source": []
  },
  {
   "cell_type": "code",
   "execution_count": null,
   "metadata": {
    "collapsed": true
   },
   "outputs": [],
   "source": []
  },
  {
   "cell_type": "code",
   "execution_count": null,
   "metadata": {
    "collapsed": true
   },
   "outputs": [],
   "source": []
  },
  {
   "cell_type": "markdown",
   "metadata": {},
   "source": [
    "# Predict gender using summary using RF - Baseline Model"
   ]
  },
  {
   "cell_type": "code",
   "execution_count": 56,
   "metadata": {
    "collapsed": false
   },
   "outputs": [
    {
     "name": "stderr",
     "output_type": "stream",
     "text": [
      "/Users/lekha/Applications/anaconda/lib/python2.7/site-packages/ipykernel/__main__.py:1: SettingWithCopyWarning: \n",
      "A value is trying to be set on a copy of a slice from a DataFrame.\n",
      "Try using .loc[row_indexer,col_indexer] = value instead\n",
      "\n",
      "See the caveats in the documentation: http://pandas.pydata.org/pandas-docs/stable/indexing.html#indexing-view-versus-copy\n",
      "  if __name__ == '__main__':\n"
     ]
    }
   ],
   "source": [
    "df['summary'] = df['summary'].astype(str)"
   ]
  },
  {
   "cell_type": "code",
   "execution_count": 58,
   "metadata": {
    "collapsed": false
   },
   "outputs": [
    {
     "data": {
      "text/html": [
       "<div>\n",
       "<table border=\"1\" class=\"dataframe\">\n",
       "  <thead>\n",
       "    <tr style=\"text-align: right;\">\n",
       "      <th></th>\n",
       "      <th>first_name</th>\n",
       "      <th>full_name</th>\n",
       "      <th>html</th>\n",
       "      <th>summary</th>\n",
       "      <th>gender</th>\n",
       "      <th>counter</th>\n",
       "      <th>source</th>\n",
       "      <th>summ_missing</th>\n",
       "      <th>class</th>\n",
       "      <th>summ_tokens</th>\n",
       "      <th>num_tokens</th>\n",
       "      <th>avg_len</th>\n",
       "      <th>name_counts</th>\n",
       "      <th>lex_diversity</th>\n",
       "    </tr>\n",
       "  </thead>\n",
       "  <tbody>\n",
       "    <tr>\n",
       "      <th>0</th>\n",
       "      <td>aakash</td>\n",
       "      <td>aakash maniyar</td>\n",
       "      <td>./aakashmaniyar.html\\n</td>\n",
       "      <td>hard worker driven to succeed fast learner alw...</td>\n",
       "      <td>male</td>\n",
       "      <td>1</td>\n",
       "      <td>uwash</td>\n",
       "      <td>0</td>\n",
       "      <td>1</td>\n",
       "      <td>[hard, worker, driven, to, succeed, fast, lear...</td>\n",
       "      <td>114</td>\n",
       "      <td>5.614035</td>\n",
       "      <td>2</td>\n",
       "      <td>0.719298</td>\n",
       "    </tr>\n",
       "    <tr>\n",
       "      <th>1</th>\n",
       "      <td>aakash</td>\n",
       "      <td>aakash sethi</td>\n",
       "      <td>./asethi77.html\\n</td>\n",
       "      <td>as a computer engineering student at the unive...</td>\n",
       "      <td>male</td>\n",
       "      <td>1</td>\n",
       "      <td>uwash</td>\n",
       "      <td>0</td>\n",
       "      <td>1</td>\n",
       "      <td>[as, a, computer, engineering, student, at, th...</td>\n",
       "      <td>70</td>\n",
       "      <td>5.942857</td>\n",
       "      <td>2</td>\n",
       "      <td>0.828571</td>\n",
       "    </tr>\n",
       "    <tr>\n",
       "      <th>2</th>\n",
       "      <td>aakriti</td>\n",
       "      <td>aakriti srikanth</td>\n",
       "      <td>./2015-12-25-ut-austin/aakritisrikanth.html\\n</td>\n",
       "      <td>summaryproduct management  strategy business d...</td>\n",
       "      <td>female</td>\n",
       "      <td>1</td>\n",
       "      <td>utaustin</td>\n",
       "      <td>0</td>\n",
       "      <td>0</td>\n",
       "      <td>[summaryproduct, management, strategy, busines...</td>\n",
       "      <td>61</td>\n",
       "      <td>6.967213</td>\n",
       "      <td>1</td>\n",
       "      <td>0.737705</td>\n",
       "    </tr>\n",
       "    <tr>\n",
       "      <th>5</th>\n",
       "      <td>aapo</td>\n",
       "      <td>aapo kyrl</td>\n",
       "      <td>./akyrola.html\\n</td>\n",
       "      <td>startup entrepreneur computer scientist and en...</td>\n",
       "      <td>male</td>\n",
       "      <td>1</td>\n",
       "      <td>uwash</td>\n",
       "      <td>0</td>\n",
       "      <td>1</td>\n",
       "      <td>[startup, entrepreneur, computer, scientist, a...</td>\n",
       "      <td>142</td>\n",
       "      <td>6.218310</td>\n",
       "      <td>1</td>\n",
       "      <td>0.711268</td>\n",
       "    </tr>\n",
       "    <tr>\n",
       "      <th>6</th>\n",
       "      <td>aaron</td>\n",
       "      <td>aaron alva</td>\n",
       "      <td>./aalva.html\\n</td>\n",
       "      <td>aaron alva researches at the intersection of l...</td>\n",
       "      <td>male</td>\n",
       "      <td>1</td>\n",
       "      <td>uwash</td>\n",
       "      <td>0</td>\n",
       "      <td>1</td>\n",
       "      <td>[aaron, alva, researches, at, the, intersectio...</td>\n",
       "      <td>57</td>\n",
       "      <td>5.508772</td>\n",
       "      <td>77</td>\n",
       "      <td>0.824561</td>\n",
       "    </tr>\n",
       "    <tr>\n",
       "      <th>8</th>\n",
       "      <td>aaron</td>\n",
       "      <td>aaron barrell</td>\n",
       "      <td>./aaronbarrell.html\\n</td>\n",
       "      <td>writer and poet with years of experience parti...</td>\n",
       "      <td>male</td>\n",
       "      <td>1</td>\n",
       "      <td>uwash</td>\n",
       "      <td>0</td>\n",
       "      <td>1</td>\n",
       "      <td>[writer, and, poet, with, years, of, experienc...</td>\n",
       "      <td>33</td>\n",
       "      <td>6.515152</td>\n",
       "      <td>77</td>\n",
       "      <td>0.787879</td>\n",
       "    </tr>\n",
       "    <tr>\n",
       "      <th>9</th>\n",
       "      <td>aaron</td>\n",
       "      <td>aaron day</td>\n",
       "      <td>./aaronbday.html\\n</td>\n",
       "      <td>i am a versatile website developer who has a b...</td>\n",
       "      <td>male</td>\n",
       "      <td>1</td>\n",
       "      <td>uwash</td>\n",
       "      <td>0</td>\n",
       "      <td>1</td>\n",
       "      <td>[i, am, a, versatile, website, developer, who,...</td>\n",
       "      <td>137</td>\n",
       "      <td>5.875912</td>\n",
       "      <td>77</td>\n",
       "      <td>0.664234</td>\n",
       "    </tr>\n",
       "    <tr>\n",
       "      <th>10</th>\n",
       "      <td>aaron</td>\n",
       "      <td>aaron browder</td>\n",
       "      <td>./aaronbrowder.html\\n</td>\n",
       "      <td>software developer with 2 years of industry ex...</td>\n",
       "      <td>male</td>\n",
       "      <td>1</td>\n",
       "      <td>uwash</td>\n",
       "      <td>0</td>\n",
       "      <td>1</td>\n",
       "      <td>[software, developer, with, 2, years, of, indu...</td>\n",
       "      <td>41</td>\n",
       "      <td>5.341463</td>\n",
       "      <td>77</td>\n",
       "      <td>0.780488</td>\n",
       "    </tr>\n",
       "    <tr>\n",
       "      <th>12</th>\n",
       "      <td>aaron</td>\n",
       "      <td>aaron burke</td>\n",
       "      <td>./aaronburke.html\\n</td>\n",
       "      <td>software engineer with a vast array of knowled...</td>\n",
       "      <td>male</td>\n",
       "      <td>1</td>\n",
       "      <td>uwash</td>\n",
       "      <td>0</td>\n",
       "      <td>1</td>\n",
       "      <td>[software, engineer, with, a, vast, array, of,...</td>\n",
       "      <td>63</td>\n",
       "      <td>6.555556</td>\n",
       "      <td>77</td>\n",
       "      <td>0.698413</td>\n",
       "    </tr>\n",
       "    <tr>\n",
       "      <th>13</th>\n",
       "      <td>aaron</td>\n",
       "      <td>aaron c</td>\n",
       "      <td>./aaronc25.html\\n</td>\n",
       "      <td>i have achieved a high level of communication ...</td>\n",
       "      <td>male</td>\n",
       "      <td>1</td>\n",
       "      <td>uwash</td>\n",
       "      <td>0</td>\n",
       "      <td>1</td>\n",
       "      <td>[i, have, achieved, a, high, level, of, commun...</td>\n",
       "      <td>50</td>\n",
       "      <td>5.660000</td>\n",
       "      <td>77</td>\n",
       "      <td>0.800000</td>\n",
       "    </tr>\n",
       "    <tr>\n",
       "      <th>14</th>\n",
       "      <td>aaron</td>\n",
       "      <td>aaron campbell</td>\n",
       "      <td>./aaroncampbell.html\\n</td>\n",
       "      <td>aaron campbell is an energy efficiency evangel...</td>\n",
       "      <td>male</td>\n",
       "      <td>1</td>\n",
       "      <td>uwash</td>\n",
       "      <td>0</td>\n",
       "      <td>1</td>\n",
       "      <td>[aaron, campbell, is, an, energy, efficiency, ...</td>\n",
       "      <td>147</td>\n",
       "      <td>6.278912</td>\n",
       "      <td>77</td>\n",
       "      <td>0.727891</td>\n",
       "    </tr>\n",
       "    <tr>\n",
       "      <th>16</th>\n",
       "      <td>aaron</td>\n",
       "      <td>aaron cheuvront</td>\n",
       "      <td>./aaroncheuvront.html\\n</td>\n",
       "      <td>experienced gis and autocad administrator with...</td>\n",
       "      <td>male</td>\n",
       "      <td>1</td>\n",
       "      <td>uwash</td>\n",
       "      <td>0</td>\n",
       "      <td>1</td>\n",
       "      <td>[experienced, gis, and, autocad, administrator...</td>\n",
       "      <td>83</td>\n",
       "      <td>6.578313</td>\n",
       "      <td>77</td>\n",
       "      <td>0.686747</td>\n",
       "    </tr>\n",
       "    <tr>\n",
       "      <th>18</th>\n",
       "      <td>aaron</td>\n",
       "      <td>aaron daniels pmp</td>\n",
       "      <td>./aarondaniels.html\\n</td>\n",
       "      <td>wind energy executive with a global business p...</td>\n",
       "      <td>male</td>\n",
       "      <td>1</td>\n",
       "      <td>uwash</td>\n",
       "      <td>0</td>\n",
       "      <td>1</td>\n",
       "      <td>[wind, energy, executive, with, a, global, bus...</td>\n",
       "      <td>43</td>\n",
       "      <td>7.279070</td>\n",
       "      <td>77</td>\n",
       "      <td>0.837209</td>\n",
       "    </tr>\n",
       "    <tr>\n",
       "      <th>19</th>\n",
       "      <td>aaron</td>\n",
       "      <td>aaron m davis</td>\n",
       "      <td>./aarondavis13.html\\n</td>\n",
       "      <td>as the academic operations coordinator for the...</td>\n",
       "      <td>male</td>\n",
       "      <td>1</td>\n",
       "      <td>uwash</td>\n",
       "      <td>0</td>\n",
       "      <td>1</td>\n",
       "      <td>[as, the, academic, operations, coordinator, f...</td>\n",
       "      <td>120</td>\n",
       "      <td>5.266667</td>\n",
       "      <td>77</td>\n",
       "      <td>0.691667</td>\n",
       "    </tr>\n",
       "    <tr>\n",
       "      <th>20</th>\n",
       "      <td>aaron</td>\n",
       "      <td>aaron devor</td>\n",
       "      <td>./aarondevor.html\\n</td>\n",
       "      <td>i am a mature experienced and proven resultsor...</td>\n",
       "      <td>male</td>\n",
       "      <td>1</td>\n",
       "      <td>uwash</td>\n",
       "      <td>0</td>\n",
       "      <td>1</td>\n",
       "      <td>[i, am, a, mature, experienced, and, proven, r...</td>\n",
       "      <td>301</td>\n",
       "      <td>5.328904</td>\n",
       "      <td>77</td>\n",
       "      <td>0.621262</td>\n",
       "    </tr>\n",
       "    <tr>\n",
       "      <th>21</th>\n",
       "      <td>aaron</td>\n",
       "      <td>aaron drake pmp</td>\n",
       "      <td>./aarondrakepm.html\\n</td>\n",
       "      <td>aaron has a diverse range of experience in pro...</td>\n",
       "      <td>male</td>\n",
       "      <td>1</td>\n",
       "      <td>uwash</td>\n",
       "      <td>0</td>\n",
       "      <td>1</td>\n",
       "      <td>[aaron, has, a, diverse, range, of, experience...</td>\n",
       "      <td>131</td>\n",
       "      <td>6.908397</td>\n",
       "      <td>77</td>\n",
       "      <td>0.717557</td>\n",
       "    </tr>\n",
       "    <tr>\n",
       "      <th>22</th>\n",
       "      <td>aaron</td>\n",
       "      <td>aaron emde</td>\n",
       "      <td>./aaronemde.html\\n</td>\n",
       "      <td>my passion for solving real business problems ...</td>\n",
       "      <td>male</td>\n",
       "      <td>1</td>\n",
       "      <td>uwash</td>\n",
       "      <td>0</td>\n",
       "      <td>1</td>\n",
       "      <td>[my, passion, for, solving, real, business, pr...</td>\n",
       "      <td>136</td>\n",
       "      <td>4.904412</td>\n",
       "      <td>77</td>\n",
       "      <td>0.713235</td>\n",
       "    </tr>\n",
       "    <tr>\n",
       "      <th>23</th>\n",
       "      <td>aaron</td>\n",
       "      <td>aaron fairchild</td>\n",
       "      <td>./aaronfairchild.html\\n</td>\n",
       "      <td>since 2004 i have been working to align my ski...</td>\n",
       "      <td>male</td>\n",
       "      <td>1</td>\n",
       "      <td>uwash</td>\n",
       "      <td>0</td>\n",
       "      <td>1</td>\n",
       "      <td>[since, 2004, i, have, been, working, to, alig...</td>\n",
       "      <td>241</td>\n",
       "      <td>6.688797</td>\n",
       "      <td>77</td>\n",
       "      <td>0.705394</td>\n",
       "    </tr>\n",
       "    <tr>\n",
       "      <th>24</th>\n",
       "      <td>aaron</td>\n",
       "      <td>aaron faulk</td>\n",
       "      <td>./aaronfaulk.html\\n</td>\n",
       "      <td>partner and cpa focusing on providing business...</td>\n",
       "      <td>male</td>\n",
       "      <td>1</td>\n",
       "      <td>uwash</td>\n",
       "      <td>0</td>\n",
       "      <td>1</td>\n",
       "      <td>[partner, and, cpa, focusing, on, providing, b...</td>\n",
       "      <td>22</td>\n",
       "      <td>7.181818</td>\n",
       "      <td>77</td>\n",
       "      <td>0.909091</td>\n",
       "    </tr>\n",
       "    <tr>\n",
       "      <th>25</th>\n",
       "      <td>aaron</td>\n",
       "      <td>aaron foreman</td>\n",
       "      <td>./aaronforeman.html\\n</td>\n",
       "      <td>accomplished and respected executive with seve...</td>\n",
       "      <td>male</td>\n",
       "      <td>1</td>\n",
       "      <td>uwash</td>\n",
       "      <td>0</td>\n",
       "      <td>1</td>\n",
       "      <td>[accomplished, and, respected, executive, with...</td>\n",
       "      <td>46</td>\n",
       "      <td>6.130435</td>\n",
       "      <td>77</td>\n",
       "      <td>0.826087</td>\n",
       "    </tr>\n",
       "    <tr>\n",
       "      <th>26</th>\n",
       "      <td>aaron</td>\n",
       "      <td>aaron guenther</td>\n",
       "      <td>./aaronguenther.html\\n</td>\n",
       "      <td>experienced in sales and marketing management ...</td>\n",
       "      <td>male</td>\n",
       "      <td>1</td>\n",
       "      <td>uwash</td>\n",
       "      <td>0</td>\n",
       "      <td>1</td>\n",
       "      <td>[experienced, in, sales, and, marketing, manag...</td>\n",
       "      <td>24</td>\n",
       "      <td>8.083333</td>\n",
       "      <td>77</td>\n",
       "      <td>0.958333</td>\n",
       "    </tr>\n",
       "    <tr>\n",
       "      <th>29</th>\n",
       "      <td>aaron</td>\n",
       "      <td>aaron jarboe</td>\n",
       "      <td>./aaronjarboe.html\\n</td>\n",
       "      <td>in 2007 i received a bs degree in business adm...</td>\n",
       "      <td>male</td>\n",
       "      <td>1</td>\n",
       "      <td>uwash</td>\n",
       "      <td>0</td>\n",
       "      <td>1</td>\n",
       "      <td>[in, 2007, i, received, a, bs, degree, in, bus...</td>\n",
       "      <td>154</td>\n",
       "      <td>5.831169</td>\n",
       "      <td>77</td>\n",
       "      <td>0.610390</td>\n",
       "    </tr>\n",
       "    <tr>\n",
       "      <th>30</th>\n",
       "      <td>aaron</td>\n",
       "      <td>aaron davidson</td>\n",
       "      <td>./aaronjd87.html\\n</td>\n",
       "      <td>im an alwayson passionate person constantly le...</td>\n",
       "      <td>male</td>\n",
       "      <td>1</td>\n",
       "      <td>uwash</td>\n",
       "      <td>0</td>\n",
       "      <td>1</td>\n",
       "      <td>[im, an, alwayson, passionate, person, constan...</td>\n",
       "      <td>39</td>\n",
       "      <td>5.589744</td>\n",
       "      <td>77</td>\n",
       "      <td>0.923077</td>\n",
       "    </tr>\n",
       "    <tr>\n",
       "      <th>31</th>\n",
       "      <td>aaron</td>\n",
       "      <td>aaron garcia</td>\n",
       "      <td>./aaronjosephgarcia.html\\n</td>\n",
       "      <td>hi my name is aaron garcia you may not know it...</td>\n",
       "      <td>male</td>\n",
       "      <td>1</td>\n",
       "      <td>uwash</td>\n",
       "      <td>0</td>\n",
       "      <td>1</td>\n",
       "      <td>[hi, my, name, is, aaron, garcia, you, may, no...</td>\n",
       "      <td>254</td>\n",
       "      <td>4.251969</td>\n",
       "      <td>77</td>\n",
       "      <td>0.562992</td>\n",
       "    </tr>\n",
       "    <tr>\n",
       "      <th>34</th>\n",
       "      <td>aaron</td>\n",
       "      <td>aaron seeley</td>\n",
       "      <td>./aaronmcdm.html\\n</td>\n",
       "      <td>i am thrilled to have recently joined richmark...</td>\n",
       "      <td>male</td>\n",
       "      <td>1</td>\n",
       "      <td>uwash</td>\n",
       "      <td>0</td>\n",
       "      <td>1</td>\n",
       "      <td>[i, am, thrilled, to, have, recently, joined, ...</td>\n",
       "      <td>73</td>\n",
       "      <td>5.520548</td>\n",
       "      <td>77</td>\n",
       "      <td>0.794521</td>\n",
       "    </tr>\n",
       "    <tr>\n",
       "      <th>35</th>\n",
       "      <td>aaron</td>\n",
       "      <td>aaron mitchell jones</td>\n",
       "      <td>./aaronmitchelljones.html\\n</td>\n",
       "      <td>experimental researcher with an aptitude for o...</td>\n",
       "      <td>male</td>\n",
       "      <td>1</td>\n",
       "      <td>uwash</td>\n",
       "      <td>0</td>\n",
       "      <td>1</td>\n",
       "      <td>[experimental, researcher, with, an, aptitude,...</td>\n",
       "      <td>121</td>\n",
       "      <td>8.570248</td>\n",
       "      <td>77</td>\n",
       "      <td>0.834711</td>\n",
       "    </tr>\n",
       "    <tr>\n",
       "      <th>40</th>\n",
       "      <td>aaron</td>\n",
       "      <td>aaron odell</td>\n",
       "      <td>./aaronodell.html\\n</td>\n",
       "      <td>13 years experience in wireless and broadband ...</td>\n",
       "      <td>male</td>\n",
       "      <td>1</td>\n",
       "      <td>uwash</td>\n",
       "      <td>0</td>\n",
       "      <td>1</td>\n",
       "      <td>[13, years, experience, in, wireless, and, bro...</td>\n",
       "      <td>100</td>\n",
       "      <td>6.590000</td>\n",
       "      <td>77</td>\n",
       "      <td>0.820000</td>\n",
       "    </tr>\n",
       "    <tr>\n",
       "      <th>41</th>\n",
       "      <td>aaron</td>\n",
       "      <td>aaron keating</td>\n",
       "      <td>./aaronpkeating.html\\n</td>\n",
       "      <td>seasoned communications professional and nonpr...</td>\n",
       "      <td>male</td>\n",
       "      <td>1</td>\n",
       "      <td>uwash</td>\n",
       "      <td>0</td>\n",
       "      <td>1</td>\n",
       "      <td>[seasoned, communications, professional, and, ...</td>\n",
       "      <td>12</td>\n",
       "      <td>9.083333</td>\n",
       "      <td>77</td>\n",
       "      <td>1.000000</td>\n",
       "    </tr>\n",
       "    <tr>\n",
       "      <th>42</th>\n",
       "      <td>aaron</td>\n",
       "      <td>aaron racicot</td>\n",
       "      <td>./aaronracicot.html\\n</td>\n",
       "      <td>i own a small software development company cal...</td>\n",
       "      <td>male</td>\n",
       "      <td>1</td>\n",
       "      <td>uwash</td>\n",
       "      <td>0</td>\n",
       "      <td>1</td>\n",
       "      <td>[i, own, a, small, software, development, comp...</td>\n",
       "      <td>81</td>\n",
       "      <td>5.790123</td>\n",
       "      <td>77</td>\n",
       "      <td>0.679012</td>\n",
       "    </tr>\n",
       "    <tr>\n",
       "      <th>44</th>\n",
       "      <td>aaron</td>\n",
       "      <td>aaron ruesch</td>\n",
       "      <td>./aaronruesch.html\\n</td>\n",
       "      <td>in general aaron is interested in geography hi...</td>\n",
       "      <td>male</td>\n",
       "      <td>1</td>\n",
       "      <td>uwash</td>\n",
       "      <td>0</td>\n",
       "      <td>1</td>\n",
       "      <td>[in, general, aaron, is, interested, in, geogr...</td>\n",
       "      <td>108</td>\n",
       "      <td>5.620370</td>\n",
       "      <td>77</td>\n",
       "      <td>0.666667</td>\n",
       "    </tr>\n",
       "    <tr>\n",
       "      <th>...</th>\n",
       "      <td>...</td>\n",
       "      <td>...</td>\n",
       "      <td>...</td>\n",
       "      <td>...</td>\n",
       "      <td>...</td>\n",
       "      <td>...</td>\n",
       "      <td>...</td>\n",
       "      <td>...</td>\n",
       "      <td>...</td>\n",
       "      <td>...</td>\n",
       "      <td>...</td>\n",
       "      <td>...</td>\n",
       "      <td>...</td>\n",
       "      <td>...</td>\n",
       "    </tr>\n",
       "    <tr>\n",
       "      <th>31379</th>\n",
       "      <td>zhentian</td>\n",
       "      <td>zhentian wei</td>\n",
       "      <td>./2015-12-24-ga-tech/zhentianwei.html\\n</td>\n",
       "      <td>summaryactive and outgoing graduate student at...</td>\n",
       "      <td>male</td>\n",
       "      <td>1</td>\n",
       "      <td>gatech</td>\n",
       "      <td>0</td>\n",
       "      <td>1</td>\n",
       "      <td>[summaryactive, and, outgoing, graduate, stude...</td>\n",
       "      <td>28</td>\n",
       "      <td>6.785714</td>\n",
       "      <td>1</td>\n",
       "      <td>0.821429</td>\n",
       "    </tr>\n",
       "    <tr>\n",
       "      <th>31380</th>\n",
       "      <td>zhi</td>\n",
       "      <td>zhi min chen</td>\n",
       "      <td>./zhimin.html\\n</td>\n",
       "      <td>specialtiesrigging high and low poly modeling ...</td>\n",
       "      <td>female</td>\n",
       "      <td>1</td>\n",
       "      <td>uwash</td>\n",
       "      <td>0</td>\n",
       "      <td>0</td>\n",
       "      <td>[specialtiesrigging, high, and, low, poly, mod...</td>\n",
       "      <td>22</td>\n",
       "      <td>5.863636</td>\n",
       "      <td>1</td>\n",
       "      <td>0.909091</td>\n",
       "    </tr>\n",
       "    <tr>\n",
       "      <th>31382</th>\n",
       "      <td>zhiyong</td>\n",
       "      <td>zhiyong joe xie</td>\n",
       "      <td>./zhiyongxie.html\\n</td>\n",
       "      <td>passionate about solving the challenges of lar...</td>\n",
       "      <td>male</td>\n",
       "      <td>1</td>\n",
       "      <td>uwash</td>\n",
       "      <td>0</td>\n",
       "      <td>1</td>\n",
       "      <td>[passionate, about, solving, the, challenges, ...</td>\n",
       "      <td>47</td>\n",
       "      <td>6.276596</td>\n",
       "      <td>1</td>\n",
       "      <td>0.936170</td>\n",
       "    </tr>\n",
       "    <tr>\n",
       "      <th>31383</th>\n",
       "      <td>zhongchao</td>\n",
       "      <td>zhongchao liao</td>\n",
       "      <td>./liaozhongchao.html\\n</td>\n",
       "      <td>experienced electroniccomputer engineer h1b sp...</td>\n",
       "      <td>male</td>\n",
       "      <td>1</td>\n",
       "      <td>uwash</td>\n",
       "      <td>0</td>\n",
       "      <td>1</td>\n",
       "      <td>[experienced, electroniccomputer, engineer, h1...</td>\n",
       "      <td>14</td>\n",
       "      <td>10.428571</td>\n",
       "      <td>1</td>\n",
       "      <td>0.928571</td>\n",
       "    </tr>\n",
       "    <tr>\n",
       "      <th>31385</th>\n",
       "      <td>zhuoran</td>\n",
       "      <td>zhuoran zhao</td>\n",
       "      <td>./2015-12-25-ut-austin/zhuoran-zhao-66386044.h...</td>\n",
       "      <td>summaryi am currently a graduate student at th...</td>\n",
       "      <td>male</td>\n",
       "      <td>1</td>\n",
       "      <td>utaustin</td>\n",
       "      <td>0</td>\n",
       "      <td>1</td>\n",
       "      <td>[summaryi, am, currently, a, graduate, student...</td>\n",
       "      <td>52</td>\n",
       "      <td>6.557692</td>\n",
       "      <td>1</td>\n",
       "      <td>0.826923</td>\n",
       "    </tr>\n",
       "    <tr>\n",
       "      <th>31388</th>\n",
       "      <td>zia</td>\n",
       "      <td>zia qadir</td>\n",
       "      <td>./qadirz.html\\n</td>\n",
       "      <td>a result oriented professional offers his serv...</td>\n",
       "      <td>female</td>\n",
       "      <td>1</td>\n",
       "      <td>uwash</td>\n",
       "      <td>0</td>\n",
       "      <td>0</td>\n",
       "      <td>[a, result, oriented, professional, offers, hi...</td>\n",
       "      <td>126</td>\n",
       "      <td>6.690476</td>\n",
       "      <td>1</td>\n",
       "      <td>0.809524</td>\n",
       "    </tr>\n",
       "    <tr>\n",
       "      <th>31389</th>\n",
       "      <td>zidong</td>\n",
       "      <td>zidong yang</td>\n",
       "      <td>./zidongyang.html\\n</td>\n",
       "      <td>im an engineer and scientific researcher with ...</td>\n",
       "      <td>male</td>\n",
       "      <td>1</td>\n",
       "      <td>uwash</td>\n",
       "      <td>0</td>\n",
       "      <td>1</td>\n",
       "      <td>[im, an, engineer, and, scientific, researcher...</td>\n",
       "      <td>86</td>\n",
       "      <td>7.465116</td>\n",
       "      <td>1</td>\n",
       "      <td>0.895349</td>\n",
       "    </tr>\n",
       "    <tr>\n",
       "      <th>31391</th>\n",
       "      <td>zijing</td>\n",
       "      <td>zijing yuan</td>\n",
       "      <td>./zijing.html\\n</td>\n",
       "      <td>software engineer with five years of experienc...</td>\n",
       "      <td>male</td>\n",
       "      <td>1</td>\n",
       "      <td>uwash</td>\n",
       "      <td>0</td>\n",
       "      <td>1</td>\n",
       "      <td>[software, engineer, with, five, years, of, ex...</td>\n",
       "      <td>29</td>\n",
       "      <td>8.482759</td>\n",
       "      <td>1</td>\n",
       "      <td>0.827586</td>\n",
       "    </tr>\n",
       "    <tr>\n",
       "      <th>31397</th>\n",
       "      <td>ziyu</td>\n",
       "      <td>ziyu wang</td>\n",
       "      <td>./2015-12-24-wellesley/ziyuwangziyu.html\\n</td>\n",
       "      <td>summarysophomore student at wellesley college ...</td>\n",
       "      <td>male</td>\n",
       "      <td>1</td>\n",
       "      <td>wellesley</td>\n",
       "      <td>0</td>\n",
       "      <td>1</td>\n",
       "      <td>[summarysophomore, student, at, wellesley, col...</td>\n",
       "      <td>39</td>\n",
       "      <td>6.410256</td>\n",
       "      <td>2</td>\n",
       "      <td>0.871795</td>\n",
       "    </tr>\n",
       "    <tr>\n",
       "      <th>31398</th>\n",
       "      <td>ziyu</td>\n",
       "      <td>ziyu wang</td>\n",
       "      <td>./ziyu-wang-5900735b.html\\n</td>\n",
       "      <td>summaryenthusiastic and energetic graduate stu...</td>\n",
       "      <td>male</td>\n",
       "      <td>1</td>\n",
       "      <td>caltech</td>\n",
       "      <td>0</td>\n",
       "      <td>1</td>\n",
       "      <td>[summaryenthusiastic, and, energetic, graduate...</td>\n",
       "      <td>27</td>\n",
       "      <td>7.148148</td>\n",
       "      <td>2</td>\n",
       "      <td>0.814815</td>\n",
       "    </tr>\n",
       "    <tr>\n",
       "      <th>31400</th>\n",
       "      <td>zlatko</td>\n",
       "      <td>zlatko filipovic</td>\n",
       "      <td>./zlatkofilipovic.html\\n</td>\n",
       "      <td>zlatkofilipoviccom  zfilipovgmailcom 10 years ...</td>\n",
       "      <td>female</td>\n",
       "      <td>1</td>\n",
       "      <td>uwash</td>\n",
       "      <td>0</td>\n",
       "      <td>0</td>\n",
       "      <td>[zlatkofilipoviccom, zfilipovgmailcom, 10, yea...</td>\n",
       "      <td>120</td>\n",
       "      <td>6.800000</td>\n",
       "      <td>1</td>\n",
       "      <td>0.716667</td>\n",
       "    </tr>\n",
       "    <tr>\n",
       "      <th>31401</th>\n",
       "      <td>zo</td>\n",
       "      <td>zo williams</td>\n",
       "      <td>./zoewilliams.html\\n</td>\n",
       "      <td>i am a dedicated social media community manage...</td>\n",
       "      <td>male</td>\n",
       "      <td>1</td>\n",
       "      <td>uwash</td>\n",
       "      <td>0</td>\n",
       "      <td>1</td>\n",
       "      <td>[i, am, a, dedicated, social, media, community...</td>\n",
       "      <td>88</td>\n",
       "      <td>5.352273</td>\n",
       "      <td>2</td>\n",
       "      <td>0.795455</td>\n",
       "    </tr>\n",
       "    <tr>\n",
       "      <th>31402</th>\n",
       "      <td>zo</td>\n",
       "      <td>zo mclaughlin</td>\n",
       "      <td>./2015-12-24-vassar/zoemclaughlin.html\\n</td>\n",
       "      <td>summaryi am a masters candidate in the center ...</td>\n",
       "      <td>male</td>\n",
       "      <td>1</td>\n",
       "      <td>vassar</td>\n",
       "      <td>0</td>\n",
       "      <td>1</td>\n",
       "      <td>[summaryi, am, a, masters, candidate, in, the,...</td>\n",
       "      <td>99</td>\n",
       "      <td>5.686869</td>\n",
       "      <td>2</td>\n",
       "      <td>0.717172</td>\n",
       "    </tr>\n",
       "    <tr>\n",
       "      <th>31403</th>\n",
       "      <td>zodiac</td>\n",
       "      <td>zodiac webster</td>\n",
       "      <td>./zodiac-webster-11b3699.html\\n</td>\n",
       "      <td>summarydetail oriented educator and researcher...</td>\n",
       "      <td>male</td>\n",
       "      <td>1</td>\n",
       "      <td>holyoke</td>\n",
       "      <td>0</td>\n",
       "      <td>1</td>\n",
       "      <td>[summarydetail, oriented, educator, and, resea...</td>\n",
       "      <td>45</td>\n",
       "      <td>6.288889</td>\n",
       "      <td>1</td>\n",
       "      <td>0.888889</td>\n",
       "    </tr>\n",
       "    <tr>\n",
       "      <th>31404</th>\n",
       "      <td>zoe</td>\n",
       "      <td>zoe yates</td>\n",
       "      <td>./zlyates.html\\n</td>\n",
       "      <td>httpcargocollectivecomzoelehryates</td>\n",
       "      <td>female</td>\n",
       "      <td>1</td>\n",
       "      <td>uwash</td>\n",
       "      <td>0</td>\n",
       "      <td>0</td>\n",
       "      <td>[httpcargocollectivecomzoelehryates]</td>\n",
       "      <td>1</td>\n",
       "      <td>34.000000</td>\n",
       "      <td>11</td>\n",
       "      <td>1.000000</td>\n",
       "    </tr>\n",
       "    <tr>\n",
       "      <th>31406</th>\n",
       "      <td>zoe</td>\n",
       "      <td>zoe holbrooks</td>\n",
       "      <td>./zoeholbrooks.html\\n</td>\n",
       "      <td>specialtiescontent analysis metadata taxonomyo...</td>\n",
       "      <td>female</td>\n",
       "      <td>1</td>\n",
       "      <td>uwash</td>\n",
       "      <td>0</td>\n",
       "      <td>0</td>\n",
       "      <td>[specialtiescontent, analysis, metadata, taxon...</td>\n",
       "      <td>6</td>\n",
       "      <td>13.166667</td>\n",
       "      <td>11</td>\n",
       "      <td>1.000000</td>\n",
       "    </tr>\n",
       "    <tr>\n",
       "      <th>31407</th>\n",
       "      <td>zoe</td>\n",
       "      <td>zoe burgess</td>\n",
       "      <td>./zoesburgess.html\\n</td>\n",
       "      <td>specialtiescommunications sales publicity prom...</td>\n",
       "      <td>female</td>\n",
       "      <td>1</td>\n",
       "      <td>uwash</td>\n",
       "      <td>0</td>\n",
       "      <td>0</td>\n",
       "      <td>[specialtiescommunications, sales, publicity, ...</td>\n",
       "      <td>13</td>\n",
       "      <td>9.153846</td>\n",
       "      <td>11</td>\n",
       "      <td>1.000000</td>\n",
       "    </tr>\n",
       "    <tr>\n",
       "      <th>31408</th>\n",
       "      <td>zoe</td>\n",
       "      <td>zoe vais</td>\n",
       "      <td>./zoevais.html\\n</td>\n",
       "      <td>i grew up in the california bay area before mo...</td>\n",
       "      <td>female</td>\n",
       "      <td>1</td>\n",
       "      <td>uwash</td>\n",
       "      <td>0</td>\n",
       "      <td>0</td>\n",
       "      <td>[i, grew, up, in, the, california, bay, area, ...</td>\n",
       "      <td>79</td>\n",
       "      <td>4.645570</td>\n",
       "      <td>11</td>\n",
       "      <td>0.708861</td>\n",
       "    </tr>\n",
       "    <tr>\n",
       "      <th>31409</th>\n",
       "      <td>zoe</td>\n",
       "      <td>zoe winkworth</td>\n",
       "      <td>./zoe-winkworth-0872a552.html\\n</td>\n",
       "      <td>summaryi am an undergraduate student at northe...</td>\n",
       "      <td>female</td>\n",
       "      <td>1</td>\n",
       "      <td>holyoke</td>\n",
       "      <td>0</td>\n",
       "      <td>0</td>\n",
       "      <td>[summaryi, am, an, undergraduate, student, at,...</td>\n",
       "      <td>46</td>\n",
       "      <td>6.086957</td>\n",
       "      <td>11</td>\n",
       "      <td>0.847826</td>\n",
       "    </tr>\n",
       "    <tr>\n",
       "      <th>31410</th>\n",
       "      <td>zoe</td>\n",
       "      <td>zoe kosieradzki</td>\n",
       "      <td>./2015-12-24-wellesley/zoe-kosieradzki-bb373a8...</td>\n",
       "      <td>summaryi am a student writer and artist after ...</td>\n",
       "      <td>female</td>\n",
       "      <td>1</td>\n",
       "      <td>wellesley</td>\n",
       "      <td>0</td>\n",
       "      <td>0</td>\n",
       "      <td>[summaryi, am, a, student, writer, and, artist...</td>\n",
       "      <td>319</td>\n",
       "      <td>4.912226</td>\n",
       "      <td>11</td>\n",
       "      <td>0.548589</td>\n",
       "    </tr>\n",
       "    <tr>\n",
       "      <th>31413</th>\n",
       "      <td>zoe</td>\n",
       "      <td>zoe schreiber</td>\n",
       "      <td>./2015-12-24-wellesley/zoeschreiber01.html\\n</td>\n",
       "      <td>summaryi am very motivated and driven and i en...</td>\n",
       "      <td>female</td>\n",
       "      <td>1</td>\n",
       "      <td>wellesley</td>\n",
       "      <td>0</td>\n",
       "      <td>0</td>\n",
       "      <td>[summaryi, am, very, motivated, and, driven, a...</td>\n",
       "      <td>36</td>\n",
       "      <td>4.416667</td>\n",
       "      <td>11</td>\n",
       "      <td>0.833333</td>\n",
       "    </tr>\n",
       "    <tr>\n",
       "      <th>31415</th>\n",
       "      <td>zoee</td>\n",
       "      <td>zoee kanellias</td>\n",
       "      <td>./2015-12-24-wellesley/zoeekanellias.html\\n</td>\n",
       "      <td>summaryat 23 i jumped off a 33foot cliff for e...</td>\n",
       "      <td>female</td>\n",
       "      <td>1</td>\n",
       "      <td>wellesley</td>\n",
       "      <td>0</td>\n",
       "      <td>0</td>\n",
       "      <td>[summaryat, 23, i, jumped, off, a, 33foot, cli...</td>\n",
       "      <td>162</td>\n",
       "      <td>5.123457</td>\n",
       "      <td>1</td>\n",
       "      <td>0.703704</td>\n",
       "    </tr>\n",
       "    <tr>\n",
       "      <th>31421</th>\n",
       "      <td>zosia</td>\n",
       "      <td>zosia krusberg</td>\n",
       "      <td>./2015-12-24-vassar/zosia-krusberg-6a07a725.ht...</td>\n",
       "      <td>summarytheoretical particle physics and cosmol...</td>\n",
       "      <td>female</td>\n",
       "      <td>1</td>\n",
       "      <td>vassar</td>\n",
       "      <td>0</td>\n",
       "      <td>0</td>\n",
       "      <td>[summarytheoretical, particle, physics, and, c...</td>\n",
       "      <td>17</td>\n",
       "      <td>8.058824</td>\n",
       "      <td>1</td>\n",
       "      <td>0.764706</td>\n",
       "    </tr>\n",
       "    <tr>\n",
       "      <th>31422</th>\n",
       "      <td>zsolt</td>\n",
       "      <td>zsolt nyiri</td>\n",
       "      <td>./zsoltnyiri.html\\n</td>\n",
       "      <td>dr nyiri joined the faculty of the department ...</td>\n",
       "      <td>male</td>\n",
       "      <td>1</td>\n",
       "      <td>uwash</td>\n",
       "      <td>0</td>\n",
       "      <td>1</td>\n",
       "      <td>[dr, nyiri, joined, the, faculty, of, the, dep...</td>\n",
       "      <td>298</td>\n",
       "      <td>5.946309</td>\n",
       "      <td>1</td>\n",
       "      <td>0.577181</td>\n",
       "    </tr>\n",
       "    <tr>\n",
       "      <th>31423</th>\n",
       "      <td>zuhairah</td>\n",
       "      <td>zuhairah scott washington</td>\n",
       "      <td>./zuhairah.html\\n</td>\n",
       "      <td>i am an entrepreneur and seasoned business pro...</td>\n",
       "      <td>male</td>\n",
       "      <td>1</td>\n",
       "      <td>uwash</td>\n",
       "      <td>0</td>\n",
       "      <td>1</td>\n",
       "      <td>[i, am, an, entrepreneur, and, seasoned, busin...</td>\n",
       "      <td>245</td>\n",
       "      <td>5.232653</td>\n",
       "      <td>1</td>\n",
       "      <td>0.689796</td>\n",
       "    </tr>\n",
       "    <tr>\n",
       "      <th>31429</th>\n",
       "      <td>zuri</td>\n",
       "      <td>zuri rose baron</td>\n",
       "      <td>./zurirosebaron.html\\n</td>\n",
       "      <td>zuri rose is a natural networker is a selfstar...</td>\n",
       "      <td>female</td>\n",
       "      <td>1</td>\n",
       "      <td>uwash</td>\n",
       "      <td>0</td>\n",
       "      <td>0</td>\n",
       "      <td>[zuri, rose, is, a, natural, networker, is, a,...</td>\n",
       "      <td>78</td>\n",
       "      <td>5.294872</td>\n",
       "      <td>2</td>\n",
       "      <td>0.743590</td>\n",
       "    </tr>\n",
       "    <tr>\n",
       "      <th>31431</th>\n",
       "      <td>nanname</td>\n",
       "      <td>nan liu cpa</td>\n",
       "      <td>./liun86.html\\n</td>\n",
       "      <td>serve technology industry in silicon valleyfed...</td>\n",
       "      <td>female</td>\n",
       "      <td>1</td>\n",
       "      <td>uwash</td>\n",
       "      <td>0</td>\n",
       "      <td>1</td>\n",
       "      <td>[serve, technology, industry, in, silicon, val...</td>\n",
       "      <td>14</td>\n",
       "      <td>7.357143</td>\n",
       "      <td>NaN</td>\n",
       "      <td>1.000000</td>\n",
       "    </tr>\n",
       "    <tr>\n",
       "      <th>31432</th>\n",
       "      <td>nanname</td>\n",
       "      <td>nan holmes</td>\n",
       "      <td>./nanholmes.html\\n</td>\n",
       "      <td>30 years of experience in office management gr...</td>\n",
       "      <td>female</td>\n",
       "      <td>1</td>\n",
       "      <td>uwash</td>\n",
       "      <td>0</td>\n",
       "      <td>1</td>\n",
       "      <td>[30, years, of, experience, in, office, manage...</td>\n",
       "      <td>35</td>\n",
       "      <td>6.142857</td>\n",
       "      <td>NaN</td>\n",
       "      <td>0.885714</td>\n",
       "    </tr>\n",
       "    <tr>\n",
       "      <th>31433</th>\n",
       "      <td>nanname</td>\n",
       "      <td>nan santivong</td>\n",
       "      <td>./nansantivong.html\\n</td>\n",
       "      <td>a dynamic paralegal with a wide range of exper...</td>\n",
       "      <td>female</td>\n",
       "      <td>1</td>\n",
       "      <td>uwash</td>\n",
       "      <td>0</td>\n",
       "      <td>1</td>\n",
       "      <td>[a, dynamic, paralegal, with, a, wide, range, ...</td>\n",
       "      <td>158</td>\n",
       "      <td>5.993671</td>\n",
       "      <td>NaN</td>\n",
       "      <td>0.721519</td>\n",
       "    </tr>\n",
       "    <tr>\n",
       "      <th>31434</th>\n",
       "      <td>nanname</td>\n",
       "      <td>nan gaines foster</td>\n",
       "      <td>./2015-12-24-vassar/nan-foster-3226338.html\\n</td>\n",
       "      <td>summaryfood  nutrition leadership visual writi...</td>\n",
       "      <td>female</td>\n",
       "      <td>1</td>\n",
       "      <td>vassar</td>\n",
       "      <td>0</td>\n",
       "      <td>1</td>\n",
       "      <td>[summaryfood, nutrition, leadership, visual, w...</td>\n",
       "      <td>137</td>\n",
       "      <td>7.262774</td>\n",
       "      <td>NaN</td>\n",
       "      <td>0.554745</td>\n",
       "    </tr>\n",
       "  </tbody>\n",
       "</table>\n",
       "<p>17532 rows × 14 columns</p>\n",
       "</div>"
      ],
      "text/plain": [
       "      first_name                  full_name  \\\n",
       "0         aakash             aakash maniyar   \n",
       "1         aakash               aakash sethi   \n",
       "2        aakriti           aakriti srikanth   \n",
       "5           aapo                  aapo kyrl   \n",
       "6          aaron                 aaron alva   \n",
       "8          aaron              aaron barrell   \n",
       "9          aaron                  aaron day   \n",
       "10         aaron              aaron browder   \n",
       "12         aaron                aaron burke   \n",
       "13         aaron                    aaron c   \n",
       "14         aaron             aaron campbell   \n",
       "16         aaron            aaron cheuvront   \n",
       "18         aaron          aaron daniels pmp   \n",
       "19         aaron              aaron m davis   \n",
       "20         aaron                aaron devor   \n",
       "21         aaron            aaron drake pmp   \n",
       "22         aaron                 aaron emde   \n",
       "23         aaron            aaron fairchild   \n",
       "24         aaron                aaron faulk   \n",
       "25         aaron              aaron foreman   \n",
       "26         aaron             aaron guenther   \n",
       "29         aaron               aaron jarboe   \n",
       "30         aaron             aaron davidson   \n",
       "31         aaron               aaron garcia   \n",
       "34         aaron               aaron seeley   \n",
       "35         aaron       aaron mitchell jones   \n",
       "40         aaron                aaron odell   \n",
       "41         aaron              aaron keating   \n",
       "42         aaron              aaron racicot   \n",
       "44         aaron               aaron ruesch   \n",
       "...          ...                        ...   \n",
       "31379   zhentian               zhentian wei   \n",
       "31380        zhi               zhi min chen   \n",
       "31382    zhiyong            zhiyong joe xie   \n",
       "31383  zhongchao             zhongchao liao   \n",
       "31385    zhuoran               zhuoran zhao   \n",
       "31388        zia                  zia qadir   \n",
       "31389     zidong                zidong yang   \n",
       "31391     zijing                zijing yuan   \n",
       "31397       ziyu                  ziyu wang   \n",
       "31398       ziyu                  ziyu wang   \n",
       "31400     zlatko           zlatko filipovic   \n",
       "31401         zo                zo williams   \n",
       "31402         zo              zo mclaughlin   \n",
       "31403     zodiac             zodiac webster   \n",
       "31404        zoe                  zoe yates   \n",
       "31406        zoe              zoe holbrooks   \n",
       "31407        zoe                zoe burgess   \n",
       "31408        zoe                   zoe vais   \n",
       "31409        zoe              zoe winkworth   \n",
       "31410        zoe            zoe kosieradzki   \n",
       "31413        zoe              zoe schreiber   \n",
       "31415       zoee             zoee kanellias   \n",
       "31421      zosia             zosia krusberg   \n",
       "31422      zsolt                zsolt nyiri   \n",
       "31423   zuhairah  zuhairah scott washington   \n",
       "31429       zuri            zuri rose baron   \n",
       "31431    nanname                nan liu cpa   \n",
       "31432    nanname                 nan holmes   \n",
       "31433    nanname              nan santivong   \n",
       "31434    nanname          nan gaines foster   \n",
       "\n",
       "                                                    html  \\\n",
       "0                                 ./aakashmaniyar.html\\n   \n",
       "1                                      ./asethi77.html\\n   \n",
       "2          ./2015-12-25-ut-austin/aakritisrikanth.html\\n   \n",
       "5                                       ./akyrola.html\\n   \n",
       "6                                         ./aalva.html\\n   \n",
       "8                                  ./aaronbarrell.html\\n   \n",
       "9                                     ./aaronbday.html\\n   \n",
       "10                                 ./aaronbrowder.html\\n   \n",
       "12                                   ./aaronburke.html\\n   \n",
       "13                                     ./aaronc25.html\\n   \n",
       "14                                ./aaroncampbell.html\\n   \n",
       "16                               ./aaroncheuvront.html\\n   \n",
       "18                                 ./aarondaniels.html\\n   \n",
       "19                                 ./aarondavis13.html\\n   \n",
       "20                                   ./aarondevor.html\\n   \n",
       "21                                 ./aarondrakepm.html\\n   \n",
       "22                                    ./aaronemde.html\\n   \n",
       "23                               ./aaronfairchild.html\\n   \n",
       "24                                   ./aaronfaulk.html\\n   \n",
       "25                                 ./aaronforeman.html\\n   \n",
       "26                                ./aaronguenther.html\\n   \n",
       "29                                  ./aaronjarboe.html\\n   \n",
       "30                                    ./aaronjd87.html\\n   \n",
       "31                            ./aaronjosephgarcia.html\\n   \n",
       "34                                    ./aaronmcdm.html\\n   \n",
       "35                           ./aaronmitchelljones.html\\n   \n",
       "40                                   ./aaronodell.html\\n   \n",
       "41                                ./aaronpkeating.html\\n   \n",
       "42                                 ./aaronracicot.html\\n   \n",
       "44                                  ./aaronruesch.html\\n   \n",
       "...                                                  ...   \n",
       "31379            ./2015-12-24-ga-tech/zhentianwei.html\\n   \n",
       "31380                                    ./zhimin.html\\n   \n",
       "31382                                ./zhiyongxie.html\\n   \n",
       "31383                             ./liaozhongchao.html\\n   \n",
       "31385  ./2015-12-25-ut-austin/zhuoran-zhao-66386044.h...   \n",
       "31388                                    ./qadirz.html\\n   \n",
       "31389                                ./zidongyang.html\\n   \n",
       "31391                                    ./zijing.html\\n   \n",
       "31397         ./2015-12-24-wellesley/ziyuwangziyu.html\\n   \n",
       "31398                        ./ziyu-wang-5900735b.html\\n   \n",
       "31400                           ./zlatkofilipovic.html\\n   \n",
       "31401                               ./zoewilliams.html\\n   \n",
       "31402           ./2015-12-24-vassar/zoemclaughlin.html\\n   \n",
       "31403                    ./zodiac-webster-11b3699.html\\n   \n",
       "31404                                   ./zlyates.html\\n   \n",
       "31406                              ./zoeholbrooks.html\\n   \n",
       "31407                               ./zoesburgess.html\\n   \n",
       "31408                                   ./zoevais.html\\n   \n",
       "31409                    ./zoe-winkworth-0872a552.html\\n   \n",
       "31410  ./2015-12-24-wellesley/zoe-kosieradzki-bb373a8...   \n",
       "31413       ./2015-12-24-wellesley/zoeschreiber01.html\\n   \n",
       "31415        ./2015-12-24-wellesley/zoeekanellias.html\\n   \n",
       "31421  ./2015-12-24-vassar/zosia-krusberg-6a07a725.ht...   \n",
       "31422                                ./zsoltnyiri.html\\n   \n",
       "31423                                  ./zuhairah.html\\n   \n",
       "31429                             ./zurirosebaron.html\\n   \n",
       "31431                                    ./liun86.html\\n   \n",
       "31432                                 ./nanholmes.html\\n   \n",
       "31433                              ./nansantivong.html\\n   \n",
       "31434      ./2015-12-24-vassar/nan-foster-3226338.html\\n   \n",
       "\n",
       "                                                 summary  gender  counter  \\\n",
       "0      hard worker driven to succeed fast learner alw...    male        1   \n",
       "1      as a computer engineering student at the unive...    male        1   \n",
       "2      summaryproduct management  strategy business d...  female        1   \n",
       "5      startup entrepreneur computer scientist and en...    male        1   \n",
       "6      aaron alva researches at the intersection of l...    male        1   \n",
       "8      writer and poet with years of experience parti...    male        1   \n",
       "9      i am a versatile website developer who has a b...    male        1   \n",
       "10     software developer with 2 years of industry ex...    male        1   \n",
       "12     software engineer with a vast array of knowled...    male        1   \n",
       "13     i have achieved a high level of communication ...    male        1   \n",
       "14     aaron campbell is an energy efficiency evangel...    male        1   \n",
       "16     experienced gis and autocad administrator with...    male        1   \n",
       "18     wind energy executive with a global business p...    male        1   \n",
       "19     as the academic operations coordinator for the...    male        1   \n",
       "20     i am a mature experienced and proven resultsor...    male        1   \n",
       "21     aaron has a diverse range of experience in pro...    male        1   \n",
       "22     my passion for solving real business problems ...    male        1   \n",
       "23     since 2004 i have been working to align my ski...    male        1   \n",
       "24     partner and cpa focusing on providing business...    male        1   \n",
       "25     accomplished and respected executive with seve...    male        1   \n",
       "26     experienced in sales and marketing management ...    male        1   \n",
       "29     in 2007 i received a bs degree in business adm...    male        1   \n",
       "30     im an alwayson passionate person constantly le...    male        1   \n",
       "31     hi my name is aaron garcia you may not know it...    male        1   \n",
       "34     i am thrilled to have recently joined richmark...    male        1   \n",
       "35     experimental researcher with an aptitude for o...    male        1   \n",
       "40     13 years experience in wireless and broadband ...    male        1   \n",
       "41     seasoned communications professional and nonpr...    male        1   \n",
       "42     i own a small software development company cal...    male        1   \n",
       "44     in general aaron is interested in geography hi...    male        1   \n",
       "...                                                  ...     ...      ...   \n",
       "31379  summaryactive and outgoing graduate student at...    male        1   \n",
       "31380  specialtiesrigging high and low poly modeling ...  female        1   \n",
       "31382  passionate about solving the challenges of lar...    male        1   \n",
       "31383  experienced electroniccomputer engineer h1b sp...    male        1   \n",
       "31385  summaryi am currently a graduate student at th...    male        1   \n",
       "31388  a result oriented professional offers his serv...  female        1   \n",
       "31389  im an engineer and scientific researcher with ...    male        1   \n",
       "31391  software engineer with five years of experienc...    male        1   \n",
       "31397  summarysophomore student at wellesley college ...    male        1   \n",
       "31398  summaryenthusiastic and energetic graduate stu...    male        1   \n",
       "31400  zlatkofilipoviccom  zfilipovgmailcom 10 years ...  female        1   \n",
       "31401  i am a dedicated social media community manage...    male        1   \n",
       "31402  summaryi am a masters candidate in the center ...    male        1   \n",
       "31403  summarydetail oriented educator and researcher...    male        1   \n",
       "31404                 httpcargocollectivecomzoelehryates  female        1   \n",
       "31406  specialtiescontent analysis metadata taxonomyo...  female        1   \n",
       "31407  specialtiescommunications sales publicity prom...  female        1   \n",
       "31408  i grew up in the california bay area before mo...  female        1   \n",
       "31409  summaryi am an undergraduate student at northe...  female        1   \n",
       "31410  summaryi am a student writer and artist after ...  female        1   \n",
       "31413  summaryi am very motivated and driven and i en...  female        1   \n",
       "31415  summaryat 23 i jumped off a 33foot cliff for e...  female        1   \n",
       "31421  summarytheoretical particle physics and cosmol...  female        1   \n",
       "31422  dr nyiri joined the faculty of the department ...    male        1   \n",
       "31423  i am an entrepreneur and seasoned business pro...    male        1   \n",
       "31429  zuri rose is a natural networker is a selfstar...  female        1   \n",
       "31431  serve technology industry in silicon valleyfed...  female        1   \n",
       "31432  30 years of experience in office management gr...  female        1   \n",
       "31433  a dynamic paralegal with a wide range of exper...  female        1   \n",
       "31434  summaryfood  nutrition leadership visual writi...  female        1   \n",
       "\n",
       "          source  summ_missing  class  \\\n",
       "0          uwash             0      1   \n",
       "1          uwash             0      1   \n",
       "2       utaustin             0      0   \n",
       "5          uwash             0      1   \n",
       "6          uwash             0      1   \n",
       "8          uwash             0      1   \n",
       "9          uwash             0      1   \n",
       "10         uwash             0      1   \n",
       "12         uwash             0      1   \n",
       "13         uwash             0      1   \n",
       "14         uwash             0      1   \n",
       "16         uwash             0      1   \n",
       "18         uwash             0      1   \n",
       "19         uwash             0      1   \n",
       "20         uwash             0      1   \n",
       "21         uwash             0      1   \n",
       "22         uwash             0      1   \n",
       "23         uwash             0      1   \n",
       "24         uwash             0      1   \n",
       "25         uwash             0      1   \n",
       "26         uwash             0      1   \n",
       "29         uwash             0      1   \n",
       "30         uwash             0      1   \n",
       "31         uwash             0      1   \n",
       "34         uwash             0      1   \n",
       "35         uwash             0      1   \n",
       "40         uwash             0      1   \n",
       "41         uwash             0      1   \n",
       "42         uwash             0      1   \n",
       "44         uwash             0      1   \n",
       "...          ...           ...    ...   \n",
       "31379     gatech             0      1   \n",
       "31380      uwash             0      0   \n",
       "31382      uwash             0      1   \n",
       "31383      uwash             0      1   \n",
       "31385   utaustin             0      1   \n",
       "31388      uwash             0      0   \n",
       "31389      uwash             0      1   \n",
       "31391      uwash             0      1   \n",
       "31397  wellesley             0      1   \n",
       "31398    caltech             0      1   \n",
       "31400      uwash             0      0   \n",
       "31401      uwash             0      1   \n",
       "31402     vassar             0      1   \n",
       "31403    holyoke             0      1   \n",
       "31404      uwash             0      0   \n",
       "31406      uwash             0      0   \n",
       "31407      uwash             0      0   \n",
       "31408      uwash             0      0   \n",
       "31409    holyoke             0      0   \n",
       "31410  wellesley             0      0   \n",
       "31413  wellesley             0      0   \n",
       "31415  wellesley             0      0   \n",
       "31421     vassar             0      0   \n",
       "31422      uwash             0      1   \n",
       "31423      uwash             0      1   \n",
       "31429      uwash             0      0   \n",
       "31431      uwash             0      1   \n",
       "31432      uwash             0      1   \n",
       "31433      uwash             0      1   \n",
       "31434     vassar             0      1   \n",
       "\n",
       "                                             summ_tokens  num_tokens  \\\n",
       "0      [hard, worker, driven, to, succeed, fast, lear...         114   \n",
       "1      [as, a, computer, engineering, student, at, th...          70   \n",
       "2      [summaryproduct, management, strategy, busines...          61   \n",
       "5      [startup, entrepreneur, computer, scientist, a...         142   \n",
       "6      [aaron, alva, researches, at, the, intersectio...          57   \n",
       "8      [writer, and, poet, with, years, of, experienc...          33   \n",
       "9      [i, am, a, versatile, website, developer, who,...         137   \n",
       "10     [software, developer, with, 2, years, of, indu...          41   \n",
       "12     [software, engineer, with, a, vast, array, of,...          63   \n",
       "13     [i, have, achieved, a, high, level, of, commun...          50   \n",
       "14     [aaron, campbell, is, an, energy, efficiency, ...         147   \n",
       "16     [experienced, gis, and, autocad, administrator...          83   \n",
       "18     [wind, energy, executive, with, a, global, bus...          43   \n",
       "19     [as, the, academic, operations, coordinator, f...         120   \n",
       "20     [i, am, a, mature, experienced, and, proven, r...         301   \n",
       "21     [aaron, has, a, diverse, range, of, experience...         131   \n",
       "22     [my, passion, for, solving, real, business, pr...         136   \n",
       "23     [since, 2004, i, have, been, working, to, alig...         241   \n",
       "24     [partner, and, cpa, focusing, on, providing, b...          22   \n",
       "25     [accomplished, and, respected, executive, with...          46   \n",
       "26     [experienced, in, sales, and, marketing, manag...          24   \n",
       "29     [in, 2007, i, received, a, bs, degree, in, bus...         154   \n",
       "30     [im, an, alwayson, passionate, person, constan...          39   \n",
       "31     [hi, my, name, is, aaron, garcia, you, may, no...         254   \n",
       "34     [i, am, thrilled, to, have, recently, joined, ...          73   \n",
       "35     [experimental, researcher, with, an, aptitude,...         121   \n",
       "40     [13, years, experience, in, wireless, and, bro...         100   \n",
       "41     [seasoned, communications, professional, and, ...          12   \n",
       "42     [i, own, a, small, software, development, comp...          81   \n",
       "44     [in, general, aaron, is, interested, in, geogr...         108   \n",
       "...                                                  ...         ...   \n",
       "31379  [summaryactive, and, outgoing, graduate, stude...          28   \n",
       "31380  [specialtiesrigging, high, and, low, poly, mod...          22   \n",
       "31382  [passionate, about, solving, the, challenges, ...          47   \n",
       "31383  [experienced, electroniccomputer, engineer, h1...          14   \n",
       "31385  [summaryi, am, currently, a, graduate, student...          52   \n",
       "31388  [a, result, oriented, professional, offers, hi...         126   \n",
       "31389  [im, an, engineer, and, scientific, researcher...          86   \n",
       "31391  [software, engineer, with, five, years, of, ex...          29   \n",
       "31397  [summarysophomore, student, at, wellesley, col...          39   \n",
       "31398  [summaryenthusiastic, and, energetic, graduate...          27   \n",
       "31400  [zlatkofilipoviccom, zfilipovgmailcom, 10, yea...         120   \n",
       "31401  [i, am, a, dedicated, social, media, community...          88   \n",
       "31402  [summaryi, am, a, masters, candidate, in, the,...          99   \n",
       "31403  [summarydetail, oriented, educator, and, resea...          45   \n",
       "31404               [httpcargocollectivecomzoelehryates]           1   \n",
       "31406  [specialtiescontent, analysis, metadata, taxon...           6   \n",
       "31407  [specialtiescommunications, sales, publicity, ...          13   \n",
       "31408  [i, grew, up, in, the, california, bay, area, ...          79   \n",
       "31409  [summaryi, am, an, undergraduate, student, at,...          46   \n",
       "31410  [summaryi, am, a, student, writer, and, artist...         319   \n",
       "31413  [summaryi, am, very, motivated, and, driven, a...          36   \n",
       "31415  [summaryat, 23, i, jumped, off, a, 33foot, cli...         162   \n",
       "31421  [summarytheoretical, particle, physics, and, c...          17   \n",
       "31422  [dr, nyiri, joined, the, faculty, of, the, dep...         298   \n",
       "31423  [i, am, an, entrepreneur, and, seasoned, busin...         245   \n",
       "31429  [zuri, rose, is, a, natural, networker, is, a,...          78   \n",
       "31431  [serve, technology, industry, in, silicon, val...          14   \n",
       "31432  [30, years, of, experience, in, office, manage...          35   \n",
       "31433  [a, dynamic, paralegal, with, a, wide, range, ...         158   \n",
       "31434  [summaryfood, nutrition, leadership, visual, w...         137   \n",
       "\n",
       "         avg_len  name_counts  lex_diversity  \n",
       "0       5.614035            2       0.719298  \n",
       "1       5.942857            2       0.828571  \n",
       "2       6.967213            1       0.737705  \n",
       "5       6.218310            1       0.711268  \n",
       "6       5.508772           77       0.824561  \n",
       "8       6.515152           77       0.787879  \n",
       "9       5.875912           77       0.664234  \n",
       "10      5.341463           77       0.780488  \n",
       "12      6.555556           77       0.698413  \n",
       "13      5.660000           77       0.800000  \n",
       "14      6.278912           77       0.727891  \n",
       "16      6.578313           77       0.686747  \n",
       "18      7.279070           77       0.837209  \n",
       "19      5.266667           77       0.691667  \n",
       "20      5.328904           77       0.621262  \n",
       "21      6.908397           77       0.717557  \n",
       "22      4.904412           77       0.713235  \n",
       "23      6.688797           77       0.705394  \n",
       "24      7.181818           77       0.909091  \n",
       "25      6.130435           77       0.826087  \n",
       "26      8.083333           77       0.958333  \n",
       "29      5.831169           77       0.610390  \n",
       "30      5.589744           77       0.923077  \n",
       "31      4.251969           77       0.562992  \n",
       "34      5.520548           77       0.794521  \n",
       "35      8.570248           77       0.834711  \n",
       "40      6.590000           77       0.820000  \n",
       "41      9.083333           77       1.000000  \n",
       "42      5.790123           77       0.679012  \n",
       "44      5.620370           77       0.666667  \n",
       "...          ...          ...            ...  \n",
       "31379   6.785714            1       0.821429  \n",
       "31380   5.863636            1       0.909091  \n",
       "31382   6.276596            1       0.936170  \n",
       "31383  10.428571            1       0.928571  \n",
       "31385   6.557692            1       0.826923  \n",
       "31388   6.690476            1       0.809524  \n",
       "31389   7.465116            1       0.895349  \n",
       "31391   8.482759            1       0.827586  \n",
       "31397   6.410256            2       0.871795  \n",
       "31398   7.148148            2       0.814815  \n",
       "31400   6.800000            1       0.716667  \n",
       "31401   5.352273            2       0.795455  \n",
       "31402   5.686869            2       0.717172  \n",
       "31403   6.288889            1       0.888889  \n",
       "31404  34.000000           11       1.000000  \n",
       "31406  13.166667           11       1.000000  \n",
       "31407   9.153846           11       1.000000  \n",
       "31408   4.645570           11       0.708861  \n",
       "31409   6.086957           11       0.847826  \n",
       "31410   4.912226           11       0.548589  \n",
       "31413   4.416667           11       0.833333  \n",
       "31415   5.123457            1       0.703704  \n",
       "31421   8.058824            1       0.764706  \n",
       "31422   5.946309            1       0.577181  \n",
       "31423   5.232653            1       0.689796  \n",
       "31429   5.294872            2       0.743590  \n",
       "31431   7.357143          NaN       1.000000  \n",
       "31432   6.142857          NaN       0.885714  \n",
       "31433   5.993671          NaN       0.721519  \n",
       "31434   7.262774          NaN       0.554745  \n",
       "\n",
       "[17532 rows x 14 columns]"
      ]
     },
     "execution_count": 58,
     "metadata": {},
     "output_type": "execute_result"
    }
   ],
   "source": [
    "df.set_value(31431, 'first_name', 'nanname')\n",
    "df.set_value(31432, 'first_name', 'nanname')\n",
    "df.set_value(31433, 'first_name', 'nanname')\n",
    "df.set_value(31434, 'first_name', 'nanname')\n",
    "df.set_value(31431, 'gender', 'female')\n",
    "df.set_value(31432, 'gender', 'female')\n",
    "df.set_value(31433, 'gender', 'female')\n",
    "df.set_value(31434, 'gender', 'female')"
   ]
  },
  {
   "cell_type": "code",
   "execution_count": 59,
   "metadata": {
    "collapsed": false
   },
   "outputs": [
    {
     "data": {
      "text/html": [
       "<div>\n",
       "<table border=\"1\" class=\"dataframe\">\n",
       "  <thead>\n",
       "    <tr style=\"text-align: right;\">\n",
       "      <th></th>\n",
       "      <th>first_name</th>\n",
       "      <th>full_name</th>\n",
       "      <th>html</th>\n",
       "      <th>summary</th>\n",
       "      <th>gender</th>\n",
       "      <th>counter</th>\n",
       "      <th>source</th>\n",
       "      <th>summ_missing</th>\n",
       "      <th>class</th>\n",
       "      <th>summ_tokens</th>\n",
       "      <th>num_tokens</th>\n",
       "      <th>avg_len</th>\n",
       "      <th>name_counts</th>\n",
       "      <th>lex_diversity</th>\n",
       "    </tr>\n",
       "  </thead>\n",
       "  <tbody>\n",
       "    <tr>\n",
       "      <th>31431</th>\n",
       "      <td>nanname</td>\n",
       "      <td>nan liu cpa</td>\n",
       "      <td>./liun86.html\\n</td>\n",
       "      <td>serve technology industry in silicon valleyfed...</td>\n",
       "      <td>female</td>\n",
       "      <td>1</td>\n",
       "      <td>uwash</td>\n",
       "      <td>0</td>\n",
       "      <td>1</td>\n",
       "      <td>[serve, technology, industry, in, silicon, val...</td>\n",
       "      <td>14</td>\n",
       "      <td>7.357143</td>\n",
       "      <td>NaN</td>\n",
       "      <td>1.000000</td>\n",
       "    </tr>\n",
       "    <tr>\n",
       "      <th>31432</th>\n",
       "      <td>nanname</td>\n",
       "      <td>nan holmes</td>\n",
       "      <td>./nanholmes.html\\n</td>\n",
       "      <td>30 years of experience in office management gr...</td>\n",
       "      <td>female</td>\n",
       "      <td>1</td>\n",
       "      <td>uwash</td>\n",
       "      <td>0</td>\n",
       "      <td>1</td>\n",
       "      <td>[30, years, of, experience, in, office, manage...</td>\n",
       "      <td>35</td>\n",
       "      <td>6.142857</td>\n",
       "      <td>NaN</td>\n",
       "      <td>0.885714</td>\n",
       "    </tr>\n",
       "    <tr>\n",
       "      <th>31433</th>\n",
       "      <td>nanname</td>\n",
       "      <td>nan santivong</td>\n",
       "      <td>./nansantivong.html\\n</td>\n",
       "      <td>a dynamic paralegal with a wide range of exper...</td>\n",
       "      <td>female</td>\n",
       "      <td>1</td>\n",
       "      <td>uwash</td>\n",
       "      <td>0</td>\n",
       "      <td>1</td>\n",
       "      <td>[a, dynamic, paralegal, with, a, wide, range, ...</td>\n",
       "      <td>158</td>\n",
       "      <td>5.993671</td>\n",
       "      <td>NaN</td>\n",
       "      <td>0.721519</td>\n",
       "    </tr>\n",
       "    <tr>\n",
       "      <th>31434</th>\n",
       "      <td>nanname</td>\n",
       "      <td>nan gaines foster</td>\n",
       "      <td>./2015-12-24-vassar/nan-foster-3226338.html\\n</td>\n",
       "      <td>summaryfood  nutrition leadership visual writi...</td>\n",
       "      <td>female</td>\n",
       "      <td>1</td>\n",
       "      <td>vassar</td>\n",
       "      <td>0</td>\n",
       "      <td>1</td>\n",
       "      <td>[summaryfood, nutrition, leadership, visual, w...</td>\n",
       "      <td>137</td>\n",
       "      <td>7.262774</td>\n",
       "      <td>NaN</td>\n",
       "      <td>0.554745</td>\n",
       "    </tr>\n",
       "  </tbody>\n",
       "</table>\n",
       "</div>"
      ],
      "text/plain": [
       "      first_name          full_name  \\\n",
       "31431    nanname        nan liu cpa   \n",
       "31432    nanname         nan holmes   \n",
       "31433    nanname      nan santivong   \n",
       "31434    nanname  nan gaines foster   \n",
       "\n",
       "                                                html  \\\n",
       "31431                                ./liun86.html\\n   \n",
       "31432                             ./nanholmes.html\\n   \n",
       "31433                          ./nansantivong.html\\n   \n",
       "31434  ./2015-12-24-vassar/nan-foster-3226338.html\\n   \n",
       "\n",
       "                                                 summary  gender  counter  \\\n",
       "31431  serve technology industry in silicon valleyfed...  female        1   \n",
       "31432  30 years of experience in office management gr...  female        1   \n",
       "31433  a dynamic paralegal with a wide range of exper...  female        1   \n",
       "31434  summaryfood  nutrition leadership visual writi...  female        1   \n",
       "\n",
       "       source  summ_missing  class  \\\n",
       "31431   uwash             0      1   \n",
       "31432   uwash             0      1   \n",
       "31433   uwash             0      1   \n",
       "31434  vassar             0      1   \n",
       "\n",
       "                                             summ_tokens  num_tokens  \\\n",
       "31431  [serve, technology, industry, in, silicon, val...          14   \n",
       "31432  [30, years, of, experience, in, office, manage...          35   \n",
       "31433  [a, dynamic, paralegal, with, a, wide, range, ...         158   \n",
       "31434  [summaryfood, nutrition, leadership, visual, w...         137   \n",
       "\n",
       "        avg_len  name_counts  lex_diversity  \n",
       "31431  7.357143          NaN       1.000000  \n",
       "31432  6.142857          NaN       0.885714  \n",
       "31433  5.993671          NaN       0.721519  \n",
       "31434  7.262774          NaN       0.554745  "
      ]
     },
     "execution_count": 59,
     "metadata": {},
     "output_type": "execute_result"
    }
   ],
   "source": [
    "# Check for any nans in the DF\n",
    "df[pd.isnull(df).any(axis=1)]\n"
   ]
  },
  {
   "cell_type": "code",
   "execution_count": 70,
   "metadata": {
    "collapsed": false
   },
   "outputs": [],
   "source": [
    "from nltk import word_tokenize          \n",
    "import pdb\n",
    "stemmer = SnowballStemmer(\"english\")\n",
    "def stem_tokens(tokens, stemmer):\n",
    "    stemmed = []\n",
    "    for item in tokens:\n",
    "        stemmed.append(stemmer.stem(item))\n",
    "    return stemmed\n",
    "\n",
    "def tokenize(text):\n",
    "    tokens = word_tokenize(text)\n",
    "    row = remove_digits(tokens)\n",
    "    stems = stem_tokens(row, stemmer)\n",
    "    return stems\n",
    "\n",
    "def tokenize_no_stem(text):\n",
    "    tokens = word_tokenize(text)\n",
    "    row = remove_digits(tokens)\n",
    "    stems = stem_tokens(row, stemmer)\n",
    "    return tokens    "
   ]
  },
  {
   "cell_type": "code",
   "execution_count": 71,
   "metadata": {
    "collapsed": true
   },
   "outputs": [],
   "source": [
    "X_train, X_test, y_train, y_test = train_test_split(df['summary'], df['class'], test_size=0.3, random_state=0)"
   ]
  },
  {
   "cell_type": "code",
   "execution_count": 72,
   "metadata": {
    "collapsed": false
   },
   "outputs": [
    {
     "data": {
      "text/plain": [
       "2347"
      ]
     },
     "execution_count": 72,
     "metadata": {},
     "output_type": "execute_result"
    }
   ],
   "source": [
    "temp = np.array(y_test)\n",
    "len(temp[(temp == 0)])"
   ]
  },
  {
   "cell_type": "code",
   "execution_count": 73,
   "metadata": {
    "collapsed": false
   },
   "outputs": [
    {
     "name": "stdout",
     "output_type": "stream",
     "text": [
      "Creating the bag of words...\n",
      "\n"
     ]
    }
   ],
   "source": [
    "print (\"Creating the bag of words...\\n\")\n",
    "vectorizer = CountVectorizer(analyzer = \"word\",   \\\n",
    "                             tokenizer = tokenize_no_stem,    \\\n",
    "                             preprocessor = None, \\\n",
    "                             stop_words = stopwords,   \\\n",
    "                             max_features = 5000) "
   ]
  },
  {
   "cell_type": "code",
   "execution_count": 74,
   "metadata": {
    "collapsed": true
   },
   "outputs": [],
   "source": [
    "tfidf = TfidfVectorizer(analyzer = 'word', tokenizer = tokenize_no_stem, stop_words = stopwords, max_features = 5000)"
   ]
  },
  {
   "cell_type": "code",
   "execution_count": 75,
   "metadata": {
    "collapsed": true
   },
   "outputs": [],
   "source": [
    "train_tfidf = tfidf.fit_transform(X_train)"
   ]
  },
  {
   "cell_type": "code",
   "execution_count": 101,
   "metadata": {
    "collapsed": false
   },
   "outputs": [
    {
     "data": {
      "text/plain": [
       "(12272,)"
      ]
     },
     "execution_count": 101,
     "metadata": {},
     "output_type": "execute_result"
    }
   ],
   "source": [
    "X_train.shape"
   ]
  },
  {
   "cell_type": "code",
   "execution_count": 76,
   "metadata": {
    "collapsed": true
   },
   "outputs": [],
   "source": [
    "train_tfidf = train_tfidf.toarray()\n",
    "feature_names_tfidf = tfidf.get_feature_names()"
   ]
  },
  {
   "cell_type": "code",
   "execution_count": 105,
   "metadata": {
    "collapsed": false
   },
   "outputs": [
    {
     "data": {
      "text/plain": [
       "u'10'"
      ]
     },
     "execution_count": 105,
     "metadata": {},
     "output_type": "execute_result"
    }
   ],
   "source": [
    "feature_names_tfidf[1]"
   ]
  },
  {
   "cell_type": "code",
   "execution_count": 77,
   "metadata": {
    "collapsed": false
   },
   "outputs": [],
   "source": [
    "# fit_transform() does two functions: First, it fits the model\n",
    "# and learns the vocabulary; second, it transforms our training data\n",
    "# into feature vectors. The input to fit_transform should be a list of \n",
    "# strings.\n",
    "train_countv = vectorizer.fit_transform(X_train)"
   ]
  },
  {
   "cell_type": "code",
   "execution_count": 78,
   "metadata": {
    "collapsed": false
   },
   "outputs": [],
   "source": [
    "# Numpy arrays are easy to work with, so convert the result to an \n",
    "# array\n",
    "train_countv= train_countv.toarray()\n",
    "feature_names_countv = vectorizer.get_feature_names()"
   ]
  },
  {
   "cell_type": "code",
   "execution_count": 82,
   "metadata": {
    "collapsed": false
   },
   "outputs": [
    {
     "name": "stdout",
     "output_type": "stream",
     "text": [
      "[u'1', u'10', u'100', u'1000', u'11', u'12', u'13', u'14', u'15', u'150', u'16', u'17', u'18', u'19', u'1984', u'1986', u'1988', u'1989', u'1990', u'1991', u'1992', u'1993', u'1994', u'1995', u'1996', u'1997', u'1998', u'1999', u'1st', u'2', u'20', u'200', u'2000', u'2001', u'2002', u'2003', u'2004', u'2005', u'2006', u'2007', u'2008', u'2009', u'2010', u'2011', u'2012', u'2013', u'2014', u'2015', u'2016', u'21', u'21st', u'22', u'23', u'24', u'25', u'250', u'26', u'27', u'28', u'2d', u'2nd', u'3', u'30', u'300', u'35', u'360', u'365', u'3d', u'3rd', u'4', u'40', u'400', u'45', u'4th', u'5', u'50', u'500', u'501c3', u'6', u'60', u'7', u'70', u'700', u'8', u'80', u'9', u'90', u'ab', u'abc', u'abilities', u'ability', u'able', u'abroad', u'abstract', u'abuse', u'academia', u'academic', u'academically', u'academics', u'academy', u'accelerate', u'accelerating', u'accenture', u'accept', u'acceptance', u'accepted', u'access', u'accessibility', u'accessible', u'accident', u'acclaimed', u'accomplish', u'accomplished', u'accomplishment', u'accomplishments', u'account', u'accountability', u'accountable', u'accountant', u'accounting', u'accounts', u'accreditation', u'accredited', u'accuracy', u'accurate', u'accurately', u'accustomed', u'achieve', u'achieved', u'achievement', u'achievements', u'achiever', u'achieving', u'acquire', u'acquired', u'acquiring', u'acquisition', u'acquisitions', u'acrobat', u'across', u'act', u'acted', u'acting', u'action', u'actionable', u'actions', u'active', u'actively', u'activism', u'activist', u'activities', u'activity', u'actor', u'actors', u'actual', u'actually', u'acumen', u'acute', u'ad', u'adapt', u'adaptability', u'adaptable', u'adaptation', u'adapting', u'adaptive', u'add', u'added', u'addiction', u'adding', u'addition', u'additional', u'additionally', u'address', u'addresses', u'addressing', u'adept', u'adjunct', u'administering', u'administration', u'administrative', u'administrator', u'administrators', u'admission', u'admissions', u'admitted', u'adobe', u'adolescent', u'adolescents', u'adopt', u'adoption', u'ads', u'adult', u'adults', u'advance', u'advanced', u'advancement', u'advances', u'advancing', u'advantage', u'adventure', u'adventures', u'advertising', u'advice', u'advise', u'advised', u'adviser', u'advises', u'advising', u'advisor', u'advisors', u'advisory', u'advocacy', u'advocate', u'advocates', u'advocating', u'adwords', u'aerial', u'aerospace', u'aesthetic', u'aesthetics', u'affairs', u'affect', u'affecting', u'affiliate', u'affiliated', u'affinity', u'affordable', u'afghanistan', u'afraid', u'africa', u'african', u'age', u'agencies', u'agency', u'agenda', u'agent', u'agents', u'ages', u'aggressive', u'agile', u'aging', u'ago', u'agreement', u'agreements', u'agricultural', u'agriculture', u'ahead', u'ai', u'aia', u'aid', u'aim', u'aimed', u'aims', u'air', u'aircraft', u'airlines', u'ajax', u'al', u'alabama', u'alaska', u'algorithm', u'algorithms', u'align', u'aligned', u'aligning', u'alignment', u'alliance', u'alliances', u'allocation', u'allow', u'allowed', u'allowing', u'allows', u'almost', u'alone', u'along', u'alongside', u'alpha', u'already', u'also', u'alternative', u'alternatives', u'although', u'alumni', u'always', u'amazing', u'amazon', u'amazoncom', u'ambassador', u'ambiguous', u'ambitious', u'ambulatory', u'america', u'american', u'americas', u'amherst', u'among', u'amount', u'amy', u'analyses', u'analysis', u'analyst', u'analysts', u'analytic', u'analytical', u'analytics', u'analyze', u'analyzed', u'analyzing', u'anatomy', u'ancient', u'andor', u'android', u'anesthesia', u'angel', u'angeles', u'animal', u'animals', u'animation', u'ann', u'anne', u'annual', u'annually', u'another', u'answer', u'answers', u'anthropology', u'antibody', u'anxiety', u'anyone', u'anything', u'anywhere', u'ap', u'apache', u'apart', u'api', u'apis', u'app', u'apparel', u'appeals', u'appeared', u'appellate', u'apple', u'applicable', u'application', u'applications', u'applied', u'applies', u'apply', u'applying', u'appointed', u'appointment', u'appointments', u'appreciate', u'appreciation', u'approach', u'approaches', u'appropriate', u'approval', u'approximately', u'apps', u'april', u'aptitude', u'aquatic', u'arab', u'arabic', u'arcgis', u'archaeology', u'architect', u'architects', u'architectural', u'architecture', u'architectures', u'archive', u'archives', u'area', u'areas', u'arena', u'argentina', u'arizona', u'arm', u'army', u'around', u'arrangements', u'array', u'art', u'article', u'articles', u'articulate', u'artificial', u'artist', u'artistic', u'artists', u'arts', u'asia', u'asian', u'ask', u'asked', u'aspect', u'aspects', u'aspire', u'aspiring', u'aspnet', u'assay', u'assays', u'assembly', u'assess', u'assessing', u'assessment', u'assessments', u'asset', u'assets', u'assigned', u'assignment', u'assignments', u'assist', u'assistance', u'assistant', u'assisted', u'assisting', u'assists', u'associate', u'associated', u'associates', u'association', u'associations', u'assurance', u'astronomy', u'astrophysics', u'athlete', u'athletes', u'athletic', u'athletics', u'atlanta', u'atlantic', u'atmosphere', u'atmospheric', u'atrisk', u'att', u'attain', u'attend', u'attended', u'attending', u'attention', u'attitude', u'attorney', u'attorneys', u'attract', u'audience', u'audiences', u'audio', u'audit', u'auditing', u'auditor', u'audits', u'august', u'austin', u'australia', u'authentic', u'author', u'authored', u'authoring', u'authority', u'authors', u'autism', u'auto', u'autocad', u'automated', u'automation', u'automotive', u'autonomous', u'av', u'availability', u'available', u'avenue', u'average', u'aviation', u'avid', u'award', u'awarded', u'awards', u'awardwinning', u'aware', u'awareness', u'away', u'awesome', u'aws', u'axure', u'azure', u'b', u'b2b', u'b2c', u'ba', u'bachelor', u'bachelors', u'back', u'backed', u'backend', u'background', u'backgrounds', u'bacterial', u'bad', u'balance', u'balanced', u'balancing', u'baltimore', u'band', u'bands', u'bank', u'banker', u'banking', u'bankruptcy', u'banks', u'bar', u'barbara', u'barriers', u'base', u'baseball', u'based', u'basic', u'basin', u'basis', u'basketball', u'bass', u'bay', u'bbc', u'beach', u'beautiful', u'beauty', u'became', u'become', u'becoming', u'beer', u'began', u'begin', u'beginning', u'behalf', u'behavior', u'behavioral', u'behaviors', u'behind', u'beijing', u'belgium', u'belief', u'believe', u'believer', u'believes', u'bellevue', u'belt', u'bench', u'benchmarking', u'beneficial', u'benefit', u'benefits', u'berkeley', u'berlin', u'besides', u'best', u'bestselling', u'beta', u'better', u'beverage', u'beyond', u'bi', u'bid', u'big', u'bigger', u'biggest', u'bilingual', u'bill', u'billing', u'billion', u'binding', u'biochemical', u'biochemistry', u'biodiversity', u'bioengineering', u'bioinformatics', u'biological', u'biologics', u'biologist', u'biology', u'biomaterials', u'biomechanics', u'biomedical', u'biophysics', u'biotech', u'biotechnology', u'bit', u'black', u'blend', u'blended', u'blending', u'block', u'blog', u'blogger', u'blogging', u'blogs', u'blood', u'bloomberg', u'blue', u'board', u'boards', u'body', u'boeing', u'book', u'bookkeeping', u'books', u'bootstrap', u'born', u'boston', u'bothell', u'bottom', u'boundaries', u'boutique', u'box', u'boys', u'brain', u'brainstorming', u'branch', u'brand', u'branded', u'branding', u'brands', u'brazil', u'breach', u'breadth', u'break', u'breaking', u'breakthrough', u'breast', u'brian', u'bridge', u'bridges', u'bridging', u'brief', u'briefs', u'brilliant', u'bring', u'bringing', u'brings', u'british', u'broad', u'broadbased', u'broadcast', u'broadcasting', u'broaden', u'broader', u'broadly', u'brochures', u'broker', u'brokerage', u'brokers', u'brooklyn', u'brought', u'brown', u'bs', u'bsc', u'budget', u'budgeting', u'budgets', u'build', u'builder', u'building', u'buildings', u'builds', u'built', u'bureau', u'business', u'businesses', u'busy', u'buy', u'buyer', u'buyers', u'buying', u'c', u'ca', u'cable', u'cad', u'calendar', u'california', u'call', u'called', u'calling', u'calls', u'calm', u'caltech', u'cambridge', u'came', u'camera', u'cameras', u'camp', u'campaign', u'campaigns', u'camps', u'campus', u'canada', u'canadian', u'cancer', u'candidate', u'candidates', u'cant', u'capabilities', u'capability', u'capable', u'capacities', u'capacity', u'capital', u'captain', u'capture', u'car', u'carbon', u'card', u'cardiac', u'cardiology', u'cardiovascular', u'cards', u'care', u'career', u'careers', u'caribbean', u'caring', u'carnegie', u'carolina', u'carry', u'cars', u'case', u'cases', u'cash', u'catalyst', u'categories', u'category', u'catholic', u'cause', u'causes', u'cbs', u'cc', u'celebrity', u'cell', u'cells', u'cellular', u'center', u'centered', u'centers', u'central', u'centre', u'century', u'ceo', u'ceos', u'certain', u'certificate', u'certification', u'certifications', u'certified', u'cfa', u'cfo', u'chain', u'chair', u'chairman', u'challenge', u'challenged', u'challenges', u'challenging', u'chamber', u'champion', u'chance', u'change', u'changed', u'changes', u'changing', u'channel', u'channels', u'chapter', u'chapters', u'character', u'characterization', u'charge', u'charged', u'charitable', u'charities', u'charity', u'charles', u'charter', u'chartered', u'check', u'chef', u'chemical', u'chemicals', u'chemist', u'chemistry', u'chi', u'chicago', u'chief', u'child', u'childhood', u'children', u'childrens', u'chile', u'china', u'chinese', u'chip', u'choice', u'choices', u'choose', u'choral', u'chose', u'chosen', u'chris', u'christian', u'chronic', u'chronicle', u'church', u'cincinnati', u'cinema', u'cio', u'circuit', u'circumstances', u'cisco', u'cited', u'cities', u'citizen', u'citizens', u'citizenship', u'city', u'civic', u'civil', u'claims', u'clarity', u'clark', u'class', u'classes', u'classic', u'classical', u'classification', u'classroom', u'classrooms', u'clean', u'clear', u'clearance', u'clearly', u'clevel', u'cleveland', u'client', u'clientele', u'clients', u'climate', u'clinic', u'clinical', u'clinician', u'clinicians', u'clinics', u'cloning', u'close', u'closely', u'closing', u'cloud', u'club', u'clubs', u'cluster', u'cms', u'cnn', u'co', u'coach', u'coached', u'coaches', u'coaching', u'coalition', u'coalitions', u'coast', u'coastal', u'coating', u'coauthor', u'coauthored', u'cochair', u'code', u'codes', u'coding', u'coffee', u'cofounded', u'cofounder', u'cognitive', u'cold', u'collaborate', u'collaborated', u'collaborating', u'collaboration', u'collaborations', u'collaborative', u'collaboratively', u'collaborator', u'collateral', u'colleagues', u'collect', u'collecting', u'collection', u'collections', u'collective', u'college', u'colleges', u'collegiate', u'color', u'colorado', u'columbia', u'column', u'columnist', u'combat', u'combination', u'combine', u'combined', u'combines', u'combining', u'come', u'comedy', u'comes', u'comfort', u'comfortable', u'coming', u'command', u'commerce', u'commercial', u'commercialization', u'commercials', u'commission', u'commissioning', u'commissions', u'commitment', u'committed', u'committee', u'committees', u'common', u'commons', u'communicate', u'communicating', u'communication', u'communications', u'communicator', u'communities', u'community', u'communitybased', u'companies', u'company', u'companys', u'comparative', u'compassion', u'compassionate', u'compelling', u'compensation', u'compete', u'competence', u'competencies', u'competency', u'competent', u'competing', u'competition', u'competitions', u'competitive', u'complete', u'completed', u'completely', u'completing', u'completion', u'complex', u'complexities', u'complexity', u'compliance', u'compliant', u'complicated', u'component', u'components', u'composer', u'composite', u'composites', u'composition', u'comprehensive', u'computation', u'computational', u'computer', u'computers', u'computing', u'con', u'concentrating', u'concentration', u'concept', u'conception', u'concepts', u'conceptual', u'concerned', u'concerning', u'concerns', u'concert', u'concise', u'concrete', u'concurrent', u'conditions', u'conduct', u'conducted', u'conducting', u'conference', u'conferences', u'confidence', u'confident', u'confidential', u'configuration', u'conflict', u'conflicts', u'congress', u'congressional', u'conjunction', u'connect', u'connected', u'connecticut', u'connecting', u'connection', u'connections', u'connector', u'conscientious', u'conscious', u'consecutive', u'consensus', u'conservation', u'consider', u'considerable', u'considered', u'consistent', u'consistently', u'consortium', u'constant', u'constantly', u'constituents', u'constraints', u'construct', u'construction', u'consult', u'consultancy', u'consultant', u'consultants', u'consultation', u'consultative', u'consulted', u'consulting', u'consults', u'consumer', u'consumers', u'contact', u'contacts', u'contemporary', u'content', u'context', u'contexts', u'contextual', u'continents', u'continually', u'continue', u'continued', u'continues', u'continuing', u'continuity', u'continuous', u'continuously', u'contract', u'contracting', u'contractor', u'contractors', u'contracts', u'contribute', u'contributed', u'contributes', u'contributing', u'contribution', u'contributions', u'contributor', u'control', u'controller', u'controlling', u'controls', u'convention', u'conventional', u'conversation', u'conversational', u'conversations', u'conversion', u'conversions', u'converting', u'convey', u'coo', u'cooking', u'cool', u'coop', u'cooperation', u'cooperative', u'coordinate', u'coordinated', u'coordinating', u'coordination', u'coordinator', u'copy', u'copyediting', u'copyright', u'copywriting', u'core', u'cornell', u'corp', u'corporate', u'corporation', u'corporations', u'corps', u'correspondence', u'cosmetic', u'cost', u'costeffective', u'costs', u'could', u'council', u'counsel', u'counseling', u'counselor', u'counties', u'countries', u'country', u'county', u'couple', u'coupled', u'couples', u'course', u'courses', u'coursework', u'court', u'courts', u'cover', u'coverage', u'covered', u'covering', u'covers', u'coworkers', u'cpa', u'cpg', u'craft', u'crafting', u'crazy', u'create', u'created', u'creates', u'creating', u'creation', u'creative', u'creatively', u'creativity', u'creator', u'credentials', u'credit', u'credits', u'crew', u'crime', u'criminal', u'crisis', u'critical', u'critically', u'crm', u'cross', u'crosscultural', u'crossfunctional', u'crucial', u'cruise', u'crystal', u'cs', u'csr', u'css', u'css3', u'csuite', u'ct', u'cto', u'culinary', u'cultivate', u'cultivating', u'cultivation', u'cultural', u'culturally', u'culture', u'cultures', u'cum', u'curiosity', u'curious', u'current', u'currently', u'curricula', u'curriculum', u'custom', u'customer', u'customerfocused', u'customers', u'customized', u'cut', u'cutting', u'cuttingedge', u'cv', u'cyber', u'cybersecurity', u'cycle', u'cycles', u'cycling', u'cytometry', u'czech', u'd', u'daily', u'dakota', u'dallas', u'damage', u'dan', u'dana', u'dance', u'daniel', u'dark', u'dartmouth', u'data', u'database', u'databases', u'datadriven', u'datasets', u'date', u'david', u'davis', u'day', u'days', u'daytoday', u'dc', u'de', u'deadline', u'deadlines', u'deal', u'dealing', u'deals', u'dean', u'deans', u'death', u'debt', u'decade', u'decades', u'december', u'decided', u'decision', u'decisionmaking', u'decisions', u'decisive', u'dedicated', u'dedication', u'deep', u'deeper', u'deeply', u'defense', u'define', u'defined', u'defining', u'definition', u'degree', u'degrees', u'del', u'delight', u'deliver', u'deliverables', u'delivered', u'delivering', u'delivers', u'delivery', u'dell', u'deloitte', u'delta', u'demand', u'demanding', u'demands', u'democracy', u'democratic', u'demographic', u'demonstrate', u'demonstrated', u'demonstrates', u'demonstrating', u'demonstration', u'dental', u'dentistry', u'denver', u'department', u'departmental', u'departments', u'dependable', u'deployed', u'deploying', u'deployment', u'deposition', u'depression', u'dept', u'depth', u'deputy', u'derivatives', u'derived', u'dermatology', u'des', u'describe', u'described', u'design', u'designation', u'designed', u'designer', u'designers', u'designing', u'designs', u'desire', u'desired', u'desk', u'desktop', u'despite', u'detail', u'detailed', u'detailing', u'detailoriented', u'details', u'detection', u'determination', u'determine', u'determined', u'dev', u'develop', u'developed', u'developer', u'developers', u'developing', u'development', u'developmental', u'developments', u'developmentspecialties', u'develops', u'device', u'devices', u'devoted', u'diabetes', u'diagnostic', u'diagnostics', u'dialogue', u'didnt', u'diego', u'diet', u'difference', u'differences', u'different', u'difficult', u'digital', u'diligence', u'diligent', u'diploma', u'diplomacy', u'diplomatic', u'direct', u'directed', u'directing', u'direction', u'directions', u'directly', u'director', u'directors', u'directory', u'disabilities', u'disability', u'disaster', u'discipline', u'disciplined', u'disciplines', u'discourse', u'discover', u'discovered', u'discovering', u'discovery', u'discuss', u'discussing', u'discussions', u'disease', u'diseases', u'disney', u'disorder', u'disorders', u'disparate', u'disparities', u'display', u'dispute', u'disputes', u'disruptive', u'dissertation', u'distance', u'distinction', u'distinguished', u'distributed', u'distribution', u'district', u'districts', u'diverse', u'diversified', u'diversity', u'division', u'divisions', u'divorce', u'dna', u'doctor', u'doctoral', u'doctorate', u'doctors', u'document', u'documentary', u'documentation', u'documented', u'documents', u'dod', u'doe', u'doesnt', u'dog', u'dollar', u'dollars', u'domain', u'domains', u'domestic', u'domestically', u'done', u'donor', u'donors', u'dont', u'door', u'dot', u'double', u'downtown', u'dozen', u'dozens', u'dr', u'drafting', u'drama', u'dramatic', u'draw', u'drawing', u'drawings', u'drawn', u'draws', u'dream', u'dreams', u'dreamweaver', u'drive', u'driven', u'driver', u'drivers', u'drives', u'driving', u'drove', u'drug', u'drugs', u'drupal', u'dual', u'due', u'duke', u'duties', u'duty', u'dynamic', u'dynamics', u'e', u'eager', u'earlier', u'early', u'earlystage', u'earn', u'earned', u'earning', u'earth', u'ease', u'easier', u'easily', u'east', u'eastern', u'easy', u'eating', u'eclipse', u'ecological', u'ecology', u'ecommerce', u'economic', u'economics', u'economist', u'economy', u'ecosystem', u'ecosystems', u'ed', u'edge', u'edit', u'edited', u'editing', u'edition', u'editor', u'editorial', u'editors', u'educate', u'educated', u'educating', u'education', u'educational', u'educator', u'educators', u'effect', u'effective', u'effectively', u'effectiveness', u'effects', u'efficiencies', u'efficiency', u'efficient', u'efficiently', u'effort', u'efforts', u'eg', u'egypt', u'ehr', u'ehs', u'eight', u'either', u'el', u'elder', u'elearning', u'elected', u'electric', u'electrical', u'electricity', u'electron', u'electronic', u'electronics', u'electrophoresis', u'elegant', u'element', u'elementary', u'elements', u'eliminating', u'elisa', u'elite', u'elizabeth', u'else', u'em', u'email', u'embedded', u'embrace', u'emergency', u'emerging', u'emmy', u'emotional', u'empathy', u'emphasis', u'employ', u'employed', u'employee', u'employees', u'employer', u'employers', u'employment', u'empower', u'empowered', u'empowering', u'empowerment', u'empowers', u'en', u'enable', u'enabled', u'enablement', u'enables', u'enabling', u'encompasses', u'encompassing', u'encourage', u'encouraging', u'end', u'endangered', u'endeavor', u'endeavors', u'endowment', u'endtoend', u'enduser', u'energetic', u'energy', u'enforcement', u'engage', u'engaged', u'engagement', u'engagements', u'engages', u'engaging', u'engine', u'engineer', u'engineering', u'engineers', u'engines', u'england', u'english', u'enhance', u'enhanced', u'enhancement', u'enhancing', u'enjoy', u'enjoyable', u'enjoyed', u'enjoying', u'enjoys', u'enough', u'enrich', u'enrolled', u'enrollment', u'ensemble', u'ensure', u'ensuring', u'enter', u'entered', u'entering', u'enterprise', u'enterprises', u'entertainment', u'enthusiasm', u'enthusiast', u'enthusiastic', u'entire', u'entities', u'entitled', u'entity', u'entrepreneur', u'entrepreneurial', u'entrepreneurs', u'entrepreneurship', u'entry', u'environment', u'environmental', u'environmentally', u'environments', u'epa', u'epic', u'epidemiology', u'equal', u'equality', u'equally', u'equipment', u'equitable', u'equity', u'era', u'eric', u'erp', u'errors', u'esl', u'especially', u'esri', u'essay', u'essays', u'essential', u'establish', u'established', u'establishing', u'estate', u'estimating', u'estimation', u'et', u'etc', u'ethic', u'ethical', u'ethics', u'ethnic', u'ethnographic', u'ethnography', u'etiquette', u'eu', u'europe', u'european', u'evaluate', u'evaluated', u'evaluating', u'evaluation', u'evaluations', u'evangelist', u'evans', u'even', u'event', u'events', u'eventually', u'ever', u'every', u'everyday', u'everyone', u'everything', u'evidence', u'evidencebased', u'evolution', u'evolutionary', u'evolve', u'evolving', u'exam', u'examination', u'examining', u'example', u'examples', u'exceed', u'exceeding', u'excel', u'excellence', u'excellent', u'excels', u'exceptional', u'exceptionally', u'excess', u'exchange', u'exchanges', u'excited', u'exciting', u'exclusively', u'execute', u'executed', u'executing', u'execution', u'executive', u'executives', u'exemplary', u'exercise', u'exercises', u'exhibit', u'exhibition', u'exhibitions', u'exhibits', u'exist', u'existing', u'expand', u'expanded', u'expanding', u'expansion', u'expect', u'expectations', u'expected', u'expense', u'expenses', u'experience', u'experienced', u'experiences', u'experiential', u'experiment', u'experimental', u'experiments', u'expert', u'expertise', u'experts', u'explain', u'exploration', u'explore', u'explored', u'explorer', u'exploring', u'export', u'exposed', u'exposure', u'express', u'expression', u'extend', u'extended', u'extension', u'extensive', u'extensively', u'external', u'extra', u'extraction', u'extraordinary', u'extreme', u'extremely', u'eye', u'fabrication', u'face', u'facebook', u'faced', u'facetoface', u'facets', u'facilitate', u'facilitated', u'facilitating', u'facilitation', u'facilitator', u'facilities', u'facility', u'facing', u'fact', u'factor', u'factors', u'factory', u'faculty', u'failure', u'fair', u'faith', u'fall', u'familiar', u'familiarity', u'families', u'family', u'fan', u'far', u'farm', u'farmers', u'fascinated', u'fashion', u'fast', u'faster', u'fastest', u'fastpaced', u'father', u'favorite', u'fda', u'feasibility', u'feature', u'featured', u'features', u'february', u'federal', u'federation', u'feedback', u'feel', u'fellow', u'fellowship', u'felt', u'feminist', u'festival', u'fiber', u'fiction', u'field', u'fields', u'fieldwork', u'fifteen', u'fight', u'figure', u'file', u'fill', u'filled', u'film', u'filmmaking', u'films', u'final', u'finalist', u'finally', u'finance', u'financial', u'financing', u'financings', u'find', u'finding', u'findings', u'fine', u'finish', u'finished', u'finishing', u'finite', u'fire', u'firm', u'firmly', u'firms', u'first', u'firsthand', u'fiscal', u'fish', u'fisheries', u'fit', u'fitness', u'five', u'fixed', u'fl', u'flash', u'flexibility', u'flexible', u'flight', u'floor', u'florida', u'flow', u'flows', u'fluency', u'fluent', u'fluid', u'fluorescence', u'focus', u'focused', u'focuses', u'focusing', u'folk', u'follow', u'followed', u'following', u'food', u'foods', u'football', u'forbes', u'force', u'forces', u'ford', u'forecast', u'forecasting', u'forefront', u'foreign', u'forensic', u'forensics', u'forest', u'forestry', u'forging', u'form', u'formal', u'format', u'formation', u'formats', u'formed', u'former', u'formerly', u'forming', u'forms', u'formulation', u'forprofit', u'fortran', u'fortunate', u'fortune', u'forum', u'forums', u'forward', u'foster', u'fostering', u'fosters', u'found', u'foundation', u'foundations', u'founded', u'founder', u'founding', u'four', u'fox', u'framework', u'frameworks', u'france', u'franchise', u'francisco', u'frank', u'fraud', u'fred', u'free', u'freedom', u'freelance', u'french', u'frequent', u'frequently', u'fresh', u'freshman', u'friendly', u'friends', u'front', u'frontend', u'fuel', u'fulbright', u'fulfill', u'fulfilling', u'fulfillment', u'full', u'fulltime', u'fully', u'fun', u'function', u'functional', u'functionality', u'functioning', u'functions', u'fund', u'fundamental', u'fundamentals', u'funded', u'funding', u'fundraiser', u'fundraising', u'funds', u'furniture', u'fusion', u'future', u'g', u'ga', u'gain', u'gained', u'gaining', u'gallery', u'game', u'games', u'gaming', u'gap', u'gaps', u'garden', u'gardening', u'gardens', u'gas', u'gates', u'gathering', u'gave', u'ge', u'geek', u'gender', u'gene', u'general', u'generalist', u'generally', u'generate', u'generated', u'generating', u'generation', u'generations', u'genetic', u'genetics', u'genomic', u'genomics', u'genres', u'genuine', u'geographic', u'geography', u'geological', u'geology', u'george', u'georgetown', u'georgia', u'geospatial', u'geotechnical', u'german', u'germany', u'get', u'gets', u'getting', u'gift', u'gifts', u'girl', u'girls', u'gis', u'git', u'github', u'give', u'given', u'gives', u'giving', u'glass', u'global', u'globalization', u'globally', u'globe', u'go', u'goal', u'goaloriented', u'goals', u'god', u'goes', u'going', u'gold', u'golden', u'golf', u'gone', u'good', u'goods', u'google', u'got', u'gotomarket', u'governance', u'government', u'governmental', u'governments', u'governor', u'governors', u'gpa', u'gps', u'grade', u'grades', u'graduate', u'graduated', u'graduates', u'graduating', u'graduation', u'grammar', u'grand', u'grant', u'grants', u'graph', u'graphic', u'graphics', u'grasp', u'grassroots', u'great', u'greater', u'greatest', u'greatly', u'green', u'greg', u'grew', u'grid', u'ground', u'groundbreaking', u'grounded', u'groundwater', u'group', u'groups', u'grow', u'growing', u'grown', u'growth', u'guest', u'guidance', u'guide', u'guided', u'guidelines', u'guides', u'guiding', u'guitar', u'guy', u'h', u'habitat', u'habits', u'hadoop', u'haiti', u'half', u'hall', u'hampshire', u'hand', u'handle', u'handled', u'handling', u'hands', u'handson', u'happen', u'happiness', u'happy', u'hard', u'hardware', u'hardworking', u'harris', u'harvard', u'hats', u'hawaii', u'hazardous', u'hci', u'head', u'headquarters', u'healing', u'health', u'healthcare', u'healthier', u'healthy', u'hear', u'heard', u'hearing', u'heart', u'heat', u'heavily', u'heavy', u'hedge', u'held', u'hello', u'help', u'helped', u'helping', u'helps', u'henry', u'heritage', u'hes', u'hesitate', u'heuristic', u'hi', u'hidden', u'high', u'higher', u'highest', u'highimpact', u'highlevel', u'highlights', u'highly', u'highperformance', u'highperforming', u'highpressure', u'highprofile', u'highquality', u'hightech', u'hiking', u'hill', u'hills', u'hipaa', u'hire', u'hired', u'hiring', u'hispanic', u'historian', u'historic', u'historical', u'history', u'hit', u'hiv', u'hivaids', u'hold', u'holder', u'holding', u'holds', u'holistic', u'hollywood', u'holyoke', u'home', u'homeland', u'homeless', u'homes', u'hone', u'honed', u'honest', u'hong', u'honor', u'honored', u'honors', u'hope', u'hopes', u'hoping', u'hopkins', u'horticulture', u'hospice', u'hospital', u'hospitality', u'hospitals', u'host', u'hosted', u'hosting', u'hot', u'hotel', u'hotels', u'hour', u'hours', u'house', u'housing', u'houston', u'howard', u'however', u'hp', u'hpc', u'hr', u'html', u'html5', u'huffington', u'huge', u'human', u'humancentered', u'humancomputer', u'humanitarian', u'humanities', u'humanity', u'humans', u'humor', u'hundreds', u'husband', u'hybrid', u'hydrology', u'ibm', u'ict', u'id', u'idaho', u'idea', u'ideal', u'ideas', u'ideation', u'identification', u'identified', u'identify', u'identifying', u'identity', u'ie', u'ieee', u'ii', u'iii', u'il', u'ill', u'illinois', u'illness', u'illustration', u'illustrator', u'im', u'image', u'images', u'imaging', u'immediate', u'immediately', u'immersive', u'immigrant', u'immigration', u'immunology', u'impact', u'impactful', u'impacting', u'impacts', u'implement', u'implementation', u'implementations', u'implemented', u'implementing', u'implications', u'importance', u'important', u'importantly', u'impossible', u'impressive', u'improve', u'improved', u'improvement', u'improvements', u'improving', u'inaugural', u'inbound', u'inc', u'inception', u'incident', u'include', u'included', u'includes', u'including', u'inclusion', u'inclusive', u'income', u'incorporate', u'incorporating', u'increase', u'increased', u'increasing', u'increasingly', u'incredible', u'independent', u'independently', u'indepth', u'indesign', u'india', u'indian', u'indiana', u'indicators', u'indigenous', u'individual', u'individually', u'individuals', u'indonesia', u'industrial', u'industries', u'industry', u'industryspecialties', u'infectious', u'influence', u'influenced', u'influencer', u'influences', u'influencing', u'influential', u'info', u'inform', u'informal', u'informatics', u'information', u'informed', u'infrastructure', u'inhouse', u'initial', u'initiate', u'initiated', u'initiating', u'initiative', u'initiatives', u'injuries', u'injury', u'innate', u'inner', u'innovate', u'innovation', u'innovations', u'innovative', u'innovator', u'innovators', u'inpatient', u'inperson', u'input', u'inquiries', u'inquiry', u'inside', u'insight', u'insightful', u'insights', u'inspection', u'inspiration', u'inspirational', u'inspire', u'inspired', u'inspires', u'inspiring', u'instagram', u'installation', u'installations', u'instead', u'institute', u'institutes', u'institution', u'institutional', u'institutions', u'instruction', u'instructional', u'instructor', u'instructors', u'instrument', u'instrumental', u'instrumentation', u'instruments', u'insurance', u'integral', u'integrate', u'integrated', u'integrating', u'integration', u'integrative', u'integrity', u'intel', u'intellectual', u'intellectually', u'intelligence', u'intelligent', u'intend', u'intended', u'intense', u'intensive', u'interact', u'interacting', u'interaction', u'interactions', u'interactive', u'intercultural', u'interdisciplinary', u'interest', u'interested', u'interesting', u'interests', u'interface', u'interfaces', u'interim', u'interior', u'intermediate', u'intern', u'internal', u'international', u'internationally', u'interned', u'internet', u'interning', u'interns', u'internship', u'internships', u'interpersonal', u'interpret', u'interpretation', u'interpreting', u'intersection', u'intervention', u'interventions', u'interview', u'interviewed', u'interviewing', u'interviews', u'intranet', u'introduce', u'introduced', u'introduction', u'intuitive', u'invaluable', u'invasive', u'inventor', u'inventory', u'invest', u'invested', u'investigate', u'investigating', u'investigation', u'investigations', u'investigative', u'investigator', u'investing', u'investment', u'investments', u'investor', u'investors', u'invitations', u'invited', u'involve', u'involved', u'involvement', u'involves', u'involving', u'ion', u'ios', u'iot', u'iowa', u'ip', u'iphone', u'ipo', u'iraq', u'islamic', u'island', u'islands', u'isnt', u'iso', u'isolation', u'israel', u'issue', u'issues', u'italian', u'italy', u'items', u'iterative', u'itil', u'ive', u'j', u'jack', u'jackson', u'james', u'january', u'japan', u'japanese', u'java', u'javascript', u'jazz', u'jd', u'je', u'jennifer', u'jeremy', u'jersey', u'jet', u'jewish', u'jim', u'job', u'jobs', u'john', u'johns', u'johnson', u'join', u'joined', u'joining', u'joint', u'jones', u'joomla', u'joseph', u'journal', u'journalism', u'journalist', u'journalists', u'journals', u'journey', u'joy', u'jquery', u'jr', u'judge', u'judgment', u'judicial', u'julie', u'july', u'june', u'junior', u'justice', u'juvenile', u'k', u'k12', u'kansas', u'kappa', u'keen', u'keep', u'keeping', u'keeps', u'kennedy', u'kent', u'kenya', u'kevin', u'key', u'keynote', u'keys', u'kids', u'kim', u'kind', u'kinds', u'king', u'kingdom', u'kitchen', u'knack', u'knew', u'know', u'knowing', u'knowledge', u'knowledgeable', u'known', u'knows', u'kong', u'korea', u'korean', u'kpmg', u'l', u'la', u'lab', u'labor', u'laboratories', u'laboratory', u'labs', u'labview', u'lake', u'land', u'landing', u'landscape', u'landscapes', u'language', u'languages', u'large', u'larger', u'largescale', u'largest', u'las', u'laser', u'last', u'lasting', u'late', u'later', u'latest', u'latin', u'latino', u'laude', u'launch', u'launched', u'launches', u'launching', u'laura', u'law', u'laws', u'lawyer', u'lawyers', u'lay', u'layout', u'le', u'lead', u'leader', u'leaders', u'leadership', u'leading', u'leads', u'league', u'lean', u'learn', u'learned', u'learner', u'learners', u'learning', u'lease', u'leasing', u'least', u'leave', u'leaving', u'lecture', u'lecturer', u'lectures', u'led', u'lee', u'leed', u'left', u'legacy', u'legal', u'legislation', u'legislative', u'lending', u'lens', u'les', u'less', u'lesson', u'lessons', u'let', u'lets', u'letters', u'level', u'levels', u'leverage', u'leveraged', u'leverages', u'leveraging', u'lewis', u'lgbt', u'liability', u'liaison', u'liberal', u'liberty', u'librarian', u'libraries', u'library', u'license', u'licensed', u'licenses', u'licensing', u'lie', u'lies', u'life', u'lifecycle', u'lifelong', u'lifes', u'lifestyle', u'lifetime', u'light', u'lighting', u'like', u'likely', u'likes', u'limited', u'limits', u'line', u'linear', u'lines', u'linguistics', u'link', u'linked', u'linkedin', u'linking', u'links', u'linux', u'lisa', u'list', u'listed', u'listen', u'listener', u'listening', u'listing', u'literacy', u'literary', u'literature', u'litigation', u'little', u'live', u'lived', u'lives', u'living', u'llc', u'llp', u'load', u'loan', u'loans', u'lobbying', u'local', u'localization', u'locally', u'located', u'location', u'locations', u'logic', u'logical', u'logistics', u'logo', u'london', u'long', u'longterm', u'look', u'looking', u'looks', u'los', u'loss', u'lost', u'lot', u'lots', u'louis', u'love', u'loved', u'loves', u'loving', u'low', u'lower', u'lowincome', u'loyalty', u'ltd', u'lucky', u'luxury', u'm', u'ma', u'mac', u'machine', u'machines', u'macintosh', u'made', u'magazine', u'magazines', u'magic', u'magna', u'mail', u'main', u'maine', u'mainly', u'maintain', u'maintained', u'maintaining', u'maintains', u'maintenance', u'major', u'majored', u'majoring', u'majority', u'majors', u'make', u'maker', u'makers', u'makes', u'making', u'mammalian', u'man', u'manage', u'managed', u'management', u'managementspecialties', u'manager', u'managerial', u'managers', u'manages', u'managing', u'managment', u'mandarin', u'manhattan', u'manipulation', u'manner', u'manual', u'manuals', u'manufacture', u'manufacturers', u'manufacturing', u'manuscript', u'manuscripts', u'many', u'map', u'mapping', u'maps', u'marathon', u'march', u'marginalized', u'marine', u'maritime', u'mark', u'market', u'marketer', u'marketers', u'marketing', u'marketplace', u'markets', u'marriage', u'married', u'marshall', u'martin', u'mary', u'maryland', u'mason', u'mass', u'massachusetts', u'massage', u'massive', u'master', u'masters', u'match', u'material', u'materials', u'maternal', u'math', u'mathematica', u'mathematical', u'mathematics', u'matlab', u'matrix', u'matt', u'matter', u'matters', u'mature', u'max', u'maximize', u'maximizing', u'maximum', u'may', u'mba', u'md', u'mean', u'meaning', u'meaningful', u'means', u'measurable', u'measure', u'measurement', u'measures', u'measuring', u'mechanical', u'mechanics', u'mechanisms', u'med', u'media', u'mediation', u'medicaid', u'medical', u'medicare', u'medicine', u'medieval', u'meditation', u'medium', u'meet', u'meeting', u'meetings', u'meets', u'mellon', u'member', u'members', u'membership', u'memorable', u'memorial', u'memory', u'men', u'mens', u'mental', u'mentor', u'mentored', u'mentoring', u'mentors', u'mentorship', u'merchandising', u'merger', u'mergers', u'mes', u'message', u'messages', u'messaging', u'met', u'metabolic', u'metadata', u'metal', u'method', u'methodist', u'methodologies', u'methodology', u'methods', u'meticulous', u'metrics', u'metro', u'metropolitan', u'mexico', u'mfa', u'mgmt', u'miami', u'michael', u'michigan', u'micro', u'microbial', u'microbiology', u'microscopy', u'microsoft', u'microsofts', u'microwave', u'mid', u'middle', u'midsize', u'might', u'migration', u'mike', u'military', u'million', u'millions', u'mills', u'mind', u'minded', u'mindful', u'mindfulness', u'minds', u'mindset', u'mine', u'minimize', u'mining', u'ministry', u'minnesota', u'minor', u'minoring', u'minority', u'minors', u'minute', u'minutes', u'mission', u'missiondriven', u'missions', u'missouri', u'mit', u'mitigate', u'mitigation', u'mix', u'mixed', u'mixeduse', u'mobile', u'mobility', u'model', u'modeling', u'modelling', u'models', u'modern', u'modules', u'molecular', u'moment', u'moments', u'money', u'mongodb', u'monitor', u'monitoring', u'montana', u'month', u'monthly', u'months', u'moral', u'morgan', u'morning', u'mortgage', u'mostly', u'mother', u'motion', u'motivate', u'motivated', u'motivates', u'motivating', u'motivation', u'motivational', u'motivator', u'motors', u'mount', u'mountain', u'mouse', u'move', u'moved', u'movement', u'movements', u'movie', u'movies', u'moving', u'mpa', u'mph', u'mr', u'ms', u'msc', u'mt', u'much', u'multi', u'multichannel', u'multicultural', u'multidisciplinary', u'multifaceted', u'multifamily', u'multilingual', u'multimedia', u'multimillion', u'multinational', u'multiple', u'multitask', u'multitasking', u'multivariate', u'municipal', u'museum', u'museums', u'music', u'musical', u'musician', u'musicians', u'must', u'mutual', u'mvc', u'myriad', u'mysql', u'name', u'named', u'nanotechnology', u'narrative', u'nasa', u'nation', u'national', u'nationally', u'nations', u'nationwide', u'native', u'natural', u'naturally', u'nature', u'naval', u'navigate', u'navigating', u'navigation', u'navy', u'nbc', u'nc', u'near', u'nearly', u'necessary', u'need', u'needed', u'needs', u'negotiate', u'negotiated', u'negotiating', u'negotiation', u'negotiations', u'negotiator', u'neighborhood', u'nelson', u'net', u'netherlands', u'network', u'networking', u'networks', u'neural', u'neurobiology', u'neurology', u'neuroscience', u'nevada', u'never', u'new', u'newly', u'news', u'newsletter', u'newsletters', u'newspaper', u'newspapers', u'next', u'nextgeneration', u'ngo', u'ngos', u'nice', u'nicole', u'night', u'nih', u'nine', u'nodejs', u'nominated', u'non', u'nonfiction', u'nongovernmental', u'nonlinear', u'nonprofit', u'nonprofits', u'nontechnical', u'nontraditional', u'north', u'northeastern', u'northern', u'northwest', u'northwestern', u'notable', u'note', u'notes', u'notforprofit', u'nothing', u'novel', u'novels', u'november', u'npr', u'nsf', u'nuclear', u'number', u'numbers', u'numerical', u'numerous', u'nurse', u'nurses', u'nursing', u'nutrition', u'nw', u'ny', u'nyc', u'nyu', u'o', u'object', u'objective', u'objectives', u'objectoriented', u'objects', u'observation', u'observatory', u'obstacles', u'obtain', u'obtained', u'obtaining', u'occasionally', u'occupational', u'ocean', u'oceanography', u'october', u'offer', u'offered', u'offering', u'offerings', u'offers', u'office', u'officer', u'officers', u'offices', u'official', u'officials', u'offshore', u'often', u'og', u'ohio', u'oil', u'oklahoma', u'old', u'older', u'onboarding', u'oncology', u'one', u'oneonone', u'ones', u'ongoing', u'online', u'onsite', u'ontime', u'open', u'opened', u'opening', u'opera', u'operate', u'operated', u'operates', u'operating', u'operation', u'operational', u'operations', u'operator', u'opinion', u'opinions', u'opportunities', u'opportunity', u'optical', u'optics', u'optimal', u'optimization', u'optimize', u'optimizing', u'option', u'options', u'oracle', u'oral', u'orange', u'orchestra', u'order', u'orders', u'oregon', u'organic', u'organisation', u'organisations', u'organization', u'organizational', u'organizations', u'organize', u'organized', u'organizer', u'organizing', u'orientation', u'oriented', u'original', u'originally', u'orleans', u'os', u'others', u'otherwise', u'outcome', u'outcomes', u'outdoor', u'outdoors', u'outgoing', u'outlets', u'outlook', u'outpatient', u'outreach', u'outside', u'outsourced', u'outsourcing', u'outstanding', u'overall', u'overcome', u'oversaw', u'overseas', u'oversee', u'overseeing', u'oversees', u'oversight', u'owned', u'owner', u'owners', u'ownership', u'oxford', u'p', u'pa', u'pace', u'paced', u'pacific', u'package', u'packages', u'packaging', u'page', u'pages', u'paid', u'pain', u'paint', u'painting', u'pakistan', u'panel', u'paper', u'papers', u'para', u'paralegal', u'parallel', u'parent', u'parenting', u'parents', u'paris', u'park', u'parks', u'part', u'participant', u'participants', u'participate', u'participated', u'participating', u'participation', u'participatory', u'particle', u'particular', u'particularly', u'parties', u'partner', u'partnering', u'partners', u'partnership', u'partnerships', u'parts', u'parttime', u'party', u'passed', u'passion', u'passionate', u'passionately', u'passions', u'past', u'patent', u'patents', u'path', u'pathology', u'paths', u'pathways', u'patient', u'patients', u'patrick', u'pattern', u'patterns', u'paul', u'pay', u'payable', u'payment', u'payments', u'payroll', u'pc', u'pcr', u'peace', u'pedagogy', u'pediatric', u'pediatrics', u'peer', u'peerreviewed', u'peers', u'pending', u'penetration', u'penn', u'pennsylvania', u'people', u'peoples', u'peoplesoft', u'per', u'perception', u'percussion', u'perfect', u'perform', u'performance', u'performances', u'performed', u'performer', u'performing', u'performs', u'perhaps', u'period', u'periods', u'perl', u'permanent', u'permitting', u'person', u'personable', u'personal', u'personalities', u'personality', u'personalized', u'personally', u'personnel', u'persons', u'perspective', u'perspectives', u'persuasive', u'pertaining', u'pet', u'peter', u'petroleum', u'pharma', u'pharmaceutical', u'pharmaceuticals', u'pharmacology', u'pharmacy', u'phase', u'phases', u'phd', u'phi', u'phil', u'philadelphia', u'philanthropic', u'philanthropy', u'philosophy', u'phone', u'photo', u'photographer', u'photographs', u'photography', u'photos', u'photoshop', u'php', u'physical', u'physician', u'physicians', u'physics', u'physiology', u'pi', u'piano', u'picture', u'pictures', u'piece', u'pieces', u'pierce', u'pilot', u'pioneer', u'pioneering', u'pipeline', u'pittsburgh', u'pivot', u'pl', u'place', u'placement', u'places', u'plan', u'planet', u'planetary', u'planned', u'planner', u'planners', u'planning', u'plans', u'plant', u'plants', u'plasma', u'plastic', u'platform', u'platforms', u'play', u'played', u'player', u'players', u'playing', u'plays', u'please', u'pleasure', u'plus', u'pmp', u'poet', u'poetry', u'point', u'points', u'police', u'policies', u'policy', u'polish', u'political', u'politics', u'pollution', u'polymer', u'polymers', u'poor', u'pop', u'popular', u'population', u'populations', u'port', u'portal', u'portals', u'portfolio', u'portfolios', u'portland', u'portuguese', u'position', u'positioning', u'positions', u'positive', u'positively', u'possess', u'possesses', u'possessing', u'possibilities', u'possible', u'post', u'postdoctoral', u'postgraduate', u'posts', u'potential', u'poverty', u'power', u'powerful', u'powerpoint', u'powers', u'ppc', u'pr', u'practical', u'practice', u'practiced', u'practices', u'practicing', u'practitioner', u'practitioners', u'pragmatic', u'precision', u'preclinical', u'prediction', u'predictive', u'prefer', u'premier', u'premiere', u'premium', u'preparation', u'prepare', u'prepared', u'preparedness', u'preparing', u'presales', u'presence', u'present', u'presentation', u'presentations', u'presented', u'presenter', u'presenting', u'presently', u'preservation', u'president', u'presidential', u'presidents', u'press', u'pressure', u'prestigious', u'pretty', u'prevent', u'prevention', u'previous', u'previously', u'price', u'pricing', u'pride', u'primarily', u'primary', u'prime', u'princeton', u'principal', u'principle', u'principles', u'print', u'printed', u'printing', u'prior', u'priorities', u'prioritization', u'prioritize', u'priority', u'privacy', u'private', u'privately', u'privilege', u'prize', u'pro', u'proactive', u'proactively', u'probably', u'probate', u'problem', u'problems', u'problemsolver', u'problemsolving', u'procedure', u'procedures', u'proceedings', u'process', u'processes', u'processing', u'procurement', u'produce', u'produced', u'producer', u'producers', u'produces', u'producing', u'product', u'production', u'productions', u'productive', u'productivity', u'products', u'prof', u'profession', u'professional', u'professionalism', u'professionally', u'professionals', u'professor', u'proficiency', u'proficient', u'profile', u'profiles', u'profiling', u'profit', u'profitability', u'profitable', u'profits', u'program', u'programmatic', u'programmer', u'programming', u'programproject', u'programs', u'progress', u'progressive', u'project', u'projections', u'projectprogram', u'projects', u'prominent', u'promote', u'promoted', u'promotes', u'promoting', u'promotion', u'promotional', u'promotions', u'proofreading', u'proper', u'properties', u'property', u'proposal', u'proposals', u'proposed', u'proprietary', u'propulsion', u'prosecution', u'prospect', u'prospective', u'protect', u'protecting', u'protection', u'protein', u'proteins', u'protocol', u'protocols', u'prototype', u'prototypes', u'prototyping', u'proud', u'proven', u'provide', u'provided', u'provider', u'providers', u'provides', u'providing', u'psychiatric', u'psychiatry', u'psychological', u'psychologist', u'psychology', u'psychotherapy', u'public', u'publication', u'publications', u'publicity', u'publicly', u'publicprivate', u'publish', u'published', u'publisher', u'publishers', u'publishing', u'puget', u'purchase', u'purchased', u'purchasing', u'pure', u'purification', u'purpose', u'purposes', u'pursue', u'pursued', u'pursuing', u'pursuit', u'pursuits', u'push', u'pushing', u'put', u'putting', u'pwc', u'python', u'qa', u'qualification', u'qualifications', u'qualified', u'qualitative', u'qualities', u'quality', u'quantitative', u'quantum', u'quarterly', u'que', u'queens', u'query', u'quest', u'question', u'questions', u'quick', u'quickbooks', u'quickly', u'quite', u'quoted', u'r', u'race', u'racial', u'racing', u'radio', u'radiology', u'rails', u'raise', u'raised', u'raising', u'ran', u'random', u'range', u'ranges', u'ranging', u'ranked', u'rapid', u'rapidly', u'rapport', u'rare', u'rate', u'rated', u'rates', u'rather', u'rating', u'raw', u'ray', u'rd', u'reach', u'reached', u'reaching', u'read', u'reader', u'readers', u'readiness', u'reading', u'ready', u'real', u'realistic', u'reality', u'realize', u'realized', u'really', u'realm', u'realtime', u'realtor', u'realtors', u'realworld', u'reason', u'reasoning', u'receivable', u'receive', u'received', u'receiving', u'recent', u'recently', u'recipient', u'recognition', u'recognized', u'recommend', u'recommendations', u'record', u'recording', u'records', u'recovery', u'recreation', u'recruit', u'recruited', u'recruiter', u'recruiting', u'recruitment', u'red', u'redesign', u'redmond', u'reduce', u'reduced', u'reducing', u'reduction', u'reengineering', u'reference', u'referral', u'refine', u'refining', u'reflective', u'reform', u'refugee', u'regard', u'regarded', u'regarding', u'regardless', u'regenerative', u'region', u'regional', u'regions', u'registered', u'registration', u'regression', u'regular', u'regularly', u'regulated', u'regulation', u'regulations', u'regulatory', u'rehabilitation', u'reimbursement', u'relate', u'related', u'relates', u'relating', u'relation', u'relational', u'relations', u'relationship', u'relationships', u'release', u'released', u'releases', u'relevant', u'reliability', u'reliable', u'relief', u'religion', u'religious', u'relocation', u'remain', u'remains', u'remediation', u'remote', u'removal', u'renewable', u'renowned', u'repair', u'report', u'reported', u'reporter', u'reporting', u'reports', u'represent', u'representation', u'representative', u'representatives', u'represented', u'representing', u'represents', u'reproductive', u'republic', u'reputation', u'request', u'requests', u'require', u'required', u'requirement', u'requirements', u'requires', u'requiring', u'research', u'researched', u'researcher', u'researchers', u'researching', u'reserve', u'reservoir', u'residence', u'residency', u'resident', u'residential', u'residents', u'resilience', u'resiliency', u'resolution', u'resolve', u'resolving', u'resonance', u'resource', u'resourceful', u'resources', u'respect', u'respected', u'respectful', u'respond', u'response', u'responses', u'responsibilities', u'responsibility', u'responsible', u'responsive', u'rest', u'restaurant', u'restaurants', u'restoration', u'restructuring', u'result', u'resulted', u'resulting', u'results', u'resultsdriven', u'resultsoriented', u'resume', u'resumes', u'retail', u'retain', u'retaining', u'retention', u'retired', u'retirement', u'retreats', u'retrieval', u'return', u'returned', u'returning', u'returns', u'revenue', u'revenues', u'review', u'reviewed', u'reviewer', u'reviewing', u'reviews', u'revit', u'rewarding', u'rf', u'rhetoric', u'rich', u'richard', u'right', u'rights', u'rigorous', u'rise', u'rising', u'risk', u'risks', u'river', u'rn', u'rna', u'road', u'roadmap', u'roadmaps', u'rob', u'robert', u'robotic', u'robotics', u'robust', u'rochester', u'rock', u'roi', u'role', u'roles', u'roll', u'room', u'root', u'rooted', u'ross', u'rounded', u'royal', u'ruby', u'rule', u'rules', u'run', u'running', u'runs', u'rural', u'russell', u'russia', u'russian', u'ryan', u'saas', u'safe', u'safety', u'said', u'saint', u'sale', u'sales', u'salesforce', u'salesforcecom', u'sample', u'samples', u'sampling', u'san', u'santa', u'sap', u'sarah', u'sas', u'satellite', u'satisfaction', u'satisfied', u'saudi', u'save', u'saving', u'savings', u'savvy', u'saw', u'say', u'scalable', u'scale', u'scaling', u'scanning', u'scenario', u'scenarios', u'schedule', u'schedules', u'scheduling', u'scholar', u'scholarly', u'scholars', u'scholarship', u'scholarships', u'school', u'schools', u'science', u'sciences', u'scientific', u'scientist', u'scientists', u'scope', u'scott', u'scout', u'scratch', u'screening', u'script', u'scripting', u'scripts', u'scrum', u'sculpture', u'sdlc', u'sea', u'search', u'searches', u'searching', u'season', u'seasoned', u'seattle', u'seattles', u'sec', u'second', u'secondary', u'secret', u'secretary', u'section', u'sections', u'sector', u'sectors', u'secure', u'secured', u'securing', u'securities', u'security', u'see', u'seeing', u'seek', u'seeking', u'seeks', u'seen', u'segment', u'segmentation', u'segments', u'seismic', u'select', u'selected', u'selection', u'self', u'selfmotivated', u'selfstarter', u'sell', u'seller', u'sellers', u'selling', u'sem', u'semantic', u'semester', u'semiconductor', u'seminar', u'seminars', u'send', u'senior', u'seniorlevel', u'seniors', u'sense', u'sensing', u'sensitive', u'sensitivity', u'sensor', u'sensors', u'seo', u'september', u'sequence', u'sequencing', u'serial', u'series', u'serious', u'serve', u'served', u'server', u'servers', u'serves', u'service', u'services', u'servicing', u'serving', u'session', u'sessions', u'set', u'sets', u'setting', u'settings', u'setup', u'seven', u'several', u'sexual', u'shape', u'shaping', u'share', u'shared', u'shareholder', u'sharepoint', u'sharing', u'sharp', u'sheets', u'shell', u'shes', u'shift', u'shifting', u'ship', u'shipping', u'shoot', u'shooting', u'shop', u'shopping', u'short', u'shortterm', u'show', u'showcase', u'shows', u'side', u'sides', u'sigma', u'signal', u'signaling', u'significant', u'significantly', u'silicon', u'silver', u'similar', u'simple', u'simply', u'simulation', u'simulations', u'simultaneously', u'since', u'singapore', u'singer', u'singing', u'single', u'site', u'sites', u'situation', u'situations', u'six', u'size', u'sized', u'sizes', u'skiing', u'skill', u'skilled', u'skills', u'skillset', u'skillsi', u'skillsspecialties', u'skin', u'sleep', u'sloan', u'small', u'smaller', u'smart', u'smith', u'smithsonian', u'snohomish', u'soa', u'soccer', u'social', u'socially', u'societal', u'societies', u'society', u'socioeconomic', u'sociology', u'soft', u'software', u'soil', u'solar', u'sold', u'solid', u'solidworks', u'solo', u'solution', u'solutions', u'solve', u'solver', u'solving', u'someone', u'something', u'sometimes', u'son', u'sony', u'soon', u'sophisticated', u'sophomore', u'sought', u'soul', u'sound', u'source', u'sources', u'sourcing', u'south', u'southeast', u'southern', u'southwest', u'sox', u'space', u'spacecraft', u'spaces', u'spain', u'span', u'spanish', u'spanning', u'spans', u'spare', u'spark', u'spatial', u'speak', u'speaker', u'speakers', u'speaking', u'speaks', u'special', u'specialist', u'specialists', u'specialization', u'specialize', u'specialized', u'specializes', u'specializing', u'specialties', u'specialty', u'species', u'specific', u'specifically', u'specification', u'specifications', u'spectroscopy', u'spectrum', u'speech', u'speeches', u'speed', u'spend', u'spending', u'spent', u'spill', u'spirit', u'spiritual', u'spoken', u'sponsored', u'sponsorship', u'sport', u'sports', u'spot', u'spread', u'spring', u'spss', u'sql', u'square', u'sr', u'st', u'stability', u'stable', u'stack', u'staff', u'staffing', u'stage', u'stages', u'stakeholder', u'stakeholders', u'stand', u'standard', u'standards', u'standing', u'stanford', u'star', u'starbucks', u'stars', u'start', u'started', u'starting', u'startup', u'startups', u'stata', u'state', u'statement', u'statements', u'stateoftheart', u'states', u'statewide', u'station', u'stations', u'statistical', u'statistics', u'status', u'stay', u'staying', u'steel', u'steering', u'stem', u'step', u'steps', u'steve', u'steven', u'stewardship', u'still', u'stochastic', u'stock', u'stone', u'stop', u'storage', u'store', u'stores', u'stories', u'storm', u'story', u'storyteller', u'storytelling', u'strategic', u'strategically', u'strategies', u'strategist', u'strategy', u'stream', u'streaming', u'streamline', u'streamlined', u'streamlining', u'streams', u'street', u'strength', u'strengthen', u'strengthening', u'strengths', u'stress', u'stressful', u'strive', u'strives', u'striving', u'strong', u'stronger', u'strongly', u'structural', u'structure', u'structured', u'structures', u'structuring', u'student', u'students', u'studied', u'studies', u'studio', u'studios', u'study', u'studying', u'stuff', u'style', u'styles', u'subject', u'subjects', u'subsequently', u'substance', u'substantial', u'subversion', u'succeed', u'success', u'successes', u'successful', u'successfully', u'succession', u'suit', u'suite', u'suites', u'summa', u'summary', u'summarya', u'summaryaccomplished', u'summaryafter', u'summaryan', u'summaryas', u'summarycurrently', u'summarydr', u'summaryexperienced', u'summaryextensive', u'summaryhighly', u'summaryi', u'summaryim', u'summarymy', u'summaryover', u'summaryprofessional', u'summaryresearch', u'summarysenior', u'summaryspecialties', u'summer', u'summers', u'summit', u'sun', u'super', u'superb', u'superior', u'supervised', u'supervising', u'supervision', u'supervisor', u'supervisory', u'supplier', u'suppliers', u'supply', u'support', u'supported', u'supporting', u'supportive', u'supports', u'supreme', u'sure', u'surface', u'surgery', u'surgical', u'surrounding', u'surveillance', u'survey', u'surveying', u'surveys', u'survival', u'sustainability', u'sustainable', u'sustained', u'sustaining', u'swedish', u'swimming', u'sydney', u'symphony', u'symposium', u'synergy', u'synthesis', u'synthesizing', u'synthetic', u'syracuse', u'system', u'systems', u'table', u'tableau', u'tables', u'tablet', u'tackle', u'tacoma', u'tactical', u'tactics', u'tailored', u'taiwan', u'take', u'taken', u'takes', u'taking', u'talent', u'talented', u'talents', u'talk', u'talking', u'talks', u'tangible', u'target', u'targeted', u'targeting', u'targets', u'task', u'tasks', u'taught', u'tax', u'taxation', u'taxes', u'taxonomy', u'teach', u'teacher', u'teachers', u'teaches', u'teaching', u'team', u'teambuilding', u'teamoriented', u'teams', u'teamwork', u'tech', u'technical', u'technically', u'technician', u'technicians', u'technique', u'techniques', u'technological', u'technologies', u'technologist', u'technology', u'teens', u'telecom', u'telecommunications', u'telephone', u'telescope', u'television', u'tell', u'telling', u'temporary', u'ten', u'tenacious', u'tenant', u'tennessee', u'tennis', u'tenure', u'term', u'terminology', u'terms', u'territory', u'test', u'tested', u'testimony', u'testing', u'tests', u'texas', u'text', u'textbook', u'texts', u'thailand', u'thank', u'thanks', u'thats', u'theater', u'theatre', u'theme', u'themes', u'theoretical', u'theories', u'theory', u'therapeutic', u'therapeutics', u'therapies', u'therapist', u'therapy', u'therefore', u'thermal', u'thesis', u'thin', u'thing', u'things', u'think', u'thinker', u'thinking', u'third', u'thirst', u'thirty', u'thomas', u'thorough', u'thoroughly', u'though', u'thought', u'thoughtful', u'thousands', u'threat', u'three', u'thrive', u'thrives', u'thriving', u'throughout', u'thus', u'tier', u'tight', u'time', u'timelines', u'timely', u'times', u'tissue', u'title', u'titled', u'titles', u'today', u'todays', u'together', u'tokyo', u'told', u'tom', u'tomorrow', u'took', u'tool', u'tools', u'top', u'topic', u'topics', u'toronto', u'total', u'touch', u'tough', u'tour', u'tourism', u'tours', u'toward', u'towards', u'town', u'toxicology', u'track', u'tracking', u'trade', u'traded', u'trademark', u'trading', u'traditional', u'traffic', u'trafficking', u'train', u'trained', u'trainer', u'training', u'trainings', u'transaction', u'transactional', u'transactions', u'transcription', u'transfer', u'transform', u'transformation', u'transformational', u'transformative', u'transforming', u'transit', u'transition', u'transitioned', u'transitioning', u'transitions', u'translate', u'translating', u'translation', u'translational', u'translator', u'transmission', u'transparency', u'transport', u'transportation', u'trauma', u'travel', u'traveled', u'traveler', u'traveling', u'travels', u'treasurer', u'treasury', u'treat', u'treatment', u'treatments', u'tremendous', u'trend', u'trends', u'trial', u'trials', u'tribal', u'trip', u'trips', u'troubleshooting', u'true', u'truly', u'trust', u'trusted', u'trustee', u'trustees', u'trusts', u'truth', u'try', u'trying', u'tumor', u'turkey', u'turn', u'turnaround', u'turnarounds', u'turned', u'turning', u'tutor', u'tutoring', u'tv', u'twelve', u'twenty', u'twice', u'twitter', u'two', u'tx', u'type', u'types', u'typical', u'typically', u'u', u'uc', u'ucla', u'ui', u'uk', u'ultimate', u'ultimately', u'un', u'undergrad', u'undergraduate', u'underlying', u'underrepresented', u'underserved', u'understand', u'understanding', u'understands', u'underwriting', u'unified', u'union', u'unique', u'uniquely', u'unit', u'united', u'units', u'univ', u'universal', u'universe', u'universidad', u'universities', u'university', u'universitys', u'unix', u'upcoming', u'update', u'updates', u'upon', u'upper', u'ups', u'urban', u'us', u'usa', u'usability', u'usage', u'usaid', u'usc', u'use', u'used', u'useful', u'user', u'usercentered', u'users', u'uses', u'using', u'usually', u'utah', u'utilities', u'utility', u'utilization', u'utilize', u'utilized', u'utilizes', u'utilizing', u'uw', u'ux', u'v', u'va', u'vaccine', u'validation', u'valley', u'valuable', u'valuation', u'value', u'valued', u'values', u'van', u'varied', u'variety', u'various', u'varsity', u'varying', u'vassar', u'vast', u'vba', u'vegas', u'vehicle', u'vehicles', u'vendor', u'vendors', u'venture', u'ventures', u'venues', u'verbal', u'verification', u'vermont', u'versatile', u'versed', u'version', u'vertical', u'verticals', u'veteran', u'veterans', u'via', u'viable', u'vibrant', u'vice', u'video', u'videos', u'view', u'views', u'village', u'violence', u'viral', u'virginia', u'virtual', u'virtualization', u'visibility', u'visio', u'vision', u'visionary', u'visit', u'visiting', u'visitors', u'vista', u'visual', u'visualization', u'visualizations', u'visually', u'vital', u'vitro', u'vivo', u'vocal', u'voice', u'voices', u'volume', u'volunteer', u'volunteered', u'volunteering', u'volunteers', u'vp', u'vulnerable', u'w', u'wa', u'wake', u'wall', u'want', u'wanted', u'wants', u'war', u'warehouse', u'warehousing', u'washington', u'washingtons', u'waste', u'wastewater', u'watch', u'water', u'waterfall', u'waters', u'way', u'ways', u'wealth', u'weapons', u'wearable', u'weather', u'web', u'webbased', u'webinars', u'website', u'websites', u'wedding', u'weddings', u'week', u'weekly', u'weeks', u'weight', u'welcome', u'welfare', u'well', u'wellbeing', u'wellesley', u'wellness', u'wellrounded', u'wells', u'went', u'west', u'western', u'wetland', u'whatever', u'whats', u'whether', u'white', u'whole', u'wholesale', u'whos', u'whose', u'wide', u'widely', u'wideranging', u'wife', u'wildlife', u'william', u'williams', u'willing', u'willingness', u'win', u'wind', u'windows', u'wine', u'winner', u'winning', u'winter', u'winwin', u'wireframes', u'wireless', u'wisconsin', u'wisdom', u'wish', u'within', u'without', u'witness', u'woman', u'women', u'womens', u'won', u'wonderful', u'word', u'wordpress', u'words', u'work', u'worked', u'worker', u'workers', u'workflow', u'workflows', u'workforce', u'working', u'worklife', u'workplace', u'works', u'workshop', u'workshops', u'world', u'worldclass', u'worlds', u'worldwide', u'worth', u'would', u'write', u'writer', u'writers', u'writes', u'writing', u'written', u'wrote', u'x', u'xbox', u'xml', u'xp', u'xray', u'y', u'yahoo', u'yale', u'year', u'years', u'yes', u'yet', u'yield', u'yoga', u'york', u'youd', u'youll', u'young', u'youre', u'youth', u'youtube', u'yrs', u'zealand', u'zero', u'zone']\n"
     ]
    }
   ],
   "source": [
    "# Take a look at the words in the vocabulary\n",
    "print (feature_names_countv)"
   ]
  },
  {
   "cell_type": "code",
   "execution_count": 83,
   "metadata": {
    "collapsed": false
   },
   "outputs": [
    {
     "name": "stdout",
     "output_type": "stream",
     "text": [
      "Training the random forest...\n"
     ]
    }
   ],
   "source": [
    "print (\"Training the random forest...\")\n",
    "\n",
    "# Initialize a Random Forest classifier with 100 trees\n",
    "forest = RandomForestClassifier(n_estimators = 100) \n",
    "\n",
    "# Fit the forest to the training set, using the bag of words as \n",
    "# features and the sentiment labels as the response variable\n",
    "#\n",
    "# This may take a few minutes to run\n",
    "forest_cv = forest.fit(train_countv, y_train)\n",
    "\n",
    "forest_tfidf = forest.fit(train_tfidf, y_train)"
   ]
  },
  {
   "cell_type": "code",
   "execution_count": 84,
   "metadata": {
    "collapsed": false
   },
   "outputs": [
    {
     "data": {
      "text/plain": [
       "RandomForestClassifier(bootstrap=True, class_weight=None, criterion='gini',\n",
       "            max_depth=None, max_features='auto', max_leaf_nodes=None,\n",
       "            min_samples_leaf=1, min_samples_split=2,\n",
       "            min_weight_fraction_leaf=0.0, n_estimators=100, n_jobs=1,\n",
       "            oob_score=False, random_state=None, verbose=0,\n",
       "            warm_start=False)"
      ]
     },
     "execution_count": 84,
     "metadata": {},
     "output_type": "execute_result"
    }
   ],
   "source": [
    "forest_cv"
   ]
  },
  {
   "cell_type": "code",
   "execution_count": 86,
   "metadata": {
    "collapsed": false
   },
   "outputs": [],
   "source": [
    "# Testing\n",
    "\n",
    "# Get a bag of words for the test set, and convert to a numpy array\n",
    "#test_data_features = vectorizer.transform(X_test)\n",
    "test_features_tfidf = tfidf.transform(X_test)\n",
    "test_features_tfidf = test_features_tfidf.toarray()\n",
    "\n",
    "# Use the random forest to make sentiment label predictions\n",
    "yhat = forest_tfidf.predict(test_features_tfidf)\n",
    "probX = forest_tfidf.predict_proba(test_features_tfidf)\n"
   ]
  },
  {
   "cell_type": "code",
   "execution_count": 87,
   "metadata": {
    "collapsed": true
   },
   "outputs": [],
   "source": [
    "acc = forest.score(test_features_tfidf, y_test)"
   ]
  },
  {
   "cell_type": "code",
   "execution_count": 88,
   "metadata": {
    "collapsed": false
   },
   "outputs": [
    {
     "data": {
      "text/plain": [
       "0.64961977186311792"
      ]
     },
     "execution_count": 88,
     "metadata": {},
     "output_type": "execute_result"
    }
   ],
   "source": [
    "acc"
   ]
  },
  {
   "cell_type": "code",
   "execution_count": 89,
   "metadata": {
    "collapsed": false
   },
   "outputs": [
    {
     "data": {
      "text/plain": [
       "(5260,)"
      ]
     },
     "execution_count": 89,
     "metadata": {},
     "output_type": "execute_result"
    }
   ],
   "source": [
    "yhat.shape"
   ]
  },
  {
   "cell_type": "code",
   "execution_count": 91,
   "metadata": {
    "collapsed": false
   },
   "outputs": [
    {
     "name": "stdout",
     "output_type": "stream",
     "text": [
      "Precision Score: 0.667396745932\n",
      "Recall Score: 0.732234809475\n",
      "AUC Score: 0.63965809498\n",
      "Model Score:0.649619771863\n"
     ]
    }
   ],
   "source": [
    "print (\"Precision Score: {0}\".format(precision_score(y_test, yhat)))\n",
    "print (\"Recall Score: {0}\".format(recall_score(y_test, yhat)))\n",
    "print (\"AUC Score: {0}\".format(roc_auc_score(y_test, yhat)))\n",
    "print (\"Model Score:{0}\".format(forest.score(test_features_tfidf, y_test)))"
   ]
  },
  {
   "cell_type": "code",
   "execution_count": null,
   "metadata": {
    "collapsed": false
   },
   "outputs": [],
   "source": [
    "# print (\"Precision Score: {0}\".format(precision_score(y_test, yhat1)))\n",
    "# print (\"Recall Score: {0}\".format(recall_score(y_test, yhat1)))\n",
    "# print (\"AUC Score: {0}\".format(roc_auc_score(y_test, yhat1)))\n",
    "# print (\"Model Score:{0}\".format(forest.score(test_data_features, y_test)))"
   ]
  },
  {
   "cell_type": "code",
   "execution_count": 92,
   "metadata": {
    "collapsed": false
   },
   "outputs": [],
   "source": [
    "fpr, tpr, thresholds = roc_curve(y_test, probX[:,1])"
   ]
  },
  {
   "cell_type": "code",
   "execution_count": null,
   "metadata": {
    "collapsed": true
   },
   "outputs": [],
   "source": [
    "fpr1, tpr1, thresholds1 = roc_curve(y_test, probX[:,1])"
   ]
  },
  {
   "cell_type": "code",
   "execution_count": null,
   "metadata": {
    "collapsed": true
   },
   "outputs": [],
   "source": [
    "fpr2, tpr2, thresholds2 = roc_curve(y_test, probX[:,1])"
   ]
  },
  {
   "cell_type": "code",
   "execution_count": null,
   "metadata": {
    "collapsed": false
   },
   "outputs": [],
   "source": [
    "thresholds[1:10]"
   ]
  },
  {
   "cell_type": "code",
   "execution_count": 93,
   "metadata": {
    "collapsed": false
   },
   "outputs": [
    {
     "data": {
      "image/png": "[encoded data removed]",
      "text/plain": [
       "<matplotlib.figure.Figure at 0x116928690>"
      ]
     },
     "metadata": {},
     "output_type": "display_data"
    }
   ],
   "source": [
    "# ROC Curve\n",
    "fig = plt.figure()\n",
    "ax = fig.add_subplot(111)\n",
    "\n",
    "plt.plot(np.array(range(101))/100, np.array(range(101))/100, '--', color='black')\n",
    "plt.plot(fpr, tpr, label='rf-tfidf')\n",
    "#plt.plot(fpr1, tpr1, label='rf-stemmed')\n",
    "#plt.plot(fpr2, tpr2, label='rf-tfidf')\n",
    "plt.ylabel(\"True Positive Rate \")\n",
    "plt.xlabel(\"False Positive Rate\")\n",
    "plt.title(\"ROC plot\")\n",
    "plt.legend(loc='lower right')\n",
    "\n",
    "plt.grid()\n",
    "plt.show()\n",
    "\n"
   ]
  },
  {
   "cell_type": "code",
   "execution_count": 98,
   "metadata": {
    "collapsed": false
   },
   "outputs": [
    {
     "data": {
      "text/plain": [
       "array([ 'hard worker driven to succeed fast learner always looking for new things to explore interested in computer programming in the gaming industry robotics enthusiast involved in robotics clubs at the university of washington while also having a successful 4 year high school career made it to multiple regional and national championships while being a leader and having 4 years of hands on experience with building wiring and coding robots of different sizespassionate about business as well by being a member of fbla throughout highschool going to multiple state championships in different categories accomplished math tutor and math student with many individual accolades and awards for math competitions across washington and nationally throughout the us',\n",
       "       'as a computer engineering student at the university of washington i aim to learn and apply the skills necessary to help make technology more powerful accessible and economical for as many people as possiblei am primarily interested in software engineering internship and research opportunities but am also interested in crossdiscipline projects please contact me at asethi77cswashingtonedu if youd like to talkskills java relational databases python linux git xmlxquery public speaking',\n",
       "       'summaryproduct management  strategy business development user research ibm watson deloitte client engagements masters in computer science won the ibm watson competition held at osu chosen to represent the univ at the nyc finals watsonunivcomp video demonstration of application watsonunivcomp  click on the link httpbitly1is1xer  product management  ibm graduate teaching assistant  modeling  businessrelated problem solvingexpertise product management  strategy ibm watson client engagements',\n",
       "       ...,\n",
       "       '30 years of experience in office management grant management meeting coordination and problem solving skilled at meeting deadlines working with teams and establishing priorities develops short and long term protocol to move your organization forward',\n",
       "       'a dynamic paralegal with a wide range of experience nan santivong has worked on complex defense litigation mass toxic tort products liability personal injury business litigation construction defect copyright trademark patent and employment law defense he is very familiar with federal state and local civil rules of procedure throughout california nan is highly regarded for his ability to understand the clients business needs as well as for his ability to quickly grasp complex factual and legal issues his experience includes mass tort litigation case and project management diverse project management across crossfunctional teams analytical and strategic experience extensive document production projects assisting with discovery and motion practice and hotseat trial work nan is a natural communicator whose strong written and verbal communication skills enables him to interact in any environment or market to build and manage key relationships his exceptional organizational skills allows him to consistently meet unwieldy deadlines work independently with little guidance and drive major projects',\n",
       "       'summaryfood  nutrition leadership visual writing  editing health coaching  food stylist  nutrition and food blog writer nutritioncentered recipe developer  prop stylist  food and nutrition magazine articles  nutrition and food blog developer  video editor  press materials community food project leadership  event designer  corporate communications photo shoots and commercials certified integrative health coach creative food entrepreneur with media and public relations background highly skilled in baking recipe and food development nonprofit food project leadership food styling and home furnishings styling event planning strategic client and media relations and communications highly creative and multitalented communications specialist with extensive experience in visual and written communications exceptional organizational managerial collaborative and interpersonal skills accomplished writer with background in food blogging magazine journalism proofreading editing and public relations including corporate communications strategic messaging and press materials skilled at performing and multitasking in deadlinedriven environments'], dtype=object)"
      ]
     },
     "execution_count": 98,
     "metadata": {},
     "output_type": "execute_result"
    }
   ],
   "source": [
    "df['summary'].values"
   ]
  },
  {
   "cell_type": "code",
   "execution_count": 110,
   "metadata": {
    "collapsed": false
   },
   "outputs": [
    {
     "name": "stdout",
     "output_type": "stream",
     "text": [
      "(u'people', 0.0017853671613047911)\n",
      "(u'leadership', 0.0017877574809428863)\n",
      "(u'arts', 0.0018052897877076459)\n",
      "(u'data', 0.0018211160732833295)\n",
      "(u'team', 0.0018236654347283251)\n",
      "(u'career', 0.0018352487186651222)\n",
      "(u'art', 0.0018487444592233545)\n",
      "(u'currently', 0.0018650957748702645)\n",
      "(u'planning', 0.0018940588690310449)\n",
      "(u'human', 0.0019238664301314901)\n",
      "(u'washington', 0.0019569094671330763)\n",
      "(u'communication', 0.001974151696114956)\n",
      "(u'creative', 0.0019775798314892513)\n",
      "(u'sales', 0.0020322011396523682)\n",
      "(u'teaching', 0.0021107132990096718)\n",
      "(u'new', 0.0022837306353809257)\n",
      "(u'technical', 0.0023018950361993586)\n",
      "(u'program', 0.0023316782819724356)\n",
      "(u'communications', 0.0023332575956042266)\n",
      "(u'university', 0.0023522332268117781)\n",
      "(u'work', 0.0024286505183380345)\n",
      "(u'passionate', 0.0024391026919387947)\n",
      "(u'analysis', 0.0024448986284399681)\n",
      "(u'project', 0.0025615818455407276)\n",
      "(u'systems', 0.0026014676917429651)\n",
      "(u'college', 0.0026173868367481007)\n",
      "(u'years', 0.0026333825569791109)\n",
      "(u'public', 0.0026804801308097266)\n",
      "(u'engineer', 0.0027638946207418735)\n",
      "(u'research', 0.0027774414716653425)\n",
      "(u'design', 0.0028164047979749797)\n",
      "(u'working', 0.0028182466196624641)\n",
      "(u'professional', 0.0029432493288872579)\n",
      "(u'marketing', 0.0030541107831050002)\n",
      "(u'social', 0.0032474505229182571)\n",
      "(u'community', 0.0032501168378861038)\n",
      "(u'event', 0.0032517144102172375)\n",
      "(u'summaryi', 0.0033357941004766782)\n",
      "(u'development', 0.0034164372820146044)\n",
      "(u'business', 0.0034196132621551207)\n",
      "(u'women', 0.0035637339794258528)\n",
      "(u'management', 0.0035973282483916361)\n",
      "(u'skills', 0.0038326257008635999)\n",
      "(u'writing', 0.0038609615230684709)\n",
      "(u'technology', 0.0038828198072459598)\n",
      "(u'experience', 0.0040830233088827682)\n",
      "(u'health', 0.004084180506064173)\n",
      "(u'education', 0.0046555341707203218)\n",
      "(u'engineering', 0.0051348765415936892)\n",
      "(u'software', 0.0052288589988481859)\n"
     ]
    }
   ],
   "source": [
    "# Most important features\n",
    "num = 50\n",
    "imp = forest.feature_importances_\n",
    "feature_names = np.array(feature_names_tfidf)\n",
    "features = feature_names[np.argsort(imp)[-num:]]\n",
    "weights = imp[np.argsort(imp)[-num:]]\n",
    "feats_with_vals = zip(features, weights)\n",
    "for x in feats_with_vals:\n",
    "    print (x)\n"
   ]
  },
  {
   "cell_type": "code",
   "execution_count": null,
   "metadata": {
    "collapsed": true
   },
   "outputs": [],
   "source": []
  },
  {
   "cell_type": "markdown",
   "metadata": {},
   "source": [
    "# Topic Modeling with 5000 features: NMF"
   ]
  },
  {
   "cell_type": "markdown",
   "metadata": {},
   "source": [
    "### 1. All profiles"
   ]
  },
  {
   "cell_type": "code",
   "execution_count": null,
   "metadata": {
    "collapsed": true
   },
   "outputs": [],
   "source": [
    "females = df[df['gender'] == 'female']\n",
    "males = df[df['gender'] == 'male']"
   ]
  },
  {
   "cell_type": "code",
   "execution_count": null,
   "metadata": {
    "collapsed": false
   },
   "outputs": [],
   "source": [
    "X = df['summ_tokens']\n",
    "y = np.array(df['class'])"
   ]
  },
  {
   "cell_type": "code",
   "execution_count": null,
   "metadata": {
    "collapsed": true
   },
   "outputs": [],
   "source": [
    "# Print the top 20 words and weights for each topic\n",
    "def print_top_weights(model, feature_names, n_top_words):\n",
    "    for topic_idx, topic in enumerate(H):\n",
    "        print(\"Topic #%d:\" % topic_idx)\n",
    "        top_weights = topic.argsort()[:-n_top_words - 1:-1]\n",
    "        #print (top_weights)\n",
    "        print (\" \".join([\"{0}, {1}\".format(feature_names[x], topic[x]) for x in top_weights]))\n",
    "    print()\n",
    "    \n",
    "\n",
    "# Print the most probable topic for each document/profile\n",
    "def profiles_by_topic(W):\n",
    "    top_idx = np.zeros([W.shape[0],1], dtype=float)\n",
    "    for row_idx, row in enumerate(W):\n",
    "        topic_idx = row.argsort()[-1]  \n",
    "        top_idx[row_idx] = topic_idx\n",
    "    topics, counts = np.unique(top_idx, return_counts=True)\n",
    "    print (np.asarray((topics, counts)).T)\n",
    "    return top_idx"
   ]
  },
  {
   "cell_type": "code",
   "execution_count": null,
   "metadata": {
    "collapsed": false
   },
   "outputs": [],
   "source": [
    "#tokenize: function that is stemming using SnowballStemmer\n",
    "#stopwords: custom stop words\n",
    "def run_topic_model_tfidf(X, stopwords):\n",
    "    print (\"Bag of Words, Tfidf\\n\")\n",
    "    \n",
    "    vectorizer = TfidfVectorizer(analyzer = 'word', tokenizer = tokenize_no_stem, stop_words = stopwords, max_features = 5000)\n",
    "    word_frequencies = vectorizer.fit_transform(X)\n",
    "\n",
    "    # Numpy arrays are easy to work with, so convert the result to an \n",
    "    # array\n",
    "    word_frequencies = word_frequencies.toarray()\n",
    "    feature_names = vectorizer.get_feature_names()\n",
    "\n",
    "    # NMF Model to determine topics\n",
    "    nmf_model = NMF(n_components=7, init='random', random_state=0)\n",
    "    W = nmf_model.fit_transform(word_frequencies)\n",
    "    # H: Topics * Words\n",
    "    H = nmf_model.components_\n",
    "    print (H.shape, W.shape)\n",
    "    \n",
    "    n_top_words = 20\n",
    "    # Print weights and topics for the top 20 topics\n",
    "    for topic_idx, topic in enumerate(H):\n",
    "        print(\"Topic #%d:\" % topic_idx)\n",
    "        top_weights = topic.argsort()[:-n_top_words - 1:-1]\n",
    "        print (\" \".join([\"{0}\".format(feature_names[x]) for x in top_weights]))\n",
    "    print()\n",
    "    \n",
    "    # Highest Weighted Topic for each profile\n",
    "    print (\"Number of profiles by topic\\n\")\n",
    "    top_idx = profiles_by_topic(W) \n",
    "    \n",
    "    return nmf_model, W, top_idx"
   ]
  },
  {
   "cell_type": "code",
   "execution_count": null,
   "metadata": {
    "collapsed": true
   },
   "outputs": [],
   "source": [
    "#tokenize: function that is stemming using SnowballStemmer\n",
    "#stopwords: custom stop words\n",
    "def run_topic_model_countv(X, stopwords):\n",
    "    print (\"Bag of words, Count Vectorizer...\\n\")\n",
    "    vectorizer = CountVectorizer(analyzer = \"word\",   \\\n",
    "                                 tokenizer = tokenize_no_stem,    \\\n",
    "                                 preprocessor = None, \\\n",
    "                                 stop_words = stopwords,   \\\n",
    "                                 max_features = 5000) \n",
    "\n",
    "\n",
    "    # fit_transform() does two functions: First, it fits the model\n",
    "    # and learns the vocabulary; second, it transforms our training data\n",
    "    # into feature vectors. The input to fit_transform should be a list of \n",
    "    # strings.\n",
    "    word_frequencies = vectorizer.fit_transform(X)\n",
    "\n",
    "    # Numpy arrays are easy to work with, so convert the result to an \n",
    "    # array\n",
    "    word_frequencies = word_frequencies.toarray()\n",
    "    feature_names = vectorizer.get_feature_names()\n",
    "\n",
    "    # NMF Model to determine topics\n",
    "    nmf_model = NMF(n_components=10, init='random', random_state=0)\n",
    "    W = nmf_model.fit_transform(word_frequencies)\n",
    "    # H: Topics * Words\n",
    "    H = nmf_model.components_\n",
    "    print (H.shape, W.shape)\n",
    "    \n",
    "    n_top_words = 20\n",
    "    # Print weights and topics for the top 20 topics\n",
    "    for topic_idx, topic in enumerate(H):\n",
    "        print(\"Topic #%d:\" % topic_idx)\n",
    "        top_weights = topic.argsort()[:-n_top_words - 1:-1]\n",
    "        #print (\" \".join([\"{0}\".format(feature_names[x]) for x in top_weights]))\n",
    "        print (\" \".join([\"{0}, {1}\".format(feature_names[x], topic[x]) for x in top_weights]))\n",
    "    print()\n",
    "    \n",
    "    print (\"Number of profiles by Topic\\n\")\n",
    "    top_idx = profiles_by_topic(W)\n",
    "    \n",
    "    print (\"Example Profiles by Topic\\n\")\n",
    "    \n",
    "    \n",
    "    return nmf_model, W, top_idx"
   ]
  },
  {
   "cell_type": "markdown",
   "metadata": {},
   "source": [
    "# Topics for Female Profiles - TFIDF"
   ]
  },
  {
   "cell_type": "code",
   "execution_count": null,
   "metadata": {
    "collapsed": true
   },
   "outputs": [],
   "source": [
    "X = females['summary']\n",
    "y = np.array(females['class'])\n",
    "\n",
    "nmf_model, W, top_idx = run_topic_model_tfidf(X, stopwords)\n"
   ]
  },
  {
   "cell_type": "markdown",
   "metadata": {},
   "source": [
    "# Female Topics - Count Vectorizer"
   ]
  },
  {
   "cell_type": "code",
   "execution_count": null,
   "metadata": {
    "collapsed": false
   },
   "outputs": [],
   "source": [
    "X = females['summary']\n",
    "y = np.array(females['class'])\n",
    "\n",
    "nmf_model, W, top_idx = run_topic_model_countv(X, stopwords)\n",
    "\n"
   ]
  },
  {
   "cell_type": "markdown",
   "metadata": {},
   "source": [
    "# Topics for Male Profiles - TFIDF"
   ]
  },
  {
   "cell_type": "code",
   "execution_count": null,
   "metadata": {
    "collapsed": true
   },
   "outputs": [],
   "source": [
    "X = males['summary']\n",
    "y = np.array(males['class'])\n",
    "\n",
    "nmf_model, W, top_idx = run_topic_model_tfidf(X, stopwords)\n"
   ]
  },
  {
   "cell_type": "markdown",
   "metadata": {},
   "source": [
    "# Male Topics - CountVectorizer"
   ]
  },
  {
   "cell_type": "code",
   "execution_count": null,
   "metadata": {
    "collapsed": false
   },
   "outputs": [],
   "source": [
    "X = males['summary']\n",
    "y = np.array(males['class'])\n",
    "\n",
    "nmf_model, W, top_idx = run_topic_model_countv(X, stopwords)"
   ]
  },
  {
   "cell_type": "code",
   "execution_count": null,
   "metadata": {
    "collapsed": true
   },
   "outputs": [],
   "source": [
    "# Number of profiles clustered by topic number\n",
    "# Do this again after stemming"
   ]
  },
  {
   "cell_type": "code",
   "execution_count": null,
   "metadata": {
    "collapsed": false
   },
   "outputs": [],
   "source": [
    "top_idx[1:10]"
   ]
  },
  {
   "cell_type": "code",
   "execution_count": null,
   "metadata": {
    "collapsed": false
   },
   "outputs": [],
   "source": [
    "males.ix[0]['summary'] # Topic 3"
   ]
  },
  {
   "cell_type": "code",
   "execution_count": null,
   "metadata": {
    "collapsed": false
   },
   "outputs": [],
   "source": [
    "males.ix[1]['summary'] # Topic 4"
   ]
  },
  {
   "cell_type": "code",
   "execution_count": null,
   "metadata": {
    "collapsed": false
   },
   "outputs": [],
   "source": [
    "males.ix[4]['summary'] # Topic 9"
   ]
  },
  {
   "cell_type": "code",
   "execution_count": null,
   "metadata": {
    "collapsed": true
   },
   "outputs": [],
   "source": [
    "# Generating a word cloud:\n",
    "#https://github.com/amueller/word_cloud/blob/master/examples/simple.py\n",
    "    \n",
    "from os import path\n",
    "from wordcloud import WordCloud\n",
    "\n",
    "d = path.dirname(__file__)\n",
    "\n",
    "# Read the whole text.\n",
    "text = open(path.join(d, 'constitution.txt')).read()\n",
    "\n",
    "# Generate a word cloud image\n",
    "wordcloud = WordCloud().generate(text)\n",
    "\n",
    "# Display the generated image:\n",
    "# the matplotlib way:\n",
    "import matplotlib.pyplot as plt\n",
    "plt.imshow(wordcloud)\n",
    "plt.axis(\"off\")\n",
    "\n",
    "# take relative word frequencies into account, lower max_font_size\n",
    "wordcloud = WordCloud(max_font_size=40, relative_scaling=.5).generate(text)\n",
    "plt.figure()\n",
    "plt.imshow(wordcloud)\n",
    "plt.axis(\"off\")\n",
    "plt.show()"
   ]
  },
  {
   "cell_type": "code",
   "execution_count": null,
   "metadata": {
    "collapsed": true
   },
   "outputs": [],
   "source": [
    "#http://stanford.edu/~mwaskom/software/seaborn/examples/grouped_boxplot.html\n",
    "import seaborn as sns\n",
    "sns.set(style=\"ticks\")\n",
    "\n",
    "# Load the example tips dataset\n",
    "tips = sns.load_dataset(\"tips\")\n",
    "\n",
    "# Draw a nested boxplot to show bills by day and sex\n",
    "sns.boxplot(x=\"day\", y=\"total_bill\", hue=\"sex\", data=tips, palette=\"PRGn\")\n",
    "sns.despine(offset=10, trim=True)"
   ]
  }
 ],
 "metadata": {
  "kernelspec": {
   "display_name": "Python 2",
   "language": "python",
   "name": "python2"
  },
  "language_info": {
   "codemirror_mode": {
    "name": "ipython",
    "version": 2
   },
   "file_extension": ".py",
   "mimetype": "text/x-python",
   "name": "python",
   "nbconvert_exporter": "python",
   "pygments_lexer": "ipython2",
   "version": "2.7.10"
  }
 },
 "nbformat": 4,
 "nbformat_minor": 0
}
