{
 "cells": [
  {
   "cell_type": "code",
   "execution_count": 1,
   "metadata": {
    "collapsed": true
   },
   "outputs": [],
   "source": [
    "from __future__ import division\n",
    "from __future__ import print_function\n",
    "import pandas as pd\n",
    "import numpy as np\n",
    "from collections import defaultdict\n",
    "from sklearn.linear_model import LogisticRegression\n",
    "from sklearn.naive_bayes import MultinomialNB\n",
    "from sklearn.grid_search import GridSearchCV\n",
    "from sklearn.cross_validation import train_test_split\n",
    "from sklearn.ensemble import RandomForestClassifier\n",
    "from sklearn.feature_extraction.text import CountVectorizer, TfidfVectorizer\n",
    "from sklearn.decomposition import NMF\n",
    "\n",
    "from sklearn.metrics import accuracy_score, precision_score, recall_score, roc_auc_score, roc_curve, auc\n",
    "from sklearn import cross_validation\n",
    "from sklearn.feature_selection import VarianceThreshold\n",
    "from sklearn.decomposition import PCA\n",
    "from sklearn.preprocessing import StandardScaler\n",
    "from pandas.tools.plotting import scatter_matrix\n",
    "import matplotlib.pyplot as plt\n",
    "%matplotlib inline\n",
    "\n",
    "import nltk\n",
    "from nltk.stem.snowball import SnowballStemmer\n",
    "from nltk.stem.porter import *\n",
    "\n",
    "import re\n",
    "from HTMLParser import HTMLParser\n",
    "import datetime\n",
    "import cPickle as pickle\n",
    "pd.options.mode.chained_assignment = None  # default='warn'"
   ]
  },
  {
   "cell_type": "code",
   "execution_count": 2,
   "metadata": {
    "collapsed": true
   },
   "outputs": [],
   "source": [
    "# Files\n",
    "all_file = '/Users/lekha/galvanize/capstone/projectRiley/data/withindgroup/allwithindgroup.txt'\n",
    "tech_file = '/Users/lekha/galvanize/capstone/projectRiley/data/cleandatagender1000.txt'\n"
   ]
  },
  {
   "cell_type": "code",
   "execution_count": 3,
   "metadata": {
    "collapsed": true
   },
   "outputs": [],
   "source": [
    "df = pd.read_csv(all_file, sep=\"|\")"
   ]
  },
  {
   "cell_type": "code",
   "execution_count": 4,
   "metadata": {
    "collapsed": false
   },
   "outputs": [
    {
     "name": "stdout",
     "output_type": "stream",
     "text": [
      "<class 'pandas.core.frame.DataFrame'>\n",
      "Int64Index: 31415 entries, 0 to 31414\n",
      "Data columns (total 18 columns):\n",
      "first_name          31415 non-null object\n",
      "full_name           31415 non-null object\n",
      "html                31415 non-null object\n",
      "industry            31415 non-null object\n",
      "location            31415 non-null object\n",
      "summary             31414 non-null object\n",
      "title               31415 non-null object\n",
      "counter             31415 non-null float64\n",
      "source              31415 non-null object\n",
      "full_name_fields    31415 non-null object\n",
      "name_fields         31415 non-null int64\n",
      "gender              31415 non-null object\n",
      "gender_type         31415 non-null object\n",
      "gender_forced       31415 non-null object\n",
      "name_counts         31415 non-null int64\n",
      "loc_fields          31415 non-null object\n",
      "state               31415 non-null object\n",
      "ind_group           31415 non-null int64\n",
      "dtypes: float64(1), int64(3), object(14)\n",
      "memory usage: 4.6+ MB\n"
     ]
    }
   ],
   "source": [
    "df.info()"
   ]
  },
  {
   "cell_type": "code",
   "execution_count": 13,
   "metadata": {
    "collapsed": false
   },
   "outputs": [],
   "source": [
    "def get_ind_group(ind):\n",
    "    ind = ind.strip().lower()\n",
    "    ind_groups = { 'missing': 0,\n",
    "                   'higher education': 1,\n",
    "                   'research': 1,\n",
    "                   'computer software': 2,\n",
    "                   'information technology and services': 2,\n",
    "                   'internet': 2,\n",
    "                   'design': 2,\n",
    "                   'mechanical or industrial engineering': 2,\n",
    "                   'aviation aerospace': 2,\n",
    "                   'electrical electronic manufacturing': 2,\n",
    "                   'civil engineering': 2,\n",
    "                   'telecommunications': 2,\n",
    "                   'graphic design': 2,\n",
    "                   'information services': 2,\n",
    "                   'semiconductors': 2,\n",
    "                   'computer hardware': 2,\n",
    "                   'logistics and supply chain': 2,\n",
    "                   'automotive': 2,\n",
    "                   'program development': 2,\n",
    "                   'computer games': 2,\n",
    "                   'computer network security': 2,\n",
    "                   'nanotechnology': 2,\n",
    "                   'animation': 2,\n",
    "                   'nanotechnologies': 2 }\n",
    "\n",
    "    result = ind_groups.get(ind, 3)\n",
    "    return result\n",
    "\n",
    "\n",
    "def strip_punc(x):\n",
    "    x = x.lower()\n",
    "    pattern = re.compile('([^\\s\\w]|_)+')\n",
    "    x = pattern.sub(' ', x)\n",
    "    return x\n",
    "\n",
    "\n",
    "def get_industry(df):\n",
    "    df['industry'] = df['industry'].apply(lambda x: strip_punc(x))\n",
    "    industries = df.industry.value_counts()\n",
    "    inds = industries.index.tolist()\n",
    "    df['ind_group'] = df['industry'].apply(lambda x:get_ind_group(x))\n",
    "    return df\n"
   ]
  },
  {
   "cell_type": "code",
   "execution_count": 14,
   "metadata": {
    "collapsed": true
   },
   "outputs": [],
   "source": [
    "df['ind_group'] = df['industry'].apply(lambda x:get_ind_group(x))"
   ]
  },
  {
   "cell_type": "code",
   "execution_count": 20,
   "metadata": {
    "collapsed": false
   },
   "outputs": [
    {
     "data": {
      "text/plain": [
       "3    20277\n",
       "2     5634\n",
       "1     4320\n",
       "0     1184\n",
       "Name: ind_group, dtype: int64"
      ]
     },
     "execution_count": 20,
     "metadata": {},
     "output_type": "execute_result"
    }
   ],
   "source": [
    "df.ind_group.value_counts()"
   ]
  },
  {
   "cell_type": "code",
   "execution_count": 16,
   "metadata": {
    "collapsed": false
   },
   "outputs": [],
   "source": [
    "industries = df.industry.value_counts()\n",
    "inds = industries.index.tolist()\n",
    "IndN = min(len(inds), 50)"
   ]
  },
  {
   "cell_type": "code",
   "execution_count": 18,
   "metadata": {
    "collapsed": false
   },
   "outputs": [
    {
     "data": {
      "text/plain": [
       "50"
      ]
     },
     "execution_count": 18,
     "metadata": {},
     "output_type": "execute_result"
    }
   ],
   "source": [
    "IndN"
   ]
  },
  {
   "cell_type": "code",
   "execution_count": null,
   "metadata": {
    "collapsed": true
   },
   "outputs": [],
   "source": []
  }
 ],
 "metadata": {
  "kernelspec": {
   "display_name": "Python 2",
   "language": "python",
   "name": "python2"
  },
  "language_info": {
   "codemirror_mode": {
    "name": "ipython",
    "version": 2
   },
   "file_extension": ".py",
   "mimetype": "text/x-python",
   "name": "python",
   "nbconvert_exporter": "python",
   "pygments_lexer": "ipython2",
   "version": "2.7.10"
  }
 },
 "nbformat": 4,
 "nbformat_minor": 0
}
