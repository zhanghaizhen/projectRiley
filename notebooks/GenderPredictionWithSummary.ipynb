{
 "cells": [
  {
   "cell_type": "code",
   "execution_count": 1,
   "metadata": {
    "collapsed": true
   },
   "outputs": [],
   "source": [
    "from __future__ import division\n",
    "from __future__ import print_function\n",
    "import pandas as pd\n",
    "import numpy as np\n",
    "from collections import defaultdict\n",
    "from sklearn.linear_model import LogisticRegression\n",
    "from sklearn.naive_bayes import MultinomialNB\n",
    "from sklearn.grid_search import GridSearchCV\n",
    "from sklearn.cross_validation import train_test_split\n",
    "from sklearn.ensemble import RandomForestClassifier\n",
    "from sklearn.feature_extraction.text import CountVectorizer, TfidfVectorizer\n",
    "from sklearn.decomposition import NMF\n",
    "\n",
    "from sklearn.metrics import accuracy_score, precision_score, recall_score, roc_auc_score, roc_curve, auc\n",
    "from sklearn import cross_validation\n",
    "from sklearn.feature_selection import VarianceThreshold\n",
    "from sklearn.decomposition import PCA\n",
    "from sklearn.preprocessing import StandardScaler\n",
    "from pandas.tools.plotting import scatter_matrix\n",
    "import matplotlib.pyplot as plt\n",
    "%matplotlib inline\n",
    "\n",
    "import nltk\n",
    "from nltk.stem.snowball import SnowballStemmer\n",
    "from nltk.stem.porter import *\n",
    "from nltk import word_tokenize\n",
    "\n",
    "import re\n",
    "from HTMLParser import HTMLParser\n",
    "import datetime\n",
    "import cPickle as pickle\n",
    "pd.options.mode.chained_assignment = None  # default='warn'\n",
    "\n",
    "from nltk.corpus import stopwords\n",
    "stopwords = set(stopwords.words('english'))"
   ]
  },
  {
   "cell_type": "code",
   "execution_count": 2,
   "metadata": {
    "collapsed": true
   },
   "outputs": [],
   "source": [
    "# Files\n",
    "all_file = '/Users/lekha/galvanize/capstone/projectRiley/data/withindgroup/all_withindgroup.txt'\n",
    "tech_file = '/Users/lekha/galvanize/capstone/projectRiley/data/withindgroup/tech_withind.txt'\n",
    "hadoop_all = '/Users/lekha/galvanize/capstone/projectRiley/data/withindgroup/all_hadoop.txt'\n",
    "hadoop_tech = '/Users/lekha/galvanize/capstone/projectRiley/data/withindgroup/tech_hadoop.txt'"
   ]
  },
  {
   "cell_type": "code",
   "execution_count": 3,
   "metadata": {
    "collapsed": true
   },
   "outputs": [],
   "source": [
    "dfall1 = pd.read_csv(all_file, sep=\"|\")\n",
    "dftech1 = pd.read_csv(tech_file, sep=\"|\")\n",
    "dfh = pd.read_csv(hadoop_all, sep=\"|\")\n",
    "dfht = pd.read_csv(hadoop_tech, sep=\"|\")"
   ]
  },
  {
   "cell_type": "code",
   "execution_count": 4,
   "metadata": {
    "collapsed": true
   },
   "outputs": [],
   "source": [
    "dftech_all = pd.concat([dftech1, pd.read_csv(hadoop_tech, sep=\"|\")], axis=0)"
   ]
  },
  {
   "cell_type": "code",
   "execution_count": 5,
   "metadata": {
    "collapsed": true
   },
   "outputs": [],
   "source": [
    "df_all2 = pd.concat([dfall1, pd.read_csv(hadoop_all, sep=\"|\")], axis=0)"
   ]
  },
  {
   "cell_type": "code",
   "execution_count": null,
   "metadata": {
    "collapsed": false
   },
   "outputs": [],
   "source": [
    "df_all2.to_csv('/Users/lekha/galvanize/capstone/projectRiley/data/withindgroup/all2.txt', sep=\"|\", index=False)\n",
    "dftech_all.to_csv('/Users/lekha/galvanize/capstone/projectRiley/data/withindgroup/tech_all2.txt', sep=\"|\", index=False)"
   ]
  },
  {
   "cell_type": "code",
   "execution_count": 7,
   "metadata": {
    "collapsed": true
   },
   "outputs": [],
   "source": [
    "df = df_all2.copy()"
   ]
  },
  {
   "cell_type": "code",
   "execution_count": 8,
   "metadata": {
    "collapsed": false
   },
   "outputs": [],
   "source": [
    "df['first_name'] = df['first_name'].apply(lambda x:'andrew' if x=='anew' else x)\n",
    "df.loc[df.first_name.isin(['andrew']), 'gender'] = 'male'"
   ]
  },
  {
   "cell_type": "markdown",
   "metadata": {},
   "source": [
    "# Modeling - Original Data"
   ]
  },
  {
   "cell_type": "code",
   "execution_count": 9,
   "metadata": {
    "collapsed": true
   },
   "outputs": [],
   "source": [
    "# Functions\n",
    "def missing(df):\n",
    "    if df.summary == 'missing' or df.num_tokens == 0:\n",
    "        return 1\n",
    "    else:\n",
    "        return 0    \n",
    "\n",
    "    \n",
    "def lenx(mystr):\n",
    "    return len(mystr.split())\n",
    "\n",
    "\n",
    "def avgchrs(mytokens):\n",
    "    tw = len(mytokens)    \n",
    "    num_chars = 0\n",
    "    for word in mytokens:\n",
    "        num_chars += len(word)        \n",
    "    return num_chars/tw\n",
    "\n",
    "\n",
    "def remove_digits(mystr):\n",
    "    '''\n",
    "    INPUT: list of tokens \n",
    "    OUTPUT: list of tokens with digits removed\n",
    "    '''\n",
    "    return [word for word in mystr if not word.isdigit()]\n",
    "\n",
    "\n",
    "stemmer = SnowballStemmer(\"english\")\n",
    "def stem_tokens(tokens, stemmer):\n",
    "    stemmed = []\n",
    "    for item in tokens:\n",
    "        stemmed.append(stemmer.stem(item))\n",
    "    return stemmed\n",
    "\n",
    "\n",
    "def tokenize(text):\n",
    "    tokens = word_tokenize(text)\n",
    "    row = remove_digits(tokens)\n",
    "    stems = stem_tokens(row, stemmer)\n",
    "    return stems\n",
    "\n",
    "\n",
    "def tokenize_no_stem(text):\n",
    "    tokens = word_tokenize(text)\n",
    "    row = remove_digits(tokens)\n",
    "    stems = stem_tokens(row, stemmer)\n",
    "    return tokens \n"
   ]
  },
  {
   "cell_type": "code",
   "execution_count": 10,
   "metadata": {
    "collapsed": false
   },
   "outputs": [],
   "source": [
    "def preprocess_df(df):\n",
    "    # Feature Engineering before running the prediction code\n",
    "    df['class'] = np.ones(len(df))\n",
    "    df['class'] = df['gender_forced'].apply(lambda x: 0 if x == 'female' else 1)\n",
    "\n",
    "    df['summ_tokens'] = df['summary'].apply(lambda x: nltk.word_tokenize(str(x)))\n",
    "    df['num_tokens'] = df['summ_tokens'].apply(lambda x: len(x))\n",
    "\n",
    "    # Add feature for missing summary\n",
    "    df['summ_missing'] = df.apply(missing, axis = 1)\n",
    "\n",
    "    # Only include rows with summaries\n",
    "    df = df[df['summ_missing'] == 0]\n",
    "\n",
    "    # Some Nan rows refuse to go without this\n",
    "    df = df[pd.notnull(df['summary'])]\n",
    "\n",
    "    print (\"Length of DF after removing rows with missing Summaries:\\n\")\n",
    "    print (len(df))\n",
    "\n",
    "    df['avg_len'] = df['summ_tokens'].apply(lambda x: avgchrs(x))\n",
    "\n",
    "    # lexical diversity = number of unique tokens / total number of tokens\n",
    "    df['lex_diversity'] = df['summ_tokens'].apply(lambda x: len(set(x))/len(x))\n",
    "    \n",
    "    return df"
   ]
  },
  {
   "cell_type": "code",
   "execution_count": 11,
   "metadata": {
    "collapsed": false
   },
   "outputs": [],
   "source": [
    "def rf_predict(df):\n",
    "# Train-test split\n",
    "\n",
    "    X_train, X_test, y_train, y_test = train_test_split(df['summary'], df['class'], test_size=0.3, random_state=0)\n",
    "    vectorizer = CountVectorizer(analyzer = 'word', tokenizer = tokenize, ngram_range=(1,4), stop_words = stopwords, max_df = 0.7, min_df = 5, max_features = 5000)\n",
    "    train_fit = vectorizer.fit_transform(X_train)\n",
    "    train_fit = train_fit.toarray()\n",
    "    feature_names = vectorizer.get_feature_names()\n",
    "\n",
    "    print (\"Training the random forest...\")\n",
    "\n",
    "    # Initialize a Random Forest classifier with 100 trees\n",
    "    forest = RandomForestClassifier(n_estimators = 100) \n",
    "\n",
    "    # Fit the forest to the training set, using the bag of words as \n",
    "    # features and the sentiment labels as the response variable\n",
    "    #\n",
    "    # This may take a few minutes to run\n",
    "    forest = forest.fit(train_fit, y_train)\n",
    "\n",
    "    # Testing\n",
    "\n",
    "    # Get a bag of words for the test set, and convert to a numpy array\n",
    "    #test_data_features = vectorizer.transform(X_test)\n",
    "    test_features = vectorizer.transform(X_test)\n",
    "    test_features = test_features.toarray()\n",
    "\n",
    "    # Use the random forest to make sentiment label predictions\n",
    "    yhat = forest.predict(test_features)\n",
    "    probX = forest.predict_proba(test_features)\n",
    "\n",
    "    print (\"Precision Score: {0}\".format(precision_score(y_test, yhat)))\n",
    "    print (\"Recall Score: {0}\".format(recall_score(y_test, yhat)))\n",
    "    print (\"AUC Score: {0}\".format(roc_auc_score(y_test, yhat)))\n",
    "    print (\"Model Score:{0}\".format(forest.score(test_features, y_test)))\n",
    "    \n",
    "    fpr, tpr, thresholds = roc_curve(y_test, probX[:,1])    \n",
    "    \n",
    "    # Most important features\n",
    "    num = 50\n",
    "    imp = forest.feature_importances_\n",
    "    feature_names = np.array(feature_names)\n",
    "    features = feature_names[np.argsort(imp)[-num:]]\n",
    "    weights = imp[np.argsort(imp)[-num:]]\n",
    "    feats_with_vals = zip(features, weights)\n",
    "    print (\"Top 50 Features\\n\")\n",
    "    for x in feats_with_vals:\n",
    "        print (x)\n",
    "\n",
    "        \n",
    "    ## Naive Bayes Classifier\n",
    "    nb_model = MultinomialNB()\n",
    "    fitted_data = nb_model.fit(train_fit, y_train)\n",
    "    yhat_nb = nb_model.predict(test_features)\n",
    "    prob_nb = nb_model.predict_proba(test_features)\n",
    "    \n",
    "    print (nb_model)\n",
    "    print (\"Precision Score: {0}\".format(precision_score(y_test, yhat_nb)))\n",
    "    print (\"Recall Score: {0}\".format(recall_score(y_test, yhat_nb)))\n",
    "    print (\"AUC Score: {0}\".format(roc_auc_score(y_test, yhat_nb)))\n",
    "    print (\"Model Score:{0}\".format(nb_model.score(test_features, y_test)))\n",
    "\n",
    "    fpr_nb, tpr_nb, thresholds_nb = roc_curve(y_test, prob_nb[:,1])\n",
    "    \n",
    "    ## Logistic Regression\n",
    "    lr_model = LogisticRegression()\n",
    "    fitted_data = lr_model.fit(train_fit, y_train)\n",
    "    yhat_lr = lr_model.predict(test_features)\n",
    "    prob_lr = lr_model.predict_proba(test_features)\n",
    "    \n",
    "    print (lr_model)\n",
    "    print (\"Precision Score: {0}\".format(precision_score(y_test, yhat_lr)))\n",
    "    print (\"Recall Score: {0}\".format(recall_score(y_test, yhat_lr)))\n",
    "    print (\"AUC Score: {0}\".format(roc_auc_score(y_test, yhat_lr)))\n",
    "    print (\"Model Score:{0}\".format(lr_model.score(test_features, y_test)))\n",
    "\n",
    "    fpr_lr, tpr_lr, thresholds_lr = roc_curve(y_test, prob_lr[:,1])\n",
    "        \n",
    "    \n",
    "    # ROC Curve\n",
    "    fig = plt.figure(figsize=(10,8))\n",
    "    ax = fig.add_subplot(111)\n",
    "\n",
    "    plt.plot(np.array(range(101))/100, np.array(range(101))/100, '--', color='black')\n",
    "    plt.plot(fpr, tpr, label='rf-tfidf')\n",
    "    plt.plot(fpr_nb, tpr_nb, label='Naive Bayes')\n",
    "    plt.plot(fpr_lr, tpr_lr, label='Logistic')\n",
    "    plt.ylabel(\"True Positive Rate \")\n",
    "    plt.xlabel(\"False Positive Rate\")\n",
    "    plt.title(\"ROC plot\")\n",
    "    plt.legend(loc='lower right')\n",
    "\n",
    "    plt.grid()\n",
    "    plt.show()"
   ]
  },
  {
   "cell_type": "code",
   "execution_count": null,
   "metadata": {
    "collapsed": false
   },
   "outputs": [],
   "source": [
    "# Model 1\n",
    "rf_predict(df)"
   ]
  },
  {
   "cell_type": "code",
   "execution_count": null,
   "metadata": {
    "collapsed": false
   },
   "outputs": [],
   "source": [
    "dftech1 = preprocess_df(dftech1)\n",
    "rf_predict(dftech1)"
   ]
  },
  {
   "cell_type": "code",
   "execution_count": null,
   "metadata": {
    "collapsed": false
   },
   "outputs": [],
   "source": [
    "dfh = preprocess_df(dfh)\n",
    "rf_predict(dfh)"
   ]
  },
  {
   "cell_type": "code",
   "execution_count": null,
   "metadata": {
    "collapsed": false
   },
   "outputs": [],
   "source": [
    "dfht = preprocess_df(dfht)\n",
    "rf_predict(dfht)"
   ]
  },
  {
   "cell_type": "code",
   "execution_count": null,
   "metadata": {
    "collapsed": false
   },
   "outputs": [],
   "source": [
    "df_all2 = preprocess_df(df_all2)\n",
    "rf_predict(df_all2)"
   ]
  },
  {
   "cell_type": "code",
   "execution_count": null,
   "metadata": {
    "collapsed": false
   },
   "outputs": [],
   "source": [
    "dftech_all = preprocess_df(dftech_all)\n",
    "rf_predict(dftech_all)"
   ]
  },
  {
   "cell_type": "code",
   "execution_count": null,
   "metadata": {
    "collapsed": false
   },
   "outputs": [],
   "source": [
    "# with 3 grams\n",
    "\n",
    "df_all2 = preprocess_df(df_all2)\n",
    "rf_predict(df_all2)"
   ]
  },
  {
   "cell_type": "code",
   "execution_count": 12,
   "metadata": {
    "collapsed": false
   },
   "outputs": [
    {
     "name": "stdout",
     "output_type": "stream",
     "text": [
      "Length of DF after removing rows with missing Summaries:\n",
      "\n",
      "26850\n",
      "Training the random forest...\n",
      "Precision Score: 0.675726927939\n",
      "Recall Score: 0.729029324847\n",
      "AUC Score: 0.654038732445\n",
      "Model Score:0.660955927995\n",
      "Top 50 Features\n",
      "\n",
      "(u'current', 0.0014985953477382602)\n",
      "(u'team', 0.0015100695288498562)\n",
      "(u'event', 0.0015117997863537183)\n",
      "(u'analysi', 0.0015148800757801622)\n",
      "(u'new', 0.0015407223586969021)\n",
      "(u'servic', 0.0015424769228418839)\n",
      "(u'scienc', 0.001545393009617095)\n",
      "(u'interest', 0.0015454895924548917)\n",
      "(u'organ', 0.0015467113655514633)\n",
      "(u'public', 0.0015629785789579528)\n",
      "(u'plan', 0.0015714431320324354)\n",
      "(u'includ', 0.00160303076732878)\n",
      "(u'applic', 0.0016156899365262116)\n",
      "(u'startup', 0.0016309093563141813)\n",
      "(u'industri', 0.0016749853939573569)\n",
      "(u'profession', 0.0018129037845946883)\n",
      "(u'program', 0.0018534942565198922)\n",
      "(u'event plan', 0.0018646951090823733)\n",
      "(u'market', 0.001866248227858164)\n",
      "(u'year', 0.0018758818371407276)\n",
      "(u'creativ', 0.0018875094772340972)\n",
      "(u'nonprofit', 0.0019071091511574842)\n",
      "(u'passion', 0.0019291599654395971)\n",
      "(u'univers', 0.0019605454682818254)\n",
      "(u'art', 0.0019958224868876274)\n",
      "(u'product', 0.0020021127551241229)\n",
      "(u'student', 0.0020249526109172977)\n",
      "(u'project', 0.0020580453413168226)\n",
      "(u'communiti', 0.0021585130364589742)\n",
      "(u'oper', 0.0021603009468369075)\n",
      "(u'skill', 0.0021628697803391483)\n",
      "(u'research', 0.0021642267171101998)\n",
      "(u'design', 0.0021711213646580067)\n",
      "(u'model', 0.0023793578852399689)\n",
      "(u'health', 0.0024415304622188929)\n",
      "(u'system', 0.0025368384790709947)\n",
      "(u'social', 0.0025514245974767565)\n",
      "(u'experi', 0.0026399236446233822)\n",
      "(u'write', 0.0026656964204262428)\n",
      "(u'work', 0.0028690329483337042)\n",
      "(u'busi', 0.0029499921558218244)\n",
      "(u'manag', 0.0030930236172040763)\n",
      "(u'educ', 0.003156346902377199)\n",
      "(u'develop', 0.0033133212284978696)\n",
      "(u'softwar', 0.0034302758141789109)\n",
      "(u'comput', 0.0034487492631963762)\n",
      "(u'communic', 0.0037526003964855875)\n",
      "(u'technolog', 0.0045378801026204948)\n",
      "(u'women', 0.0047647072899530676)\n",
      "(u'engin', 0.0068767947377220539)\n",
      "MultinomialNB(alpha=1.0, class_prior=None, fit_prior=True)\n",
      "Precision Score: 0.708014293007\n",
      "Recall Score: 0.630597863151\n",
      "AUC Score: 0.658843789343\n",
      "Model Score:0.656238361266\n",
      "LogisticRegression(C=1.0, class_weight=None, dual=False, fit_intercept=True,\n",
      "          intercept_scaling=1, max_iter=100, multi_class='ovr',\n",
      "          penalty='l2', random_state=None, solver='liblinear', tol=0.0001,\n",
      "          verbose=0)\n",
      "Precision Score: 0.653434433541\n",
      "Recall Score: 0.666060468288\n",
      "AUC Score: 0.620502881847\n",
      "Model Score:0.624705152079\n"
     ]
    },
    {
     "data": {
      "image/png": "[encoded data removed]",
      "text/plain": [
       "<matplotlib.figure.Figure at 0x10ef0ff50>"
      ]
     },
     "metadata": {},
     "output_type": "display_data"
    }
   ],
   "source": [
    "# with 3 grams and Adding Naive Bayes and Logistic Regression\n",
    "\n",
    "df_all2 = preprocess_df(df_all2)\n",
    "rf_predict(df_all2)"
   ]
  },
  {
   "cell_type": "code",
   "execution_count": 13,
   "metadata": {
    "collapsed": false
   },
   "outputs": [
    {
     "name": "stdout",
     "output_type": "stream",
     "text": [
      "Length of DF after removing rows with missing Summaries:\n",
      "\n",
      "5008\n",
      "Training the random forest...\n",
      "Precision Score: 0.739416058394\n",
      "Recall Score: 0.944962686567\n",
      "AUC Score: 0.558328211033\n",
      "Model Score:0.723220226214\n",
      "Top 50 Features\n",
      "\n",
      "(u'research', 0.0014021487709581621)\n",
      "(u'current', 0.0014049095289914635)\n",
      "(u'human', 0.001428872331827714)\n",
      "(u'digit', 0.0014388294182158868)\n",
      "(u'peopl', 0.0014553479791328432)\n",
      "(u'profession', 0.0014750452167510302)\n",
      "(u'passion', 0.0014824476804228403)\n",
      "(u'skill', 0.0014964948317193543)\n",
      "(u'data', 0.0015262424443268489)\n",
      "(u'includ', 0.0015357219874330714)\n",
      "(u'learn', 0.0015361630817395597)\n",
      "(u'servic', 0.0015365585713023064)\n",
      "(u'univers', 0.0015893335754268343)\n",
      "(u'artist', 0.001600424192035539)\n",
      "(u'program', 0.0016031492797819568)\n",
      "(u'custom', 0.0016032904883576751)\n",
      "(u'user research', 0.00161294289608555)\n",
      "(u'use', 0.0016523800528734885)\n",
      "(u'illustr', 0.0016564675157316952)\n",
      "(u'creat', 0.00166154723729673)\n",
      "(u'user experi', 0.0016630494413222986)\n",
      "(u'market', 0.0016664213932705426)\n",
      "(u'web', 0.0016703368381568091)\n",
      "(u'user experi design', 0.0017275071985470786)\n",
      "(u'creativ', 0.0017589419632241829)\n",
      "(u'product', 0.0018510863693554608)\n",
      "(u'team', 0.0018647675800666599)\n",
      "(u'project manag', 0.0018852722290031837)\n",
      "(u'market communic', 0.001924358237026042)\n",
      "(u'year', 0.0020455632542524561)\n",
      "(u'interior', 0.0020763344920064998)\n",
      "(u'comput', 0.002076600054191574)\n",
      "(u'server', 0.002192349853156807)\n",
      "(u'brand', 0.0022136436104546083)\n",
      "(u'experi', 0.0022678302943774818)\n",
      "(u'event plan', 0.0023421559322672073)\n",
      "(u'user', 0.0024639082001323685)\n",
      "(u'system', 0.0025249752944584967)\n",
      "(u'applic', 0.00260778792791036)\n",
      "(u'communic', 0.0026490810661983595)\n",
      "(u'project', 0.002670362544537906)\n",
      "(u'work', 0.002765002517501751)\n",
      "(u'event', 0.0027719359562815068)\n",
      "(u'busi', 0.0028416273983012195)\n",
      "(u'manag', 0.0032833492003575613)\n",
      "(u'design', 0.0033740150880318749)\n",
      "(u'engin', 0.0034259232125916248)\n",
      "(u'softwar', 0.0034916691795346603)\n",
      "(u'technolog', 0.0042707817575448996)\n",
      "(u'develop', 0.0054891066820449853)\n",
      "MultinomialNB(alpha=1.0, class_prior=None, fit_prior=True)\n",
      "Precision Score: 0.790769230769\n",
      "Recall Score: 0.71921641791\n",
      "AUC Score: 0.622949276241\n",
      "Model Score:0.664005322688\n",
      "LogisticRegression(C=1.0, class_weight=None, dual=False, fit_intercept=True,\n",
      "          intercept_scaling=1, max_iter=100, multi_class='ovr',\n",
      "          penalty='l2', random_state=None, solver='liblinear', tol=0.0001,\n",
      "          verbose=0)\n",
      "Precision Score: 0.758106923751\n",
      "Recall Score: 0.806902985075\n",
      "AUC Score: 0.583265877688\n",
      "Model Score:0.678642714571\n"
     ]
    },
    {
     "data": {
      "image/png": "[encoded data removed]",
      "text/plain": [
       "<matplotlib.figure.Figure at 0x121225cd0>"
      ]
     },
     "metadata": {},
     "output_type": "display_data"
    }
   ],
   "source": [
    "dftech_all = preprocess_df(dftech_all)\n",
    "rf_predict(dftech_all)"
   ]
  },
  {
   "cell_type": "code",
   "execution_count": 24,
   "metadata": {
    "collapsed": false
   },
   "outputs": [
    {
     "data": {
      "text/plain": [
       "<matplotlib.axes._subplots.AxesSubplot at 0x110be2810>"
      ]
     },
     "execution_count": 24,
     "metadata": {},
     "output_type": "execute_result"
    },
    {
     "data": {
      "image/png": "[encoded data removed]",
      "text/plain": [
       "<matplotlib.figure.Figure at 0x1211c2f50>"
      ]
     },
     "metadata": {},
     "output_type": "display_data"
    }
   ],
   "source": [
    "\n",
    "\n",
    "data = {'Features':labels,\n",
    "        'Weights':wts}\n",
    "\n",
    "\n",
    "\n",
    "featdf = pd.DataFrame(data, columns = ['Features', 'Weights'])\n",
    "\n",
    "featdf.plot(kind='bar', x=featdf['Features'], fontsize=14, figsize=(8, 5), legend=False)\n",
    "\n"
   ]
  },
  {
   "cell_type": "code",
   "execution_count": 21,
   "metadata": {
    "collapsed": true
   },
   "outputs": [],
   "source": [
    "## Printing out the Random Forest Tree\n",
    "\n",
    "X_train, X_test, y_train, y_test = train_test_split(df['summary'], df['class'], test_size=0.3, random_state=0)\n",
    "vectorizer = CountVectorizer(analyzer = 'word', tokenizer = tokenize, ngram_range=(1,4), stop_words = stopwords, max_df = 0.7, min_df = 5, max_features = 5000)\n",
    "train_fit = vectorizer.fit_transform(X_train)\n",
    "train_fit = train_fit.toarray()\n",
    "feature_names = vectorizer.get_feature_names()\n",
    "\n",
    "print (\"Training the random forest...\")\n",
    "\n",
    "# Initialize a Random Forest classifier with 100 trees\n",
    "forest = RandomForestClassifier(n_estimators = 100) \n",
    "\n",
    "# Fit the forest to the training set, using the bag of words as \n",
    "# features and the sentiment labels as the response variable\n",
    "#\n",
    "# This may take a few minutes to run\n",
    "forest = forest.fit(train_fit, y_train)\n",
    "\n",
    "# Testing\n",
    "\n",
    "# Get a bag of words for the test set, and convert to a numpy array\n",
    "#test_data_features = vectorizer.transform(X_test)\n",
    "test_features = vectorizer.transform(X_test)\n",
    "test_features = test_features.toarray()\n",
    "\n",
    "# Use the random forest to make sentiment label predictions\n",
    "yhat = forest.predict(test_features)\n",
    "probX = forest.predict_proba(test_features)\n",
    "\n",
    "print (\"Precision Score: {0}\".format(precision_score(y_test, yhat)))\n",
    "print (\"Recall Score: {0}\".format(recall_score(y_test, yhat)))\n",
    "print (\"AUC Score: {0}\".format(roc_auc_score(y_test, yhat)))\n",
    "print (\"Model Score:{0}\".format(forest.score(test_features, y_test)))\n",
    "\n",
    "fpr, tpr, thresholds = roc_curve(y_test, probX[:,1])    \n",
    "\n",
    "# Most important features\n",
    "num = 50\n",
    "imp = forest.feature_importances_\n",
    "feature_names = np.array(feature_names)\n",
    "features = feature_names[np.argsort(imp)[-num:]]\n",
    "weights = imp[np.argsort(imp)[-num:]]\n",
    "feats_with_vals = zip(features, weights)\n",
    "print (\"Top 50 Features\\n\")\n",
    "for x in feats_with_vals:\n",
    "    print (x)\n"
   ]
  },
  {
   "cell_type": "code",
   "execution_count": 22,
   "metadata": {
    "collapsed": false
   },
   "outputs": [
    {
     "data": {
      "text/plain": [
       "['engin',\n",
       " 'women',\n",
       " 'technolog',\n",
       " 'communic',\n",
       " 'comput',\n",
       " 'softwar',\n",
       " 'develop',\n",
       " 'educ',\n",
       " 'manag',\n",
       " 'busi']"
      ]
     },
     "execution_count": 22,
     "metadata": {},
     "output_type": "execute_result"
    }
   ],
   "source": [
    "labels"
   ]
  },
  {
   "cell_type": "code",
   "execution_count": 23,
   "metadata": {
    "collapsed": false
   },
   "outputs": [
    {
     "data": {
      "text/plain": [
       "[0.00688,\n",
       " 0.00476,\n",
       " 0.00454,\n",
       " 0.00375,\n",
       " 0.00345,\n",
       " 0.00343,\n",
       " 0.00331,\n",
       " 0.00316,\n",
       " 0.00309,\n",
       " 0.00295]"
      ]
     },
     "execution_count": 23,
     "metadata": {},
     "output_type": "execute_result"
    }
   ],
   "source": [
    "wts"
   ]
  },
  {
   "cell_type": "code",
   "execution_count": null,
   "metadata": {
    "collapsed": true
   },
   "outputs": [],
   "source": []
  }
 ],
 "metadata": {
  "kernelspec": {
   "display_name": "Python 2",
   "language": "python",
   "name": "python2"
  },
  "language_info": {
   "codemirror_mode": {
    "name": "ipython",
    "version": 2
   },
   "file_extension": ".py",
   "mimetype": "text/x-python",
   "name": "python",
   "nbconvert_exporter": "python",
   "pygments_lexer": "ipython2",
   "version": "2.7.10"
  }
 },
 "nbformat": 4,
 "nbformat_minor": 0
}
