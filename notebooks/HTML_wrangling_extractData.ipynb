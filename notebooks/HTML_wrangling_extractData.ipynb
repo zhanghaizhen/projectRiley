{
 "cells": [
  {
   "cell_type": "markdown",
   "metadata": {},
   "source": [
    "## EDA"
   ]
  },
  {
   "cell_type": "code",
   "execution_count": 1,
   "metadata": {
    "collapsed": true
   },
   "outputs": [],
   "source": [
    "from __future__ import division\n",
    "from __future__ import print_function\n",
    "import pandas as pd\n",
    "import numpy as np\n",
    "from collections import defaultdict\n",
    "from pandas.tools.plotting import scatter_matrix\n",
    "import matplotlib.pyplot as plt\n",
    "%matplotlib inline\n",
    "import re\n",
    "from HTMLParser import HTMLParser\n",
    "import cPickle as pickle\n",
    "from bs4 import BeautifulSoup\n",
    "from bs4 import UnicodeDammit\n",
    "from datetime import datetime\n",
    "import os\n",
    "import sys\n",
    "import pdb\n",
    "import string"
   ]
  },
  {
   "cell_type": "code",
   "execution_count": 4,
   "metadata": {
    "collapsed": true
   },
   "outputs": [],
   "source": [
    "# Files that contain extracted names and summaries\n",
    "sample10_file = '/Users/lekha/galvanize/capstone/projectRiley/data/sample10/out.txt'\n",
    "sample1000_file = '/Users/lekha/galvanize/capstone/projectRiley/data/out1000.txt'\n",
    "all_file = '/Users/lekha/galvanize/capstone/projectRiley/data/outall.txt'\n"
   ]
  },
  {
   "cell_type": "code",
   "execution_count": 6,
   "metadata": {
    "collapsed": true
   },
   "outputs": [],
   "source": [
    "path = '/Users/lekha/galvanize/capstone/projectRiley/data/sample1/'"
   ]
  },
  {
   "cell_type": "code",
   "execution_count": 117,
   "metadata": {
    "collapsed": false
   },
   "outputs": [
    {
     "name": "stdout",
     "output_type": "stream",
     "text": [
      "Actively seeking Internship Opportunities | Information Management Student at University of Washington\n"
     ]
    },
    {
     "data": {
      "text/plain": [
       "[<div class=\"editable-item\" id=\"headline\"><p class=\"title\" dir=\"ltr\">Actively seeking Internship Opportunities | Information Management Student at University of Washington</p></div>]"
      ]
     },
     "execution_count": 117,
     "metadata": {},
     "output_type": "execute_result"
    }
   ],
   "source": [
    "# for fname in os.listdir(path):\n",
    "#     if os.path.isfile(os.path.join(path, fname)):\n",
    "#             fname = os.path.join(path, fname)\n",
    "#     with open(fname) as f:\n",
    "#         soup = BeautifulSoup(f, 'html.parser')\n",
    "#         print (\"*********************************\\n\")\n",
    "#         #print (soup.prettify())\n",
    "#         for x in soup.find_all('p', class_='headline title'):\n",
    "#             title =  x.string\n",
    "#         title = soup.find('p', class_='headline title').string \n",
    "#         for t in soup.find_all('dd'):\n",
    "#             t.find('span', class_='locality')\n",
    "#             industry = t.find('dd', class_='descriptor')\n",
    "            \n",
    "#         print (title)\n",
    "#         print (location)\n",
    "#         print (industry)\n",
    "        \n",
    "\n",
    "fname = '/Users/lekha/galvanize/capstone/projectRiley/data/raw/2015-05-26-Washington/adityakulkarni1.html'\n",
    "with open(fname) as f:\n",
    "        soup = BeautifulSoup(f, 'html.parser')\n",
    "#         print (\"*********************************\\n\")\n",
    "#         print (soup.prettify())\n",
    " \n",
    "# print (soup.find('p', class_='headline title').string)\n",
    "\n",
    "# for x in soup.find_all('span', class_='locality'):\n",
    "#      location = x.string\n",
    "# print (location)\n",
    "\n",
    "\n",
    "# cnt = 0\n",
    "# for x in find_all('dd', class_='descriptor'):\n",
    "#     cnt += 1\n",
    "    \n",
    "\n",
    "# ind = soup.find_all('dd', class_= 'descriptor')\n",
    "# len(ind)\n",
    "\n",
    "#     cnt += 1\n",
    "#     print (cnt)\n",
    "#     print (x.string)\n",
    "#     if x.find(class_='locality'):\n",
    "#         location = x.string\n",
    "#     else:\n",
    "#         industry = x.string\n",
    "#     print (strings)\n",
    "# #     location = x.find('span', class_= 'locality')\n",
    "# #     if location:\n",
    "# #         print (location.string)\n",
    "# #    print (x.find_all('dd'))\n",
    "# #     if industry:\n",
    "# #         print (industry.string)\n",
    "\n",
    "# print (location, industry)\n",
    "  \n",
    "#OLD DATA SET    \n",
    "# for x in soup.find_all('div', class_='editable-item', id='headline'):\n",
    "#     title = x.find('p', class_='title').string\n",
    "# for x in soup.find_all('div', class_='editable-item', id='location'):\n",
    "#     location = x.find('span', class_='locality').string\n",
    "#     industry = x.find('dd', class_='industry').string\n",
    "# print (title, location, industry)\n",
    "\n",
    "# #print (soup.prettify())\n",
    "\n",
    "# title_str = soup.findAll('div', class_='editable-item', id='headline')\n",
    "# print (title_str)\n",
    "\n",
    "title_str = soup.find('p', class_='title')\n",
    "print (title_str.string)\n",
    "\n",
    "soup.find_all('div', class_='editable-item', id='headline')\n",
    "#soup.find_all('div', class_='editable-item', id='location')"
   ]
  },
  {
   "cell_type": "code",
   "execution_count": 39,
   "metadata": {
    "collapsed": false
   },
   "outputs": [
    {
     "name": "stdout",
     "output_type": "stream",
     "text": [
      "Global Health Research Fellow at the Institute for Health Metrics and Evaluation Seattle, Washington Research\n"
     ]
    }
   ],
   "source": [
    "# First Data Set = Huskies - Use this approach to parse HTML\n",
    "\n",
    "fname = '/Users/lekha/galvanize/capstone/projectRiley/data/sample1/anthonylbui.html'\n",
    "with open(fname) as f:\n",
    "    soup = BeautifulSoup(f, 'html.parser')\n",
    "    #print (soup.prettify())\n",
    "\n",
    "# print (soup.find_all('div', class_='editable-item', id='location'))\n",
    "\n",
    "# soup.find_all('dt')\n",
    "for x in soup.find_all('div', class_='editable-item', id='headline'):\n",
    "    title = x.find('p', class_='title').string\n",
    "for x in soup.find_all('div', class_='editable-item', id='location'):\n",
    "    location = x.find('span', class_='locality').string\n",
    "    industry = x.find('dd', class_='industry').string\n",
    "print (title, location, industry)\n"
   ]
  },
  {
   "cell_type": "code",
   "execution_count": null,
   "metadata": {
    "collapsed": true
   },
   "outputs": [],
   "source": [
    "# Title\n",
    "soup.findall(class_ ='headline title')\n",
    "soup.findall(class_ = 'descriptor adr')\n",
    "soup.findall(div = 'profile_overview_content' )\n",
    "\n",
    "# Location\n",
    "\n",
    "\n",
    "# Industry"
   ]
  },
  {
   "cell_type": "code",
   "execution_count": 25,
   "metadata": {
    "collapsed": false
   },
   "outputs": [
    {
     "data": {
      "text/plain": [
       "<section class=\"profile-section\" id=\"summary\"><h3 class=\"title\">Summary</h3><div class=\"description\"><p>Senior at Purdue University pursuing my Bachelors of Science in Computer and Information Technology with a concentration in Information Systems and a minor in Psychology. I am interested in obtaining a summer internship in Computer Information Technology or a related field that utilizes my skills in software development, software testing, business analysis, application documentation, and software/systems administration.</p></div></section>"
      ]
     },
     "execution_count": 25,
     "metadata": {},
     "output_type": "execute_result"
    }
   ],
   "source": [
    "#print (soup.prettify())\n",
    "\n",
    "#soup.find(class_='fn', id='name').string\n",
    "\n",
    "soup.find(class_='profile-section', id='summary')"
   ]
  },
  {
   "cell_type": "code",
   "execution_count": 27,
   "metadata": {
    "collapsed": false
   },
   "outputs": [
    {
     "data": {
      "text/plain": [
       "u' senior at purdue university pursuing my bachelors of science in computer and information technology with a concentration in information systems and a minor in psychology. i am interested in obtaining a summer internship in computer information technology or a related field that utilizes my skills in software development, software testing, business analysis, application documentation, and software/systems administration.'"
      ]
     },
     "execution_count": 27,
     "metadata": {},
     "output_type": "execute_result"
    }
   ],
   "source": [
    "summ = soup.find(class_='profile-section', id='summary')\n",
    "temp = [] \n",
    "for x in  summ.strings:\n",
    "    temp.append(x)\n",
    "    \n",
    "result = ''\n",
    "for y in temp:\n",
    "    y = y.lower()\n",
    "    if not y.startswith('summary'):\n",
    "        y.replace('/', ' ')\n",
    "        result += ' ' + y\n",
    "result"
   ]
  },
  {
   "cell_type": "code",
   "execution_count": 19,
   "metadata": {
    "collapsed": false
   },
   "outputs": [
    {
     "data": {
      "text/plain": [
       "[u'Summary',\n",
       " u'Specialties:',\n",
       " u'Cultural asset(s) incorporation',\n",
       " u'Neighborhood/localized economic development',\n",
       " u'Building resilience to recurring community challenges',\n",
       " u'Over fifteen years of applied doctoral work in cultural studies to guide economic and cultural development projects throughout the United States. Expert in practical solutions for organizations, neighborhoods, towns, and cities striving to be competitive, viable, and sustainable in the current economy, while maintaining their unique character, has been utilized in collaboration with a variety of clients, public and private.']"
      ]
     },
     "execution_count": 19,
     "metadata": {},
     "output_type": "execute_result"
    }
   ],
   "source": [
    "temp"
   ]
  }
 ],
 "metadata": {
  "kernelspec": {
   "display_name": "Python 2",
   "language": "python",
   "name": "python2"
  },
  "language_info": {
   "codemirror_mode": {
    "name": "ipython",
    "version": 2
   },
   "file_extension": ".py",
   "mimetype": "text/x-python",
   "name": "python",
   "nbconvert_exporter": "python",
   "pygments_lexer": "ipython2",
   "version": "2.7.10"
  }
 },
 "nbformat": 4,
 "nbformat_minor": 0
}
