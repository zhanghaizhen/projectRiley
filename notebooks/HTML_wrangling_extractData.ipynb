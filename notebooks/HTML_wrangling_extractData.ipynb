{
 "cells": [
  {
   "cell_type": "markdown",
   "metadata": {},
   "source": [
    "## EDA"
   ]
  },
  {
   "cell_type": "code",
   "execution_count": 7,
   "metadata": {
    "collapsed": true
   },
   "outputs": [],
   "source": [
    "from __future__ import division\n",
    "from __future__ import print_function\n",
    "import pandas as pd\n",
    "import numpy as np\n",
    "from collections import defaultdict\n",
    "from pandas.tools.plotting import scatter_matrix\n",
    "import matplotlib.pyplot as plt\n",
    "%matplotlib inline\n",
    "import re\n",
    "from HTMLParser import HTMLParser\n",
    "import cPickle as pickle\n",
    "from bs4 import BeautifulSoup\n",
    "from bs4 import UnicodeDammit\n",
    "from datetime import datetime\n",
    "import os\n",
    "import sys\n",
    "import pdb\n",
    "import string"
   ]
  },
  {
   "cell_type": "code",
   "execution_count": null,
   "metadata": {
    "collapsed": true
   },
   "outputs": [],
   "source": [
    "# Files that contain extracted names and summaries\n",
    "sample10_file = '/Users/lekha/galvanize/capstone/projectRiley/data/sample10/out.txt'\n",
    "sample1000_file = '/Users/lekha/galvanize/capstone/projectRiley/data/out1000.txt'\n",
    "all_file = '/Users/lekha/galvanize/capstone/projectRiley/data/outall.txt'\n"
   ]
  },
  {
   "cell_type": "code",
   "execution_count": 18,
   "metadata": {
    "collapsed": false
   },
   "outputs": [
    {
     "name": "stdout",
     "output_type": "stream",
     "text": [
      "Infrastructure System Administrator at Chemeketa Community College\n",
      "Eugene, Oregon Area\n",
      "Computer Networking\n",
      "does not exist\n",
      "missing\n"
     ]
    }
   ],
   "source": [
    "# for fname in os.listdir(path):\n",
    "#     if os.path.isfile(os.path.join(path, fname)):\n",
    "#             fname = os.path.join(path, fname)\n",
    "#     with open(fname) as f:\n",
    "#         soup = BeautifulSoup(f, 'html.parser')\n",
    "#         print (\"*********************************\\n\")\n",
    "#         #print (soup.prettify())\n",
    "#         for x in soup.find_all('p', class_='headline title'):\n",
    "#             title =  x.string\n",
    "#         title = soup.find('p', class_='headline title').string \n",
    "#         for t in soup.find_all('dd'):\n",
    "#             t.find('span', class_='locality')\n",
    "#             industry = t.find('dd', class_='descriptor')\n",
    "            \n",
    "#         print (title)\n",
    "#         print (location)\n",
    "#         print (industry)\n",
    "        \n",
    "\n",
    "infile = '/Users/lekha/galvanize/capstone/projectRiley/data/hadoopdata/2015-01-09/histories/output3656.html'\n",
    "with open(infile) as f:\n",
    "        soup = BeautifulSoup(f, 'html.parser')\n",
    "        #print (soup.prettify())\n",
    "\n",
    "#soup.find_all('div', class_='b_caption')\n",
    "        \n",
    "# DATA SET  3 \n",
    "# for x in soup.find_all('div', class_='b_caption'):\n",
    "#     title = x.findall('p').string\n",
    "# # for x in soup.find_all('div', class_='editable-item', id='location'):\n",
    "# #     location = x.find('span', class_='locality').string\n",
    "# #     industry = x.find('dd', class_='industry').string\n",
    "# print (title)\n",
    "\n",
    "# for x in soup.find_all('title', class_='locality'):\n",
    "#      title = x.string\n",
    "# print (title)\n",
    "\n",
    "# for x in soup.find_all('span', class_='locality'):\n",
    "#      location = x.string\n",
    "# print (location)\n",
    "\n",
    "\n",
    "# cnt = 0\n",
    "# for x in find_all('dd', class_='descriptor'):\n",
    "#     cnt += 1\n",
    "    \n",
    "\n",
    "# ind = soup.find_all('dd', class_= 'descriptor')\n",
    "# len(ind)\n",
    "\n",
    "#     cnt += 1\n",
    "#     print (cnt)\n",
    "#     print (x.string)\n",
    "#     if x.find(class_='locality'):\n",
    "#         location = x.string\n",
    "#     else:\n",
    "#         industry = x.string\n",
    "#     print (strings)\n",
    "# #     location = x.find('span', class_= 'locality')\n",
    "# #     if location:\n",
    "# #         print (location.string)\n",
    "# #    print (x.find_all('dd'))\n",
    "# #     if industry:\n",
    "# #         print (industry.string)\n",
    "\n",
    "# print (location, industry)\n",
    "  \n",
    "#OLD DATA SET    \n",
    "for x in soup.find_all('div', class_='editable-item', id='headline'):\n",
    "    title = x.find('p', class_='title').string\n",
    "for x in soup.find_all('div', class_='editable-item', id='location'):\n",
    "    location = x.find('span', class_='locality').string\n",
    "    industry = x.find('dd', class_='industry').string\n",
    "print (title)\n",
    "print (location)\n",
    "print (industry)\n",
    "\n",
    "# Name - OLD DATA SET\n",
    "names = {}\n",
    "full_name = soup.find(name='span', class_='full-name')\n",
    "if full_name is None:\n",
    "    full_name = 'does not exist'\n",
    "    print (full_name)\n",
    "else:\n",
    "    print (full_name.string)\n",
    "\n",
    "# Summary - OLD DATA SET\n",
    "summary = soup.find(name='div', class_='summary')\n",
    "if summary:\n",
    "    summary_text = ''\n",
    "    for string in summary.stripped_strings:\n",
    "        summary_text += ' ' + string\n",
    "else:\n",
    "    summary_text = 'missing'\n",
    "    \n",
    "print (summary_text)\n",
    "\n",
    "# #print (soup.prettify())\n",
    "\n",
    "# title_str = soup.findAll('div', class_='editable-item', id='headline')\n",
    "# print (title_str)\n",
    "\n",
    "# title_str = soup.find('p', class_='title')\n",
    "# print (title_str.string)\n",
    "\n",
    "# soup.find_all('div', class_='editable-item', id='headline')\n",
    "# #soup.find_all('div', class_='editable-item', id='location')"
   ]
  },
  {
   "cell_type": "code",
   "execution_count": null,
   "metadata": {
    "collapsed": false
   },
   "outputs": [],
   "source": [
    "# First Data Set = Huskies - Use this approach to parse HTML\n",
    "\n",
    "fname = '/Users/lekha/galvanize/capstone/projectRiley/data/sample1/anthonylbui.html'\n",
    "with open(fname) as f:\n",
    "    soup = BeautifulSoup(f, 'html.parser')\n",
    "    #print (soup.prettify())\n",
    "\n",
    "# print (soup.find_all('div', class_='editable-item', id='location'))\n",
    "\n",
    "# soup.find_all('dt')\n",
    "for x in soup.find_all('div', class_='editable-item', id='headline'):\n",
    "    title = x.find('p', class_='title').string\n",
    "for x in soup.find_all('div', class_='editable-item', id='location'):\n",
    "    location = x.find('span', class_='locality').string\n",
    "    industry = x.find('dd', class_='industry').string\n",
    "print (title, location, industry)\n"
   ]
  },
  {
   "cell_type": "code",
   "execution_count": null,
   "metadata": {
    "collapsed": true
   },
   "outputs": [],
   "source": [
    "# Title\n",
    "soup.findall(class_ ='headline title')\n",
    "soup.findall(class_ = 'descriptor adr')\n",
    "soup.findall(div = 'profile_overview_content' )\n",
    "\n",
    "# Location\n",
    "\n",
    "\n",
    "# Industry"
   ]
  },
  {
   "cell_type": "code",
   "execution_count": null,
   "metadata": {
    "collapsed": false
   },
   "outputs": [],
   "source": [
    "#print (soup.prettify())\n",
    "\n",
    "#soup.find(class_='fn', id='name').string\n",
    "\n",
    "soup.find(class_='profile-section', id='summary')"
   ]
  },
  {
   "cell_type": "code",
   "execution_count": null,
   "metadata": {
    "collapsed": false
   },
   "outputs": [],
   "source": [
    "summ = soup.find(class_='profile-section', id='summary')\n",
    "temp = [] \n",
    "for x in  summ.strings:\n",
    "    temp.append(x)\n",
    "    \n",
    "result = ''\n",
    "for y in temp:\n",
    "    y = y.lower()\n",
    "    if not y.startswith('summary'):\n",
    "        y.replace('/', ' ')\n",
    "        result += ' ' + y\n",
    "result"
   ]
  },
  {
   "cell_type": "code",
   "execution_count": null,
   "metadata": {
    "collapsed": false
   },
   "outputs": [],
   "source": [
    "temp"
   ]
  }
 ],
 "metadata": {
  "kernelspec": {
   "display_name": "Python 2",
   "language": "python",
   "name": "python2"
  },
  "language_info": {
   "codemirror_mode": {
    "name": "ipython",
    "version": 2
   },
   "file_extension": ".py",
   "mimetype": "text/x-python",
   "name": "python",
   "nbconvert_exporter": "python",
   "pygments_lexer": "ipython2",
   "version": "2.7.10"
  }
 },
 "nbformat": 4,
 "nbformat_minor": 0
}
