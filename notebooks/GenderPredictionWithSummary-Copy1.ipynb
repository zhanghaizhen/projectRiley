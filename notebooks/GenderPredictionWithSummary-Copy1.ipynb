{
 "cells": [
  {
   "cell_type": "code",
   "execution_count": 8,
   "metadata": {
    "collapsed": true
   },
   "outputs": [],
   "source": [
    "from __future__ import division\n",
    "from __future__ import print_function\n",
    "import pandas as pd\n",
    "import numpy as np\n",
    "from collections import defaultdict\n",
    "from sklearn.linear_model import LogisticRegression\n",
    "from sklearn.naive_bayes import MultinomialNB\n",
    "from sklearn.grid_search import GridSearchCV\n",
    "from sklearn.cross_validation import train_test_split\n",
    "from sklearn.ensemble import RandomForestClassifier\n",
    "from sklearn.feature_extraction.text import CountVectorizer, TfidfVectorizer\n",
    "from sklearn.decomposition import NMF\n",
    "\n",
    "from sklearn.metrics import accuracy_score, precision_score, recall_score, roc_auc_score, roc_curve, auc\n",
    "from sklearn import cross_validation\n",
    "from sklearn.feature_selection import VarianceThreshold\n",
    "from sklearn.decomposition import PCA\n",
    "from sklearn.preprocessing import StandardScaler\n",
    "from pandas.tools.plotting import scatter_matrix\n",
    "import matplotlib.pyplot as plt\n",
    "%matplotlib inline\n",
    "\n",
    "import nltk\n",
    "from nltk.stem.snowball import SnowballStemmer\n",
    "from nltk.stem.porter import *\n",
    "from nltk import word_tokenize\n",
    "\n",
    "import re\n",
    "from HTMLParser import HTMLParser\n",
    "import datetime\n",
    "import cPickle as pickle\n",
    "pd.options.mode.chained_assignment = None  # default='warn'\n",
    "\n",
    "from nltk.corpus import stopwords\n",
    "stopwords = set(stopwords.words('english'))\n",
    "import seaborn as sns"
   ]
  },
  {
   "cell_type": "code",
   "execution_count": 2,
   "metadata": {
    "collapsed": false
   },
   "outputs": [],
   "source": [
    "all_file = '/Users/lekha/galvanize/capstone/projectRiley/data/withindgroup/all2.txt'\n",
    "tech_file = '/Users/lekha/galvanize/capstone/projectRiley/data/withindgroup/tech_all2.txt'\n",
    "\n",
    "df1 = pd.read_csv(all_file, sep=\"|\")\n",
    "df2 = pd.read_csv(tech_file, sep=\"|\")"
   ]
  },
  {
   "cell_type": "code",
   "execution_count": 44,
   "metadata": {
    "collapsed": true
   },
   "outputs": [],
   "source": [
    "df = df2.copy()"
   ]
  },
  {
   "cell_type": "code",
   "execution_count": 45,
   "metadata": {
    "collapsed": true
   },
   "outputs": [],
   "source": [
    "df.rename(columns={'gender':'gender1'}, inplace=True)\n",
    "df.rename(columns={'gender_forced':'gender'}, inplace=True)"
   ]
  },
  {
   "cell_type": "code",
   "execution_count": 46,
   "metadata": {
    "collapsed": false
   },
   "outputs": [],
   "source": [
    "df['first_name'] = df['first_name'].apply(lambda x:'andrew' if x=='anew' else x)\n",
    "df.loc[df.first_name.isin(['andrew']), 'gender'] = 'male'"
   ]
  },
  {
   "cell_type": "code",
   "execution_count": 47,
   "metadata": {
    "collapsed": false
   },
   "outputs": [
    {
     "data": {
      "text/plain": [
       "male      3528\n",
       "female    1480\n",
       "Name: gender, dtype: int64"
      ]
     },
     "execution_count": 47,
     "metadata": {},
     "output_type": "execute_result"
    }
   ],
   "source": [
    "df.gender.value_counts()"
   ]
  },
  {
   "cell_type": "markdown",
   "metadata": {},
   "source": [
    "# Modeling - Original Data"
   ]
  },
  {
   "cell_type": "code",
   "execution_count": 48,
   "metadata": {
    "collapsed": true
   },
   "outputs": [],
   "source": [
    "# Functions\n",
    "def missing(df):\n",
    "    if df.summary == 'missing' or df.num_tokens == 0:\n",
    "        return 1\n",
    "    else:\n",
    "        return 0    \n",
    "\n",
    "    \n",
    "def lenx(mystr):\n",
    "    return len(mystr.split())\n",
    "\n",
    "\n",
    "def avgchrs(mytokens):\n",
    "    tw = len(mytokens)    \n",
    "    num_chars = 0\n",
    "    for word in mytokens:\n",
    "        num_chars += len(word)        \n",
    "    return num_chars/tw\n",
    "\n",
    "\n",
    "def remove_digits(mystr):\n",
    "    '''\n",
    "    INPUT: list of tokens \n",
    "    OUTPUT: list of tokens with digits removed\n",
    "    '''\n",
    "    return [word for word in mystr if not word.isdigit()]\n",
    "\n",
    "\n",
    "stemmer = SnowballStemmer(\"english\")\n",
    "def stem_tokens(tokens, stemmer):\n",
    "    stemmed = []\n",
    "    for item in tokens:\n",
    "        stemmed.append(stemmer.stem(item))\n",
    "    return stemmed\n",
    "\n",
    "\n",
    "def tokenize(text):\n",
    "    tokens = word_tokenize(text)\n",
    "    row = remove_digits(tokens)\n",
    "    stems = stem_tokens(row, stemmer)\n",
    "    return stems\n",
    "\n",
    "\n",
    "def tokenize_no_stem(text):\n",
    "    tokens = word_tokenize(text)\n",
    "    row = remove_digits(tokens)\n",
    "    stems = stem_tokens(row, stemmer)\n",
    "    return tokens \n"
   ]
  },
  {
   "cell_type": "code",
   "execution_count": 49,
   "metadata": {
    "collapsed": false
   },
   "outputs": [],
   "source": [
    "def preprocess_df(df):\n",
    "    # Feature Engineering before running the prediction code\n",
    "    df['class'] = np.ones(len(df))\n",
    "    df['class'] = df['gender'].apply(lambda x: 0 if x == 'female' else 1)\n",
    "\n",
    "    df['summ_tokens'] = df['summary'].apply(lambda x: nltk.word_tokenize(str(x)))\n",
    "    df['num_tokens'] = df['summ_tokens'].apply(lambda x: len(x))\n",
    "\n",
    "    # Add feature for missing summary\n",
    "    df['summ_missing'] = df.apply(missing, axis = 1)\n",
    "\n",
    "    # Only include rows with summaries\n",
    "    df = df[df['summ_missing'] == 0]\n",
    "\n",
    "    # Some Nan rows refuse to go without this\n",
    "    df = df[pd.notnull(df['summary'])]\n",
    "\n",
    "    print (\"Length of DF after removing rows with missing Summaries:\\n\")\n",
    "    print (len(df))\n",
    "\n",
    "    df['avg_len'] = df['summ_tokens'].apply(lambda x: avgchrs(x))\n",
    "\n",
    "    # lexical diversity = number of unique tokens / total number of tokens\n",
    "    df['lex_diversity'] = df['summ_tokens'].apply(lambda x: len(set(x))/len(x))\n",
    "    \n",
    "    return df"
   ]
  },
  {
   "cell_type": "code",
   "execution_count": null,
   "metadata": {
    "collapsed": false
   },
   "outputs": [],
   "source": [
    "def rf_predict(df):\n",
    "# Train-test split\n",
    "\n",
    "    X_train, X_test, y_train, y_test = train_test_split(df['summary'], df['class'], test_size=0.3, random_state=0)\n",
    "    vectorizer = CountVectorizer(analyzer = 'word', tokenizer = tokenize, ngram_range=(1,4), stop_words = stopwords, max_df = 0.7, min_df = 5, max_features = 5000)\n",
    "    train_fit = vectorizer.fit_transform(X_train)\n",
    "    train_fit = train_fit.toarray()\n",
    "    feature_names = vectorizer.get_feature_names()\n",
    "\n",
    "    print (\"Training the random forest...\")\n",
    "\n",
    "    # Initialize a Random Forest classifier with 100 trees\n",
    "    forest = RandomForestClassifier(n_estimators = 100) \n",
    "\n",
    "    # Fit the forest to the training set, using the bag of words as \n",
    "    # features and the sentiment labels as the response variable\n",
    "    #\n",
    "    # This may take a few minutes to run\n",
    "    forest = forest.fit(train_fit, y_train)\n",
    "\n",
    "    # Testing\n",
    "\n",
    "    # Get a bag of words for the test set, and convert to a numpy array\n",
    "    #test_data_features = vectorizer.transform(X_test)\n",
    "    test_features = vectorizer.transform(X_test)\n",
    "    test_features = test_features.toarray()\n",
    "\n",
    "    # Use the random forest to make sentiment label predictions\n",
    "    yhat = forest.predict(test_features)\n",
    "    probX = forest.predict_proba(test_features)\n",
    "\n",
    "    print (\"Precision Score: {0}\".format(precision_score(y_test, yhat)))\n",
    "    print (\"Recall Score: {0}\".format(recall_score(y_test, yhat)))\n",
    "    print (\"AUC Score: {0}\".format(roc_auc_score(y_test, yhat)))\n",
    "    print (\"Model Score:{0}\".format(forest.score(test_features, y_test)))\n",
    "    \n",
    "    fpr, tpr, thresholds = roc_curve(y_test, probX[:,1])    \n",
    "    \n",
    "    # Most important features\n",
    "    num = 50\n",
    "    imp = forest.feature_importances_\n",
    "    feature_names = np.array(feature_names)\n",
    "    features = feature_names[np.argsort(imp)[-num:]]\n",
    "    weights = imp[np.argsort(imp)[-num:]]\n",
    "    feats_with_vals = zip(features, weights)\n",
    "    print (\"Top 50 Features\\n\")\n",
    "    for x in feats_with_vals:\n",
    "        print (x)\n",
    "\n",
    "        \n",
    "    ## Naive Bayes Classifier\n",
    "    nb_model = MultinomialNB()\n",
    "    fitted_data = nb_model.fit(train_fit, y_train)\n",
    "    yhat_nb = nb_model.predict(test_features)\n",
    "    prob_nb = nb_model.predict_proba(test_features)\n",
    "    \n",
    "    print (nb_model)\n",
    "    print (\"Precision Score: {0}\".format(precision_score(y_test, yhat_nb)))\n",
    "    print (\"Recall Score: {0}\".format(recall_score(y_test, yhat_nb)))\n",
    "    print (\"AUC Score: {0}\".format(roc_auc_score(y_test, yhat_nb)))\n",
    "    print (\"Model Score:{0}\".format(nb_model.score(test_features, y_test)))\n",
    "\n",
    "    fpr_nb, tpr_nb, thresholds_nb = roc_curve(y_test, prob_nb[:,1])\n",
    "    \n",
    "    ## Logistic Regression\n",
    "    lr_model = LogisticRegression()\n",
    "    fitted_data = lr_model.fit(train_fit, y_train)\n",
    "    yhat_lr = lr_model.predict(test_features)\n",
    "    prob_lr = lr_model.predict_proba(test_features)\n",
    "    \n",
    "    print (lr_model)\n",
    "    print (\"Precision Score: {0}\".format(precision_score(y_test, yhat_lr)))\n",
    "    print (\"Recall Score: {0}\".format(recall_score(y_test, yhat_lr)))\n",
    "    print (\"AUC Score: {0}\".format(roc_auc_score(y_test, yhat_lr)))\n",
    "    print (\"Model Score:{0}\".format(lr_model.score(test_features, y_test)))\n",
    "\n",
    "    fpr_lr, tpr_lr, thresholds_lr = roc_curve(y_test, prob_lr[:,1])\n",
    "        \n",
    "    \n",
    "    # ROC Curve\n",
    "    fig = plt.figure(figsize=(10,8))\n",
    "    ax = fig.add_subplot(111)\n",
    "\n",
    "    plt.plot(np.array(range(101))/100, np.array(range(101))/100, '--', color='black')\n",
    "    plt.plot(fpr, tpr, label='rf-tfidf')\n",
    "    plt.plot(fpr_nb, tpr_nb, label='Naive Bayes')\n",
    "    plt.plot(fpr_lr, tpr_lr, label='Logistic')\n",
    "    plt.ylabel(\"True Positive Rate \")\n",
    "    plt.xlabel(\"False Positive Rate\")\n",
    "    plt.title(\"ROC plot\")\n",
    "    plt.legend(loc='lower right')\n",
    "\n",
    "    plt.grid()\n",
    "    plt.show()"
   ]
  },
  {
   "cell_type": "code",
   "execution_count": null,
   "metadata": {
    "collapsed": false
   },
   "outputs": [],
   "source": [
    "# Model 1\n",
    "rf_predict(df)"
   ]
  },
  {
   "cell_type": "code",
   "execution_count": null,
   "metadata": {
    "collapsed": false
   },
   "outputs": [],
   "source": [
    "dftech1 = preprocess_df(dftech1)\n",
    "rf_predict(dftech1)"
   ]
  },
  {
   "cell_type": "code",
   "execution_count": null,
   "metadata": {
    "collapsed": false
   },
   "outputs": [],
   "source": [
    "dfh = preprocess_df(dfh)\n",
    "rf_predict(dfh)"
   ]
  },
  {
   "cell_type": "code",
   "execution_count": null,
   "metadata": {
    "collapsed": false
   },
   "outputs": [],
   "source": [
    "dfht = preprocess_df(dfht)\n",
    "rf_predict(dfht)"
   ]
  },
  {
   "cell_type": "code",
   "execution_count": null,
   "metadata": {
    "collapsed": false
   },
   "outputs": [],
   "source": [
    "df_all2 = preprocess_df(df_all2)\n",
    "rf_predict(df_all2)"
   ]
  },
  {
   "cell_type": "code",
   "execution_count": null,
   "metadata": {
    "collapsed": false
   },
   "outputs": [],
   "source": [
    "dftech_all = preprocess_df(dftech_all)\n",
    "rf_predict(dftech_all)"
   ]
  },
  {
   "cell_type": "code",
   "execution_count": null,
   "metadata": {
    "collapsed": false
   },
   "outputs": [],
   "source": [
    "# with 3 grams\n",
    "\n",
    "df_all2 = preprocess_df(df_all2)\n",
    "rf_predict(df_all2)"
   ]
  },
  {
   "cell_type": "code",
   "execution_count": null,
   "metadata": {
    "collapsed": false
   },
   "outputs": [],
   "source": [
    "# with 3 grams and Adding Naive Bayes and Logistic Regression\n",
    "\n",
    "df_all2 = preprocess_df(df_all2)\n",
    "rf_predict(df_all2)"
   ]
  },
  {
   "cell_type": "code",
   "execution_count": null,
   "metadata": {
    "collapsed": false
   },
   "outputs": [],
   "source": [
    "dftech_all = preprocess_df(dftech_all)\n",
    "rf_predict(dftech_all)"
   ]
  },
  {
   "cell_type": "code",
   "execution_count": 50,
   "metadata": {
    "collapsed": false
   },
   "outputs": [
    {
     "name": "stdout",
     "output_type": "stream",
     "text": [
      "Training the random forest...\n",
      "Precision Score: 0.740043446778\n",
      "Recall Score: 0.953358208955\n",
      "AUC Score: 0.560205786612\n",
      "Model Score:0.727877578177\n",
      "Top 10 Features\n",
      "\n",
      "(u'user', 0.0025713692812399614)\n",
      "(u'busi', 0.0028274914607165735)\n",
      "(u'communic', 0.0030188437475448492)\n",
      "(u'experi', 0.0030987841722823232)\n",
      "(u'design', 0.0032707000584907479)\n",
      "(u'engin', 0.0035334555548160568)\n",
      "(u'technolog', 0.0035425399410076884)\n",
      "(u'softwar', 0.0036792979690257964)\n",
      "(u'manag', 0.0037989100132529846)\n",
      "(u'develop', 0.0059760821554214368)\n"
     ]
    }
   ],
   "source": [
    "## Printing out the Random Forest Tree\n",
    "\n",
    "X_train, X_test, y_train, y_test = train_test_split(df['summary'], df['class'], test_size=0.3, random_state=0)\n",
    "vectorizer = CountVectorizer(analyzer = 'word', tokenizer = tokenize, ngram_range=(1,3), stop_words = stopwords, max_df = 0.7, min_df = 5, max_features = 5000)\n",
    "train_fit = vectorizer.fit_transform(X_train)\n",
    "train_fit = train_fit.toarray()\n",
    "feature_names = vectorizer.get_feature_names()\n",
    "\n",
    "print (\"Training the random forest...\")\n",
    "\n",
    "# Initialize a Random Forest classifier with 100 trees\n",
    "forest = RandomForestClassifier(n_estimators = 100) \n",
    "\n",
    "# Fit the forest to the training set, using the bag of words as \n",
    "# features and the sentiment labels as the response variable\n",
    "#\n",
    "# This may take a few minutes to run\n",
    "forest = forest.fit(train_fit, y_train)\n",
    "\n",
    "# Testing\n",
    "\n",
    "# Get a bag of words for the test set, and convert to a numpy array\n",
    "#test_data_features = vectorizer.transform(X_test)\n",
    "test_features = vectorizer.transform(X_test)\n",
    "test_features = test_features.toarray()\n",
    "\n",
    "# Use the random forest to make sentiment label predictions\n",
    "yhat = forest.predict(test_features)\n",
    "probX = forest.predict_proba(test_features)\n",
    "\n",
    "print (\"Precision Score: {0}\".format(precision_score(y_test, yhat)))\n",
    "print (\"Recall Score: {0}\".format(recall_score(y_test, yhat)))\n",
    "print (\"AUC Score: {0}\".format(roc_auc_score(y_test, yhat)))\n",
    "print (\"Model Score:{0}\".format(forest.score(test_features, y_test)))\n",
    "\n",
    "fpr, tpr, thresholds = roc_curve(y_test, probX[:,1])    \n",
    "\n",
    "# Most important features\n",
    "num = 10\n",
    "imp = forest.feature_importances_\n",
    "feature_names = np.array(feature_names)\n",
    "features = feature_names[np.argsort(imp)[-num:]]\n",
    "weights = imp[np.argsort(imp)[-num:]]\n",
    "feats_with_vals = zip(features, weights)\n",
    "print (\"Top 10 Features\\n\")\n",
    "for x in feats_with_vals:\n",
    "    print (x)\n"
   ]
  },
  {
   "cell_type": "code",
   "execution_count": 67,
   "metadata": {
    "collapsed": false,
    "scrolled": true
   },
   "outputs": [
    {
     "data": {
      "text/plain": [
       "<matplotlib.axes._subplots.AxesSubplot at 0x10f3bc8d0>"
      ]
     },
     "execution_count": 67,
     "metadata": {},
     "output_type": "execute_result"
    },
    {
     "data": {
      "image/png": "[encoded data removed]",
      "text/plain": [
       "<matplotlib.figure.Figure at 0x1189fca50>"
      ]
     },
     "metadata": {},
     "output_type": "display_data"
    }
   ],
   "source": [
    "# Plotting the Top 10 Features for Random Forest\n",
    "\n",
    "data = {'Features':features,\n",
    "        'Weights':weights}\n",
    "\n",
    "featdf = pd.DataFrame(data, columns = ['Features', 'Weights'])\n",
    "\n",
    "featdf.plot(kind='barh', x=featdf['Features'], fontsize=14, figsize=(8, 5), legend=False, color='g')\n",
    "\n",
    "\n",
    "# df = pd.DataFrame({'score':np.random.randn(6),\n",
    "#                    'person':[x*3 for x in list('ABCDEF')]})\n",
    "\n",
    "# ax = plt.subplot(111)\n",
    "# df.score.plot(ax=ax, kind='barh', color=list('rgbkym'), title='ranking')\n",
    "# ax.axis('off')\n",
    "# for i, x in enumerate(df.person):\n",
    "#     ax.text(0, i + .5, x, ha='right', fontsize='large')\n",
    "\n"
   ]
  },
  {
   "cell_type": "code",
   "execution_count": 42,
   "metadata": {
    "collapsed": false
   },
   "outputs": [
    {
     "data": {
      "text/plain": [
       "array([u'manag', u'busi', u'develop', u'educ', u'communic', u'comput',\n",
       "       u'softwar', u'technolog', u'women', u'engin'], \n",
       "      dtype='<U29')"
      ]
     },
     "execution_count": 42,
     "metadata": {},
     "output_type": "execute_result"
    }
   ],
   "source": [
    "features"
   ]
  },
  {
   "cell_type": "code",
   "execution_count": 17,
   "metadata": {
    "collapsed": true
   },
   "outputs": [
    {
     "data": {
      "text/plain": [
       "22440    0\n",
       "12989    0\n",
       "18919    0\n",
       "19567    0\n",
       "24479    0\n",
       "1734     0\n",
       "6256     0\n",
       "5753     0\n",
       "2794     0\n",
       "11741    0\n",
       "16396    0\n",
       "16162    0\n",
       "21897    0\n",
       "4044     0\n",
       "9737     0\n",
       "397      0\n",
       "2084     0\n",
       "10646    0\n",
       "20120    0\n",
       "12868    0\n",
       "1730     0\n",
       "11540    0\n",
       "4658     0\n",
       "26198    0\n",
       "18876    0\n",
       "807      0\n",
       "24111    0\n",
       "16640    0\n",
       "2431     0\n",
       "3695     0\n",
       "        ..\n",
       "24701    0\n",
       "18765    0\n",
       "7148     0\n",
       "10659    0\n",
       "18173    0\n",
       "21902    0\n",
       "7938     0\n",
       "15145    0\n",
       "1157     0\n",
       "6017     0\n",
       "6212     0\n",
       "629      0\n",
       "8788     0\n",
       "23349    0\n",
       "1419     0\n",
       "1168     0\n",
       "2248     0\n",
       "684      0\n",
       "25940    0\n",
       "20985    0\n",
       "11396    0\n",
       "22083    0\n",
       "23765    0\n",
       "18063    0\n",
       "11502    0\n",
       "19635    0\n",
       "6052     0\n",
       "19390    0\n",
       "3571     0\n",
       "8747     0\n",
       "Name: class, dtype: int64"
      ]
     },
     "execution_count": 17,
     "metadata": {},
     "output_type": "execute_result"
    }
   ],
   "source": [
    "y_test[y_test == 0]"
   ]
  },
  {
   "cell_type": "code",
   "execution_count": 52,
   "metadata": {
    "collapsed": false
   },
   "outputs": [],
   "source": [
    "fem_yhat = y_test[yhat==0]"
   ]
  },
  {
   "cell_type": "code",
   "execution_count": 54,
   "metadata": {
    "collapsed": false
   },
   "outputs": [
    {
     "data": {
      "text/plain": [
       "4580    1\n",
       "530     1\n",
       "3433    1\n",
       "1412    1\n",
       "4331    1\n",
       "3660    1\n",
       "1338    0\n",
       "1850    0\n",
       "2824    1\n",
       "3501    0\n",
       "2758    1\n",
       "130     1\n",
       "3394    1\n",
       "1267    0\n",
       "2308    0\n",
       "4702    0\n",
       "1161    1\n",
       "2878    1\n",
       "2876    1\n",
       "2285    1\n",
       "1042    0\n",
       "4793    0\n",
       "4720    0\n",
       "29      0\n",
       "2013    0\n",
       "4275    0\n",
       "347     1\n",
       "4435    1\n",
       "3245    0\n",
       "4716    0\n",
       "       ..\n",
       "4291    1\n",
       "4557    1\n",
       "3131    0\n",
       "3056    0\n",
       "1596    1\n",
       "4761    0\n",
       "2951    0\n",
       "917     0\n",
       "1763    1\n",
       "1385    0\n",
       "3634    1\n",
       "1277    1\n",
       "3532    1\n",
       "2134    0\n",
       "1068    1\n",
       "3154    0\n",
       "3739    1\n",
       "4984    1\n",
       "206     0\n",
       "4110    0\n",
       "2315    1\n",
       "3566    0\n",
       "1830    1\n",
       "3874    1\n",
       "1969    0\n",
       "3283    1\n",
       "1273    1\n",
       "1230    1\n",
       "4726    0\n",
       "2759    0\n",
       "Name: class, dtype: int64"
      ]
     },
     "execution_count": 54,
     "metadata": {},
     "output_type": "execute_result"
    }
   ],
   "source": [
    "fem_yhat"
   ]
  },
  {
   "cell_type": "code",
   "execution_count": 55,
   "metadata": {
    "collapsed": true
   },
   "outputs": [],
   "source": [
    "male_yhat = y_test[yhat==1]"
   ]
  },
  {
   "cell_type": "code",
   "execution_count": 56,
   "metadata": {
    "collapsed": false
   },
   "outputs": [
    {
     "data": {
      "text/plain": [
       "405     1\n",
       "4224    0\n",
       "491     1\n",
       "3118    0\n",
       "1529    1\n",
       "3375    1\n",
       "463     0\n",
       "138     1\n",
       "1814    1\n",
       "1741    1\n",
       "3636    1\n",
       "159     1\n",
       "4321    0\n",
       "3768    1\n",
       "1087    1\n",
       "2239    1\n",
       "1965    0\n",
       "2178    0\n",
       "3416    1\n",
       "2194    0\n",
       "3600    1\n",
       "402     1\n",
       "533     1\n",
       "495     0\n",
       "4658    1\n",
       "4810    1\n",
       "4799    0\n",
       "4246    1\n",
       "2803    1\n",
       "142     1\n",
       "       ..\n",
       "3180    1\n",
       "687     1\n",
       "1922    0\n",
       "3238    1\n",
       "4140    1\n",
       "3207    1\n",
       "2793    1\n",
       "2585    0\n",
       "1515    0\n",
       "527     1\n",
       "3294    0\n",
       "2982    1\n",
       "3270    1\n",
       "794     1\n",
       "2421    0\n",
       "2329    0\n",
       "3576    0\n",
       "2373    0\n",
       "1819    1\n",
       "2984    0\n",
       "3574    1\n",
       "3705    1\n",
       "2771    1\n",
       "853     1\n",
       "787     1\n",
       "2618    1\n",
       "4394    1\n",
       "3158    1\n",
       "1536    0\n",
       "2346    1\n",
       "Name: class, dtype: int64"
      ]
     },
     "execution_count": 56,
     "metadata": {},
     "output_type": "execute_result"
    }
   ],
   "source": [
    "male_yhat"
   ]
  },
  {
   "cell_type": "code",
   "execution_count": 68,
   "metadata": {
    "collapsed": false
   },
   "outputs": [
    {
     "data": {
      "text/plain": [
       "first_name                                                      april\n",
       "full_name                                                  april ryan\n",
       "html                ../../data/raw/2015-05-26-Washington/aprilryan...\n",
       "industry                                               graphic design\n",
       "location                                         greater seattle area\n",
       "summary              april ryan has returned to the private sector...\n",
       "title                                      Principal, Envision Design\n",
       "counter                                                             1\n",
       "source                                                        huskies\n",
       "full_name_fields                                    ['april', 'ryan']\n",
       "name_fields                                                         2\n",
       "gender1                                                          male\n",
       "gender_type                                                    female\n",
       "gender                                                         female\n",
       "name_counts                                                        10\n",
       "loc_fields                                                ['seattle']\n",
       "state                                                              WA\n",
       "ind_group                                                           2\n",
       "class                                                               0\n",
       "summ_tokens         ['april', 'ryan', 'has', 'returned', 'to', 'th...\n",
       "num_tokens                                                        190\n",
       "summ_missing                                                        0\n",
       "avg_len                                                       6.46842\n",
       "lex_diversity                                                0.631579\n",
       "Name: 1042, dtype: object"
      ]
     },
     "execution_count": 68,
     "metadata": {},
     "output_type": "execute_result"
    }
   ],
   "source": [
    "df.ix[1042]"
   ]
  },
  {
   "cell_type": "code",
   "execution_count": null,
   "metadata": {
    "collapsed": true
   },
   "outputs": [],
   "source": []
  }
 ],
 "metadata": {
  "kernelspec": {
   "display_name": "Python 2",
   "language": "python",
   "name": "python2"
  },
  "language_info": {
   "codemirror_mode": {
    "name": "ipython",
    "version": 2
   },
   "file_extension": ".py",
   "mimetype": "text/x-python",
   "name": "python",
   "nbconvert_exporter": "python",
   "pygments_lexer": "ipython2",
   "version": "2.7.10"
  }
 },
 "nbformat": 4,
 "nbformat_minor": 0
}
